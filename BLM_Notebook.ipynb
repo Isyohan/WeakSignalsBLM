{
 "cells": [
  {
   "cell_type": "code",
   "execution_count": 1,
   "metadata": {},
   "outputs": [
    {
     "name": "stdout",
     "output_type": "stream",
     "text": [
      "Requirement already satisfied: textblob in /Users/yohanismael/opt/anaconda3/envs/tf/lib/python3.10/site-packages (0.17.1)\n",
      "Requirement already satisfied: nltk>=3.1 in /Users/yohanismael/opt/anaconda3/envs/tf/lib/python3.10/site-packages (from textblob) (3.7)\n",
      "Requirement already satisfied: regex>=2021.8.3 in /Users/yohanismael/opt/anaconda3/envs/tf/lib/python3.10/site-packages (from nltk>=3.1->textblob) (2022.7.9)\n",
      "Requirement already satisfied: joblib in /Users/yohanismael/opt/anaconda3/envs/tf/lib/python3.10/site-packages (from nltk>=3.1->textblob) (1.1.1)\n",
      "Requirement already satisfied: click in /Users/yohanismael/opt/anaconda3/envs/tf/lib/python3.10/site-packages (from nltk>=3.1->textblob) (8.0.4)\n",
      "Requirement already satisfied: tqdm in /Users/yohanismael/opt/anaconda3/envs/tf/lib/python3.10/site-packages (from nltk>=3.1->textblob) (4.64.1)\n",
      "Note: you may need to restart the kernel to use updated packages.\n",
      "[nltk_data] Downloading package brown to\n",
      "[nltk_data]     /Users/yohanismael/nltk_data...\n",
      "[nltk_data]   Package brown is already up-to-date!\n",
      "[nltk_data] Downloading package punkt to\n",
      "[nltk_data]     /Users/yohanismael/nltk_data...\n",
      "[nltk_data]   Package punkt is already up-to-date!\n",
      "[nltk_data] Downloading package wordnet to\n",
      "[nltk_data]     /Users/yohanismael/nltk_data...\n",
      "[nltk_data]   Package wordnet is already up-to-date!\n",
      "[nltk_data] Downloading package averaged_perceptron_tagger to\n",
      "[nltk_data]     /Users/yohanismael/nltk_data...\n",
      "[nltk_data]   Package averaged_perceptron_tagger is already up-to-\n",
      "[nltk_data]       date!\n",
      "[nltk_data] Downloading package conll2000 to\n",
      "[nltk_data]     /Users/yohanismael/nltk_data...\n",
      "[nltk_data]   Package conll2000 is already up-to-date!\n",
      "[nltk_data] Downloading package movie_reviews to\n",
      "[nltk_data]     /Users/yohanismael/nltk_data...\n",
      "[nltk_data]   Package movie_reviews is already up-to-date!\n",
      "Finished.\n",
      "Requirement already satisfied: nltk in /Users/yohanismael/opt/anaconda3/envs/tf/lib/python3.10/site-packages (3.7)\n",
      "Requirement already satisfied: tqdm in /Users/yohanismael/opt/anaconda3/envs/tf/lib/python3.10/site-packages (from nltk) (4.64.1)\n",
      "Requirement already satisfied: joblib in /Users/yohanismael/opt/anaconda3/envs/tf/lib/python3.10/site-packages (from nltk) (1.1.1)\n",
      "Requirement already satisfied: regex>=2021.8.3 in /Users/yohanismael/opt/anaconda3/envs/tf/lib/python3.10/site-packages (from nltk) (2022.7.9)\n",
      "Requirement already satisfied: click in /Users/yohanismael/opt/anaconda3/envs/tf/lib/python3.10/site-packages (from nltk) (8.0.4)\n",
      "Note: you may need to restart the kernel to use updated packages.\n",
      "Requirement already satisfied: gensim in /Users/yohanismael/opt/anaconda3/envs/tf/lib/python3.10/site-packages (4.3.0)\n",
      "Requirement already satisfied: numpy>=1.18.5 in /Users/yohanismael/opt/anaconda3/envs/tf/lib/python3.10/site-packages (from gensim) (1.22.3)\n",
      "Requirement already satisfied: smart-open>=1.8.1 in /Users/yohanismael/opt/anaconda3/envs/tf/lib/python3.10/site-packages (from gensim) (6.3.0)\n",
      "Requirement already satisfied: scipy>=1.7.0 in /Users/yohanismael/opt/anaconda3/envs/tf/lib/python3.10/site-packages (from gensim) (1.7.3)\n",
      "Requirement already satisfied: FuzzyTM>=0.4.0 in /Users/yohanismael/opt/anaconda3/envs/tf/lib/python3.10/site-packages (from gensim) (2.0.5)\n",
      "Requirement already satisfied: pandas in /Users/yohanismael/opt/anaconda3/envs/tf/lib/python3.10/site-packages (from FuzzyTM>=0.4.0->gensim) (1.4.4)\n",
      "Requirement already satisfied: pyfume in /Users/yohanismael/opt/anaconda3/envs/tf/lib/python3.10/site-packages (from FuzzyTM>=0.4.0->gensim) (0.2.25)\n",
      "Requirement already satisfied: python-dateutil>=2.8.1 in /Users/yohanismael/opt/anaconda3/envs/tf/lib/python3.10/site-packages (from pandas->FuzzyTM>=0.4.0->gensim) (2.8.2)\n",
      "Requirement already satisfied: pytz>=2020.1 in /Users/yohanismael/opt/anaconda3/envs/tf/lib/python3.10/site-packages (from pandas->FuzzyTM>=0.4.0->gensim) (2022.7.1)\n",
      "Requirement already satisfied: simpful in /Users/yohanismael/opt/anaconda3/envs/tf/lib/python3.10/site-packages (from pyfume->FuzzyTM>=0.4.0->gensim) (2.9.0)\n",
      "Requirement already satisfied: fst-pso in /Users/yohanismael/opt/anaconda3/envs/tf/lib/python3.10/site-packages (from pyfume->FuzzyTM>=0.4.0->gensim) (1.8.1)\n",
      "Requirement already satisfied: six>=1.5 in /Users/yohanismael/opt/anaconda3/envs/tf/lib/python3.10/site-packages (from python-dateutil>=2.8.1->pandas->FuzzyTM>=0.4.0->gensim) (1.16.0)\n",
      "Requirement already satisfied: miniful in /Users/yohanismael/opt/anaconda3/envs/tf/lib/python3.10/site-packages (from fst-pso->pyfume->FuzzyTM>=0.4.0->gensim) (0.0.6)\n",
      "Requirement already satisfied: requests in /Users/yohanismael/opt/anaconda3/envs/tf/lib/python3.10/site-packages (from simpful->pyfume->FuzzyTM>=0.4.0->gensim) (2.28.1)\n",
      "Requirement already satisfied: charset-normalizer<3,>=2 in /Users/yohanismael/opt/anaconda3/envs/tf/lib/python3.10/site-packages (from requests->simpful->pyfume->FuzzyTM>=0.4.0->gensim) (2.0.4)\n",
      "Requirement already satisfied: urllib3<1.27,>=1.21.1 in /Users/yohanismael/opt/anaconda3/envs/tf/lib/python3.10/site-packages (from requests->simpful->pyfume->FuzzyTM>=0.4.0->gensim) (1.26.14)\n",
      "Requirement already satisfied: idna<4,>=2.5 in /Users/yohanismael/opt/anaconda3/envs/tf/lib/python3.10/site-packages (from requests->simpful->pyfume->FuzzyTM>=0.4.0->gensim) (3.4)\n",
      "Requirement already satisfied: certifi>=2017.4.17 in /Users/yohanismael/opt/anaconda3/envs/tf/lib/python3.10/site-packages (from requests->simpful->pyfume->FuzzyTM>=0.4.0->gensim) (2022.12.7)\n",
      "Note: you may need to restart the kernel to use updated packages.\n"
     ]
    }
   ],
   "source": [
    "%pip install -U textblob\n",
    "!python -m textblob.download_corpora\n",
    "\n",
    "%pip install nltk\n",
    "\n",
    "%pip install --upgrade gensim"
   ]
  },
  {
   "cell_type": "code",
   "execution_count": 2,
   "metadata": {},
   "outputs": [],
   "source": [
    "import nltk\n",
    "\n",
    "import pandas as pd\n",
    "import numpy as np\n",
    "import matplotlib.pyplot as plt\n",
    "from textblob import TextBlob\n",
    "from datetime import datetime\n",
    "\n",
    "import gensim\n",
    "from gensim.models import Word2Vec\n",
    "\n",
    "from datetime import datetime"
   ]
  },
  {
   "cell_type": "code",
   "execution_count": 3,
   "metadata": {},
   "outputs": [],
   "source": [
    "def str_to_timestamp(s):\n",
    "    out=[]\n",
    "\n",
    "    s2=str.split(s,'+')\n",
    "    s3=str.split(s2[0],' ')\n",
    "\n",
    "    s4=str.split(s3[0],'-')\n",
    "\n",
    "    s5=str.split(s3[1],':')\n",
    "    year=int(s4[0])\n",
    "    month=int(s4[1])\n",
    "    day=int(s4[2])\n",
    "    hour=int(s5[0])\n",
    "    minute=int(s5[1])\n",
    "    second=int(s5[2])\n",
    "\n",
    "    return(datetime(year=year,month=month,day=day,hour=hour,minute=minute,second=second).timestamp())\n",
    "\n",
    "from nltk.tokenize import word_tokenize\n",
    "\n",
    "def NumStr(mot):\n",
    "    res = ''.join(filter(lambda i: i.isdigit(), mot))\n",
    "    if (res==''):\n",
    "        return False\n",
    "    return True\n",
    "\n",
    "\n",
    "def extract_keywords(text):\n",
    "    # Tokenize the text\n",
    "    tokens = word_tokenize(text)\n",
    "\n",
    "    # Apply part-of-speech tagging\n",
    "    tagged_tokens = nltk.pos_tag(tokens)\n",
    "\n",
    "    # Select only nouns and adjectives\n",
    "    keywords = [word for word, pos in tagged_tokens if (pos in ['NN', 'NNS', 'NNP', 'NNPS', 'JJ', 'JJR', 'JJS'] and not NumStr(word))]\n",
    "\n",
    "    return keywords\n",
    "\n",
    "def extract_sentiment_polarity(text):\n",
    "    blob=TextBlob(text)\n",
    "    return(blob.sentiment.polarity)"
   ]
  },
  {
   "cell_type": "code",
   "execution_count": 4,
   "metadata": {},
   "outputs": [
    {
     "name": "stdout",
     "output_type": "stream",
     "text": [
      "start\n",
      "end of keywords\n",
      "end of polarity\n",
      "end of timestamps\n"
     ]
    }
   ],
   "source": [
    "data=pd.read_csv('data/minnesota.csv')\n",
    "df=data\n",
    "print('start')\n",
    "\n",
    "df['keywords'] = df['tweet_text'].apply(extract_keywords)\n",
    "\n",
    "print('end of keywords')\n",
    "\n",
    "df['sentiment_polarity']=df['tweet_text'].apply(extract_sentiment_polarity)\n",
    "\n",
    "print('end of polarity')\n",
    "\n",
    "df['timestamps']=df['tweet_created_dt'].apply(str_to_timestamp)\n",
    "df['timestamps']=df['timestamps']-df['timestamps'].min()\n",
    "\n",
    "print('end of timestamps')\n",
    "\n",
    "clean_data=df"
   ]
  },
  {
   "cell_type": "code",
   "execution_count": 5,
   "metadata": {},
   "outputs": [],
   "source": [
    "model = Word2Vec(sentences=data['keywords'], vector_size=100, window=5, min_count=2, workers=4)\n",
    "model.save(\"word2vec.model\")\n",
    "word_vectors = model.wv\n",
    "del model\n",
    "\n",
    "def word2vectors(l):\n",
    "    try:\n",
    "        x = word_vectors[l]\n",
    "    except KeyError:\n",
    "        return \n",
    "    return x\n",
    "    \n",
    "\n",
    "def list2vectors(L):\n",
    "    out=[]\n",
    "    for i in L:\n",
    "        out.append(word2vectors(i))\n",
    "    return(np.asarray(out,dtype=object))"
   ]
  },
  {
   "cell_type": "code",
   "execution_count": 6,
   "metadata": {},
   "outputs": [],
   "source": [
    "clean_data['vectors']=clean_data['keywords'].apply(list2vectors)"
   ]
  },
  {
   "cell_type": "code",
   "execution_count": 7,
   "metadata": {},
   "outputs": [
    {
     "data": {
      "text/plain": [
       "black               73106\n",
       "matter              45858\n",
       "lives               36170\n",
       "i                   30540\n",
       "blacklivesmatter    28183\n",
       "                    ...  \n",
       "others               1189\n",
       "system               1188\n",
       "sick                 1182\n",
       "words                1174\n",
       "state                1169\n",
       "Length: 100, dtype: int64"
      ]
     },
     "execution_count": 7,
     "metadata": {},
     "output_type": "execute_result"
    }
   ],
   "source": [
    "L=[]\n",
    "for keywords in clean_data[clean_data['sentiment_polarity']<0]['keywords']:\n",
    "    for words in keywords:\n",
    "        L.append(words)\n",
    "len(L)\n",
    "word_hist=pd.value_counts(np.array(L))\n",
    "word_hist[0:100]"
   ]
  },
  {
   "cell_type": "code",
   "execution_count": 8,
   "metadata": {},
   "outputs": [
    {
     "name": "stdout",
     "output_type": "stream",
     "text": [
      "3082858\n",
      "blacklivesmatter    0.950360\n",
      "black               0.759869\n",
      "i                   0.569869\n",
      "matter              0.472007\n",
      "floyd               0.420755\n",
      "                      ...   \n",
      "matters             0.023009\n",
      "words               0.022785\n",
      "riots               0.022705\n",
      "let                 0.022662\n",
      "color               0.022597\n",
      "Length: 100, dtype: float64\n",
      "138337\n"
     ]
    }
   ],
   "source": [
    "L=[]\n",
    "for keywords in clean_data['keywords']:\n",
    "    for words in keywords:\n",
    "        L.append(words)\n",
    "print(len(L))\n",
    "word_hist=pd.value_counts(np.array(L))\n",
    "print(word_hist[0:100]/len(word_hist))\n",
    "print(len(word_hist))"
   ]
  },
  {
   "cell_type": "code",
   "execution_count": 9,
   "metadata": {},
   "outputs": [
    {
     "data": {
      "image/png": "[encoded data removed]",
      "text/plain": [
       "<Figure size 640x480 with 1 Axes>"
      ]
     },
     "metadata": {},
     "output_type": "display_data"
    },
    {
     "data": {
      "text/plain": [
       "0.02349505636721162"
      ]
     },
     "execution_count": 9,
     "metadata": {},
     "output_type": "execute_result"
    }
   ],
   "source": [
    "plt.hist(clean_data['sentiment_polarity'],bins=11)\n",
    "plt.xlabel('sentiment polarity')\n",
    "plt.ylabel('number of tweets')\n",
    "plt.savefig(\"figures_out/fig_sentiment_pol.png\",transparent=True)\n",
    "plt.show()\n",
    "clean_data['sentiment_polarity'].mean()"
   ]
  },
  {
   "cell_type": "code",
   "execution_count": 10,
   "metadata": {},
   "outputs": [
    {
     "data": {
      "image/png": "[encoded data removed]",
      "text/plain": [
       "<Figure size 640x480 with 1 Axes>"
      ]
     },
     "metadata": {},
     "output_type": "display_data"
    }
   ],
   "source": [
    "plt.hist(clean_data['timestamps'],bins=100)\n",
    "plt.xlabel('timestamps')\n",
    "plt.ylabel('number of tweets')\n",
    "plt.savefig(\"figures_out/fig_timestamps.png\",transparent=True)\n",
    "plt.show()"
   ]
  },
  {
   "cell_type": "code",
   "execution_count": 11,
   "metadata": {},
   "outputs": [],
   "source": [
    "def smooth(y, box_pts):\n",
    "    box = np.ones(box_pts)/box_pts\n",
    "    y_smooth = np.convolve(y, box, mode='same')\n",
    "    return y_smooth"
   ]
  },
  {
   "cell_type": "code",
   "execution_count": 12,
   "metadata": {},
   "outputs": [
    {
     "data": {
      "text/plain": [
       "4856398.67768595"
      ]
     },
     "execution_count": 12,
     "metadata": {},
     "output_type": "execute_result"
    },
    {
     "data": {
      "image/png": "[encoded data removed]",
      "text/plain": [
       "<Figure size 640x480 with 1 Axes>"
      ]
     },
     "metadata": {},
     "output_type": "display_data"
    }
   ],
   "source": [
    "time_day=60*60*24\n",
    "nb_bins=int(clean_data['timestamps'].max()/time_day)\n",
    "coef_smooth=int(nb_bins/10)\n",
    "\n",
    "hist,e=np.histogram(clean_data['timestamps'],nb_bins)\n",
    "smooth_hist=smooth(hist,coef_smooth)\n",
    "x_hist=range(nb_bins)\n",
    "dhist=np.gradient(smooth_hist,x_hist)\n",
    "plt.plot(x_hist,dhist)\n",
    "the_time=e[dhist.argmax()]\n",
    "before_the_time=the_time-time_day\n",
    "the_time"
   ]
  },
  {
   "cell_type": "code",
   "execution_count": 13,
   "metadata": {},
   "outputs": [
    {
     "data": {
      "text/plain": [
       "-0.033675001731679345"
      ]
     },
     "execution_count": 13,
     "metadata": {},
     "output_type": "execute_result"
    }
   ],
   "source": [
    "before=clean_data[clean_data['timestamps']<the_time]\n",
    "before['sentiment_polarity'].mean()"
   ]
  },
  {
   "cell_type": "code",
   "execution_count": 14,
   "metadata": {},
   "outputs": [
    {
     "data": {
      "image/png": "[encoded data removed]",
      "text/plain": [
       "<Figure size 640x480 with 1 Axes>"
      ]
     },
     "metadata": {},
     "output_type": "display_data"
    }
   ],
   "source": [
    "plt.hist(before['timestamps'],bins='auto')\n",
    "plt.xlabel('timestamps')\n",
    "plt.ylabel('number of tweets')\n",
    "plt.savefig(\"figures_out/fig_timestamps_before.png\",transparent=True)\n",
    "plt.show()"
   ]
  },
  {
   "cell_type": "code",
   "execution_count": 15,
   "metadata": {},
   "outputs": [
    {
     "data": {
      "image/png": "[encoded data removed]",
      "text/plain": [
       "<Figure size 640x480 with 1 Axes>"
      ]
     },
     "metadata": {},
     "output_type": "display_data"
    },
    {
     "data": {
      "text/plain": [
       "-0.033675001731679345"
      ]
     },
     "execution_count": 15,
     "metadata": {},
     "output_type": "execute_result"
    }
   ],
   "source": [
    "plt.hist(before['sentiment_polarity'],bins=11)\n",
    "plt.xlabel('sentiment polarity')\n",
    "plt.ylabel('number of tweets')\n",
    "plt.savefig(\"figures_out/fig_sentiment_pol_before.png\",transparent=True)\n",
    "plt.show()\n",
    "before['sentiment_polarity'].mean()"
   ]
  },
  {
   "cell_type": "code",
   "execution_count": 16,
   "metadata": {},
   "outputs": [
    {
     "data": {
      "text/plain": [
       "blacklivesmatter          1924\n",
       "black                     1782\n",
       "i                         1484\n",
       "georgefloyd                962\n",
       "matter                     759\n",
       "george                     717\n",
       "floyd                      712\n",
       "lives                      683\n",
       "people                     664\n",
       "police                     538\n",
       "white                      434\n",
       "man                        405\n",
       "blacklivesmatters          351\n",
       "justice                    318\n",
       "icantbreathe               303\n",
       "murder                     299\n",
       "confusion                  250\n",
       "video                      247\n",
       "minneapolis                237\n",
       "life                       227\n",
       "death                      208\n",
       "today                      201\n",
       "officers                   199\n",
       "cops                       196\n",
       "justiceforgeorgefloyd      190\n",
       "racism                     168\n",
       "america                    166\n",
       "nan                        161\n",
       "name                       160\n",
       "irunwithmaud               159\n",
       "men                        155\n",
       "time                       154\n",
       "justiceforahmaud           142\n",
       "officer                    128\n",
       "day                        123\n",
       "ahmaud                     118\n",
       "sayhisname                 118\n",
       "same                       116\n",
       "cop                        115\n",
       "family                     115\n",
       "more                       111\n",
       "other                      107\n",
       "many                       104\n",
       "right                      101\n",
       "ahmaudarbery                98\n",
       "justiceforahmaudarbery      96\n",
       "neck                        95\n",
       "ripgeorgefloyd              94\n",
       "person                      93\n",
       "rip                         88\n",
       "dtype: int64"
      ]
     },
     "execution_count": 16,
     "metadata": {},
     "output_type": "execute_result"
    }
   ],
   "source": [
    "L=[]\n",
    "for keywords in before['keywords']:\n",
    "    for words in keywords:\n",
    "        L.append(words)\n",
    "len(L)\n",
    "word_hist=pd.value_counts(np.array(L))\n",
    "word_hist[0:50]"
   ]
  },
  {
   "attachments": {},
   "cell_type": "markdown",
   "metadata": {},
   "source": [
    "## Spliting data -> we will try to train a simple model\n",
    "\n",
    "X = every info we have about tweets of several days\n",
    "\n",
    "y = number of tweets on the day after"
   ]
  },
  {
   "cell_type": "code",
   "execution_count": 20,
   "metadata": {},
   "outputs": [
    {
     "data": {
      "image/png": "[encoded data removed]",
      "text/plain": [
       "<Figure size 640x480 with 1 Axes>"
      ]
     },
     "metadata": {},
     "output_type": "display_data"
    },
    {
     "data": {
      "image/png": "[encoded data removed]",
      "text/plain": [
       "<Figure size 640x480 with 1 Axes>"
      ]
     },
     "metadata": {},
     "output_type": "display_data"
    }
   ],
   "source": [
    "train_split=clean_data.sample(frac=.8)\n",
    "test_split=clean_data.drop(train_split.index)\n",
    "plt.figure()\n",
    "plt.hist(train_split['timestamps'],bins=100)\n",
    "plt.show()\n",
    "\n",
    "plt.figure()\n",
    "plt.hist(test_split['timestamps'],bins=100)\n",
    "plt.show()"
   ]
  },
  {
   "cell_type": "code",
   "execution_count": 45,
   "metadata": {},
   "outputs": [],
   "source": [
    "def n_days_day_by_day(df,n_days=5):\n",
    "    X_out=[]\n",
    "    dt=time_day*n_days\n",
    "    y_out=[]\n",
    "\n",
    "    for time in range(0,int(df['timestamps'].max()),time_day):\n",
    "        o=df[df.timestamps<time+dt]\n",
    "        X_out.append(o[o.timestamps>time])\n",
    "        X_out[-1]=X_out[-1].drop(columns='timestamps')\n",
    "\n",
    "    t=0\n",
    "    for time in range(0,int(df['timestamps'].max()),time_day):\n",
    "        y_out.append(train_split[train_split['timestamps']>t].count()[0]-train_split[train_split['timestamps']>time].count()[0])\n",
    "        t=time\n",
    "\n",
    "    return np.asarray(X_out[:len(X_out)-n_days], dtype=object),np.asarray(y_out[n_days:], dtype=object)"
   ]
  },
  {
   "cell_type": "code",
   "execution_count": 46,
   "metadata": {},
   "outputs": [],
   "source": [
    "train_split_calc = train_split[['retweets','favorites','sentiment_polarity','vectors','timestamps']]\n",
    "test_split_calc = test_split[['retweets','favorites','sentiment_polarity','vectors','timestamps']]"
   ]
  },
  {
   "cell_type": "code",
   "execution_count": 54,
   "metadata": {},
   "outputs": [],
   "source": [
    "X_train,y_train=n_days_day_by_day(train_split_calc)\n",
    "X_test,y_test=n_days_day_by_day(test_split_calc)"
   ]
  },
  {
   "cell_type": "code",
   "execution_count": 55,
   "metadata": {},
   "outputs": [
    {
     "data": {
      "text/html": [
       "<div>\n",
       "<style scoped>\n",
       "    .dataframe tbody tr th:only-of-type {\n",
       "        vertical-align: middle;\n",
       "    }\n",
       "\n",
       "    .dataframe tbody tr th {\n",
       "        vertical-align: top;\n",
       "    }\n",
       "\n",
       "    .dataframe thead th {\n",
       "        text-align: right;\n",
       "    }\n",
       "</style>\n",
       "<table border=\"1\" class=\"dataframe\">\n",
       "  <thead>\n",
       "    <tr style=\"text-align: right;\">\n",
       "      <th></th>\n",
       "      <th>retweets</th>\n",
       "      <th>favorites</th>\n",
       "      <th>sentiment_polarity</th>\n",
       "      <th>vectors</th>\n",
       "    </tr>\n",
       "  </thead>\n",
       "  <tbody>\n",
       "    <tr>\n",
       "      <th>19</th>\n",
       "      <td>0</td>\n",
       "      <td>0</td>\n",
       "      <td>-0.750000</td>\n",
       "      <td>[[-0.39881664514541626, 0.752139687538147, 0.4...</td>\n",
       "    </tr>\n",
       "    <tr>\n",
       "      <th>33</th>\n",
       "      <td>0</td>\n",
       "      <td>0</td>\n",
       "      <td>0.166667</td>\n",
       "      <td>[[0.3245166, 0.07700464, -0.24863052, -0.15280...</td>\n",
       "    </tr>\n",
       "    <tr>\n",
       "      <th>1</th>\n",
       "      <td>0</td>\n",
       "      <td>3</td>\n",
       "      <td>0.000000</td>\n",
       "      <td>[[-0.025558767840266228, 1.667986512184143, 0....</td>\n",
       "    </tr>\n",
       "    <tr>\n",
       "      <th>40</th>\n",
       "      <td>1</td>\n",
       "      <td>1</td>\n",
       "      <td>0.000000</td>\n",
       "      <td>[[-0.832005500793457, 0.7813448905944824, -0.3...</td>\n",
       "    </tr>\n",
       "    <tr>\n",
       "      <th>34</th>\n",
       "      <td>0</td>\n",
       "      <td>0</td>\n",
       "      <td>-0.166667</td>\n",
       "      <td>[[-0.02735339291393757, 0.47280073165893555, 0...</td>\n",
       "    </tr>\n",
       "    <tr>\n",
       "      <th>26</th>\n",
       "      <td>0</td>\n",
       "      <td>0</td>\n",
       "      <td>0.136364</td>\n",
       "      <td>[[-0.3451828956604004, -0.19229120016098022, -...</td>\n",
       "    </tr>\n",
       "    <tr>\n",
       "      <th>27</th>\n",
       "      <td>0</td>\n",
       "      <td>0</td>\n",
       "      <td>-0.127976</td>\n",
       "      <td>[[-0.1625993847846985, -0.05928722023963928, 0...</td>\n",
       "    </tr>\n",
       "    <tr>\n",
       "      <th>21</th>\n",
       "      <td>0</td>\n",
       "      <td>1</td>\n",
       "      <td>0.183333</td>\n",
       "      <td>[[0.01282759290188551, 0.637694239616394, 0.04...</td>\n",
       "    </tr>\n",
       "    <tr>\n",
       "      <th>22</th>\n",
       "      <td>0</td>\n",
       "      <td>0</td>\n",
       "      <td>0.625000</td>\n",
       "      <td>[[0.49729683995246887, 0.8745526075363159, -0....</td>\n",
       "    </tr>\n",
       "    <tr>\n",
       "      <th>30</th>\n",
       "      <td>0</td>\n",
       "      <td>2</td>\n",
       "      <td>0.500000</td>\n",
       "      <td>[[0.18961818516254425, -0.019895752891898155, ...</td>\n",
       "    </tr>\n",
       "    <tr>\n",
       "      <th>4</th>\n",
       "      <td>0</td>\n",
       "      <td>0</td>\n",
       "      <td>-0.413889</td>\n",
       "      <td>[[-1.4481282234191895, 0.6589350700378418, -0....</td>\n",
       "    </tr>\n",
       "    <tr>\n",
       "      <th>28</th>\n",
       "      <td>0</td>\n",
       "      <td>0</td>\n",
       "      <td>-0.083333</td>\n",
       "      <td>[[-0.96355855, 2.9449096, 1.7209826, 1.2398905...</td>\n",
       "    </tr>\n",
       "    <tr>\n",
       "      <th>13</th>\n",
       "      <td>0</td>\n",
       "      <td>0</td>\n",
       "      <td>-0.166667</td>\n",
       "      <td>[[-0.963558554649353, 2.9449095726013184, 1.72...</td>\n",
       "    </tr>\n",
       "    <tr>\n",
       "      <th>3</th>\n",
       "      <td>0</td>\n",
       "      <td>0</td>\n",
       "      <td>0.125000</td>\n",
       "      <td>[[-0.057833124, 0.08167548, 0.093876846, 0.393...</td>\n",
       "    </tr>\n",
       "    <tr>\n",
       "      <th>36</th>\n",
       "      <td>0</td>\n",
       "      <td>3</td>\n",
       "      <td>0.063194</td>\n",
       "      <td>[[-0.39031922817230225, 1.8936676979064941, -0...</td>\n",
       "    </tr>\n",
       "    <tr>\n",
       "      <th>2</th>\n",
       "      <td>0</td>\n",
       "      <td>0</td>\n",
       "      <td>-0.166667</td>\n",
       "      <td>[[-0.025558767840266228, 1.667986512184143, 0....</td>\n",
       "    </tr>\n",
       "    <tr>\n",
       "      <th>20</th>\n",
       "      <td>0</td>\n",
       "      <td>0</td>\n",
       "      <td>0.700000</td>\n",
       "      <td>[[-0.5251426100730896, -0.3277982175350189, -0...</td>\n",
       "    </tr>\n",
       "    <tr>\n",
       "      <th>5</th>\n",
       "      <td>0</td>\n",
       "      <td>2</td>\n",
       "      <td>0.000000</td>\n",
       "      <td>[[-0.042751312255859375, -0.20195560157299042,...</td>\n",
       "    </tr>\n",
       "    <tr>\n",
       "      <th>37</th>\n",
       "      <td>0</td>\n",
       "      <td>1</td>\n",
       "      <td>0.250000</td>\n",
       "      <td>[[0.8211186, 2.5254688, -0.35093546, 0.3919645...</td>\n",
       "    </tr>\n",
       "    <tr>\n",
       "      <th>24</th>\n",
       "      <td>0</td>\n",
       "      <td>0</td>\n",
       "      <td>-0.350000</td>\n",
       "      <td>[[-0.5251426100730896, -0.3277982175350189, -0...</td>\n",
       "    </tr>\n",
       "    <tr>\n",
       "      <th>14</th>\n",
       "      <td>0</td>\n",
       "      <td>0</td>\n",
       "      <td>-0.166667</td>\n",
       "      <td>[[-0.963558554649353, 2.9449095726013184, 1.72...</td>\n",
       "    </tr>\n",
       "    <tr>\n",
       "      <th>25</th>\n",
       "      <td>7</td>\n",
       "      <td>4</td>\n",
       "      <td>0.000000</td>\n",
       "      <td>[[-0.1170281320810318, -0.0035222123842686415,...</td>\n",
       "    </tr>\n",
       "    <tr>\n",
       "      <th>6</th>\n",
       "      <td>0</td>\n",
       "      <td>1</td>\n",
       "      <td>0.000000</td>\n",
       "      <td>[[1.0138369, 0.9426098, 0.5856841, -1.1403688,...</td>\n",
       "    </tr>\n",
       "    <tr>\n",
       "      <th>11</th>\n",
       "      <td>1</td>\n",
       "      <td>11</td>\n",
       "      <td>-0.255556</td>\n",
       "      <td>[[-2.333202362060547, -0.30126720666885376, -0...</td>\n",
       "    </tr>\n",
       "    <tr>\n",
       "      <th>8</th>\n",
       "      <td>0</td>\n",
       "      <td>0</td>\n",
       "      <td>0.000000</td>\n",
       "      <td>[[0.6644212007522583, -0.12210967391729355, -0...</td>\n",
       "    </tr>\n",
       "    <tr>\n",
       "      <th>12</th>\n",
       "      <td>0</td>\n",
       "      <td>0</td>\n",
       "      <td>-0.283333</td>\n",
       "      <td>[[-0.20039492845535278, 8.182215970009565e-05,...</td>\n",
       "    </tr>\n",
       "    <tr>\n",
       "      <th>15</th>\n",
       "      <td>0</td>\n",
       "      <td>1</td>\n",
       "      <td>0.000000</td>\n",
       "      <td>[[0.18961818516254425, -0.019895752891898155, ...</td>\n",
       "    </tr>\n",
       "    <tr>\n",
       "      <th>16</th>\n",
       "      <td>0</td>\n",
       "      <td>0</td>\n",
       "      <td>-0.216061</td>\n",
       "      <td>[[-1.090175986289978, 1.4789824485778809, 0.10...</td>\n",
       "    </tr>\n",
       "    <tr>\n",
       "      <th>32</th>\n",
       "      <td>0</td>\n",
       "      <td>11</td>\n",
       "      <td>-0.166667</td>\n",
       "      <td>[[-1.532755970954895, 1.7265700101852417, 0.89...</td>\n",
       "    </tr>\n",
       "    <tr>\n",
       "      <th>18</th>\n",
       "      <td>0</td>\n",
       "      <td>0</td>\n",
       "      <td>-0.166667</td>\n",
       "      <td>[[-0.963558554649353, 2.9449095726013184, 1.72...</td>\n",
       "    </tr>\n",
       "    <tr>\n",
       "      <th>31</th>\n",
       "      <td>0</td>\n",
       "      <td>0</td>\n",
       "      <td>-0.166667</td>\n",
       "      <td>[[0.09078354388475418, 0.07176528871059418, 1....</td>\n",
       "    </tr>\n",
       "    <tr>\n",
       "      <th>29</th>\n",
       "      <td>0</td>\n",
       "      <td>2</td>\n",
       "      <td>0.008333</td>\n",
       "      <td>[[0.10636430978775024, 0.06909886747598648, 0....</td>\n",
       "    </tr>\n",
       "    <tr>\n",
       "      <th>38</th>\n",
       "      <td>0</td>\n",
       "      <td>0</td>\n",
       "      <td>0.083333</td>\n",
       "      <td>[[-1.0084400177001953, 1.5655564069747925, 0.6...</td>\n",
       "    </tr>\n",
       "    <tr>\n",
       "      <th>35</th>\n",
       "      <td>0</td>\n",
       "      <td>1</td>\n",
       "      <td>0.111111</td>\n",
       "      <td>[[-0.7665896415710449, 0.1343706101179123, -0....</td>\n",
       "    </tr>\n",
       "    <tr>\n",
       "      <th>9</th>\n",
       "      <td>0</td>\n",
       "      <td>1</td>\n",
       "      <td>0.000000</td>\n",
       "      <td>[[-0.2158521, -0.19950096, -0.072991766, 0.160...</td>\n",
       "    </tr>\n",
       "    <tr>\n",
       "      <th>41</th>\n",
       "      <td>0</td>\n",
       "      <td>0</td>\n",
       "      <td>-0.033333</td>\n",
       "      <td>[[-0.257168173789978, 0.8623095154762268, 0.42...</td>\n",
       "    </tr>\n",
       "    <tr>\n",
       "      <th>42</th>\n",
       "      <td>0</td>\n",
       "      <td>0</td>\n",
       "      <td>0.000000</td>\n",
       "      <td>[[-0.1592971235513687, -0.3277013599872589, 0....</td>\n",
       "    </tr>\n",
       "    <tr>\n",
       "      <th>17</th>\n",
       "      <td>0</td>\n",
       "      <td>0</td>\n",
       "      <td>0.200000</td>\n",
       "      <td>[[0.062171098, -0.44543368, 0.40342703, 0.2925...</td>\n",
       "    </tr>\n",
       "    <tr>\n",
       "      <th>43</th>\n",
       "      <td>0</td>\n",
       "      <td>5</td>\n",
       "      <td>-0.040000</td>\n",
       "      <td>[[-0.27168977, 0.26924488, -0.33548808, -0.167...</td>\n",
       "    </tr>\n",
       "    <tr>\n",
       "      <th>39</th>\n",
       "      <td>0</td>\n",
       "      <td>0</td>\n",
       "      <td>0.088095</td>\n",
       "      <td>[[-0.963558554649353, 2.9449095726013184, 1.72...</td>\n",
       "    </tr>\n",
       "  </tbody>\n",
       "</table>\n",
       "</div>"
      ],
      "text/plain": [
       "    retweets  favorites  sentiment_polarity  \\\n",
       "19         0          0           -0.750000   \n",
       "33         0          0            0.166667   \n",
       "1          0          3            0.000000   \n",
       "40         1          1            0.000000   \n",
       "34         0          0           -0.166667   \n",
       "26         0          0            0.136364   \n",
       "27         0          0           -0.127976   \n",
       "21         0          1            0.183333   \n",
       "22         0          0            0.625000   \n",
       "30         0          2            0.500000   \n",
       "4          0          0           -0.413889   \n",
       "28         0          0           -0.083333   \n",
       "13         0          0           -0.166667   \n",
       "3          0          0            0.125000   \n",
       "36         0          3            0.063194   \n",
       "2          0          0           -0.166667   \n",
       "20         0          0            0.700000   \n",
       "5          0          2            0.000000   \n",
       "37         0          1            0.250000   \n",
       "24         0          0           -0.350000   \n",
       "14         0          0           -0.166667   \n",
       "25         7          4            0.000000   \n",
       "6          0          1            0.000000   \n",
       "11         1         11           -0.255556   \n",
       "8          0          0            0.000000   \n",
       "12         0          0           -0.283333   \n",
       "15         0          1            0.000000   \n",
       "16         0          0           -0.216061   \n",
       "32         0         11           -0.166667   \n",
       "18         0          0           -0.166667   \n",
       "31         0          0           -0.166667   \n",
       "29         0          2            0.008333   \n",
       "38         0          0            0.083333   \n",
       "35         0          1            0.111111   \n",
       "9          0          1            0.000000   \n",
       "41         0          0           -0.033333   \n",
       "42         0          0            0.000000   \n",
       "17         0          0            0.200000   \n",
       "43         0          5           -0.040000   \n",
       "39         0          0            0.088095   \n",
       "\n",
       "                                              vectors  \n",
       "19  [[-0.39881664514541626, 0.752139687538147, 0.4...  \n",
       "33  [[0.3245166, 0.07700464, -0.24863052, -0.15280...  \n",
       "1   [[-0.025558767840266228, 1.667986512184143, 0....  \n",
       "40  [[-0.832005500793457, 0.7813448905944824, -0.3...  \n",
       "34  [[-0.02735339291393757, 0.47280073165893555, 0...  \n",
       "26  [[-0.3451828956604004, -0.19229120016098022, -...  \n",
       "27  [[-0.1625993847846985, -0.05928722023963928, 0...  \n",
       "21  [[0.01282759290188551, 0.637694239616394, 0.04...  \n",
       "22  [[0.49729683995246887, 0.8745526075363159, -0....  \n",
       "30  [[0.18961818516254425, -0.019895752891898155, ...  \n",
       "4   [[-1.4481282234191895, 0.6589350700378418, -0....  \n",
       "28  [[-0.96355855, 2.9449096, 1.7209826, 1.2398905...  \n",
       "13  [[-0.963558554649353, 2.9449095726013184, 1.72...  \n",
       "3   [[-0.057833124, 0.08167548, 0.093876846, 0.393...  \n",
       "36  [[-0.39031922817230225, 1.8936676979064941, -0...  \n",
       "2   [[-0.025558767840266228, 1.667986512184143, 0....  \n",
       "20  [[-0.5251426100730896, -0.3277982175350189, -0...  \n",
       "5   [[-0.042751312255859375, -0.20195560157299042,...  \n",
       "37  [[0.8211186, 2.5254688, -0.35093546, 0.3919645...  \n",
       "24  [[-0.5251426100730896, -0.3277982175350189, -0...  \n",
       "14  [[-0.963558554649353, 2.9449095726013184, 1.72...  \n",
       "25  [[-0.1170281320810318, -0.0035222123842686415,...  \n",
       "6   [[1.0138369, 0.9426098, 0.5856841, -1.1403688,...  \n",
       "11  [[-2.333202362060547, -0.30126720666885376, -0...  \n",
       "8   [[0.6644212007522583, -0.12210967391729355, -0...  \n",
       "12  [[-0.20039492845535278, 8.182215970009565e-05,...  \n",
       "15  [[0.18961818516254425, -0.019895752891898155, ...  \n",
       "16  [[-1.090175986289978, 1.4789824485778809, 0.10...  \n",
       "32  [[-1.532755970954895, 1.7265700101852417, 0.89...  \n",
       "18  [[-0.963558554649353, 2.9449095726013184, 1.72...  \n",
       "31  [[0.09078354388475418, 0.07176528871059418, 1....  \n",
       "29  [[0.10636430978775024, 0.06909886747598648, 0....  \n",
       "38  [[-1.0084400177001953, 1.5655564069747925, 0.6...  \n",
       "35  [[-0.7665896415710449, 0.1343706101179123, -0....  \n",
       "9   [[-0.2158521, -0.19950096, -0.072991766, 0.160...  \n",
       "41  [[-0.257168173789978, 0.8623095154762268, 0.42...  \n",
       "42  [[-0.1592971235513687, -0.3277013599872589, 0....  \n",
       "17  [[0.062171098, -0.44543368, 0.40342703, 0.2925...  \n",
       "43  [[-0.27168977, 0.26924488, -0.33548808, -0.167...  \n",
       "39  [[-0.963558554649353, 2.9449095726013184, 1.72...  "
      ]
     },
     "execution_count": 55,
     "metadata": {},
     "output_type": "execute_result"
    }
   ],
   "source": [
    "X_train[0]"
   ]
  },
  {
   "cell_type": "code",
   "execution_count": null,
   "metadata": {},
   "outputs": [],
   "source": []
  }
 ],
 "metadata": {
  "kernelspec": {
   "display_name": "tf",
   "language": "python",
   "name": "python3"
  },
  "language_info": {
   "codemirror_mode": {
    "name": "ipython",
    "version": 3
   },
   "file_extension": ".py",
   "mimetype": "text/x-python",
   "name": "python",
   "nbconvert_exporter": "python",
   "pygments_lexer": "ipython3",
   "version": "3.10.9"
  },
  "orig_nbformat": 4,
  "vscode": {
   "interpreter": {
    "hash": "bc86394a1cae277c90751110379fc159724fae2b8c50713deab7b46140911b32"
   }
  }
 },
 "nbformat": 4,
 "nbformat_minor": 2
}
