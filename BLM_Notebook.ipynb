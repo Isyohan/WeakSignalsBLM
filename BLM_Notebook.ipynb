{
 "cells": [
  {
   "cell_type": "code",
   "execution_count": 3,
   "metadata": {},
   "outputs": [
    {
     "name": "stdout",
     "output_type": "stream",
     "text": [
      "Collecting textblob\n",
      "  Using cached textblob-0.17.1-py2.py3-none-any.whl (636 kB)\n",
      "Collecting nltk>=3.1\n",
      "  Downloading nltk-3.8.1-py3-none-any.whl (1.5 MB)\n",
      "\u001b[2K     \u001b[90m━━━━━━━━━━━━━━━━━━━━━━━━━━━━━━━━━━━━━━━━\u001b[0m \u001b[32m1.5/1.5 MB\u001b[0m \u001b[31m5.8 MB/s\u001b[0m eta \u001b[36m0:00:00\u001b[0ma \u001b[36m0:00:01\u001b[0m\n",
      "\u001b[?25hCollecting joblib\n",
      "  Using cached joblib-1.2.0-py3-none-any.whl (297 kB)\n",
      "Collecting click\n",
      "  Using cached click-8.1.3-py3-none-any.whl (96 kB)\n",
      "Collecting regex>=2021.8.3\n",
      "  Downloading regex-2022.10.31-cp39-cp39-macosx_10_9_x86_64.whl (293 kB)\n",
      "\u001b[2K     \u001b[90m━━━━━━━━━━━━━━━━━━━━━━━━━━━━━━━━━━━━━━━\u001b[0m \u001b[32m293.9/293.9 kB\u001b[0m \u001b[31m6.1 MB/s\u001b[0m eta \u001b[36m0:00:00\u001b[0ma \u001b[36m0:00:01\u001b[0m\n",
      "\u001b[?25hCollecting tqdm\n",
      "  Downloading tqdm-4.64.1-py2.py3-none-any.whl (78 kB)\n",
      "\u001b[2K     \u001b[90m━━━━━━━━━━━━━━━━━━━━━━━━━━━━━━━━━━━━━━━━\u001b[0m \u001b[32m78.5/78.5 kB\u001b[0m \u001b[31m3.9 MB/s\u001b[0m eta \u001b[36m0:00:00\u001b[0m\n",
      "\u001b[?25hInstalling collected packages: tqdm, regex, joblib, click, nltk, textblob\n",
      "Successfully installed click-8.1.3 joblib-1.2.0 nltk-3.8.1 regex-2022.10.31 textblob-0.17.1 tqdm-4.64.1\n",
      "Note: you may need to restart the kernel to use updated packages.\n",
      "[nltk_data] Downloading package brown to\n",
      "[nltk_data]     /Users/yohanismael/nltk_data...\n",
      "[nltk_data]   Package brown is already up-to-date!\n",
      "[nltk_data] Downloading package punkt to\n",
      "[nltk_data]     /Users/yohanismael/nltk_data...\n",
      "[nltk_data]   Package punkt is already up-to-date!\n",
      "[nltk_data] Downloading package wordnet to\n",
      "[nltk_data]     /Users/yohanismael/nltk_data...\n",
      "[nltk_data]   Package wordnet is already up-to-date!\n",
      "[nltk_data] Downloading package averaged_perceptron_tagger to\n",
      "[nltk_data]     /Users/yohanismael/nltk_data...\n",
      "[nltk_data]   Package averaged_perceptron_tagger is already up-to-\n",
      "[nltk_data]       date!\n",
      "[nltk_data] Downloading package conll2000 to\n",
      "[nltk_data]     /Users/yohanismael/nltk_data...\n",
      "[nltk_data]   Package conll2000 is already up-to-date!\n",
      "[nltk_data] Downloading package movie_reviews to\n",
      "[nltk_data]     /Users/yohanismael/nltk_data...\n",
      "[nltk_data]   Package movie_reviews is already up-to-date!\n",
      "Finished.\n",
      "Requirement already satisfied: nltk in /Users/yohanismael/opt/anaconda3/envs/pymc3_env/lib/python3.9/site-packages (3.8.1)\n",
      "Requirement already satisfied: tqdm in /Users/yohanismael/opt/anaconda3/envs/pymc3_env/lib/python3.9/site-packages (from nltk) (4.64.1)\n",
      "Requirement already satisfied: regex>=2021.8.3 in /Users/yohanismael/opt/anaconda3/envs/pymc3_env/lib/python3.9/site-packages (from nltk) (2022.10.31)\n",
      "Requirement already satisfied: click in /Users/yohanismael/opt/anaconda3/envs/pymc3_env/lib/python3.9/site-packages (from nltk) (8.1.3)\n",
      "Requirement already satisfied: joblib in /Users/yohanismael/opt/anaconda3/envs/pymc3_env/lib/python3.9/site-packages (from nltk) (1.2.0)\n",
      "Note: you may need to restart the kernel to use updated packages.\n",
      "Collecting gensim\n",
      "  Using cached gensim-4.3.0-cp39-cp39-macosx_10_9_x86_64.whl (24.0 MB)\n",
      "Requirement already satisfied: numpy>=1.18.5 in /Users/yohanismael/opt/anaconda3/envs/pymc3_env/lib/python3.9/site-packages (from gensim) (1.21.5)\n",
      "Requirement already satisfied: scipy>=1.7.0 in /Users/yohanismael/opt/anaconda3/envs/pymc3_env/lib/python3.9/site-packages (from gensim) (1.7.3)\n",
      "Collecting FuzzyTM>=0.4.0\n",
      "  Using cached FuzzyTM-2.0.5-py3-none-any.whl (29 kB)\n",
      "Collecting smart-open>=1.8.1\n",
      "  Using cached smart_open-6.3.0-py3-none-any.whl (56 kB)\n",
      "Collecting pyfume\n",
      "  Using cached pyFUME-0.2.25-py3-none-any.whl (67 kB)\n",
      "Requirement already satisfied: pandas in /Users/yohanismael/opt/anaconda3/envs/pymc3_env/lib/python3.9/site-packages (from FuzzyTM>=0.4.0->gensim) (1.5.2)\n",
      "Requirement already satisfied: python-dateutil>=2.8.1 in /Users/yohanismael/opt/anaconda3/envs/pymc3_env/lib/python3.9/site-packages (from pandas->FuzzyTM>=0.4.0->gensim) (2.8.2)\n",
      "Requirement already satisfied: pytz>=2020.1 in /Users/yohanismael/opt/anaconda3/envs/pymc3_env/lib/python3.9/site-packages (from pandas->FuzzyTM>=0.4.0->gensim) (2022.7)\n",
      "Collecting simpful\n",
      "  Using cached simpful-2.9.0-py3-none-any.whl (30 kB)\n",
      "Collecting fst-pso\n",
      "  Using cached fst-pso-1.8.1.tar.gz (18 kB)\n",
      "  Preparing metadata (setup.py) ... \u001b[?25ldone\n",
      "\u001b[?25hRequirement already satisfied: six>=1.5 in /Users/yohanismael/opt/anaconda3/envs/pymc3_env/lib/python3.9/site-packages (from python-dateutil>=2.8.1->pandas->FuzzyTM>=0.4.0->gensim) (1.16.0)\n",
      "Collecting miniful\n",
      "  Using cached miniful-0.0.6.tar.gz (2.8 kB)\n",
      "  Preparing metadata (setup.py) ... \u001b[?25ldone\n",
      "\u001b[?25hCollecting requests\n",
      "  Downloading requests-2.28.2-py3-none-any.whl (62 kB)\n",
      "\u001b[2K     \u001b[90m━━━━━━━━━━━━━━━━━━━━━━━━━━━━━━━━━━━━━━━━\u001b[0m \u001b[32m62.8/62.8 kB\u001b[0m \u001b[31m2.1 MB/s\u001b[0m eta \u001b[36m0:00:00\u001b[0m\n",
      "\u001b[?25hCollecting urllib3<1.27,>=1.21.1\n",
      "  Downloading urllib3-1.26.14-py2.py3-none-any.whl (140 kB)\n",
      "\u001b[2K     \u001b[90m━━━━━━━━━━━━━━━━━━━━━━━━━━━━━━━━━━━━━━━\u001b[0m \u001b[32m140.6/140.6 kB\u001b[0m \u001b[31m4.7 MB/s\u001b[0m eta \u001b[36m0:00:00\u001b[0m\n",
      "\u001b[?25hCollecting idna<4,>=2.5\n",
      "  Downloading idna-3.4-py3-none-any.whl (61 kB)\n",
      "\u001b[2K     \u001b[90m━━━━━━━━━━━━━━━━━━━━━━━━━━━━━━━━━━━━━━━━\u001b[0m \u001b[32m61.5/61.5 kB\u001b[0m \u001b[31m5.3 MB/s\u001b[0m eta \u001b[36m0:00:00\u001b[0m\n",
      "\u001b[?25hRequirement already satisfied: certifi>=2017.4.17 in /Users/yohanismael/opt/anaconda3/envs/pymc3_env/lib/python3.9/site-packages (from requests->simpful->pyfume->FuzzyTM>=0.4.0->gensim) (2022.12.7)\n",
      "Collecting charset-normalizer<4,>=2\n",
      "  Downloading charset_normalizer-3.0.1-cp39-cp39-macosx_10_9_x86_64.whl (124 kB)\n",
      "\u001b[2K     \u001b[90m━━━━━━━━━━━━━━━━━━━━━━━━━━━━━━━━━━━━━━━\u001b[0m \u001b[32m124.0/124.0 kB\u001b[0m \u001b[31m7.1 MB/s\u001b[0m eta \u001b[36m0:00:00\u001b[0m\n",
      "\u001b[?25hBuilding wheels for collected packages: fst-pso, miniful\n",
      "  Building wheel for fst-pso (setup.py) ... \u001b[?25ldone\n",
      "\u001b[?25h  Created wheel for fst-pso: filename=fst_pso-1.8.1-py3-none-any.whl size=20431 sha256=cf4b8c475f00983b10ef130a112db31b2f8f90bf65f23888ee0b988339790781\n",
      "  Stored in directory: /Users/yohanismael/Library/Caches/pip/wheels/d7/1e/9c/3c352867b1bb1ddba0e51149a0d06c1e50c1c9b1c5ebcac787\n",
      "  Building wheel for miniful (setup.py) ... \u001b[?25ldone\n",
      "\u001b[?25h  Created wheel for miniful: filename=miniful-0.0.6-py3-none-any.whl size=3514 sha256=fdbec753cb2984d08f6add1816c86936b1e86da94304ee11a67683d6b3cfdb68\n",
      "  Stored in directory: /Users/yohanismael/Library/Caches/pip/wheels/37/45/a2/db878712db97aaab6f574d750789bc6c99e3b706af8af6b936\n",
      "Successfully built fst-pso miniful\n",
      "Installing collected packages: charset-normalizer, urllib3, smart-open, idna, requests, miniful, simpful, fst-pso, pyfume, FuzzyTM, gensim\n",
      "Successfully installed FuzzyTM-2.0.5 charset-normalizer-3.0.1 fst-pso-1.8.1 gensim-4.3.0 idna-3.4 miniful-0.0.6 pyfume-0.2.25 requests-2.28.2 simpful-2.9.0 smart-open-6.3.0 urllib3-1.26.14\n",
      "Note: you may need to restart the kernel to use updated packages.\n"
     ]
    }
   ],
   "source": [
    "%pip install -U textblob\n",
    "!python -m textblob.download_corpora\n",
    "\n",
    "%pip install nltk\n",
    "\n",
    "%pip install --upgrade gensim\n",
    "\n",
    "#%pip install -U scikit-learn"
   ]
  },
  {
   "cell_type": "code",
   "execution_count": 1,
   "metadata": {},
   "outputs": [],
   "source": [
    "import nltk\n",
    "\n",
    "import pandas as pd\n",
    "import numpy as np\n",
    "import matplotlib.pyplot as plt\n",
    "from textblob import TextBlob\n",
    "from datetime import datetime\n",
    "\n",
    "import gensim\n",
    "from gensim.models import Word2Vec\n",
    "\n",
    "from datetime import datetime"
   ]
  },
  {
   "cell_type": "code",
   "execution_count": 3,
   "metadata": {},
   "outputs": [],
   "source": [
    "def str_to_timestamp(s):\n",
    "    out=[]\n",
    "\n",
    "    s2=str.split(s,'+')\n",
    "    s3=str.split(s2[0],' ')\n",
    "\n",
    "    s4=str.split(s3[0],'-')\n",
    "\n",
    "    s5=str.split(s3[1],':')\n",
    "    year=int(s4[0])\n",
    "    month=int(s4[1])\n",
    "    day=int(s4[2])\n",
    "    hour=int(s5[0])\n",
    "    minute=int(s5[1])\n",
    "    second=int(s5[2])\n",
    "\n",
    "    return(datetime(year=year,month=month,day=day,hour=hour,minute=minute,second=second).timestamp())\n",
    "\n",
    "from nltk.tokenize import word_tokenize\n",
    "\n",
    "def NumStr(mot):\n",
    "    res = ''.join(filter(lambda i: i.isdigit(), mot))\n",
    "    if (res==''):\n",
    "        return False\n",
    "    return True\n",
    "\n",
    "\n",
    "def extract_keywords(text):\n",
    "    # Tokenize the text\n",
    "    tokens = word_tokenize(text)\n",
    "\n",
    "    # Apply part-of-speech tagging\n",
    "    tagged_tokens = nltk.pos_tag(tokens)\n",
    "\n",
    "    # Select only nouns and adjectives\n",
    "    keywords = [word for word, pos in tagged_tokens if (pos in ['NN', 'NNS', 'NNP', 'NNPS', 'JJ', 'JJR', 'JJS'] and not NumStr(word))]\n",
    "\n",
    "    return keywords\n",
    "\n",
    "def extract_sentiment_polarity(text):\n",
    "    blob=TextBlob(text)\n",
    "    return(blob.sentiment.polarity)"
   ]
  },
  {
   "cell_type": "code",
   "execution_count": 4,
   "metadata": {},
   "outputs": [
    {
     "name": "stdout",
     "output_type": "stream",
     "text": [
      "start\n",
      "end of keywords\n",
      "end of polarity\n",
      "end of timestamps\n"
     ]
    }
   ],
   "source": [
    "data=pd.read_csv('data/minnesota.csv')\n",
    "df=data\n",
    "print('start')\n",
    "\n",
    "df['keywords'] = df['tweet_text'].apply(extract_keywords)\n",
    "\n",
    "print('end of keywords')\n",
    "\n",
    "df['sentiment_polarity']=df['tweet_text'].apply(extract_sentiment_polarity)\n",
    "\n",
    "print('end of polarity')\n",
    "\n",
    "df['timestamps']=df['tweet_created_dt'].apply(str_to_timestamp)\n",
    "df['timestamps']=df['timestamps']-df['timestamps'].min()\n",
    "\n",
    "print('end of timestamps')\n",
    "\n",
    "clean_data=df"
   ]
  },
  {
   "attachments": {},
   "cell_type": "markdown",
   "metadata": {},
   "source": [
    "# general Word2Vec"
   ]
  },
  {
   "cell_type": "code",
   "execution_count": 5,
   "metadata": {},
   "outputs": [],
   "source": [
    "model = Word2Vec(sentences=data['keywords'], vector_size=100, window=5, min_count=2, workers=4)\n",
    "model.save(\"Word2vec_models/word2vec.model\")\n",
    "word_vectors = model.wv\n",
    "del model\n",
    "\n",
    "def word2vectors(l):\n",
    "    try:\n",
    "        x = word_vectors[l]\n",
    "    except KeyError:\n",
    "        return \n",
    "    return x\n",
    "    \n",
    "\n",
    "def list2vectors(L):\n",
    "    out=[]\n",
    "    for i in L:\n",
    "        out.append(word2vectors(i))\n",
    "    return(np.asarray(out,dtype=object))"
   ]
  },
  {
   "cell_type": "code",
   "execution_count": 6,
   "metadata": {},
   "outputs": [],
   "source": [
    "clean_data['vectors']=clean_data['keywords'].apply(list2vectors)"
   ]
  },
  {
   "cell_type": "code",
   "execution_count": 7,
   "metadata": {},
   "outputs": [
    {
     "data": {
      "text/plain": [
       "black               73106\n",
       "matter              45858\n",
       "lives               36170\n",
       "i                   30540\n",
       "blacklivesmatter    28183\n",
       "                    ...  \n",
       "others               1189\n",
       "system               1188\n",
       "sick                 1182\n",
       "words                1174\n",
       "state                1169\n",
       "Length: 100, dtype: int64"
      ]
     },
     "execution_count": 7,
     "metadata": {},
     "output_type": "execute_result"
    }
   ],
   "source": [
    "L=[]\n",
    "for keywords in clean_data[clean_data['sentiment_polarity']<0]['keywords']:\n",
    "    for words in keywords:\n",
    "        L.append(words)\n",
    "len(L)\n",
    "word_hist=pd.value_counts(np.array(L))\n",
    "word_hist[0:100]"
   ]
  },
  {
   "cell_type": "code",
   "execution_count": 8,
   "metadata": {},
   "outputs": [
    {
     "name": "stdout",
     "output_type": "stream",
     "text": [
      "3082858\n",
      "blacklivesmatter    0.950360\n",
      "black               0.759869\n",
      "i                   0.569869\n",
      "matter              0.472007\n",
      "floyd               0.420755\n",
      "                      ...   \n",
      "matters             0.023009\n",
      "words               0.022785\n",
      "riots               0.022705\n",
      "let                 0.022662\n",
      "color               0.022597\n",
      "Length: 100, dtype: float64\n",
      "138337\n"
     ]
    }
   ],
   "source": [
    "L=[]\n",
    "for keywords in clean_data['keywords']:\n",
    "    for words in keywords:\n",
    "        L.append(words)\n",
    "print(len(L))\n",
    "word_hist=pd.value_counts(np.array(L))\n",
    "print(word_hist[0:100]/len(word_hist))\n",
    "print(len(word_hist))"
   ]
  },
  {
   "cell_type": "code",
   "execution_count": 9,
   "metadata": {},
   "outputs": [
    {
     "data": {
      "image/png": "[encoded data removed]",
      "text/plain": [
       "<Figure size 640x480 with 1 Axes>"
      ]
     },
     "metadata": {},
     "output_type": "display_data"
    },
    {
     "data": {
      "text/plain": [
       "0.02349505636721162"
      ]
     },
     "execution_count": 9,
     "metadata": {},
     "output_type": "execute_result"
    }
   ],
   "source": [
    "plt.hist(clean_data['sentiment_polarity'],bins=11)\n",
    "plt.xlabel('sentiment polarity')\n",
    "plt.ylabel('number of tweets')\n",
    "plt.savefig(\"figures_out/fig_sentiment_pol.png\",transparent=True)\n",
    "plt.show()\n",
    "clean_data['sentiment_polarity'].mean()"
   ]
  },
  {
   "cell_type": "code",
   "execution_count": 10,
   "metadata": {},
   "outputs": [
    {
     "data": {
      "image/png": "[encoded data removed]",
      "text/plain": [
       "<Figure size 640x480 with 1 Axes>"
      ]
     },
     "metadata": {},
     "output_type": "display_data"
    }
   ],
   "source": [
    "plt.hist(clean_data['timestamps'],bins=100)\n",
    "plt.xlabel('timestamps')\n",
    "plt.ylabel('number of tweets')\n",
    "plt.savefig(\"figures_out/fig_timestamps.png\",transparent=True)\n",
    "plt.show()"
   ]
  },
  {
   "cell_type": "code",
   "execution_count": 11,
   "metadata": {},
   "outputs": [],
   "source": [
    "def smooth(y, box_pts):\n",
    "    box = np.ones(box_pts)/box_pts\n",
    "    y_smooth = np.convolve(y, box, mode='same')\n",
    "    return y_smooth"
   ]
  },
  {
   "cell_type": "code",
   "execution_count": 12,
   "metadata": {},
   "outputs": [
    {
     "data": {
      "text/plain": [
       "4856398.67768595"
      ]
     },
     "execution_count": 12,
     "metadata": {},
     "output_type": "execute_result"
    },
    {
     "data": {
      "image/png": "[encoded data removed]",
      "text/plain": [
       "<Figure size 640x480 with 1 Axes>"
      ]
     },
     "metadata": {},
     "output_type": "display_data"
    }
   ],
   "source": [
    "time_day=60*60*24\n",
    "nb_bins=int(clean_data['timestamps'].max()/time_day)\n",
    "coef_smooth=int(nb_bins/10)\n",
    "\n",
    "hist,e=np.histogram(clean_data['timestamps'],nb_bins)\n",
    "smooth_hist=smooth(hist,coef_smooth)\n",
    "x_hist=range(nb_bins)\n",
    "dhist=np.gradient(smooth_hist,x_hist)\n",
    "plt.plot(x_hist,dhist)\n",
    "the_time=e[dhist.argmax()]\n",
    "before_the_time=the_time-time_day\n",
    "the_time"
   ]
  },
  {
   "cell_type": "code",
   "execution_count": 13,
   "metadata": {},
   "outputs": [
    {
     "data": {
      "text/plain": [
       "-0.033675001731679345"
      ]
     },
     "execution_count": 13,
     "metadata": {},
     "output_type": "execute_result"
    }
   ],
   "source": [
    "before=clean_data[clean_data['timestamps']<the_time]\n",
    "before['sentiment_polarity'].mean()"
   ]
  },
  {
   "cell_type": "code",
   "execution_count": 14,
   "metadata": {},
   "outputs": [
    {
     "data": {
      "image/png": "[encoded data removed]",
      "text/plain": [
       "<Figure size 640x480 with 1 Axes>"
      ]
     },
     "metadata": {},
     "output_type": "display_data"
    }
   ],
   "source": [
    "plt.hist(before['timestamps'],bins='auto')\n",
    "plt.xlabel('timestamps')\n",
    "plt.ylabel('number of tweets')\n",
    "plt.savefig(\"figures_out/fig_timestamps_before.png\",transparent=True)\n",
    "plt.show()"
   ]
  },
  {
   "cell_type": "code",
   "execution_count": 15,
   "metadata": {},
   "outputs": [
    {
     "data": {
      "image/png": "[encoded data removed]",
      "text/plain": [
       "<Figure size 640x480 with 1 Axes>"
      ]
     },
     "metadata": {},
     "output_type": "display_data"
    },
    {
     "data": {
      "text/plain": [
       "-0.033675001731679345"
      ]
     },
     "execution_count": 15,
     "metadata": {},
     "output_type": "execute_result"
    }
   ],
   "source": [
    "plt.hist(before['sentiment_polarity'],bins=11)\n",
    "plt.xlabel('sentiment polarity')\n",
    "plt.ylabel('number of tweets')\n",
    "plt.savefig(\"figures_out/fig_sentiment_pol_before.png\",transparent=True)\n",
    "plt.show()\n",
    "before['sentiment_polarity'].mean()"
   ]
  },
  {
   "cell_type": "code",
   "execution_count": 16,
   "metadata": {},
   "outputs": [
    {
     "data": {
      "text/plain": [
       "blacklivesmatter          1924\n",
       "black                     1782\n",
       "i                         1484\n",
       "georgefloyd                962\n",
       "matter                     759\n",
       "george                     717\n",
       "floyd                      712\n",
       "lives                      683\n",
       "people                     664\n",
       "police                     538\n",
       "white                      434\n",
       "man                        405\n",
       "blacklivesmatters          351\n",
       "justice                    318\n",
       "icantbreathe               303\n",
       "murder                     299\n",
       "confusion                  250\n",
       "video                      247\n",
       "minneapolis                237\n",
       "life                       227\n",
       "death                      208\n",
       "today                      201\n",
       "officers                   199\n",
       "cops                       196\n",
       "justiceforgeorgefloyd      190\n",
       "racism                     168\n",
       "america                    166\n",
       "nan                        161\n",
       "name                       160\n",
       "irunwithmaud               159\n",
       "men                        155\n",
       "time                       154\n",
       "justiceforahmaud           142\n",
       "officer                    128\n",
       "day                        123\n",
       "ahmaud                     118\n",
       "sayhisname                 118\n",
       "same                       116\n",
       "cop                        115\n",
       "family                     115\n",
       "more                       111\n",
       "other                      107\n",
       "many                       104\n",
       "right                      101\n",
       "ahmaudarbery                98\n",
       "justiceforahmaudarbery      96\n",
       "neck                        95\n",
       "ripgeorgefloyd              94\n",
       "person                      93\n",
       "rip                         88\n",
       "dtype: int64"
      ]
     },
     "execution_count": 16,
     "metadata": {},
     "output_type": "execute_result"
    }
   ],
   "source": [
    "L=[]\n",
    "for keywords in before['keywords']:\n",
    "    for words in keywords:\n",
    "        L.append(words)\n",
    "len(L)\n",
    "word_hist=pd.value_counts(np.array(L))\n",
    "word_hist[0:50]"
   ]
  },
  {
   "attachments": {},
   "cell_type": "markdown",
   "metadata": {},
   "source": [
    "## Spliting data -> we will try to train a simple model\n",
    "\n",
    "X = every info we have about tweets of several periods\n",
    "\n",
    "y = number of tweets on the period after after"
   ]
  },
  {
   "cell_type": "code",
   "execution_count": 17,
   "metadata": {},
   "outputs": [],
   "source": [
    "def time_separation(df,t_out=time_day,n_in=5):\n",
    "    X_out=[]\n",
    "    y_out=[]\n",
    "    dt=t_out*n_in\n",
    "\n",
    "    for time in range(0,int(df['timestamps'].max()),t_out):\n",
    "        o=df[df.timestamps<time+dt]\n",
    "        X_out.append(o[o.timestamps>time])\n",
    "        X_out[-1]=X_out[-1].drop(columns='timestamps')\n",
    "\n",
    "        print(\"%.3f\" % (time/int(df['timestamps'].max())), end=\"\\r\")\n",
    "    print(\"X finish\")\n",
    "\n",
    "    t=0\n",
    "    for time in range(0,int(df['timestamps'].max()),t_out):\n",
    "        y_out.append(df[df['timestamps']>t].count()[0]-df[df['timestamps']>time].count()[0])\n",
    "        t=time\n",
    "\n",
    "        print(\"%.3f\" % (time/int(df['timestamps'].max())), end=\"\\r\")\n",
    "    print('y finish')\n",
    "\n",
    "\n",
    "    return np.asarray(X_out[:len(X_out)-n_in], dtype=object),np.asarray(y_out[n_in:], dtype=int)"
   ]
  },
  {
   "cell_type": "code",
   "execution_count": 18,
   "metadata": {},
   "outputs": [],
   "source": [
    "train_split=clean_data.sample(frac=.8)\n",
    "test_split=clean_data.drop(train_split.index)\n",
    "\n",
    "train_split_calc = train_split[['retweets','favorites','sentiment_polarity','vectors','timestamps']]\n",
    "test_split_calc = test_split[['retweets','favorites','sentiment_polarity','vectors','timestamps']]"
   ]
  },
  {
   "cell_type": "code",
   "execution_count": 19,
   "metadata": {},
   "outputs": [
    {
     "name": "stdout",
     "output_type": "stream",
     "text": [
      "X finish\n",
      "y finish\n",
      "train finish\n",
      "X finish\n",
      "y finish\n",
      "test finish\n"
     ]
    }
   ],
   "source": [
    "mult=1\n",
    "div=24\n",
    "nb=5*24\n",
    "\n",
    "X_train,y_train=time_separation(train_split_calc,mult*time_day//div,nb)\n",
    "print('train finish')\n",
    "X_test,y_test=time_separation(test_split_calc,mult*time_day//div,nb)\n",
    "print('test finish')"
   ]
  },
  {
   "cell_type": "code",
   "execution_count": 20,
   "metadata": {},
   "outputs": [
    {
     "data": {
      "image/png": "[encoded data removed]",
      "text/plain": [
       "<Figure size 640x480 with 1 Axes>"
      ]
     },
     "metadata": {},
     "output_type": "display_data"
    }
   ],
   "source": [
    "plt.plot(range(len(y_test)),y_test)\n",
    "plt.show()"
   ]
  },
  {
   "cell_type": "code",
   "execution_count": 21,
   "metadata": {},
   "outputs": [
    {
     "data": {
      "image/png": "[encoded data removed]",
      "text/plain": [
       "<Figure size 640x480 with 2 Axes>"
      ]
     },
     "metadata": {},
     "output_type": "display_data"
    }
   ],
   "source": [
    "sent_plot=[]\n",
    "fav_plot=[]\n",
    "retweets_plot=[]\n",
    "for i in range(len(X_train)):\n",
    "    sent_plot.append(X_train[i]['sentiment_polarity'].mean())\n",
    "    fav_plot.append(X_train[i]['favorites'].mean())\n",
    "    retweets_plot.append(X_train[i]['retweets'].mean())\n",
    "    \n",
    "datfram=pd.DataFrame((sent_plot,fav_plot,retweets_plot,y_train),index=[\"sent\",\"fav\",\"rt\",\"y\"]).transpose()\n",
    "plt.imshow(datfram.corr())\n",
    "plt.colorbar()\n",
    "plt.show()"
   ]
  },
  {
   "cell_type": "code",
   "execution_count": 22,
   "metadata": {},
   "outputs": [
    {
     "data": {
      "image/png": "[encoded data removed]",
      "text/plain": [
       "<Figure size 640x480 with 2 Axes>"
      ]
     },
     "metadata": {},
     "output_type": "display_data"
    }
   ],
   "source": [
    "sent_plot=[]\n",
    "fav_plot=[]\n",
    "retweets_plot=[]\n",
    "for i in range(len(X_test)):\n",
    "    sent_plot.append(X_test[i]['sentiment_polarity'].mean())\n",
    "    fav_plot.append(X_test[i]['favorites'].mean())\n",
    "    retweets_plot.append(X_test[i]['retweets'].mean())\n",
    "    \n",
    "datfram=pd.DataFrame((sent_plot,fav_plot,retweets_plot,y_test),index=[\"sent\",\"fav\",\"rt\",\"y\"]).transpose()\n",
    "plt.imshow(datfram.corr())\n",
    "plt.colorbar()\n",
    "plt.show()"
   ]
  },
  {
   "cell_type": "code",
   "execution_count": 23,
   "metadata": {},
   "outputs": [
    {
     "data": {
      "text/plain": [
       "<matplotlib.collections.PathCollection at 0x7f7ad5ffe530>"
      ]
     },
     "execution_count": 23,
     "metadata": {},
     "output_type": "execute_result"
    },
    {
     "data": {
      "image/png": "[encoded data removed]",
      "text/plain": [
       "<Figure size 640x480 with 1 Axes>"
      ]
     },
     "metadata": {},
     "output_type": "display_data"
    }
   ],
   "source": [
    "plt.scatter(fav_plot,retweets_plot)"
   ]
  },
  {
   "attachments": {},
   "cell_type": "markdown",
   "metadata": {},
   "source": [
    "# Clustering Method"
   ]
  },
  {
   "cell_type": "code",
   "execution_count": 204,
   "metadata": {},
   "outputs": [
    {
     "name": "stdout",
     "output_type": "stream",
     "text": [
      "Collecting pymc3\n",
      "  Downloading pymc3-3.11.5-py3-none-any.whl (872 kB)\n",
      "\u001b[2K     \u001b[90m━━━━━━━━━━━━━━━━━━━━━━━━━━━━━━━━━━━━━━━\u001b[0m \u001b[32m872.2/872.2 kB\u001b[0m \u001b[31m1.8 MB/s\u001b[0m eta \u001b[36m0:00:00\u001b[0m00:01\u001b[0m00:01\u001b[0m\n",
      "\u001b[?25hCollecting numpy<1.22.2,>=1.15.0\n",
      "  Downloading numpy-1.22.1-cp310-cp310-macosx_10_9_x86_64.whl (17.7 MB)\n",
      "\u001b[2K     \u001b[90m━━━━━━━━━━━━━━━━━━━━━━━━━━━━━━━━━━━━━━━━\u001b[0m \u001b[32m17.7/17.7 MB\u001b[0m \u001b[31m3.2 MB/s\u001b[0m eta \u001b[36m0:00:00\u001b[0m00:01\u001b[0m00:01\u001b[0m\n",
      "\u001b[?25hRequirement already satisfied: dill in /Users/yohanismael/opt/anaconda3/envs/tf/lib/python3.10/site-packages (from pymc3) (0.3.6)\n",
      "Requirement already satisfied: pandas>=0.24.0 in /Users/yohanismael/opt/anaconda3/envs/tf/lib/python3.10/site-packages (from pymc3) (1.4.4)\n",
      "Collecting theano-pymc==1.1.2\n",
      "  Downloading Theano-PyMC-1.1.2.tar.gz (1.8 MB)\n",
      "\u001b[2K     \u001b[90m━━━━━━━━━━━━━━━━━━━━━━━━━━━━━━━━━━━━━━━━\u001b[0m \u001b[32m1.8/1.8 MB\u001b[0m \u001b[31m2.4 MB/s\u001b[0m eta \u001b[36m0:00:00\u001b[0m00:01\u001b[0m00:01\u001b[0m\n",
      "\u001b[?25h  Preparing metadata (setup.py) ... \u001b[?25ldone\n",
      "\u001b[?25hRequirement already satisfied: cachetools>=4.2.1 in /Users/yohanismael/opt/anaconda3/envs/tf/lib/python3.10/site-packages (from pymc3) (4.2.2)\n",
      "Collecting fastprogress>=0.2.0\n",
      "  Downloading fastprogress-1.0.3-py3-none-any.whl (12 kB)\n",
      "Requirement already satisfied: scipy<1.8.0,>=1.7.3 in /Users/yohanismael/opt/anaconda3/envs/tf/lib/python3.10/site-packages (from pymc3) (1.7.3)\n",
      "Requirement already satisfied: typing-extensions>=3.7.4 in /Users/yohanismael/opt/anaconda3/envs/tf/lib/python3.10/site-packages (from pymc3) (4.4.0)\n",
      "Collecting semver>=2.13.0\n",
      "  Downloading semver-2.13.0-py2.py3-none-any.whl (12 kB)\n",
      "Collecting patsy>=0.5.1\n",
      "  Downloading patsy-0.5.3-py2.py3-none-any.whl (233 kB)\n",
      "\u001b[2K     \u001b[90m━━━━━━━━━━━━━━━━━━━━━━━━━━━━━━━━━━━━━━━\u001b[0m \u001b[32m233.8/233.8 kB\u001b[0m \u001b[31m2.9 MB/s\u001b[0m eta \u001b[36m0:00:00\u001b[0ma \u001b[36m0:00:01\u001b[0m\n",
      "\u001b[?25hCollecting deprecat\n",
      "  Downloading deprecat-2.1.1-py2.py3-none-any.whl (9.8 kB)\n",
      "Collecting arviz>=0.11.0\n",
      "  Downloading arviz-0.14.0-py3-none-any.whl (1.7 MB)\n",
      "\u001b[2K     \u001b[90m━━━━━━━━━━━━━━━━━━━━━━━━━━━━━━━━━━━━━━━━\u001b[0m \u001b[32m1.7/1.7 MB\u001b[0m \u001b[31m1.0 MB/s\u001b[0m eta \u001b[36m0:00:00\u001b[0m00:01\u001b[0m00:01\u001b[0m0m\n",
      "\u001b[?25hCollecting filelock\n",
      "  Downloading filelock-3.9.0-py3-none-any.whl (9.7 kB)\n",
      "Collecting arviz>=0.11.0\n",
      "  Downloading arviz-0.13.0-py3-none-any.whl (1.7 MB)\n",
      "\u001b[2K     \u001b[90m━━━━━━━━━━━━━━━━━━━━━━━━━━━━━━━━━━━━━━━━\u001b[0m \u001b[32m1.7/1.7 MB\u001b[0m \u001b[31m1.5 MB/s\u001b[0m eta \u001b[36m0:00:00\u001b[0ma \u001b[36m0:00:01\u001b[0m\n",
      "\u001b[?25h  Downloading arviz-0.12.1-py3-none-any.whl (1.6 MB)\n",
      "\u001b[2K     \u001b[90m━━━━━━━━━━━━━━━━━━━━━━━━━━━━━━━━━━━━━━━━\u001b[0m \u001b[32m1.6/1.6 MB\u001b[0m \u001b[31m1.1 MB/s\u001b[0m eta \u001b[36m0:00:00\u001b[0m00:01\u001b[0m00:01\u001b[0m\n",
      "\u001b[?25hCollecting netcdf4\n",
      "  Downloading netCDF4-1.6.2-cp310-cp310-macosx_10_9_x86_64.whl (4.1 MB)\n",
      "\u001b[2K     \u001b[90m━━━━━━━━━━━━━━━━━━━━━━━━━━━━━━━━━━━━━━━━\u001b[0m \u001b[32m4.1/4.1 MB\u001b[0m \u001b[31m2.1 MB/s\u001b[0m eta \u001b[36m0:00:00\u001b[0m00:01\u001b[0m00:01\u001b[0m\n",
      "\u001b[?25hRequirement already satisfied: setuptools>=38.4 in /Users/yohanismael/opt/anaconda3/envs/tf/lib/python3.10/site-packages (from arviz>=0.11.0->pymc3) (65.6.3)\n",
      "Requirement already satisfied: matplotlib>=3.0 in /Users/yohanismael/opt/anaconda3/envs/tf/lib/python3.10/site-packages (from arviz>=0.11.0->pymc3) (3.5.2)\n",
      "Collecting xarray-einstats>=0.2\n",
      "  Downloading xarray_einstats-0.5.1-py3-none-any.whl (28 kB)\n",
      "Collecting xarray>=0.16.1\n",
      "  Downloading xarray-2023.1.0-py3-none-any.whl (973 kB)\n",
      "\u001b[2K     \u001b[90m━━━━━━━━━━━━━━━━━━━━━━━━━━━━━━━━━━━━━━━\u001b[0m \u001b[32m973.1/973.1 kB\u001b[0m \u001b[31m1.3 MB/s\u001b[0m eta \u001b[36m0:00:00\u001b[0ma \u001b[36m0:00:01\u001b[0m\n",
      "\u001b[?25hRequirement already satisfied: packaging in /Users/yohanismael/opt/anaconda3/envs/tf/lib/python3.10/site-packages (from arviz>=0.11.0->pymc3) (22.0)\n",
      "Requirement already satisfied: python-dateutil>=2.8.1 in /Users/yohanismael/opt/anaconda3/envs/tf/lib/python3.10/site-packages (from pandas>=0.24.0->pymc3) (2.8.2)\n",
      "Requirement already satisfied: pytz>=2020.1 in /Users/yohanismael/opt/anaconda3/envs/tf/lib/python3.10/site-packages (from pandas>=0.24.0->pymc3) (2022.7.1)\n",
      "Requirement already satisfied: six in /Users/yohanismael/opt/anaconda3/envs/tf/lib/python3.10/site-packages (from patsy>=0.5.1->pymc3) (1.16.0)\n",
      "Requirement already satisfied: wrapt<2,>=1.10 in /Users/yohanismael/opt/anaconda3/envs/tf/lib/python3.10/site-packages (from deprecat->pymc3) (1.14.1)\n",
      "Requirement already satisfied: pyparsing>=2.2.1 in /Users/yohanismael/opt/anaconda3/envs/tf/lib/python3.10/site-packages (from matplotlib>=3.0->arviz>=0.11.0->pymc3) (3.0.9)\n",
      "Requirement already satisfied: fonttools>=4.22.0 in /Users/yohanismael/opt/anaconda3/envs/tf/lib/python3.10/site-packages (from matplotlib>=3.0->arviz>=0.11.0->pymc3) (4.25.0)\n",
      "Requirement already satisfied: kiwisolver>=1.0.1 in /Users/yohanismael/opt/anaconda3/envs/tf/lib/python3.10/site-packages (from matplotlib>=3.0->arviz>=0.11.0->pymc3) (1.4.4)\n",
      "Requirement already satisfied: cycler>=0.10 in /Users/yohanismael/opt/anaconda3/envs/tf/lib/python3.10/site-packages (from matplotlib>=3.0->arviz>=0.11.0->pymc3) (0.11.0)\n",
      "Requirement already satisfied: pillow>=6.2.0 in /Users/yohanismael/opt/anaconda3/envs/tf/lib/python3.10/site-packages (from matplotlib>=3.0->arviz>=0.11.0->pymc3) (9.3.0)\n",
      "Collecting cftime\n",
      "  Downloading cftime-1.6.2-cp310-cp310-macosx_10_9_x86_64.whl (246 kB)\n",
      "\u001b[2K     \u001b[90m━━━━━━━━━━━━━━━━━━━━━━━━━━━━━━━━━━━━━\u001b[0m \u001b[32m246.1/246.1 kB\u001b[0m \u001b[31m853.0 kB/s\u001b[0m eta \u001b[36m0:00:00\u001b[0ma \u001b[36m0:00:01\u001b[0m\n",
      "\u001b[?25hBuilding wheels for collected packages: theano-pymc\n",
      "  Building wheel for theano-pymc (setup.py) ... \u001b[?25ldone\n",
      "\u001b[?25h  Created wheel for theano-pymc: filename=Theano_PyMC-1.1.2-py3-none-any.whl size=1529963 sha256=8857468645c8c91fca3339d2549ace0014d7d6518c6c76963034c4bee6e42a2d\n",
      "  Stored in directory: /Users/yohanismael/Library/Caches/pip/wheels/64/f0/df/ffe768953672b23e98b26a5ca9964da15d5b6331cc4808999e\n",
      "Successfully built theano-pymc\n",
      "Installing collected packages: semver, numpy, filelock, fastprogress, deprecat, patsy, cftime, xarray, theano-pymc, netcdf4, xarray-einstats, arviz, pymc3\n",
      "  Attempting uninstall: numpy\n",
      "    Found existing installation: numpy 1.22.3\n",
      "    Uninstalling numpy-1.22.3:\n",
      "      Successfully uninstalled numpy-1.22.3\n",
      "\u001b[31mERROR: pip's dependency resolver does not currently take into account all the packages that are installed. This behaviour is the source of the following dependency conflicts.\n",
      "tensorflow 2.9.1 requires libclang>=13.0.0, which is not installed.\n",
      "tensorflow 2.9.1 requires tensorflow-io-gcs-filesystem>=0.23.1, which is not installed.\n",
      "tensorflow 2.9.1 requires flatbuffers<2,>=1.12, but you have flatbuffers 20210226132247 which is incompatible.\n",
      "tensorflow 2.9.1 requires protobuf<3.20,>=3.9.2, but you have protobuf 3.20.1 which is incompatible.\u001b[0m\u001b[31m\n",
      "\u001b[0mSuccessfully installed arviz-0.12.1 cftime-1.6.2 deprecat-2.1.1 fastprogress-1.0.3 filelock-3.9.0 netcdf4-1.6.2 numpy-1.22.1 patsy-0.5.3 pymc3-3.11.5 semver-2.13.0 theano-pymc-1.1.2 xarray-2023.1.0 xarray-einstats-0.5.1\n",
      "Note: you may need to restart the kernel to use updated packages.\n"
     ]
    }
   ],
   "source": [
    "%pip install pymc3"
   ]
  },
  {
   "cell_type": "code",
   "execution_count": 2,
   "metadata": {},
   "outputs": [],
   "source": [
    "import nltk\n",
    "\n",
    "import pandas as pd\n",
    "import numpy as np\n",
    "import matplotlib.pyplot as plt\n",
    "from textblob import TextBlob\n",
    "from datetime import datetime\n",
    "\n",
    "import gensim\n",
    "from gensim.models import Word2Vec\n",
    "\n",
    "from datetime import datetime"
   ]
  },
  {
   "cell_type": "code",
   "execution_count": 3,
   "metadata": {},
   "outputs": [],
   "source": [
    "def str_to_timestamp(s):\n",
    "    out=[]\n",
    "\n",
    "    s2=str.split(s,'+')\n",
    "    s3=str.split(s2[0],' ')\n",
    "\n",
    "    s4=str.split(s3[0],'-')\n",
    "\n",
    "    s5=str.split(s3[1],':')\n",
    "    year=int(s4[0])\n",
    "    month=int(s4[1])\n",
    "    day=int(s4[2])\n",
    "    hour=int(s5[0])\n",
    "    minute=int(s5[1])\n",
    "    second=int(s5[2])\n",
    "\n",
    "    return(datetime(year=year,month=month,day=day,hour=hour,minute=minute,second=second).timestamp())\n",
    "\n",
    "from nltk.tokenize import word_tokenize\n",
    "\n",
    "def NumStr(mot):\n",
    "    res = ''.join(filter(lambda i: i.isdigit(), mot))\n",
    "    if (res==''):\n",
    "        return False\n",
    "    return True\n",
    "\n",
    "\n",
    "def extract_keywords(text):\n",
    "    # Tokenize the text\n",
    "    tokens = word_tokenize(text)\n",
    "\n",
    "    # Apply part-of-speech tagging\n",
    "    tagged_tokens = nltk.pos_tag(tokens)\n",
    "\n",
    "    # Select only nouns and adjectives\n",
    "    keywords = [word for word, pos in tagged_tokens if (pos in ['NN', 'NNS', 'NNP', 'NNPS', 'JJ', 'JJR', 'JJS'] and not NumStr(word))]\n",
    "\n",
    "    return keywords"
   ]
  },
  {
   "cell_type": "code",
   "execution_count": 4,
   "metadata": {},
   "outputs": [
    {
     "name": "stdout",
     "output_type": "stream",
     "text": [
      "start\n",
      "end of keywords\n",
      "end of timestamps\n"
     ]
    }
   ],
   "source": [
    "data=pd.read_csv('data/minnesota.csv')\n",
    "df=data\n",
    "print('start')\n",
    "\n",
    "df['keywords'] = df['tweet_text'].apply(extract_keywords)\n",
    "\n",
    "print('end of keywords')\n",
    "\n",
    "df['timestamps']=df['tweet_created_dt'].apply(str_to_timestamp)\n",
    "df['timestamps']=df['timestamps']-df['timestamps'].min()\n",
    "\n",
    "print('end of timestamps')\n",
    "\n",
    "clean_data=df"
   ]
  },
  {
   "cell_type": "code",
   "execution_count": 5,
   "metadata": {},
   "outputs": [],
   "source": [
    "def sliding_window(df,size,sliding):\n",
    "    X_out=[]\n",
    "\n",
    "    for time in range(0,int(df['timestamps'].max()),sliding):\n",
    "        o=df[df.timestamps<time+size]\n",
    "        X_out.append(o[o.timestamps>time])\n",
    "\n",
    "        print(\"%.3f\" % (time/int(df['timestamps'].max())), end=\"\\r\")\n",
    "    print(\"finish\")\n",
    "    return X_out\n",
    "\n",
    "def dfToListofVectors(df):\n",
    "    out=[]\n",
    "    for l_vect in df.vectors:\n",
    "        for v in l_vect:\n",
    "            \n",
    "            out.append(v)\n",
    "            \n",
    "    return out"
   ]
  },
  {
   "cell_type": "code",
   "execution_count": 7,
   "metadata": {},
   "outputs": [
    {
     "name": "stdout",
     "output_type": "stream",
     "text": [
      "finish\n"
     ]
    }
   ],
   "source": [
    "time_day=60*60*24\n",
    "L=sliding_window(clean_data,time_day*4,time_day)\n",
    "first=L[0]"
   ]
  },
  {
   "cell_type": "code",
   "execution_count": 8,
   "metadata": {},
   "outputs": [],
   "source": [
    "model = Word2Vec(sentences=first['keywords'], vector_size=100, window=0, min_count=0, workers=0)\n",
    "model.save(\"Word2vec_models/test_word2vec.model\")\n",
    "word_vectors = model.wv\n",
    "del model\n",
    "\n",
    "def word2vectors(l):\n",
    "    try:\n",
    "        x = word_vectors[l]\n",
    "    except KeyError:\n",
    "        return \n",
    "    return x\n",
    "    \n",
    "\n",
    "def list2vectors(L):\n",
    "    out=[]\n",
    "    for i in L:\n",
    "        out.append(word2vectors(i))\n",
    "    return(np.asarray(out,dtype=object))"
   ]
  },
  {
   "cell_type": "code",
   "execution_count": 9,
   "metadata": {},
   "outputs": [],
   "source": [
    "\n",
    "i=0\n",
    "for keywords in first.keywords:\n",
    "    for keyword in keywords:\n",
    "        i+=1\n",
    "\n",
    "arr=np.ndarray((i,100))\n",
    "i=0\n",
    "for keywords in first.keywords:\n",
    "    for keyword in keywords:\n",
    "        arr[i]=word_vectors[keyword]\n",
    "        i+=1\n"
   ]
  },
  {
   "cell_type": "code",
   "execution_count": null,
   "metadata": {},
   "outputs": [
    {
     "data": {
      "text/plain": [
       "array([[-8.24267790e-03,  9.29935463e-03, -1.97660920e-04, ...,\n",
       "        -7.44758733e-03, -2.50607380e-03, -5.54986345e-03],\n",
       "       [-8.61968752e-03,  3.66573804e-03,  5.18988352e-03, ...,\n",
       "        -2.39151483e-03, -9.51009430e-03,  4.50587878e-03],\n",
       "       [-8.24267790e-03,  9.29935463e-03, -1.97660920e-04, ...,\n",
       "        -7.44758733e-03, -2.50607380e-03, -5.54986345e-03],\n",
       "       ...,\n",
       "       [-2.90274736e-03,  6.22717477e-03, -4.34196008e-05, ...,\n",
       "         2.63973488e-04, -6.94126822e-03, -6.12890726e-05],\n",
       "       [ 1.58984424e-03, -5.95314149e-03, -6.05843170e-03, ...,\n",
       "         7.60145904e-03, -5.91433886e-03, -4.14924609e-04],\n",
       "       [-8.61968752e-03,  3.66573804e-03,  5.18988352e-03, ...,\n",
       "        -2.39151483e-03, -9.51009430e-03,  4.50587878e-03]])"
      ]
     },
     "execution_count": 185,
     "metadata": {},
     "output_type": "execute_result"
    }
   ],
   "source": [
    "arr"
   ]
  },
  {
   "attachments": {},
   "cell_type": "markdown",
   "metadata": {},
   "source": [
    "## using sklearn"
   ]
  },
  {
   "cell_type": "code",
   "execution_count": 189,
   "metadata": {},
   "outputs": [],
   "source": [
    "from sklearn.cluster import k_means\n",
    "X=arr\n",
    "kmeans=k_means(X,n_clusters=10,n_init='auto')"
   ]
  },
  {
   "cell_type": "code",
   "execution_count": 190,
   "metadata": {},
   "outputs": [],
   "source": [
    "centroids=kmeans[0]"
   ]
  },
  {
   "cell_type": "code",
   "execution_count": 202,
   "metadata": {},
   "outputs": [
    {
     "data": {
      "text/plain": [
       "[('blacklivesmatter', 1.0000001192092896),\n",
       " ('gods', 0.21469098329544067),\n",
       " ('love', 0.18890605866909027),\n",
       " ('day', 0.18855658173561096),\n",
       " ('crickets', 0.18359005451202393),\n",
       " ('instagood', 0.18345923721790314),\n",
       " ('equity', 0.18069222569465637),\n",
       " ('bad', 0.17804878950119019),\n",
       " ('boys', 0.1716608703136444),\n",
       " ('years', 0.1696905791759491)]"
      ]
     },
     "execution_count": 202,
     "metadata": {},
     "output_type": "execute_result"
    }
   ],
   "source": [
    "word_vectors.similar_by_vector(centroids[2])"
   ]
  },
  {
   "attachments": {},
   "cell_type": "markdown",
   "metadata": {},
   "source": [
    "## using pymc3"
   ]
  },
  {
   "cell_type": "code",
   "execution_count": 10,
   "metadata": {},
   "outputs": [],
   "source": [
    "import numpy as np\n",
    "import pymc3 as pm\n",
    "\n",
    "def dirichlet_process_event_mixture_model(data, alpha=1.0, n_samples=1000, random_seed=0):\n",
    "    \"\"\"Implements a Dirichlet Process Event Mixture Model (DPEMM) for event extraction.\n",
    "\n",
    "    Args:\n",
    "    data: numpy array with shape (n_events, n_features)\n",
    "    alpha: scalar value for the concentration parameter of the Dirichlet process prior\n",
    "    n_samples: number of samples to draw from the posterior distribution\n",
    "    random_seed: seed for the random number generator\n",
    "\n",
    "    Returns:\n",
    "    trace: a PyMC3 trace object with the posterior samples\n",
    "    \"\"\"\n",
    "    n_events, n_features = data.shape\n",
    "    with pm.Model() as model:\n",
    "        # Dirichlet process prior\n",
    "        theta = pm.Dirichlet(\"theta\", a=np.ones(n_features) * alpha, shape=(1, n_features))\n",
    "\n",
    "        # Categorical likelihood for each event\n",
    "        category = pm.Categorical(\"category\", p=theta, shape=n_events)\n",
    "\n",
    "        # Gaussian likelihood for each feature given the category\n",
    "        mu = pm.Normal(\"mu\", mu=0, sigma=10, shape=(n_features,))\n",
    "        sigma = pm.HalfNormal(\"sigma\", sigma=10, shape=(n_features,))\n",
    "        obs = pm.Normal(\"obs\", mu=mu[category], sigma=sigma[category], observed=data)\n",
    "\n",
    "    np.random.seed(random_seed)\n",
    "    with model:\n",
    "        trace = pm.sample(n_samples, chains=1)\n",
    "\n",
    "    return trace\n"
   ]
  },
  {
   "cell_type": "code",
   "execution_count": 11,
   "metadata": {},
   "outputs": [],
   "source": [
    "def extract_clusters(trace, n_samples=100):\n",
    "    \"\"\"Extracts the number of clusters and their centroids from the DPEMM trace.\n",
    "\n",
    "    Args:\n",
    "    trace: PyMC3 trace object from the DPEMM model\n",
    "    n_samples: number of posterior samples to use\n",
    "\n",
    "    Returns:\n",
    "    n_clusters: number of clusters\n",
    "    centroids: numpy array with shape (n_clusters, n_features) with the centroids of each cluster\n",
    "    \"\"\"\n",
    "    n_features = trace[\"mu\"].shape[1]\n",
    "    categories = trace[\"category\"][-n_samples:]\n",
    "    n_clusters = len(np.unique(categories))\n",
    "    centroids = np.zeros((n_clusters, n_features))\n",
    "    for i in range(n_clusters):\n",
    "        idx = categories == i\n",
    "        centroids[i] = np.mean(trace[\"mu\"][-n_samples:][idx], axis=0)\n",
    "\n",
    "    return n_clusters, centroids\n"
   ]
  },
  {
   "cell_type": "code",
   "execution_count": 18,
   "metadata": {},
   "outputs": [
    {
     "ename": "ValueError",
     "evalue": "Input dimension mis-match. (input[0].shape[1] = 100, input[1].shape[1] = 298)",
     "output_type": "error",
     "traceback": [
      "\u001b[0;31m---------------------------------------------------------------------------\u001b[0m",
      "\u001b[0;31mValueError\u001b[0m                                Traceback (most recent call last)",
      "Cell \u001b[0;32mIn[18], line 1\u001b[0m\n\u001b[0;32m----> 1\u001b[0m trace\u001b[39m=\u001b[39mdirichlet_process_event_mixture_model(arr)\n",
      "Cell \u001b[0;32mIn[10], line 27\u001b[0m, in \u001b[0;36mdirichlet_process_event_mixture_model\u001b[0;34m(data, alpha, n_samples, random_seed)\u001b[0m\n\u001b[1;32m     25\u001b[0m     mu \u001b[39m=\u001b[39m pm\u001b[39m.\u001b[39mNormal(\u001b[39m\"\u001b[39m\u001b[39mmu\u001b[39m\u001b[39m\"\u001b[39m, mu\u001b[39m=\u001b[39m\u001b[39m0\u001b[39m, sigma\u001b[39m=\u001b[39m\u001b[39m10\u001b[39m, shape\u001b[39m=\u001b[39m(n_features,))\n\u001b[1;32m     26\u001b[0m     sigma \u001b[39m=\u001b[39m pm\u001b[39m.\u001b[39mHalfNormal(\u001b[39m\"\u001b[39m\u001b[39msigma\u001b[39m\u001b[39m\"\u001b[39m, sigma\u001b[39m=\u001b[39m\u001b[39m10\u001b[39m, shape\u001b[39m=\u001b[39m(n_features,))\n\u001b[0;32m---> 27\u001b[0m     obs \u001b[39m=\u001b[39m pm\u001b[39m.\u001b[39;49mNormal(\u001b[39m\"\u001b[39;49m\u001b[39mobs\u001b[39;49m\u001b[39m\"\u001b[39;49m, mu\u001b[39m=\u001b[39;49mmu[category], sigma\u001b[39m=\u001b[39;49msigma[category], observed\u001b[39m=\u001b[39;49mdata)\n\u001b[1;32m     29\u001b[0m np\u001b[39m.\u001b[39mrandom\u001b[39m.\u001b[39mseed(random_seed)\n\u001b[1;32m     30\u001b[0m \u001b[39mwith\u001b[39;00m model:\n",
      "File \u001b[0;32m~/opt/anaconda3/envs/pymc3_env/lib/python3.9/site-packages/pymc3/distributions/distribution.py:122\u001b[0m, in \u001b[0;36mDistribution.__new__\u001b[0;34m(cls, name, *args, **kwargs)\u001b[0m\n\u001b[1;32m    120\u001b[0m \u001b[39melse\u001b[39;00m:\n\u001b[1;32m    121\u001b[0m     dist \u001b[39m=\u001b[39m \u001b[39mcls\u001b[39m\u001b[39m.\u001b[39mdist(\u001b[39m*\u001b[39margs, \u001b[39m*\u001b[39m\u001b[39m*\u001b[39mkwargs)\n\u001b[0;32m--> 122\u001b[0m \u001b[39mreturn\u001b[39;00m model\u001b[39m.\u001b[39;49mVar(name, dist, data, total_size, dims\u001b[39m=\u001b[39;49mdims)\n",
      "File \u001b[0;32m~/opt/anaconda3/envs/pymc3_env/lib/python3.9/site-packages/pymc3/model.py:1177\u001b[0m, in \u001b[0;36mModel.Var\u001b[0;34m(self, name, dist, data, total_size, dims)\u001b[0m\n\u001b[1;32m   1175\u001b[0m \u001b[39melse\u001b[39;00m:\n\u001b[1;32m   1176\u001b[0m     \u001b[39mwith\u001b[39;00m \u001b[39mself\u001b[39m:\n\u001b[0;32m-> 1177\u001b[0m         var \u001b[39m=\u001b[39m ObservedRV(\n\u001b[1;32m   1178\u001b[0m             name\u001b[39m=\u001b[39;49mname,\n\u001b[1;32m   1179\u001b[0m             data\u001b[39m=\u001b[39;49mdata,\n\u001b[1;32m   1180\u001b[0m             distribution\u001b[39m=\u001b[39;49mdist,\n\u001b[1;32m   1181\u001b[0m             total_size\u001b[39m=\u001b[39;49mtotal_size,\n\u001b[1;32m   1182\u001b[0m             model\u001b[39m=\u001b[39;49m\u001b[39mself\u001b[39;49m,\n\u001b[1;32m   1183\u001b[0m         )\n\u001b[1;32m   1184\u001b[0m     \u001b[39mself\u001b[39m\u001b[39m.\u001b[39mobserved_RVs\u001b[39m.\u001b[39mappend(var)\n\u001b[1;32m   1185\u001b[0m     \u001b[39mif\u001b[39;00m var\u001b[39m.\u001b[39mmissing_values:\n",
      "File \u001b[0;32m~/opt/anaconda3/envs/pymc3_env/lib/python3.9/site-packages/pymc3/model.py:1828\u001b[0m, in \u001b[0;36mObservedRV.__init__\u001b[0;34m(self, type, owner, index, name, data, distribution, total_size, model)\u001b[0m\n\u001b[1;32m   1825\u001b[0m data \u001b[39m=\u001b[39m as_tensor(data, name, model, distribution)\n\u001b[1;32m   1827\u001b[0m \u001b[39mself\u001b[39m\u001b[39m.\u001b[39mmissing_values \u001b[39m=\u001b[39m data\u001b[39m.\u001b[39mmissing_values\n\u001b[0;32m-> 1828\u001b[0m \u001b[39mself\u001b[39m\u001b[39m.\u001b[39mlogp_elemwiset \u001b[39m=\u001b[39m distribution\u001b[39m.\u001b[39;49mlogp(data)\n\u001b[1;32m   1829\u001b[0m \u001b[39m# The logp might need scaling in minibatches.\u001b[39;00m\n\u001b[1;32m   1830\u001b[0m \u001b[39m# This is done in `Factor`.\u001b[39;00m\n\u001b[1;32m   1831\u001b[0m \u001b[39mself\u001b[39m\u001b[39m.\u001b[39mlogp_sum_unscaledt \u001b[39m=\u001b[39m distribution\u001b[39m.\u001b[39mlogp_sum(data)\n",
      "File \u001b[0;32m~/opt/anaconda3/envs/pymc3_env/lib/python3.9/site-packages/pymc3/distributions/continuous.py:535\u001b[0m, in \u001b[0;36mNormal.logp\u001b[0;34m(self, value)\u001b[0m\n\u001b[1;32m    532\u001b[0m tau \u001b[39m=\u001b[39m \u001b[39mself\u001b[39m\u001b[39m.\u001b[39mtau\n\u001b[1;32m    533\u001b[0m mu \u001b[39m=\u001b[39m \u001b[39mself\u001b[39m\u001b[39m.\u001b[39mmu\n\u001b[0;32m--> 535\u001b[0m \u001b[39mreturn\u001b[39;00m bound((\u001b[39m-\u001b[39mtau \u001b[39m*\u001b[39m (value \u001b[39m-\u001b[39;49m mu) \u001b[39m*\u001b[39m\u001b[39m*\u001b[39m \u001b[39m2\u001b[39m \u001b[39m+\u001b[39m tt\u001b[39m.\u001b[39mlog(tau \u001b[39m/\u001b[39m np\u001b[39m.\u001b[39mpi \u001b[39m/\u001b[39m \u001b[39m2.0\u001b[39m)) \u001b[39m/\u001b[39m \u001b[39m2.0\u001b[39m, sigma \u001b[39m>\u001b[39m \u001b[39m0\u001b[39m)\n",
      "File \u001b[0;32m~/opt/anaconda3/envs/pymc3_env/lib/python3.9/site-packages/theano/tensor/var.py:120\u001b[0m, in \u001b[0;36m_tensor_py_operators.__sub__\u001b[0;34m(self, other)\u001b[0m\n\u001b[1;32m    116\u001b[0m \u001b[39mdef\u001b[39;00m \u001b[39m__sub__\u001b[39m(\u001b[39mself\u001b[39m, other):\n\u001b[1;32m    117\u001b[0m     \u001b[39m# See explanation in __add__ for the error catched\u001b[39;00m\n\u001b[1;32m    118\u001b[0m     \u001b[39m# and the return value in that case\u001b[39;00m\n\u001b[1;32m    119\u001b[0m     \u001b[39mtry\u001b[39;00m:\n\u001b[0;32m--> 120\u001b[0m         \u001b[39mreturn\u001b[39;00m theano\u001b[39m.\u001b[39;49mtensor\u001b[39m.\u001b[39;49mbasic\u001b[39m.\u001b[39;49msub(\u001b[39mself\u001b[39;49m, other)\n\u001b[1;32m    121\u001b[0m     \u001b[39mexcept\u001b[39;00m (\u001b[39mNotImplementedError\u001b[39;00m, \u001b[39mTypeError\u001b[39;00m):\n\u001b[1;32m    122\u001b[0m         \u001b[39mreturn\u001b[39;00m \u001b[39mNotImplemented\u001b[39m\n",
      "File \u001b[0;32m~/opt/anaconda3/envs/pymc3_env/lib/python3.9/site-packages/theano/graph/op.py:253\u001b[0m, in \u001b[0;36mOp.__call__\u001b[0;34m(self, *inputs, **kwargs)\u001b[0m\n\u001b[1;32m    250\u001b[0m node \u001b[39m=\u001b[39m \u001b[39mself\u001b[39m\u001b[39m.\u001b[39mmake_node(\u001b[39m*\u001b[39minputs, \u001b[39m*\u001b[39m\u001b[39m*\u001b[39mkwargs)\n\u001b[1;32m    252\u001b[0m \u001b[39mif\u001b[39;00m config\u001b[39m.\u001b[39mcompute_test_value \u001b[39m!=\u001b[39m \u001b[39m\"\u001b[39m\u001b[39moff\u001b[39m\u001b[39m\"\u001b[39m:\n\u001b[0;32m--> 253\u001b[0m     compute_test_value(node)\n\u001b[1;32m    255\u001b[0m \u001b[39mif\u001b[39;00m \u001b[39mself\u001b[39m\u001b[39m.\u001b[39mdefault_output \u001b[39mis\u001b[39;00m \u001b[39mnot\u001b[39;00m \u001b[39mNone\u001b[39;00m:\n\u001b[1;32m    256\u001b[0m     rval \u001b[39m=\u001b[39m node\u001b[39m.\u001b[39moutputs[\u001b[39mself\u001b[39m\u001b[39m.\u001b[39mdefault_output]\n",
      "File \u001b[0;32m~/opt/anaconda3/envs/pymc3_env/lib/python3.9/site-packages/theano/graph/op.py:130\u001b[0m, in \u001b[0;36mcompute_test_value\u001b[0;34m(node)\u001b[0m\n\u001b[1;32m    127\u001b[0m thunk\u001b[39m.\u001b[39minputs \u001b[39m=\u001b[39m [storage_map[v] \u001b[39mfor\u001b[39;00m v \u001b[39min\u001b[39;00m node\u001b[39m.\u001b[39minputs]\n\u001b[1;32m    128\u001b[0m thunk\u001b[39m.\u001b[39moutputs \u001b[39m=\u001b[39m [storage_map[v] \u001b[39mfor\u001b[39;00m v \u001b[39min\u001b[39;00m node\u001b[39m.\u001b[39moutputs]\n\u001b[0;32m--> 130\u001b[0m required \u001b[39m=\u001b[39m thunk()\n\u001b[1;32m    131\u001b[0m \u001b[39massert\u001b[39;00m \u001b[39mnot\u001b[39;00m required  \u001b[39m# We provided all inputs\u001b[39;00m\n\u001b[1;32m    133\u001b[0m \u001b[39mfor\u001b[39;00m output \u001b[39min\u001b[39;00m node\u001b[39m.\u001b[39moutputs:\n\u001b[1;32m    134\u001b[0m     \u001b[39m# Check that the output has been computed\u001b[39;00m\n",
      "File \u001b[0;32m~/opt/anaconda3/envs/pymc3_env/lib/python3.9/site-packages/theano/graph/op.py:606\u001b[0m, in \u001b[0;36mCOp.make_c_thunk.<locals>.rval\u001b[0;34m()\u001b[0m\n\u001b[1;32m    605\u001b[0m \u001b[39mdef\u001b[39;00m \u001b[39mrval\u001b[39m():\n\u001b[0;32m--> 606\u001b[0m     thunk()\n\u001b[1;32m    607\u001b[0m     \u001b[39mfor\u001b[39;00m o \u001b[39min\u001b[39;00m node\u001b[39m.\u001b[39moutputs:\n\u001b[1;32m    608\u001b[0m         compute_map[o][\u001b[39m0\u001b[39m] \u001b[39m=\u001b[39m \u001b[39mTrue\u001b[39;00m\n",
      "File \u001b[0;32m~/opt/anaconda3/envs/pymc3_env/lib/python3.9/site-packages/theano/link/c/basic.py:1771\u001b[0m, in \u001b[0;36m_CThunk.__call__\u001b[0;34m(self)\u001b[0m\n\u001b[1;32m   1769\u001b[0m     \u001b[39mprint\u001b[39m(\u001b[39mself\u001b[39m\u001b[39m.\u001b[39merror_storage, file\u001b[39m=\u001b[39msys\u001b[39m.\u001b[39mstderr)\n\u001b[1;32m   1770\u001b[0m     \u001b[39mraise\u001b[39;00m\n\u001b[0;32m-> 1771\u001b[0m \u001b[39mraise\u001b[39;00m exc_value\u001b[39m.\u001b[39mwith_traceback(exc_trace)\n",
      "\u001b[0;31mValueError\u001b[0m: Input dimension mis-match. (input[0].shape[1] = 100, input[1].shape[1] = 298)"
     ]
    }
   ],
   "source": [
    "trace=dirichlet_process_event_mixture_model(arr)"
   ]
  },
  {
   "cell_type": "code",
   "execution_count": 16,
   "metadata": {},
   "outputs": [
    {
     "data": {
      "text/plain": [
       "(298, 100)"
      ]
     },
     "execution_count": 16,
     "metadata": {},
     "output_type": "execute_result"
    }
   ],
   "source": [
    "arr.shape"
   ]
  },
  {
   "cell_type": "code",
   "execution_count": null,
   "metadata": {},
   "outputs": [],
   "source": []
  }
 ],
 "metadata": {
  "kernelspec": {
   "display_name": "pymc3_env",
   "language": "python",
   "name": "python3"
  },
  "language_info": {
   "codemirror_mode": {
    "name": "ipython",
    "version": 3
   },
   "file_extension": ".py",
   "mimetype": "text/x-python",
   "name": "python",
   "nbconvert_exporter": "python",
   "pygments_lexer": "ipython3",
   "version": "3.9.16"
  },
  "orig_nbformat": 4,
  "vscode": {
   "interpreter": {
    "hash": "614d35bd09c59f686b0fcf2b2a99ee63822da37fda5d2b5cb2af5b6720aa78bc"
   }
  }
 },
 "nbformat": 4,
 "nbformat_minor": 2
}
