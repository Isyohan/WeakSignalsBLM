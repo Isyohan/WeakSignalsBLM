{
 "cells": [
  {
   "cell_type": "code",
   "execution_count": 1,
   "metadata": {},
   "outputs": [
    {
     "name": "stdout",
     "output_type": "stream",
     "text": [
      "Requirement already satisfied: textblob in /Users/yohanismael/opt/anaconda3/lib/python3.9/site-packages (0.17.1)\n",
      "Requirement already satisfied: nltk>=3.1 in /Users/yohanismael/opt/anaconda3/lib/python3.9/site-packages (from textblob) (3.7)\n",
      "Requirement already satisfied: tqdm in /Users/yohanismael/opt/anaconda3/lib/python3.9/site-packages (from nltk>=3.1->textblob) (4.64.0)\n",
      "Requirement already satisfied: joblib in /Users/yohanismael/opt/anaconda3/lib/python3.9/site-packages (from nltk>=3.1->textblob) (1.2.0)\n",
      "Requirement already satisfied: click in /Users/yohanismael/opt/anaconda3/lib/python3.9/site-packages (from nltk>=3.1->textblob) (8.1.3)\n",
      "Requirement already satisfied: regex>=2021.8.3 in /Users/yohanismael/opt/anaconda3/lib/python3.9/site-packages (from nltk>=3.1->textblob) (2022.3.15)\n",
      "Note: you may need to restart the kernel to use updated packages.\n",
      "[nltk_data] Downloading package brown to\n",
      "[nltk_data]     /Users/yohanismael/nltk_data...\n",
      "[nltk_data]   Package brown is already up-to-date!\n",
      "[nltk_data] Downloading package punkt to\n",
      "[nltk_data]     /Users/yohanismael/nltk_data...\n",
      "[nltk_data]   Package punkt is already up-to-date!\n",
      "[nltk_data] Downloading package wordnet to\n",
      "[nltk_data]     /Users/yohanismael/nltk_data...\n",
      "[nltk_data]   Package wordnet is already up-to-date!\n",
      "[nltk_data] Downloading package averaged_perceptron_tagger to\n",
      "[nltk_data]     /Users/yohanismael/nltk_data...\n",
      "[nltk_data]   Package averaged_perceptron_tagger is already up-to-\n",
      "[nltk_data]       date!\n",
      "[nltk_data] Downloading package conll2000 to\n",
      "[nltk_data]     /Users/yohanismael/nltk_data...\n",
      "[nltk_data]   Package conll2000 is already up-to-date!\n",
      "[nltk_data] Downloading package movie_reviews to\n",
      "[nltk_data]     /Users/yohanismael/nltk_data...\n",
      "[nltk_data]   Package movie_reviews is already up-to-date!\n",
      "Finished.\n",
      "Requirement already satisfied: nltk in /Users/yohanismael/opt/anaconda3/lib/python3.9/site-packages (3.7)\n",
      "Requirement already satisfied: tqdm in /Users/yohanismael/opt/anaconda3/lib/python3.9/site-packages (from nltk) (4.64.0)\n",
      "Requirement already satisfied: joblib in /Users/yohanismael/opt/anaconda3/lib/python3.9/site-packages (from nltk) (1.2.0)\n",
      "Requirement already satisfied: regex>=2021.8.3 in /Users/yohanismael/opt/anaconda3/lib/python3.9/site-packages (from nltk) (2022.3.15)\n",
      "Requirement already satisfied: click in /Users/yohanismael/opt/anaconda3/lib/python3.9/site-packages (from nltk) (8.1.3)\n",
      "Note: you may need to restart the kernel to use updated packages.\n",
      "Requirement already satisfied: gensim in /Users/yohanismael/opt/anaconda3/lib/python3.9/site-packages (4.3.0)\n",
      "Requirement already satisfied: FuzzyTM>=0.4.0 in /Users/yohanismael/opt/anaconda3/lib/python3.9/site-packages (from gensim) (2.0.5)\n",
      "Requirement already satisfied: numpy>=1.18.5 in /Users/yohanismael/opt/anaconda3/lib/python3.9/site-packages (from gensim) (1.23.4)\n",
      "Requirement already satisfied: scipy>=1.7.0 in /Users/yohanismael/opt/anaconda3/lib/python3.9/site-packages (from gensim) (1.9.3)\n",
      "Requirement already satisfied: smart-open>=1.8.1 in /Users/yohanismael/opt/anaconda3/lib/python3.9/site-packages (from gensim) (5.1.0)\n",
      "Requirement already satisfied: pyfume in /Users/yohanismael/opt/anaconda3/lib/python3.9/site-packages (from FuzzyTM>=0.4.0->gensim) (0.2.25)\n",
      "Requirement already satisfied: pandas in /Users/yohanismael/opt/anaconda3/lib/python3.9/site-packages (from FuzzyTM>=0.4.0->gensim) (1.5.1)\n",
      "Requirement already satisfied: pytz>=2020.1 in /Users/yohanismael/opt/anaconda3/lib/python3.9/site-packages (from pandas->FuzzyTM>=0.4.0->gensim) (2022.6)\n",
      "Requirement already satisfied: python-dateutil>=2.8.1 in /Users/yohanismael/opt/anaconda3/lib/python3.9/site-packages (from pandas->FuzzyTM>=0.4.0->gensim) (2.8.2)\n",
      "Requirement already satisfied: six>=1.5 in /Users/yohanismael/opt/anaconda3/lib/python3.9/site-packages (from python-dateutil>=2.8.1->pandas->FuzzyTM>=0.4.0->gensim) (1.16.0)\n",
      "Requirement already satisfied: simpful in /Users/yohanismael/opt/anaconda3/lib/python3.9/site-packages (from pyfume->FuzzyTM>=0.4.0->gensim) (2.9.0)\n",
      "Requirement already satisfied: fst-pso in /Users/yohanismael/opt/anaconda3/lib/python3.9/site-packages (from pyfume->FuzzyTM>=0.4.0->gensim) (1.8.1)\n",
      "Requirement already satisfied: miniful in /Users/yohanismael/opt/anaconda3/lib/python3.9/site-packages (from fst-pso->pyfume->FuzzyTM>=0.4.0->gensim) (0.0.6)\n",
      "Requirement already satisfied: requests in /Users/yohanismael/opt/anaconda3/lib/python3.9/site-packages (from simpful->pyfume->FuzzyTM>=0.4.0->gensim) (2.27.1)\n",
      "Requirement already satisfied: charset-normalizer~=2.0.0 in /Users/yohanismael/opt/anaconda3/lib/python3.9/site-packages (from requests->simpful->pyfume->FuzzyTM>=0.4.0->gensim) (2.0.4)\n",
      "Requirement already satisfied: urllib3<1.27,>=1.21.1 in /Users/yohanismael/opt/anaconda3/lib/python3.9/site-packages (from requests->simpful->pyfume->FuzzyTM>=0.4.0->gensim) (1.26.12)\n",
      "Requirement already satisfied: certifi>=2017.4.17 in /Users/yohanismael/opt/anaconda3/lib/python3.9/site-packages (from requests->simpful->pyfume->FuzzyTM>=0.4.0->gensim) (2021.10.8)\n",
      "Requirement already satisfied: idna<4,>=2.5 in /Users/yohanismael/opt/anaconda3/lib/python3.9/site-packages (from requests->simpful->pyfume->FuzzyTM>=0.4.0->gensim) (3.3)\n",
      "Note: you may need to restart the kernel to use updated packages.\n"
     ]
    }
   ],
   "source": [
    "%pip install -U textblob\n",
    "!python -m textblob.download_corpora\n",
    "\n",
    "%pip install nltk\n",
    "\n",
    "%pip install --upgrade gensim"
   ]
  },
  {
   "cell_type": "code",
   "execution_count": 2,
   "metadata": {},
   "outputs": [
    {
     "data": {
      "text/markdown": [
       "# Start Coding"
      ],
      "text/plain": [
       "<IPython.core.display.Markdown object>"
      ]
     },
     "metadata": {},
     "output_type": "display_data"
    }
   ],
   "source": [
    "import nltk\n",
    "\n",
    "import pandas as pd\n",
    "import numpy as np\n",
    "import matplotlib.pyplot as plt\n",
    "from textblob import TextBlob\n",
    "from datetime import datetime\n",
    "\n",
    "import gensim\n",
    "from gensim.models import Word2Vec\n",
    "\n",
    "from datetime import datetime\n",
    "\n",
    "from IPython.display import Markdown, display\n",
    "string = '# Start'\n",
    "display(Markdown(string+' Coding'))"
   ]
  },
  {
   "cell_type": "code",
   "execution_count": 3,
   "metadata": {},
   "outputs": [],
   "source": [
    "def str_to_timestamp(s):\n",
    "    out=[]\n",
    "\n",
    "    s2=str.split(s,'+')\n",
    "    s3=str.split(s2[0],' ')\n",
    "\n",
    "    s4=str.split(s3[0],'-')\n",
    "\n",
    "    s5=str.split(s3[1],':')\n",
    "    year=int(s4[0])\n",
    "    month=int(s4[1])\n",
    "    day=int(s4[2])\n",
    "    hour=int(s5[0])\n",
    "    minute=int(s5[1])\n",
    "    second=int(s5[2])\n",
    "\n",
    "    return(datetime(year=year,month=month,day=day,hour=hour,minute=minute,second=second).timestamp())\n",
    "\n",
    "from nltk.tokenize import word_tokenize\n",
    "\n",
    "def NumStr(mot):\n",
    "    res = ''.join(filter(lambda i: i.isdigit(), mot))\n",
    "    if (res==''):\n",
    "        return False\n",
    "    return True\n",
    "\n",
    "\n",
    "def extract_keywords(text):\n",
    "    # Tokenize the text\n",
    "    tokens = word_tokenize(text)\n",
    "\n",
    "    # Apply part-of-speech tagging\n",
    "    tagged_tokens = nltk.pos_tag(tokens)\n",
    "\n",
    "    # Select only nouns and adjectives\n",
    "    keywords = [word for word, pos in tagged_tokens if (pos in ['NN', 'NNS', 'NNP', 'NNPS', 'JJ', 'JJR', 'JJS'] and not NumStr(word))]\n",
    "\n",
    "    return keywords\n",
    "\n",
    "def extract_sentiment_polarity(text):\n",
    "    blob=TextBlob(text)\n",
    "    return(blob.sentiment.polarity)"
   ]
  },
  {
   "cell_type": "code",
   "execution_count": 4,
   "metadata": {},
   "outputs": [
    {
     "name": "stdout",
     "output_type": "stream",
     "text": [
      "start\n",
      "end of keywords\n",
      "end of polarity\n",
      "end of timestamps\n"
     ]
    }
   ],
   "source": [
    "data=pd.read_csv('data/minnesota.csv')\n",
    "df=data\n",
    "print('start')\n",
    "\n",
    "df['keywords'] = df['tweet_text'].apply(extract_keywords)\n",
    "\n",
    "print('end of keywords')\n",
    "\n",
    "df['sentiment_polarity']=df['tweet_text'].apply(extract_sentiment_polarity)\n",
    "\n",
    "print('end of polarity')\n",
    "\n",
    "df['timestamps']=df['tweet_created_dt'].apply(str_to_timestamp)\n",
    "df['timestamps']=df['timestamps']-df['timestamps'].min()\n",
    "\n",
    "print('end of timestamps')\n",
    "\n",
    "clean_data=df"
   ]
  },
  {
   "cell_type": "code",
   "execution_count": 5,
   "metadata": {},
   "outputs": [],
   "source": [
    "def sliding_window(df,size,sliding):\n",
    "    X_out=[]\n",
    "\n",
    "    for time in range(0,int(df['timestamps'].max()),sliding):\n",
    "        o=df[df.timestamps<time+size]\n",
    "        X_out.append(o[o.timestamps>time])\n",
    "\n",
    "        print(\"%.3f\" % (time/int(df['timestamps'].max())), end=\"\\r\")\n",
    "    print(\"finish\")\n",
    "    return X_out[:-1]\n",
    "\n",
    "def dfToListofVectors(df):\n",
    "    out=[]\n",
    "    for l_vect in df.vectors:\n",
    "        for v in l_vect:\n",
    "            \n",
    "            out.append(v)\n",
    "            \n",
    "    return out"
   ]
  },
  {
   "cell_type": "code",
   "execution_count": 7,
   "metadata": {},
   "outputs": [
    {
     "name": "stdout",
     "output_type": "stream",
     "text": [
      "finish\n"
     ]
    }
   ],
   "source": [
    "time_day=60*60*24\n",
    "L=sliding_window(clean_data,time_day*4,time_day)\n",
    "first=L[0]"
   ]
  },
  {
   "cell_type": "code",
   "execution_count": 8,
   "metadata": {},
   "outputs": [],
   "source": [
    "vector_size=100\n",
    "model = Word2Vec(sentences=first['keywords'], vector_size=vector_size, window=0, min_count=0, workers=0)\n",
    "model.save(\"Word2vec_models/test_word2vec.model\")\n",
    "word_vectors = model.wv"
   ]
  },
  {
   "cell_type": "code",
   "execution_count": 9,
   "metadata": {},
   "outputs": [],
   "source": [
    "i=0\n",
    "for keywords in first.keywords:\n",
    "    for keyword in keywords:\n",
    "        i+=1\n",
    "\n",
    "arr=np.ndarray((i,vector_size))\n",
    "i=0\n",
    "for keywords in first.keywords:\n",
    "\n",
    "    for keyword in keywords:\n",
    "        \n",
    "        arr[i]=word_vectors[keyword]\n",
    "        i+=1"
   ]
  },
  {
   "attachments": {},
   "cell_type": "markdown",
   "metadata": {},
   "source": [
    "## sklearn"
   ]
  },
  {
   "cell_type": "code",
   "execution_count": 10,
   "metadata": {},
   "outputs": [
    {
     "data": {
      "text/html": [
       "<style>#sk-container-id-1 {color: black;background-color: white;}#sk-container-id-1 pre{padding: 0;}#sk-container-id-1 div.sk-toggleable {background-color: white;}#sk-container-id-1 label.sk-toggleable__label {cursor: pointer;display: block;width: 100%;margin-bottom: 0;padding: 0.3em;box-sizing: border-box;text-align: center;}#sk-container-id-1 label.sk-toggleable__label-arrow:before {content: \"▸\";float: left;margin-right: 0.25em;color: #696969;}#sk-container-id-1 label.sk-toggleable__label-arrow:hover:before {color: black;}#sk-container-id-1 div.sk-estimator:hover label.sk-toggleable__label-arrow:before {color: black;}#sk-container-id-1 div.sk-toggleable__content {max-height: 0;max-width: 0;overflow: hidden;text-align: left;background-color: #f0f8ff;}#sk-container-id-1 div.sk-toggleable__content pre {margin: 0.2em;color: black;border-radius: 0.25em;background-color: #f0f8ff;}#sk-container-id-1 input.sk-toggleable__control:checked~div.sk-toggleable__content {max-height: 200px;max-width: 100%;overflow: auto;}#sk-container-id-1 input.sk-toggleable__control:checked~label.sk-toggleable__label-arrow:before {content: \"▾\";}#sk-container-id-1 div.sk-estimator input.sk-toggleable__control:checked~label.sk-toggleable__label {background-color: #d4ebff;}#sk-container-id-1 div.sk-label input.sk-toggleable__control:checked~label.sk-toggleable__label {background-color: #d4ebff;}#sk-container-id-1 input.sk-hidden--visually {border: 0;clip: rect(1px 1px 1px 1px);clip: rect(1px, 1px, 1px, 1px);height: 1px;margin: -1px;overflow: hidden;padding: 0;position: absolute;width: 1px;}#sk-container-id-1 div.sk-estimator {font-family: monospace;background-color: #f0f8ff;border: 1px dotted black;border-radius: 0.25em;box-sizing: border-box;margin-bottom: 0.5em;}#sk-container-id-1 div.sk-estimator:hover {background-color: #d4ebff;}#sk-container-id-1 div.sk-parallel-item::after {content: \"\";width: 100%;border-bottom: 1px solid gray;flex-grow: 1;}#sk-container-id-1 div.sk-label:hover label.sk-toggleable__label {background-color: #d4ebff;}#sk-container-id-1 div.sk-serial::before {content: \"\";position: absolute;border-left: 1px solid gray;box-sizing: border-box;top: 0;bottom: 0;left: 50%;z-index: 0;}#sk-container-id-1 div.sk-serial {display: flex;flex-direction: column;align-items: center;background-color: white;padding-right: 0.2em;padding-left: 0.2em;position: relative;}#sk-container-id-1 div.sk-item {position: relative;z-index: 1;}#sk-container-id-1 div.sk-parallel {display: flex;align-items: stretch;justify-content: center;background-color: white;position: relative;}#sk-container-id-1 div.sk-item::before, #sk-container-id-1 div.sk-parallel-item::before {content: \"\";position: absolute;border-left: 1px solid gray;box-sizing: border-box;top: 0;bottom: 0;left: 50%;z-index: -1;}#sk-container-id-1 div.sk-parallel-item {display: flex;flex-direction: column;z-index: 1;position: relative;background-color: white;}#sk-container-id-1 div.sk-parallel-item:first-child::after {align-self: flex-end;width: 50%;}#sk-container-id-1 div.sk-parallel-item:last-child::after {align-self: flex-start;width: 50%;}#sk-container-id-1 div.sk-parallel-item:only-child::after {width: 0;}#sk-container-id-1 div.sk-dashed-wrapped {border: 1px dashed gray;margin: 0 0.4em 0.5em 0.4em;box-sizing: border-box;padding-bottom: 0.4em;background-color: white;}#sk-container-id-1 div.sk-label label {font-family: monospace;font-weight: bold;display: inline-block;line-height: 1.2em;}#sk-container-id-1 div.sk-label-container {text-align: center;}#sk-container-id-1 div.sk-container {/* jupyter's `normalize.less` sets `[hidden] { display: none; }` but bootstrap.min.css set `[hidden] { display: none !important; }` so we also need the `!important` here to be able to override the default hidden behavior on the sphinx rendered scikit-learn.org. See: https://github.com/scikit-learn/scikit-learn/issues/21755 */display: inline-block !important;position: relative;}#sk-container-id-1 div.sk-text-repr-fallback {display: none;}</style><div id=\"sk-container-id-1\" class=\"sk-top-container\"><div class=\"sk-text-repr-fallback\"><pre>KMeans(n_clusters=10, n_init=&#x27;auto&#x27;)</pre><b>In a Jupyter environment, please rerun this cell to show the HTML representation or trust the notebook. <br />On GitHub, the HTML representation is unable to render, please try loading this page with nbviewer.org.</b></div><div class=\"sk-container\" hidden><div class=\"sk-item\"><div class=\"sk-estimator sk-toggleable\"><input class=\"sk-toggleable__control sk-hidden--visually\" id=\"sk-estimator-id-1\" type=\"checkbox\" checked><label for=\"sk-estimator-id-1\" class=\"sk-toggleable__label sk-toggleable__label-arrow\">KMeans</label><div class=\"sk-toggleable__content\"><pre>KMeans(n_clusters=10, n_init=&#x27;auto&#x27;)</pre></div></div></div></div></div>"
      ],
      "text/plain": [
       "KMeans(n_clusters=10, n_init='auto')"
      ]
     },
     "execution_count": 10,
     "metadata": {},
     "output_type": "execute_result"
    }
   ],
   "source": [
    "from sklearn.cluster import k_means\n",
    "from sklearn.cluster import KMeans\n",
    "from sklearn.cluster import kmeans_plusplus\n",
    "n_clusters=10\n",
    "X=arr\n",
    "kmeans=KMeans(n_clusters=n_clusters,n_init='auto')\n",
    "kmeans.fit(X)"
   ]
  },
  {
   "cell_type": "code",
   "execution_count": 11,
   "metadata": {},
   "outputs": [
    {
     "data": {
      "text/plain": [
       "10"
      ]
     },
     "execution_count": 11,
     "metadata": {},
     "output_type": "execute_result"
    }
   ],
   "source": [
    "centroids=kmeans.cluster_centers_\n",
    "centroids.shape[0]"
   ]
  },
  {
   "cell_type": "code",
   "execution_count": 12,
   "metadata": {},
   "outputs": [
    {
     "name": "stdout",
     "output_type": "stream",
     "text": [
      "[('movements', 0.5810869932174683)]\n",
      "[('blacklivesmatter', 1.0)]\n",
      "[('blackunity', 0.5169832110404968)]\n",
      "[('i', 0.9999999403953552)]\n",
      "[('lives', 0.5533022880554199)]\n",
      "[('melanin', 0.38963592052459717)]\n",
      "[('black', 1.0000001192092896)]\n",
      "[('matter', 1.0)]\n",
      "[('movement', 0.979006826877594)]\n",
      "[('good', 0.8101410865783691)]\n"
     ]
    }
   ],
   "source": [
    "for i in range(centroids.shape[0]):\n",
    "    print(word_vectors.similar_by_vector(centroids[i],topn=1))"
   ]
  },
  {
   "cell_type": "code",
   "execution_count": 13,
   "metadata": {},
   "outputs": [
    {
     "name": "stdout",
     "output_type": "stream",
     "text": [
      "finish\n"
     ]
    }
   ],
   "source": [
    "\n",
    "itt=0\n",
    "itt_max=len(L)\n",
    "list_of_centroids=[]\n",
    "list_of_centroids_with_words=[]\n",
    "list_of_models=[]\n",
    "for seq in L[1:]:\n",
    "    print(\"%.3f\" % (itt/itt_max), end=\"\\r\")\n",
    "    itt+=1\n",
    "    if False:\n",
    "        model = Word2Vec(sentences=seq['keywords'], vector_size=100, window=0, min_count=0, workers=0)\n",
    "        model.save(\"Word2vec_models/test_word2vec.model\")\n",
    "        word_vectors = model.wv\n",
    "        del model\n",
    "    model.build_vocab(seq['keywords'], update=True)\n",
    "    model.train(seq['keywords'], total_examples=model.corpus_count, epochs=model.epochs)\n",
    "    word_vectors = model.wv\n",
    "    list_of_models.append(model)\n",
    "\n",
    "    i=0\n",
    "    for keywords in seq.keywords:\n",
    "        for keyword in keywords:\n",
    "            i+=1\n",
    "\n",
    "    arr=np.ndarray((i,100))\n",
    "    i=0\n",
    "    for keywords in seq.keywords:\n",
    "\n",
    "        for keyword in keywords:\n",
    "            \n",
    "            arr[i]=word_vectors[keyword]\n",
    "            i+=1\n",
    "    X=arr\n",
    "    #kmeans=k_means(X,n_clusters=5,n_init='auto')\n",
    "    #centroids=kmeans[0]\n",
    "    kmeans=KMeans(n_clusters=n_clusters,init=centroids,n_init=1)\n",
    "    kmeans.fit(X)\n",
    "    centroids=kmeans.cluster_centers_\n",
    "    \n",
    "    list_of_centroids.append(centroids)\n",
    "    l_image_of_centroids=[]\n",
    "    \n",
    "    n_top_word=5\n",
    "    for i in range(centroids.shape[0]):\n",
    "        #print(word_vectors.similar_by_vector(centroids[i],topn=1))\n",
    "        closest_word_of_centroid=word_vectors.similar_by_vector(centroids[i],topn=n_top_word)\n",
    "        l_image_of_centroids.append(closest_word_of_centroid)\n",
    "    list_of_centroids_with_words.append(l_image_of_centroids)\n",
    "    #display(Markdown('### New centroids'))\n",
    "    #for i in range(centroids.shape[0]):\n",
    "        #print(word_vectors.similar_by_vector(centroids[i],topn=1))\n",
    "print('finish')"
   ]
  },
  {
   "cell_type": "code",
   "execution_count": 14,
   "metadata": {},
   "outputs": [
    {
     "data": {
      "text/plain": [
       "<matplotlib.collections.PathCollection at 0x7f87c8c16280>"
      ]
     },
     "execution_count": 14,
     "metadata": {},
     "output_type": "execute_result"
    },
    {
     "data": {
      "image/png": "[encoded data removed]",
      "text/plain": [
       "<Figure size 432x288 with 1 Axes>"
      ]
     },
     "metadata": {
      "needs_background": "light"
     },
     "output_type": "display_data"
    }
   ],
   "source": [
    "from sklearn.decomposition import PCA\n",
    "\n",
    "i=0\n",
    "all_centroids=np.ndarray((len(list_of_centroids*n_clusters),vector_size))\n",
    "for centroids in list_of_centroids:\n",
    "    for cent in centroids:            \n",
    "        all_centroids[i]=cent\n",
    "        i+=1\n",
    "pca=PCA(n_components=2)\n",
    "pca.fit(all_centroids)\n",
    "X=pca.transform(all_centroids)\n",
    "X\n",
    "plt.scatter(X[:,0],X[:,1])"
   ]
  },
  {
   "cell_type": "code",
   "execution_count": 15,
   "metadata": {},
   "outputs": [
    {
     "data": {
      "text/plain": [
       "<matplotlib.collections.PathCollection at 0x7f87ad550f40>"
      ]
     },
     "execution_count": 15,
     "metadata": {},
     "output_type": "execute_result"
    },
    {
     "data": {
      "image/png": "[encoded data removed]",
      "text/plain": [
       "<Figure size 432x288 with 1 Axes>"
      ]
     },
     "metadata": {
      "needs_background": "light"
     },
     "output_type": "display_data"
    }
   ],
   "source": [
    "pca=PCA(n_components=2)\n",
    "pca.fit(list_of_centroids[0])\n",
    "X=pca.transform(list_of_centroids[0])\n",
    "X\n",
    "plt.scatter(X[:,0],X[:,1])"
   ]
  },
  {
   "cell_type": "code",
   "execution_count": 16,
   "metadata": {},
   "outputs": [
    {
     "name": "stdout",
     "output_type": "stream",
     "text": [
      "('people', 1.0000001192092896)\n",
      "('blacklivesmatter', 1.0)\n",
      "('floyd', 0.9999998807907104)\n",
      "('i', 0.9999999403953552)\n",
      "('lives', 1.0)\n",
      "('george', 0.5937780737876892)\n",
      "('black', 1.0000001192092896)\n",
      "('matter', 1.0)\n",
      "('other', 1.0000001192092896)\n",
      "('mission', 1.0)\n"
     ]
    }
   ],
   "source": [
    "for i in range(len(list_of_centroids_with_words[0])):\n",
    "    print(list_of_centroids_with_words[67][i][0])"
   ]
  },
  {
   "cell_type": "code",
   "execution_count": 17,
   "metadata": {},
   "outputs": [
    {
     "name": "stdout",
     "output_type": "stream",
     "text": [
      "('movement', 0.979006826877594)\n",
      "('movement', 0.96506267786026)\n",
      "('staysafe', 1.0)\n",
      "('staysafe', 1.0)\n",
      "('staysafe', 1.0)\n",
      "('staysafe', 1.0)\n",
      "('mural', 1.0000001192092896)\n",
      "('mural', 1.0000001192092896)\n",
      "('other', 1.0000001192092896)\n",
      "('other', 1.0000001192092896)\n",
      "('other', 1.0000001192092896)\n",
      "('other', 1.0000001192092896)\n",
      "('other', 1.0000001192092896)\n",
      "('other', 1.0000001192092896)\n",
      "('other', 1.0000001192092896)\n",
      "('other', 1.0000001192092896)\n",
      "('other', 1.0000001192092896)\n",
      "('sorry', 1.0)\n",
      "('sorry', 1.0)\n",
      "('sorry', 1.0)\n",
      "('sorry', 1.0)\n",
      "('sorry', 1.0)\n",
      "('riot', 1.0000001192092896)\n",
      "('riot', 1.0000001192092896)\n",
      "('musicindustry', 1.0)\n",
      "('http', 1.0)\n",
      "('http', 1.0)\n",
      "('http', 1.0)\n",
      "('riot', 1.0000001192092896)\n",
      "('riot', 1.0000001192092896)\n",
      "('riot', 1.0000001192092896)\n",
      "('riot', 1.0000001192092896)\n",
      "('riot', 1.0000001192092896)\n",
      "('honor', 1.0000001192092896)\n",
      "('honor', 1.0000001192092896)\n",
      "('honor', 1.0000001192092896)\n",
      "('honor', 1.0000001192092896)\n",
      "('honor', 1.0000001192092896)\n",
      "('honor', 1.0000001192092896)\n",
      "('honor', 1.0000001192092896)\n",
      "('honor', 1.0000001192092896)\n",
      "('incarcerations', 1.0)\n",
      "('incarcerations', 1.0)\n",
      "('incarcerations', 1.0)\n",
      "('riot', 1.0000001192092896)\n",
      "('riot', 1.0000001192092896)\n",
      "('riot', 1.0000001192092896)\n",
      "('riot', 1.0000001192092896)\n",
      "('riot', 1.0000001192092896)\n",
      "('other', 1.0000001192092896)\n",
      "('other', 1.0000001192092896)\n",
      "('other', 1.0000001192092896)\n",
      "('other', 1.0000001192092896)\n",
      "('other', 1.0000001192092896)\n",
      "('other', 1.0000001192092896)\n",
      "('other', 1.0000001192092896)\n",
      "('other', 1.0000001192092896)\n",
      "('other', 1.0000001192092896)\n",
      "('other', 1.0000001192092896)\n",
      "('other', 1.0000001192092896)\n",
      "('other', 1.0000001192092896)\n",
      "('other', 1.0000001192092896)\n",
      "('other', 1.0000001192092896)\n",
      "('other', 1.0000001192092896)\n",
      "('other', 1.0000001192092896)\n",
      "('other', 1.0000001192092896)\n",
      "('other', 1.0000001192092896)\n",
      "('other', 1.0000001192092896)\n",
      "('other', 1.0000001192092896)\n",
      "('other', 1.0000001192092896)\n",
      "('other', 1.0000001192092896)\n",
      "('other', 1.0000001192092896)\n",
      "('other', 1.0000001192092896)\n",
      "('other', 1.0000001192092896)\n",
      "('other', 1.0000001192092896)\n",
      "('other', 1.0000001192092896)\n",
      "('other', 1.0000001192092896)\n",
      "('other', 1.0000001192092896)\n",
      "('other', 1.0000001192092896)\n",
      "('other', 1.0000001192092896)\n",
      "('other', 1.0000001192092896)\n",
      "('other', 1.0000001192092896)\n",
      "('other', 1.0000001192092896)\n",
      "('other', 1.0000001192092896)\n",
      "('other', 1.0000001192092896)\n",
      "('other', 1.0000001192092896)\n",
      "('other', 1.0000001192092896)\n",
      "('other', 1.0000001192092896)\n",
      "('other', 1.0000001192092896)\n",
      "('other', 1.0000001192092896)\n",
      "('other', 1.0000001192092896)\n",
      "('other', 1.0000001192092896)\n",
      "('other', 1.0000001192092896)\n",
      "('other', 1.0000001192092896)\n",
      "('other', 1.0000001192092896)\n",
      "('other', 1.0000001192092896)\n",
      "('other', 1.0000001192092896)\n",
      "('other', 1.0000001192092896)\n",
      "('other', 1.0000001192092896)\n",
      "('other', 1.0000001192092896)\n",
      "('other', 1.0000001192092896)\n",
      "('other', 1.0000001192092896)\n",
      "('other', 1.0000001192092896)\n",
      "('other', 1.0000001192092896)\n",
      "('other', 1.0000001192092896)\n",
      "('other', 1.0000001192092896)\n",
      "('other', 1.0000001192092896)\n",
      "('other', 1.0000001192092896)\n",
      "('other', 1.0000001192092896)\n",
      "('other', 1.0000001192092896)\n",
      "('other', 1.0000001192092896)\n",
      "('other', 1.0000001192092896)\n",
      "('other', 1.0000001192092896)\n",
      "('other', 1.0000001192092896)\n",
      "('other', 1.0000001192092896)\n",
      "('other', 1.0000001192092896)\n",
      "('other', 1.0000001192092896)\n",
      "('other', 1.0000001192092896)\n",
      "('other', 1.0000001192092896)\n",
      "('other', 1.0000001192092896)\n"
     ]
    }
   ],
   "source": [
    "for i in range(len(list_of_centroids_with_words)):\n",
    "    print(list_of_centroids_with_words[i][8][0])"
   ]
  },
  {
   "cell_type": "code",
   "execution_count": 18,
   "metadata": {},
   "outputs": [],
   "source": [
    "bigL=np.ndarray((len(list_of_centroids_with_words),len(list_of_centroids_with_words[0])),dtype=object)\n",
    "for i in range(bigL.shape[0]):\n",
    "    for j in range(bigL.shape[1]) :\n",
    "        bigL[i,j]=list_of_centroids_with_words[i][j][0][0]"
   ]
  },
  {
   "cell_type": "code",
   "execution_count": 19,
   "metadata": {},
   "outputs": [
    {
     "data": {
      "text/plain": [
       "array(['mad', 'people', 'people', 'people', 'people', 'people', 'people',\n",
       "       'people', 'people', 'people', 'people', 'people', 'people',\n",
       "       'people', 'people', 'people', 'people', 'people', 'people',\n",
       "       'people', 'people', 'people', 'people', 'people', 'people',\n",
       "       'people', 'people', 'people', 'people', 'people', 'people',\n",
       "       'people', 'people', 'people', 'people', 'people', 'people',\n",
       "       'people', 'people', 'people', 'people', 'people', 'people',\n",
       "       'people', 'people', 'people', 'people', 'people', 'people',\n",
       "       'people', 'people', 'people', 'people', 'people', 'people',\n",
       "       'people', 'people', 'people', 'people', 'people', 'people',\n",
       "       'people', 'people', 'people', 'people', 'people', 'people',\n",
       "       'people', 'people', 'people', 'people', 'people', 'people',\n",
       "       'people', 'people', 'people', 'people', 'people', 'people',\n",
       "       'people', 'people', 'people', 'people', 'people', 'people',\n",
       "       'people', 'people', 'people', 'people', 'people', 'people',\n",
       "       'people', 'people', 'people', 'people', 'people', 'people',\n",
       "       'people', 'people', 'people', 'people', 'people', 'people',\n",
       "       'people', 'people', 'people', 'people', 'people', 'people',\n",
       "       'people', 'people', 'people', 'people', 'people', 'people',\n",
       "       'people', 'people', 'people', 'people', 'people'], dtype=object)"
      ]
     },
     "execution_count": 19,
     "metadata": {},
     "output_type": "execute_result"
    }
   ],
   "source": [
    "bigL[:,0]"
   ]
  },
  {
   "cell_type": "code",
   "execution_count": 20,
   "metadata": {},
   "outputs": [],
   "source": [
    "verybigL=np.ndarray((len(list_of_centroids_with_words),len(list_of_centroids_with_words[0]),len(list_of_centroids_with_words[0][0])),dtype=object)\n",
    "for i in range(verybigL.shape[0]):\n",
    "    for j in range(verybigL.shape[1]) :\n",
    "        for k in range(verybigL.shape[2]):\n",
    "            verybigL[i,j,k]=list_of_centroids_with_words[i][j][k][0]"
   ]
  },
  {
   "cell_type": "code",
   "execution_count": 21,
   "metadata": {},
   "outputs": [
    {
     "data": {
      "text/plain": [
       "array(['mad', 'people', 'people', 'people', 'people', 'people', 'people',\n",
       "       'people', 'people', 'people', 'people', 'people', 'people',\n",
       "       'people', 'people', 'people', 'people', 'people', 'people',\n",
       "       'people', 'people', 'people', 'people', 'people', 'people',\n",
       "       'people', 'people', 'people', 'people', 'people', 'people',\n",
       "       'people', 'people', 'people', 'people', 'people', 'people',\n",
       "       'people', 'people', 'people', 'people', 'people', 'people',\n",
       "       'people', 'people', 'people', 'people', 'people', 'people',\n",
       "       'people', 'people', 'people', 'people', 'people', 'people',\n",
       "       'people', 'people', 'people', 'people', 'people', 'people',\n",
       "       'people', 'people', 'people', 'people', 'people', 'people',\n",
       "       'people', 'people', 'people', 'people', 'people', 'people',\n",
       "       'people', 'people', 'people', 'people', 'people', 'people',\n",
       "       'people', 'people', 'people', 'people', 'people', 'people',\n",
       "       'people', 'people', 'people', 'people', 'people', 'people',\n",
       "       'people', 'people', 'people', 'people', 'people', 'people',\n",
       "       'people', 'people', 'people', 'people', 'people', 'people',\n",
       "       'people', 'people', 'people', 'people', 'people', 'people',\n",
       "       'people', 'people', 'people', 'people', 'people', 'people',\n",
       "       'people', 'people', 'people', 'people', 'people'], dtype=object)"
      ]
     },
     "execution_count": 21,
     "metadata": {},
     "output_type": "execute_result"
    }
   ],
   "source": [
    "verybigL[:,0,0]"
   ]
  },
  {
   "cell_type": "code",
   "execution_count": 22,
   "metadata": {},
   "outputs": [],
   "source": [
    "veryverybigL=np.ndarray((len(list_of_centroids_with_words),len(list_of_centroids_with_words[0]),len(list_of_centroids_with_words[0][0]),len(list_of_centroids_with_words[0][0][0])),dtype=object)\n",
    "veryverybigL.shape\n",
    "for i in range(veryverybigL.shape[0]):\n",
    "    for j in range(veryverybigL.shape[1]) :\n",
    "        for k in range(veryverybigL.shape[2]):\n",
    "            for l in range(veryverybigL.shape[3]):\n",
    "                    veryverybigL[i,j,k,l]=list_of_centroids_with_words[i][j][k][l]"
   ]
  },
  {
   "cell_type": "code",
   "execution_count": 23,
   "metadata": {},
   "outputs": [
    {
     "data": {
      "text/plain": [
       "array(['blacklivesmatter', 'blacklivesmatter', 'blacklivesmatter',\n",
       "       'blacklivesmatter', 'blacklivesmatter', 'blacklivesmatter',\n",
       "       'blacklivesmatter', 'blacklivesmatter', 'blacklivesmatter',\n",
       "       'blacklivesmatter', 'blacklivesmatter', 'blacklivesmatter',\n",
       "       'blacklivesmatter', 'blacklivesmatter', 'blacklivesmatter',\n",
       "       'blacklivesmatter', 'blacklivesmatter', 'blacklivesmatter',\n",
       "       'blacklivesmatter', 'blacklivesmatter', 'blacklivesmatter',\n",
       "       'blacklivesmatter', 'blacklivesmatter', 'blacklivesmatter',\n",
       "       'blacklivesmatter', 'blacklivesmatter', 'blacklivesmatter',\n",
       "       'blacklivesmatter', 'blacklivesmatter', 'blacklivesmatter',\n",
       "       'blacklivesmatter', 'blacklivesmatter', 'blacklivesmatter',\n",
       "       'blacklivesmatter', 'blacklivesmatter', 'blacklivesmatter',\n",
       "       'blacklivesmatter', 'blacklivesmatter', 'blacklivesmatter',\n",
       "       'blacklivesmatter', 'blacklivesmatter', 'blacklivesmatter',\n",
       "       'blacklivesmatter', 'blacklivesmatter', 'blacklivesmatter',\n",
       "       'blacklivesmatter', 'blacklivesmatter', 'blacklivesmatter',\n",
       "       'blacklivesmatter', 'blacklivesmatter', 'blacklivesmatter',\n",
       "       'blacklivesmatter', 'blacklivesmatter', 'blacklivesmatter',\n",
       "       'blacklivesmatter', 'blacklivesmatter', 'blacklivesmatter',\n",
       "       'blacklivesmatter', 'blacklivesmatter', 'blacklivesmatter',\n",
       "       'blacklivesmatter', 'blacklivesmatter', 'blacklivesmatter',\n",
       "       'blacklivesmatter', 'blacklivesmatter', 'blacklivesmatter',\n",
       "       'blacklivesmatter', 'blacklivesmatter', 'blacklivesmatter',\n",
       "       'blacklivesmatter', 'blacklivesmatter', 'blacklivesmatter',\n",
       "       'blacklivesmatter', 'blacklivesmatter', 'blacklivesmatter',\n",
       "       'blacklivesmatter', 'blacklivesmatter', 'blacklivesmatter',\n",
       "       'blacklivesmatter', 'blacklivesmatter', 'blacklivesmatter',\n",
       "       'blacklivesmatter', 'blacklivesmatter', 'blacklivesmatter',\n",
       "       'blacklivesmatter', 'blacklivesmatter', 'blacklivesmatter',\n",
       "       'blacklivesmatter', 'blacklivesmatter', 'blacklivesmatter',\n",
       "       'blacklivesmatter', 'blacklivesmatter', 'blacklivesmatter',\n",
       "       'blacklivesmatter', 'blacklivesmatter', 'blacklivesmatter',\n",
       "       'blacklivesmatter', 'blacklivesmatter', 'blacklivesmatter',\n",
       "       'blacklivesmatter', 'blacklivesmatter', 'blacklivesmatter',\n",
       "       'blacklivesmatter', 'blacklivesmatter', 'blacklivesmatter',\n",
       "       'blacklivesmatter', 'blacklivesmatter', 'blacklivesmatter',\n",
       "       'blacklivesmatter', 'blacklivesmatter', 'blacklivesmatter',\n",
       "       'blacklivesmatter', 'blacklivesmatter', 'blacklivesmatter',\n",
       "       'blacklivesmatter', 'blacklivesmatter', 'blacklivesmatter',\n",
       "       'blacklivesmatter', 'blacklivesmatter', 'blacklivesmatter'],\n",
       "      dtype=object)"
      ]
     },
     "execution_count": 23,
     "metadata": {},
     "output_type": "execute_result"
    }
   ],
   "source": [
    "veryverybigL[:,1,0,0]"
   ]
  },
  {
   "cell_type": "code",
   "execution_count": 24,
   "metadata": {},
   "outputs": [],
   "source": [
    "centroids_array=np.ndarray((len(list_of_centroids),list_of_centroids[0].shape[0],list_of_centroids[0].shape[1]),dtype=object)\n",
    "for i in range(centroids_array.shape[0]):\n",
    "    centroids_array[i,:,:]=list_of_centroids[i]"
   ]
  },
  {
   "cell_type": "code",
   "execution_count": 25,
   "metadata": {},
   "outputs": [
    {
     "data": {
      "text/plain": [
       "[('movement', 0.979006826877594),\n",
       " ('eternity', 0.49514487385749817),\n",
       " ('matters', 0.3213627338409424),\n",
       " ('bitch', 0.30780792236328125),\n",
       " ('supposed', 0.245296910405159)]"
      ]
     },
     "execution_count": 25,
     "metadata": {},
     "output_type": "execute_result"
    }
   ],
   "source": [
    "list_of_centroids_with_words[0][8]"
   ]
  },
  {
   "cell_type": "code",
   "execution_count": 26,
   "metadata": {},
   "outputs": [
    {
     "data": {
      "text/plain": [
       "array([-7.54256319e-03, -9.16430494e-03, -6.65157271e-03,  6.45174045e-03,\n",
       "       -4.25931819e-03, -7.65958540e-03, -2.54297705e-03,  2.83033786e-03,\n",
       "       -2.85428250e-03, -3.67933177e-03,  2.64203594e-03, -3.68209458e-03,\n",
       "        1.23940826e-03, -1.46416114e-03, -2.79836333e-03,  8.58048240e-03,\n",
       "        4.85484005e-03, -9.25307118e-03,  3.70237400e-03, -7.45744851e-03,\n",
       "        2.62605613e-03,  3.98363912e-03, -4.99513314e-03, -2.72866981e-03,\n",
       "        6.85044221e-03, -7.20059350e-05, -1.02398750e-02,  1.11876131e-02,\n",
       "       -1.49133502e-03, -8.13313951e-03,  7.84438778e-03,  4.13758252e-03,\n",
       "        6.22816740e-03,  9.36388881e-03, -8.88594424e-03,  4.29920497e-03,\n",
       "        8.46374145e-04,  3.33420729e-03, -3.09201714e-04,  5.39153297e-03,\n",
       "        5.57531486e-03,  4.71391854e-03, -3.74883968e-03, -3.27255825e-03,\n",
       "        1.35961769e-03, -3.87244183e-04, -3.67874780e-03,  6.14922589e-03,\n",
       "        4.60879988e-03,  6.81601874e-03,  1.77949135e-03,  7.37988144e-03,\n",
       "       -8.18341652e-04,  8.02948242e-03,  5.52173765e-04, -9.77306279e-03,\n",
       "       -4.44907752e-03, -2.03110842e-03,  4.81891642e-03, -8.26451798e-04,\n",
       "       -3.61903407e-03,  6.75264046e-03,  1.13539487e-02, -4.69411131e-04,\n",
       "       -5.84433861e-03, -1.07091524e-03, -7.24071771e-03, -7.75854382e-03,\n",
       "        2.81275435e-03, -6.64574507e-03, -1.24678068e-03,  7.26292533e-03,\n",
       "       -3.71342532e-03, -9.22244690e-03, -1.00632248e-03, -3.60503496e-03,\n",
       "        2.01499814e-03, -3.07162337e-03,  8.88176515e-03, -9.13171247e-04,\n",
       "        3.29843334e-03, -2.16984818e-03, -2.00630997e-03,  1.12625524e-02,\n",
       "        2.73387631e-03, -5.53168762e-03, -7.24024881e-03,  1.34449143e-03,\n",
       "        2.34837050e-03,  4.47349084e-03, -9.34600833e-03,  8.56236932e-03,\n",
       "        7.02366625e-03,  5.42635900e-03,  1.06483701e-02, -6.44770747e-03,\n",
       "       -9.67575169e-03,  7.20228195e-03,  1.19413530e-02,  5.16957053e-03])"
      ]
     },
     "execution_count": 26,
     "metadata": {},
     "output_type": "execute_result"
    }
   ],
   "source": [
    "list_of_centroids[119][0]-list_of_centroids[0][0]"
   ]
  },
  {
   "cell_type": "code",
   "execution_count": 27,
   "metadata": {},
   "outputs": [],
   "source": [
    "l_sent=[]\n",
    "for i in range(len(L)):\n",
    "    l_sent.append(L[i].sentiment_polarity.mean())\n",
    "\n",
    "n_tweets=[]\n",
    "for i in range(len(L)):\n",
    "    n_tweets.append(L[i].shape[0])\n"
   ]
  },
  {
   "cell_type": "code",
   "execution_count": 28,
   "metadata": {},
   "outputs": [
    {
     "ename": "ValueError",
     "evalue": "x and y must have same first dimension, but have shapes (120,) and (121,)",
     "output_type": "error",
     "traceback": [
      "\u001b[0;31m---------------------------------------------------------------------------\u001b[0m",
      "\u001b[0;31mValueError\u001b[0m                                Traceback (most recent call last)",
      "\u001b[1;32m/Users/yohanismael/Documents/Ecole/3A/COURS/Master/Projets/Repositories/Weak_signals_BLM/BLM_Clustering.ipynb Cell 28\u001b[0m in \u001b[0;36m<cell line: 5>\u001b[0;34m()\u001b[0m\n\u001b[1;32m      <a href='vscode-notebook-cell:/Users/yohanismael/Documents/Ecole/3A/COURS/Master/Projets/Repositories/Weak_signals_BLM/BLM_Clustering.ipynb#X26sZmlsZQ%3D%3D?line=2'>3</a>\u001b[0m color1\u001b[39m=\u001b[39m\u001b[39m'\u001b[39m\u001b[39mred\u001b[39m\u001b[39m'\u001b[39m\n\u001b[1;32m      <a href='vscode-notebook-cell:/Users/yohanismael/Documents/Ecole/3A/COURS/Master/Projets/Repositories/Weak_signals_BLM/BLM_Clustering.ipynb#X26sZmlsZQ%3D%3D?line=3'>4</a>\u001b[0m color2\u001b[39m=\u001b[39m\u001b[39m'\u001b[39m\u001b[39mblue\u001b[39m\u001b[39m'\u001b[39m\n\u001b[0;32m----> <a href='vscode-notebook-cell:/Users/yohanismael/Documents/Ecole/3A/COURS/Master/Projets/Repositories/Weak_signals_BLM/BLM_Clustering.ipynb#X26sZmlsZQ%3D%3D?line=4'>5</a>\u001b[0m axe1_X\u001b[39m.\u001b[39;49mplot(\u001b[39mrange\u001b[39;49m(\u001b[39mlen\u001b[39;49m(L)\u001b[39m-\u001b[39;49m\u001b[39m1\u001b[39;49m), n_tweets, color1)\n\u001b[1;32m      <a href='vscode-notebook-cell:/Users/yohanismael/Documents/Ecole/3A/COURS/Master/Projets/Repositories/Weak_signals_BLM/BLM_Clustering.ipynb#X26sZmlsZQ%3D%3D?line=5'>6</a>\u001b[0m axe2_X\u001b[39m.\u001b[39mplot(\u001b[39mrange\u001b[39m(\u001b[39mlen\u001b[39m(L)\u001b[39m-\u001b[39m\u001b[39m1\u001b[39m), l_sent, color2)\n\u001b[1;32m      <a href='vscode-notebook-cell:/Users/yohanismael/Documents/Ecole/3A/COURS/Master/Projets/Repositories/Weak_signals_BLM/BLM_Clustering.ipynb#X26sZmlsZQ%3D%3D?line=6'>7</a>\u001b[0m axe1_X\u001b[39m.\u001b[39mset_xlabel(\u001b[39m'\u001b[39m\u001b[39mdays\u001b[39m\u001b[39m'\u001b[39m)\n",
      "File \u001b[0;32m~/opt/anaconda3/lib/python3.9/site-packages/matplotlib/axes/_axes.py:1632\u001b[0m, in \u001b[0;36mAxes.plot\u001b[0;34m(self, scalex, scaley, data, *args, **kwargs)\u001b[0m\n\u001b[1;32m   1390\u001b[0m \u001b[39m\"\"\"\u001b[39;00m\n\u001b[1;32m   1391\u001b[0m \u001b[39mPlot y versus x as lines and/or markers.\u001b[39;00m\n\u001b[1;32m   1392\u001b[0m \n\u001b[0;32m   (...)\u001b[0m\n\u001b[1;32m   1629\u001b[0m \u001b[39m(``'green'``) or hex strings (``'#008000'``).\u001b[39;00m\n\u001b[1;32m   1630\u001b[0m \u001b[39m\"\"\"\u001b[39;00m\n\u001b[1;32m   1631\u001b[0m kwargs \u001b[39m=\u001b[39m cbook\u001b[39m.\u001b[39mnormalize_kwargs(kwargs, mlines\u001b[39m.\u001b[39mLine2D)\n\u001b[0;32m-> 1632\u001b[0m lines \u001b[39m=\u001b[39m [\u001b[39m*\u001b[39m\u001b[39mself\u001b[39m\u001b[39m.\u001b[39m_get_lines(\u001b[39m*\u001b[39margs, data\u001b[39m=\u001b[39mdata, \u001b[39m*\u001b[39m\u001b[39m*\u001b[39mkwargs)]\n\u001b[1;32m   1633\u001b[0m \u001b[39mfor\u001b[39;00m line \u001b[39min\u001b[39;00m lines:\n\u001b[1;32m   1634\u001b[0m     \u001b[39mself\u001b[39m\u001b[39m.\u001b[39madd_line(line)\n",
      "File \u001b[0;32m~/opt/anaconda3/lib/python3.9/site-packages/matplotlib/axes/_base.py:312\u001b[0m, in \u001b[0;36m_process_plot_var_args.__call__\u001b[0;34m(self, data, *args, **kwargs)\u001b[0m\n\u001b[1;32m    310\u001b[0m     this \u001b[39m+\u001b[39m\u001b[39m=\u001b[39m args[\u001b[39m0\u001b[39m],\n\u001b[1;32m    311\u001b[0m     args \u001b[39m=\u001b[39m args[\u001b[39m1\u001b[39m:]\n\u001b[0;32m--> 312\u001b[0m \u001b[39myield from\u001b[39;00m \u001b[39mself\u001b[39;49m\u001b[39m.\u001b[39;49m_plot_args(this, kwargs)\n",
      "File \u001b[0;32m~/opt/anaconda3/lib/python3.9/site-packages/matplotlib/axes/_base.py:498\u001b[0m, in \u001b[0;36m_process_plot_var_args._plot_args\u001b[0;34m(self, tup, kwargs, return_kwargs)\u001b[0m\n\u001b[1;32m    495\u001b[0m     \u001b[39mself\u001b[39m\u001b[39m.\u001b[39maxes\u001b[39m.\u001b[39myaxis\u001b[39m.\u001b[39mupdate_units(y)\n\u001b[1;32m    497\u001b[0m \u001b[39mif\u001b[39;00m x\u001b[39m.\u001b[39mshape[\u001b[39m0\u001b[39m] \u001b[39m!=\u001b[39m y\u001b[39m.\u001b[39mshape[\u001b[39m0\u001b[39m]:\n\u001b[0;32m--> 498\u001b[0m     \u001b[39mraise\u001b[39;00m \u001b[39mValueError\u001b[39;00m(\u001b[39mf\u001b[39m\u001b[39m\"\u001b[39m\u001b[39mx and y must have same first dimension, but \u001b[39m\u001b[39m\"\u001b[39m\n\u001b[1;32m    499\u001b[0m                      \u001b[39mf\u001b[39m\u001b[39m\"\u001b[39m\u001b[39mhave shapes \u001b[39m\u001b[39m{\u001b[39;00mx\u001b[39m.\u001b[39mshape\u001b[39m}\u001b[39;00m\u001b[39m and \u001b[39m\u001b[39m{\u001b[39;00my\u001b[39m.\u001b[39mshape\u001b[39m}\u001b[39;00m\u001b[39m\"\u001b[39m)\n\u001b[1;32m    500\u001b[0m \u001b[39mif\u001b[39;00m x\u001b[39m.\u001b[39mndim \u001b[39m>\u001b[39m \u001b[39m2\u001b[39m \u001b[39mor\u001b[39;00m y\u001b[39m.\u001b[39mndim \u001b[39m>\u001b[39m \u001b[39m2\u001b[39m:\n\u001b[1;32m    501\u001b[0m     \u001b[39mraise\u001b[39;00m \u001b[39mValueError\u001b[39;00m(\u001b[39mf\u001b[39m\u001b[39m\"\u001b[39m\u001b[39mx and y can be no greater than 2D, but have \u001b[39m\u001b[39m\"\u001b[39m\n\u001b[1;32m    502\u001b[0m                      \u001b[39mf\u001b[39m\u001b[39m\"\u001b[39m\u001b[39mshapes \u001b[39m\u001b[39m{\u001b[39;00mx\u001b[39m.\u001b[39mshape\u001b[39m}\u001b[39;00m\u001b[39m and \u001b[39m\u001b[39m{\u001b[39;00my\u001b[39m.\u001b[39mshape\u001b[39m}\u001b[39;00m\u001b[39m\"\u001b[39m)\n",
      "\u001b[0;31mValueError\u001b[0m: x and y must have same first dimension, but have shapes (120,) and (121,)"
     ]
    },
    {
     "data": {
      "image/png": "[encoded data removed]",
      "text/plain": [
       "<Figure size 432x288 with 2 Axes>"
      ]
     },
     "metadata": {
      "needs_background": "light"
     },
     "output_type": "display_data"
    }
   ],
   "source": [
    "fig, axe1_X = plt.subplots()\n",
    "axe2_X = axe1_X.twinx()\n",
    "color1='red'\n",
    "color2='blue'\n",
    "axe1_X.plot(range(len(L)-1), n_tweets, color1)\n",
    "axe2_X.plot(range(len(L)-1), l_sent, color2)\n",
    "axe1_X.set_xlabel('days')\n",
    "axe1_X.set_ylabel('number of tweets', color=color1)\n",
    "axe2_X.set_ylabel('mean sentiment polarity', color=color2)\n",
    "plt.savefig(\"figures_out/n_tweets_and_sent_pol.png\",transparent=True)"
   ]
  },
  {
   "cell_type": "code",
   "execution_count": null,
   "metadata": {},
   "outputs": [
    {
     "name": "stdout",
     "output_type": "stream",
     "text": [
      "[('blacklivesmatter', 1.0)]\n",
      "[('i', 0.9999999403953552)]\n",
      "[('lives', 1.0)]\n",
      "[('black', 1.0000001192092896)]\n",
      "[('white', 1.0000001192092896)]\n",
      "[('people', 1.0000001192092896)]\n",
      "[('georgefloyd', 0.9999999403953552)]\n",
      "[('floyd', 0.9999998807907104)]\n",
      "[('george', 0.5522040724754333)]\n",
      "[('matter', 1.0)]\n"
     ]
    }
   ],
   "source": [
    "for i in range(len(list_of_centroids[0])):\n",
    "    print(word_vectors.similar_by_vector(list_of_centroids[119][i],topn=1))\n",
    "    "
   ]
  },
  {
   "cell_type": "code",
   "execution_count": null,
   "metadata": {},
   "outputs": [
    {
     "data": {
      "image/png": "[encoded data removed]",
      "text/plain": [
       "<Figure size 432x288 with 1 Axes>"
      ]
     },
     "metadata": {
      "needs_background": "light"
     },
     "output_type": "display_data"
    }
   ],
   "source": [
    "from sklearn.datasets import make_blobs\n",
    "from sklearn.preprocessing import StandardScaler\n",
    "\n",
    "centers = [[1, 1], [-1, -1], [1, -1],[-1, 1]]\n",
    "\n",
    "X1, labels_true = make_blobs(\n",
    "    n_samples=750, centers=centers, cluster_std=0.1, random_state=0\n",
    ")\n",
    "\n",
    "X = StandardScaler().fit_transform(X1)\n",
    "\n",
    "plt.scatter(X1[:, 0], X1[:, 1])\n",
    "plt.show()"
   ]
  },
  {
   "cell_type": "code",
   "execution_count": null,
   "metadata": {},
   "outputs": [],
   "source": [
    "centroids=np.array([[1, 1], [-1, -1], [1, -1]])\n",
    "\n",
    "test=KMeans(n_clusters=3,n_init='auto',init=centroids)\n",
    "\n",
    "#test.cluster_centers_"
   ]
  },
  {
   "cell_type": "code",
   "execution_count": null,
   "metadata": {},
   "outputs": [
    {
     "name": "stderr",
     "output_type": "stream",
     "text": [
      "/Users/yohanismael/opt/anaconda3/lib/python3.9/site-packages/sklearn/cluster/_kmeans.py:878: FutureWarning: elementwise comparison failed; returning scalar instead, but in the future will perform elementwise comparison\n",
      "  if self.init == \"k-means++\":\n",
      "/Users/yohanismael/opt/anaconda3/lib/python3.9/site-packages/sklearn/cluster/_kmeans.py:1362: RuntimeWarning: Explicit initial center position passed: performing only one init in KMeans instead of n_init=10.\n",
      "  super()._check_params_vs_input(X, default_n_init=10)\n"
     ]
    },
    {
     "data": {
      "text/plain": [
       "array([[ 8.76961086e-04,  1.00177180e+00],\n",
       "       [-1.01135835e+00, -1.01396224e+00],\n",
       "       [ 1.00894464e+00, -9.99847499e-01]])"
      ]
     },
     "execution_count": 24,
     "metadata": {},
     "output_type": "execute_result"
    }
   ],
   "source": [
    "test.fit(X1)\n",
    "test.cluster_centers_"
   ]
  },
  {
   "cell_type": "code",
   "execution_count": null,
   "metadata": {},
   "outputs": [
    {
     "data": {
      "text/plain": [
       "-385.1561426056396"
      ]
     },
     "execution_count": 25,
     "metadata": {},
     "output_type": "execute_result"
    }
   ],
   "source": [
    "test.score(X1)"
   ]
  },
  {
   "cell_type": "code",
   "execution_count": null,
   "metadata": {},
   "outputs": [],
   "source": []
  }
 ],
 "metadata": {
  "kernelspec": {
   "display_name": "base",
   "language": "python",
   "name": "python3"
  },
  "language_info": {
   "codemirror_mode": {
    "name": "ipython",
    "version": 3
   },
   "file_extension": ".py",
   "mimetype": "text/x-python",
   "name": "python",
   "nbconvert_exporter": "python",
   "pygments_lexer": "ipython3",
   "version": "3.9.12"
  },
  "orig_nbformat": 4,
  "vscode": {
   "interpreter": {
    "hash": "7339996d7815a0ae30850c182ba9bbc0a1cb89e61563a0ae1819bddf17b67295"
   }
  }
 },
 "nbformat": 4,
 "nbformat_minor": 2
}
