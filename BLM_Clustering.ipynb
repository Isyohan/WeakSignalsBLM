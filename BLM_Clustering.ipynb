{
 "cells": [
  {
   "cell_type": "code",
   "execution_count": 53,
   "metadata": {},
   "outputs": [
    {
     "name": "stdout",
     "output_type": "stream",
     "text": [
      "Requirement already satisfied: textblob in /Users/yohanismael/opt/anaconda3/lib/python3.9/site-packages (0.17.1)\n",
      "Requirement already satisfied: nltk>=3.1 in /Users/yohanismael/opt/anaconda3/lib/python3.9/site-packages (from textblob) (3.7)\n",
      "Requirement already satisfied: tqdm in /Users/yohanismael/opt/anaconda3/lib/python3.9/site-packages (from nltk>=3.1->textblob) (4.64.0)\n",
      "Requirement already satisfied: joblib in /Users/yohanismael/opt/anaconda3/lib/python3.9/site-packages (from nltk>=3.1->textblob) (1.2.0)\n",
      "Requirement already satisfied: regex>=2021.8.3 in /Users/yohanismael/opt/anaconda3/lib/python3.9/site-packages (from nltk>=3.1->textblob) (2022.3.15)\n",
      "Requirement already satisfied: click in /Users/yohanismael/opt/anaconda3/lib/python3.9/site-packages (from nltk>=3.1->textblob) (8.1.3)\n",
      "Note: you may need to restart the kernel to use updated packages.\n",
      "[nltk_data] Downloading package brown to\n",
      "[nltk_data]     /Users/yohanismael/nltk_data...\n",
      "[nltk_data]   Package brown is already up-to-date!\n",
      "[nltk_data] Downloading package punkt to\n",
      "[nltk_data]     /Users/yohanismael/nltk_data...\n",
      "[nltk_data]   Package punkt is already up-to-date!\n",
      "[nltk_data] Downloading package wordnet to\n",
      "[nltk_data]     /Users/yohanismael/nltk_data...\n",
      "[nltk_data]   Package wordnet is already up-to-date!\n",
      "[nltk_data] Downloading package averaged_perceptron_tagger to\n",
      "[nltk_data]     /Users/yohanismael/nltk_data...\n",
      "[nltk_data]   Package averaged_perceptron_tagger is already up-to-\n",
      "[nltk_data]       date!\n",
      "[nltk_data] Downloading package conll2000 to\n",
      "[nltk_data]     /Users/yohanismael/nltk_data...\n",
      "[nltk_data]   Package conll2000 is already up-to-date!\n",
      "[nltk_data] Downloading package movie_reviews to\n",
      "[nltk_data]     /Users/yohanismael/nltk_data...\n",
      "[nltk_data]   Package movie_reviews is already up-to-date!\n",
      "Finished.\n",
      "Requirement already satisfied: nltk in /Users/yohanismael/opt/anaconda3/lib/python3.9/site-packages (3.7)\n",
      "Requirement already satisfied: tqdm in /Users/yohanismael/opt/anaconda3/lib/python3.9/site-packages (from nltk) (4.64.0)\n",
      "Requirement already satisfied: joblib in /Users/yohanismael/opt/anaconda3/lib/python3.9/site-packages (from nltk) (1.2.0)\n",
      "Requirement already satisfied: click in /Users/yohanismael/opt/anaconda3/lib/python3.9/site-packages (from nltk) (8.1.3)\n",
      "Requirement already satisfied: regex>=2021.8.3 in /Users/yohanismael/opt/anaconda3/lib/python3.9/site-packages (from nltk) (2022.3.15)\n",
      "Note: you may need to restart the kernel to use updated packages.\n",
      "Requirement already satisfied: gensim in /Users/yohanismael/opt/anaconda3/lib/python3.9/site-packages (4.3.1)\n",
      "Requirement already satisfied: numpy>=1.18.5 in /Users/yohanismael/opt/anaconda3/lib/python3.9/site-packages (from gensim) (1.23.4)\n",
      "Requirement already satisfied: scipy>=1.7.0 in /Users/yohanismael/opt/anaconda3/lib/python3.9/site-packages (from gensim) (1.9.3)\n",
      "Requirement already satisfied: smart-open>=1.8.1 in /Users/yohanismael/opt/anaconda3/lib/python3.9/site-packages (from gensim) (5.1.0)\n",
      "Note: you may need to restart the kernel to use updated packages.\n"
     ]
    }
   ],
   "source": [
    "%pip install -U textblob\n",
    "!python -m textblob.download_corpora\n",
    "\n",
    "%pip install nltk\n",
    "\n",
    "%pip install --upgrade gensim"
   ]
  },
  {
   "cell_type": "code",
   "execution_count": 54,
   "metadata": {},
   "outputs": [
    {
     "data": {
      "text/markdown": [
       "# Start Coding"
      ],
      "text/plain": [
       "<IPython.core.display.Markdown object>"
      ]
     },
     "metadata": {},
     "output_type": "display_data"
    }
   ],
   "source": [
    "import nltk\n",
    "\n",
    "import pandas as pd\n",
    "import numpy as np\n",
    "import matplotlib.pyplot as plt\n",
    "from textblob import TextBlob\n",
    "from datetime import datetime\n",
    "\n",
    "import gensim\n",
    "from gensim.models import Word2Vec\n",
    "\n",
    "from datetime import datetime\n",
    "\n",
    "from IPython.display import Markdown, display\n",
    "string = '# Start'\n",
    "display(Markdown(string+' Coding'))"
   ]
  },
  {
   "cell_type": "code",
   "execution_count": 55,
   "metadata": {},
   "outputs": [],
   "source": [
    "def str_to_timestamp(s):\n",
    "    out=[]\n",
    "\n",
    "    s2=str.split(s,'+')\n",
    "    s3=str.split(s2[0],' ')\n",
    "\n",
    "    s4=str.split(s3[0],'-')\n",
    "\n",
    "    s5=str.split(s3[1],':')\n",
    "    year=int(s4[0])\n",
    "    month=int(s4[1])\n",
    "    day=int(s4[2])\n",
    "    hour=int(s5[0])\n",
    "    minute=int(s5[1])\n",
    "    second=int(s5[2])\n",
    "\n",
    "    return(datetime(year=year,month=month,day=day,hour=hour,minute=minute,second=second).timestamp())\n",
    "\n",
    "from nltk.tokenize import word_tokenize\n",
    "\n",
    "def NumStr(mot):\n",
    "    res = ''.join(filter(lambda i: i.isdigit(), mot))\n",
    "    if (res==''):\n",
    "        return False\n",
    "    return True\n",
    "\n",
    "\n",
    "def extract_keywords(text):\n",
    "    # Tokenize the text\n",
    "    tokens = word_tokenize(text)\n",
    "\n",
    "    # Apply part-of-speech tagging\n",
    "    tagged_tokens = nltk.pos_tag(tokens)\n",
    "\n",
    "    # Select only nouns and adjectives\n",
    "    keywords = [word for word, pos in tagged_tokens if (pos in ['NN', 'NNS', 'NNP', 'NNPS', 'JJ', 'JJR', 'JJS'] and not NumStr(word))]\n",
    "\n",
    "    return keywords\n",
    "\n",
    "def extract_sentiment_polarity(text):\n",
    "    blob=TextBlob(text)\n",
    "    return(blob.sentiment.polarity)"
   ]
  },
  {
   "cell_type": "code",
   "execution_count": 56,
   "metadata": {},
   "outputs": [
    {
     "name": "stdout",
     "output_type": "stream",
     "text": [
      "start\n",
      "end of keywords\n",
      "end of polarity\n",
      "end of timestamps\n"
     ]
    }
   ],
   "source": [
    "data=pd.read_csv('data/minnesota.csv')\n",
    "df=data\n",
    "print('start')\n",
    "\n",
    "df['keywords'] = df['tweet_text'].apply(extract_keywords)\n",
    "\n",
    "print('end of keywords')\n",
    "\n",
    "df['sentiment_polarity']=df['tweet_text'].apply(extract_sentiment_polarity)\n",
    "\n",
    "print('end of polarity')\n",
    "\n",
    "df['timestamps']=df['tweet_created_dt'].apply(str_to_timestamp)\n",
    "df['timestamps']=df['timestamps']-df['timestamps'].min()\n",
    "\n",
    "print('end of timestamps')\n",
    "\n",
    "clean_data=df"
   ]
  },
  {
   "cell_type": "code",
   "execution_count": 57,
   "metadata": {},
   "outputs": [],
   "source": [
    "def sliding_window(df,size,sliding):\n",
    "    X_out=[]\n",
    "\n",
    "    for time in range(0,int(df['timestamps'].max()),sliding):\n",
    "        o=df[df.timestamps<time+size]\n",
    "        X_out.append(o[o.timestamps>time])\n",
    "\n",
    "        print(\"%.3f\" % (time/int(df['timestamps'].max())), end=\"\\r\")\n",
    "    print(\"finish\")\n",
    "    return X_out[:-1]\n",
    "\n",
    "def dfToListofVectors(df):\n",
    "    out=[]\n",
    "    for l_vect in df.vectors:\n",
    "        for v in l_vect:\n",
    "            \n",
    "            out.append(v)\n",
    "            \n",
    "    return out"
   ]
  },
  {
   "cell_type": "code",
   "execution_count": 308,
   "metadata": {},
   "outputs": [
    {
     "name": "stdout",
     "output_type": "stream",
     "text": [
      "finish\n"
     ]
    }
   ],
   "source": [
    "time_day=60*60*24\n",
    "L=sliding_window(clean_data,time_day*3,time_day)\n",
    "first=L[0]\n",
    "\n",
    "vector_size=100\n",
    "model = Word2Vec(sentences=first['keywords'], vector_size=vector_size, window=0, min_count=0, workers=0)\n",
    "model.save(\"Word2vec_models/test_word2vec.model\")\n",
    "word_vectors = model.wv\n",
    "\n",
    "i=0\n",
    "for keywords in first.keywords:\n",
    "    for keyword in keywords:\n",
    "        i+=1\n",
    "\n",
    "arr=np.ndarray((i,vector_size))\n",
    "i=0\n",
    "for keywords in first.keywords:\n",
    "\n",
    "    for keyword in keywords:\n",
    "        \n",
    "        arr[i]=word_vectors[keyword]\n",
    "        i+=1"
   ]
  },
  {
   "cell_type": "code",
   "execution_count": 309,
   "metadata": {},
   "outputs": [],
   "source": [
    "l_sent=[]\n",
    "for i in range(len(L)):\n",
    "    l_sent.append(L[i].sentiment_polarity.mean())\n",
    "\n",
    "n_tweets=[]\n",
    "for i in range(len(L)):\n",
    "    n_tweets.append(L[i].shape[0])\n"
   ]
  },
  {
   "cell_type": "code",
   "execution_count": 310,
   "metadata": {},
   "outputs": [
    {
     "data": {
      "image/png": "[encoded data removed]",
      "text/plain": [
       "<Figure size 432x288 with 2 Axes>"
      ]
     },
     "metadata": {
      "needs_background": "light"
     },
     "output_type": "display_data"
    }
   ],
   "source": [
    "fig, axe1_X = plt.subplots()\n",
    "axe2_X = axe1_X.twinx()\n",
    "color1='red'\n",
    "color2='blue'\n",
    "axe1_X.plot(range(len(L)), n_tweets, color1)\n",
    "axe2_X.plot(range(len(L)), l_sent, color2)\n",
    "axe1_X.set_xlabel('days')\n",
    "axe1_X.set_ylabel('number of tweets', color=color1)\n",
    "axe2_X.set_ylabel('mean sentiment polarity', color=color2)\n",
    "plt.savefig(\"figures_out/n_tweets_and_sent_pol.png\",transparent=True)"
   ]
  },
  {
   "cell_type": "code",
   "execution_count": 311,
   "metadata": {},
   "outputs": [],
   "source": [
    "def smooth(y, box_pts):\n",
    "    box = np.ones(box_pts)/box_pts\n",
    "    y_smooth = np.convolve(y, box, mode='same')\n",
    "    return y_smooth\n",
    "\n",
    "time_day=60*60*24\n",
    "nb_bins=int(clean_data['timestamps'].max()/time_day)\n",
    "coef_smooth=int(nb_bins/10)\n",
    "\n",
    "hist,e=np.histogram(clean_data['timestamps'],nb_bins)\n",
    "smooth_hist=smooth(hist,coef_smooth)\n",
    "x_hist=range(nb_bins)\n",
    "dhist=np.gradient(smooth_hist,x_hist)\n",
    "#plt.plot(x_hist,dhist)\n",
    "the_time=e[dhist.argmax()]"
   ]
  },
  {
   "attachments": {},
   "cell_type": "markdown",
   "metadata": {},
   "source": [
    "We want to identify the weak signal before this time ( which is the time where the number of tweets increase the most) and as soon as possible"
   ]
  },
  {
   "cell_type": "code",
   "execution_count": 329,
   "metadata": {},
   "outputs": [
    {
     "name": "stdout",
     "output_type": "stream",
     "text": [
      "finish\n",
      "112\n"
     ]
    }
   ],
   "source": [
    "from nltk.cluster.kmeans import KMeansClusterer\n",
    "from nltk.cluster.util import cosine_distance\n",
    "NUM_CLUSTERS = 10\n",
    "\n",
    "time_day=60*60*24\n",
    "\n",
    "\n",
    "clean_data2=clean_data[clean_data['timestamps']<the_time]\n",
    "\n",
    "\n",
    "L_cos=sliding_window(clean_data2,time_day*3,time_day//2)\n",
    "first=L_cos[0]\n",
    "print(len(L_cos))\n",
    "#L_cos=L_cos[0:2*len(L_cos)//6]"
   ]
  },
  {
   "cell_type": "code",
   "execution_count": 330,
   "metadata": {},
   "outputs": [
    {
     "name": "stdout",
     "output_type": "stream",
     "text": [
      "(163, 100)\n"
     ]
    }
   ],
   "source": [
    "vector_size=100\n",
    "model = Word2Vec(sentences=first['keywords'], vector_size=vector_size, window=0, min_count=0, workers=0)\n",
    "model.save(\"Word2vec_models/test_word2vec.model\")\n",
    "word_vectors = model.wv\n",
    "\n",
    "i=0\n",
    "for keywords in first.keywords:\n",
    "    for keyword in keywords:\n",
    "        i+=1\n",
    "\n",
    "arr=np.ndarray((i,vector_size))\n",
    "i=0\n",
    "for keywords in first.keywords:\n",
    "\n",
    "    for keyword in keywords:\n",
    "        \n",
    "        arr[i]=word_vectors[keyword]\n",
    "        i+=1\n",
    "\n",
    "X=arr\n",
    "print(X.shape)"
   ]
  },
  {
   "cell_type": "code",
   "execution_count": 331,
   "metadata": {},
   "outputs": [],
   "source": [
    "kclusterer = KMeansClusterer(NUM_CLUSTERS, distance=cosine_distance, repeats=10,avoid_empty_clusters=True)\n",
    "assigned_clusters = kclusterer.cluster(X,assign_clusters=True)\n",
    "\n",
    "L_centroids=kclusterer.means()\n",
    "\n",
    "l_image_of_centroids=[]\n",
    "    \n",
    "n_top_word=5\n",
    "for i in range(len(L_centroids)):\n",
    "        #print(word_vectors.similar_by_vector(centroids[i],topn=1))\n",
    "    closest_word_of_centroid=word_vectors.similar_by_vector(L_centroids[i],topn=n_top_word)\n",
    "    l_image_of_centroids.append(closest_word_of_centroid)"
   ]
  },
  {
   "cell_type": "code",
   "execution_count": 332,
   "metadata": {},
   "outputs": [
    {
     "name": "stdout",
     "output_type": "stream",
     "text": [
      "finish\n"
     ]
    }
   ],
   "source": [
    "itt=0\n",
    "itt_max=len(L_cos)\n",
    "list_of_centroids_cos=[L_centroids]\n",
    "list_of_centroids_with_words_cos=[l_image_of_centroids]\n",
    "for seq in L_cos[1:]:\n",
    "    print(\"%.3f\" % (itt/itt_max), end=\"\\r\")\n",
    "    itt+=1\n",
    "    if False:\n",
    "        model = Word2Vec(sentences=seq['keywords'], vector_size=100, window=0, min_count=0, workers=0)\n",
    "        model.save(\"Word2vec_models/test_word2vec.model\")\n",
    "        word_vectors = model.wv\n",
    "        del model\n",
    "    model.build_vocab(seq['keywords'], update=True)\n",
    "    model.train(seq['keywords'], total_examples=model.corpus_count, epochs=model.epochs)\n",
    "    word_vectors = model.wv\n",
    "    \n",
    "\n",
    "    i=0\n",
    "    for keywords in seq.keywords:\n",
    "        for keyword in keywords:\n",
    "            i+=1\n",
    "\n",
    "    arr=np.ndarray((i,100))\n",
    "    i=0\n",
    "    for keywords in seq.keywords:\n",
    "\n",
    "        for keyword in keywords:\n",
    "            \n",
    "            arr[i]=word_vectors[keyword]\n",
    "            i+=1\n",
    "    X=arr\n",
    "    #kmeans=k_means(X,n_clusters=5,n_init='auto')\n",
    "    #centroids=kmeans[0]\n",
    "    if False:\n",
    "        kmeans=KMeans(n_clusters=n_clusters,init=centroids,n_init=1)\n",
    "        kmeans.fit(X)\n",
    "        centroids=kmeans.cluster_centers_\n",
    "    kclusterer = KMeansClusterer(NUM_CLUSTERS, distance=cosine_distance,avoid_empty_clusters=True,initial_means=L_centroids,repeats=1)\n",
    "    assigned_clusters = kclusterer.cluster(X,assign_clusters=True)\n",
    "    L_centroids=kclusterer.means()\n",
    "    \n",
    "\n",
    "\n",
    "    list_of_centroids_cos.append(L_centroids)\n",
    "    l_image_of_centroids=[]\n",
    "    \n",
    "    n_top_word=5\n",
    "    for i in range(len(L_centroids)):\n",
    "        #print(word_vectors.similar_by_vector(centroids[i],topn=1))\n",
    "        closest_word_of_centroid=word_vectors.similar_by_vector(L_centroids[i],topn=n_top_word)\n",
    "        l_image_of_centroids.append(closest_word_of_centroid)\n",
    "    list_of_centroids_with_words_cos.append(l_image_of_centroids)\n",
    "    #display(Markdown('### New centroids'))\n",
    "    #for i in range(centroids.shape[0]):\n",
    "        #print(word_vectors.similar_by_vector(centroids[i],topn=1))\n",
    "print('finish')"
   ]
  },
  {
   "cell_type": "code",
   "execution_count": 333,
   "metadata": {},
   "outputs": [
    {
     "name": "stdout",
     "output_type": "stream",
     "text": [
      "max distance for cluster 0 = 0.293415\n",
      "max distance for cluster 1 = 0.328015\n",
      "max distance for cluster 2 = 0.399435\n",
      "max distance for cluster 3 = 0.126180\n",
      "max distance for cluster 4 = 0.503025\n",
      "max distance for cluster 5 = 0.086158\n",
      "max distance for cluster 6 = 0.431412\n",
      "max distance for cluster 7 = 0.572225\n",
      "max distance for cluster 8 = 0.067804\n",
      "max distance for cluster 9 = 0.255565\n"
     ]
    }
   ],
   "source": [
    "L_dist=[]\n",
    "L_dist_max=[]\n",
    "for j in range(len(list_of_centroids_cos[i])):\n",
    "    L_dist_per_cluster=[0]\n",
    "    for i in range(1,len(list_of_centroids_cos)):\n",
    "        L_dist_per_cluster.append(cosine_distance(list_of_centroids_cos[i][j],list_of_centroids_cos[i-1][j]))\n",
    "    L_dist.append(L_dist_per_cluster)\n",
    "    L_dist_max.append(np.asarray(L_dist_per_cluster).max())\n",
    "    print(\"max distance for cluster \"+str(j)+\" = %f\"%np.asarray(L_dist_per_cluster).max())"
   ]
  },
  {
   "cell_type": "code",
   "execution_count": 334,
   "metadata": {},
   "outputs": [
    {
     "data": {
      "text/plain": [
       "7"
      ]
     },
     "execution_count": 334,
     "metadata": {},
     "output_type": "execute_result"
    }
   ],
   "source": [
    "cluster_max_distance=np.where(L_dist_max == np.max(L_dist_max))[0][0]\n",
    "cluster_max_distance"
   ]
  },
  {
   "cell_type": "code",
   "execution_count": 335,
   "metadata": {},
   "outputs": [
    {
     "name": "stdout",
     "output_type": "stream",
     "text": [
      "indice de déplacement de la moyenne des points du cluster n°0 : 106\n",
      "indice de déplacement de la moyenne des points du cluster n°1 : 104\n",
      "indice de déplacement de la moyenne des points du cluster n°2 : 106\n",
      "indice de déplacement de la moyenne des points du cluster n°3 : 106\n",
      "indice de déplacement de la moyenne des points du cluster n°4 : 106\n",
      "indice de déplacement de la moyenne des points du cluster n°5 : 106\n",
      "indice de déplacement de la moyenne des points du cluster n°6 : 106\n",
      "indice de déplacement de la moyenne des points du cluster n°7 : 106\n",
      "indice de déplacement de la moyenne des points du cluster n°8 : 106\n",
      "indice de déplacement de la moyenne des points du cluster n°9 : 106\n"
     ]
    },
    {
     "data": {
      "text/plain": [
       "106"
      ]
     },
     "execution_count": 335,
     "metadata": {},
     "output_type": "execute_result"
    }
   ],
   "source": [
    "L_ind=[]\n",
    "for i in range(len(L_dist)):\n",
    "    print('indice de déplacement de la moyenne des points du cluster n°'+str(i)+\" : %d\"%np.where(np.asarray(L_dist[i])==np.asarray(L_dist[i]).max())[0][0])\n",
    "    L_ind.append(np.where(np.asarray(L_dist[i])==np.asarray(L_dist[i]).max())[0][0])\n",
    "    #print(np.where(np.asarray(L_dist[i_max])==np.asarray(L_dist[i_max]).max()))\n",
    "ind_max=int(np.max(L_ind))\n",
    "ind_max"
   ]
  },
  {
   "cell_type": "code",
   "execution_count": 336,
   "metadata": {},
   "outputs": [],
   "source": [
    "arr_dist=np.ndarray(shape=(len(L_dist),len(L_dist[0])))\n",
    "for i in range(arr_dist.shape[0]):\n",
    "    for j in range(arr_dist.shape[1]):\n",
    "        arr_dist[i,j]=L_dist[i][j]"
   ]
  },
  {
   "cell_type": "code",
   "execution_count": 337,
   "metadata": {},
   "outputs": [],
   "source": [
    "l_sent_cos=[]\n",
    "for i in range(len(L_cos)):\n",
    "    l_sent_cos.append(L_cos[i].sentiment_polarity.mean())\n",
    "\n",
    "n_tweets_cos=[]\n",
    "for i in range(len(L_cos)):\n",
    "    n_tweets_cos.append(L_cos[i].shape[0])\n"
   ]
  },
  {
   "cell_type": "code",
   "execution_count": 338,
   "metadata": {},
   "outputs": [
    {
     "data": {
      "text/plain": [
       "Text(0, 0.5, 'mean sentiment polarity')"
      ]
     },
     "execution_count": 338,
     "metadata": {},
     "output_type": "execute_result"
    },
    {
     "data": {
      "image/png": "[encoded data removed]",
      "text/plain": [
       "<Figure size 432x288 with 2 Axes>"
      ]
     },
     "metadata": {
      "needs_background": "light"
     },
     "output_type": "display_data"
    }
   ],
   "source": [
    "\n",
    "fig, axe1_X = plt.subplots()\n",
    "axe2_X = axe1_X.twinx()\n",
    "color1='red'\n",
    "color2='blue'\n",
    "axe1_X.plot(range(len(L_cos)), n_tweets_cos, color1)\n",
    "axe2_X.plot(range(len(L_cos)), l_sent_cos, color2)\n",
    "axe1_X.set_xlabel('days')\n",
    "axe1_X.set_ylabel('number of tweets', color=color1)\n",
    "axe2_X.set_ylabel('mean sentiment polarity', color=color2)\n"
   ]
  },
  {
   "cell_type": "code",
   "execution_count": 339,
   "metadata": {},
   "outputs": [
    {
     "data": {
      "image/png": "[encoded data removed]",
      "text/plain": [
       "<Figure size 432x288 with 1 Axes>"
      ]
     },
     "metadata": {
      "needs_background": "light"
     },
     "output_type": "display_data"
    }
   ],
   "source": [
    "import numpy as np\n",
    "import matplotlib.pyplot as plt\n",
    "\n",
    "ind_test=112\n",
    "arr = arr_dist[:,0:ind_test]\n",
    "\n",
    "# plot the values of the 10 points against the x-axis values\n",
    "x = np.arange(ind_test)\n",
    "for i in range(NUM_CLUSTERS):\n",
    "    plt.scatter(x, arr[i])\n",
    "    \n",
    "\n",
    "# set the title and labels for the plot\n",
    "plt.title('Distances between past cluster')\n",
    "plt.xlabel('X-axis values')\n",
    "plt.ylabel('Values')\n",
    "\n",
    "# display the plot\n",
    "plt.show()\n"
   ]
  },
  {
   "attachments": {},
   "cell_type": "markdown",
   "metadata": {},
   "source": [
    "### For each iteration we look at the cluster that move the most"
   ]
  },
  {
   "cell_type": "code",
   "execution_count": 340,
   "metadata": {},
   "outputs": [
    {
     "data": {
      "text/plain": [
       "array([ 0., 22., 20.,  1., 19.,  0., 30., 18.,  0.,  1.])"
      ]
     },
     "execution_count": 340,
     "metadata": {},
     "output_type": "execute_result"
    }
   ],
   "source": [
    "counting=np.zeros(NUM_CLUSTERS)\n",
    "for i in range(arr.shape[1]):\n",
    "    counting[np.where(arr[:,i]==arr[:,i].max())]+=1\n",
    "counting-=counting.min()\n",
    "counting"
   ]
  },
  {
   "cell_type": "code",
   "execution_count": 373,
   "metadata": {},
   "outputs": [
    {
     "data": {
      "text/plain": [
       "[('george', 0.8995270729064941),\n",
       " ('video', 0.46493321657180786),\n",
       " ('penalties', 0.3765183985233307),\n",
       " ('criminalintensions', 0.34576156735420227),\n",
       " ('live', 0.34187978506088257)]"
      ]
     },
     "execution_count": 373,
     "metadata": {},
     "output_type": "execute_result"
    }
   ],
   "source": [
    "list_of_centroids_with_words_cos[ind_max][cluster_max_distance]"
   ]
  },
  {
   "cell_type": "code",
   "execution_count": 374,
   "metadata": {},
   "outputs": [
    {
     "data": {
      "image/png": "[encoded data removed]",
      "text/plain": [
       "<Figure size 432x288 with 1 Axes>"
      ]
     },
     "metadata": {
      "needs_background": "light"
     },
     "output_type": "display_data"
    }
   ],
   "source": [
    "plt.bar(range(NUM_CLUSTERS),counting)\n",
    "plt.show()"
   ]
  },
  {
   "cell_type": "code",
   "execution_count": 375,
   "metadata": {},
   "outputs": [],
   "source": [
    "def top_n_ind(arr_in,n):\n",
    "    arr=arr_in.copy()\n",
    "    #out=np.zeros(n,dtype=int)\n",
    "    out=[]\n",
    "    i=0\n",
    "    while (i<n and arr[arr.argmax()]!=-1):\n",
    "        out.append(arr.argmax())\n",
    "        arr[arr.argmax()]=-1\n",
    "        i+=1\n",
    "    return(np.asarray(out))"
   ]
  },
  {
   "cell_type": "code",
   "execution_count": 376,
   "metadata": {},
   "outputs": [],
   "source": [
    "arr_centroids_words=np.ndarray((len(L_cos),NUM_CLUSTERS),dtype=object)\n",
    "for i in range(arr_centroids_words.shape[0]):\n",
    "    for j in range(arr_centroids_words.shape[1]):\n",
    "        arr_centroids_words[i,j]=list_of_centroids_with_words_cos[i][j]"
   ]
  },
  {
   "cell_type": "code",
   "execution_count": 381,
   "metadata": {},
   "outputs": [
    {
     "data": {
      "text/plain": [
       "array([list([('justiceforgeorgefloyd', 0.44543907046318054), ('officer', 0.38190606236457825), ('unspeakable', 0.3689442276954651), ('bang', 0.3665825128555298), ('nobody', 0.3612801134586334)]),\n",
       "       list([('racism', 0.5108630657196045), ('life', 0.4935244023799896), ('folks', 0.4226604998111725), ('rip', 0.40359506011009216), ('words', 0.39494726061820984)]),\n",
       "       list([('icantbreathe', 0.8599129319190979), ('time', 0.44545090198516846), ('enemy', 0.42822161316871643), ('piers', 0.3633686602115631), ('please', 0.35530149936676025)])],\n",
       "      dtype=object)"
      ]
     },
     "execution_count": 381,
     "metadata": {},
     "output_type": "execute_result"
    }
   ],
   "source": [
    "arr_centroids_words[ind_max,top_n_ind(counting,3)]"
   ]
  },
  {
   "attachments": {},
   "cell_type": "markdown",
   "metadata": {},
   "source": [
    "### Two things :\n",
    "- We can follow the clusters that move the most before the strong signal appear. Those clusters tend to be the heart of the strong signal\n",
    "- However the most signifant cluster will be the one that move the most when important new keywords appear and we can't say that it we'll be part of the most moving clusters\n",
    "\n",
    "## Results :"
   ]
  },
  {
   "attachments": {},
   "cell_type": "markdown",
   "metadata": {},
   "source": [
    "Cluster that moves the most in general :"
   ]
  },
  {
   "cell_type": "code",
   "execution_count": 385,
   "metadata": {},
   "outputs": [
    {
     "data": {
      "text/plain": [
       "array([list([('justiceforgeorgefloyd', 0.44543907046318054), ('officer', 0.38190606236457825), ('unspeakable', 0.3689442276954651), ('bang', 0.3665825128555298), ('nobody', 0.3612801134586334)]),\n",
       "       list([('racism', 0.5108630657196045), ('life', 0.4935244023799896), ('folks', 0.4226604998111725), ('rip', 0.40359506011009216), ('words', 0.39494726061820984)]),\n",
       "       list([('icantbreathe', 0.8599129319190979), ('time', 0.44545090198516846), ('enemy', 0.42822161316871643), ('piers', 0.3633686602115631), ('please', 0.35530149936676025)])],\n",
       "      dtype=object)"
      ]
     },
     "execution_count": 385,
     "metadata": {},
     "output_type": "execute_result"
    }
   ],
   "source": [
    "arr_centroids_words[ind_max,top_n_ind(counting,3)]"
   ]
  },
  {
   "attachments": {},
   "cell_type": "markdown",
   "metadata": {},
   "source": [
    "Cluster that move the most in one iteration"
   ]
  },
  {
   "cell_type": "code",
   "execution_count": 384,
   "metadata": {},
   "outputs": [
    {
     "data": {
      "text/plain": [
       "[('george', 0.8995270729064941),\n",
       " ('video', 0.46493321657180786),\n",
       " ('penalties', 0.3765183985233307),\n",
       " ('criminalintensions', 0.34576156735420227),\n",
       " ('live', 0.34187978506088257)]"
      ]
     },
     "execution_count": 384,
     "metadata": {},
     "output_type": "execute_result"
    }
   ],
   "source": [
    "arr_centroids_words[ind_max,cluster_max_distance]"
   ]
  },
  {
   "cell_type": "markdown",
   "metadata": {},
   "source": []
  }
 ],
 "metadata": {
  "kernelspec": {
   "display_name": "base",
   "language": "python",
   "name": "python3"
  },
  "language_info": {
   "codemirror_mode": {
    "name": "ipython",
    "version": 3
   },
   "file_extension": ".py",
   "mimetype": "text/x-python",
   "name": "python",
   "nbconvert_exporter": "python",
   "pygments_lexer": "ipython3",
   "version": "3.9.12"
  },
  "orig_nbformat": 4,
  "vscode": {
   "interpreter": {
    "hash": "7339996d7815a0ae30850c182ba9bbc0a1cb89e61563a0ae1819bddf17b67295"
   }
  }
 },
 "nbformat": 4,
 "nbformat_minor": 2
}
