{
 "cells": [
  {
   "cell_type": "code",
   "execution_count": 1,
   "metadata": {},
   "outputs": [
    {
     "name": "stdout",
     "output_type": "stream",
     "text": [
      "Requirement already satisfied: textblob in /Users/yohanismael/opt/anaconda3/lib/python3.9/site-packages (0.17.1)\n",
      "Requirement already satisfied: nltk>=3.1 in /Users/yohanismael/opt/anaconda3/lib/python3.9/site-packages (from textblob) (3.7)\n",
      "Requirement already satisfied: regex>=2021.8.3 in /Users/yohanismael/opt/anaconda3/lib/python3.9/site-packages (from nltk>=3.1->textblob) (2022.3.15)\n",
      "Requirement already satisfied: tqdm in /Users/yohanismael/opt/anaconda3/lib/python3.9/site-packages (from nltk>=3.1->textblob) (4.64.0)\n",
      "Requirement already satisfied: joblib in /Users/yohanismael/opt/anaconda3/lib/python3.9/site-packages (from nltk>=3.1->textblob) (1.2.0)\n",
      "Requirement already satisfied: click in /Users/yohanismael/opt/anaconda3/lib/python3.9/site-packages (from nltk>=3.1->textblob) (8.1.3)\n",
      "Note: you may need to restart the kernel to use updated packages.\n",
      "[nltk_data] Downloading package brown to\n",
      "[nltk_data]     /Users/yohanismael/nltk_data...\n",
      "[nltk_data]   Package brown is already up-to-date!\n",
      "[nltk_data] Downloading package punkt to\n",
      "[nltk_data]     /Users/yohanismael/nltk_data...\n",
      "[nltk_data]   Package punkt is already up-to-date!\n",
      "[nltk_data] Downloading package wordnet to\n",
      "[nltk_data]     /Users/yohanismael/nltk_data...\n",
      "[nltk_data]   Package wordnet is already up-to-date!\n",
      "[nltk_data] Downloading package averaged_perceptron_tagger to\n",
      "[nltk_data]     /Users/yohanismael/nltk_data...\n",
      "[nltk_data]   Package averaged_perceptron_tagger is already up-to-\n",
      "[nltk_data]       date!\n",
      "[nltk_data] Downloading package conll2000 to\n",
      "[nltk_data]     /Users/yohanismael/nltk_data...\n",
      "[nltk_data]   Package conll2000 is already up-to-date!\n",
      "[nltk_data] Downloading package movie_reviews to\n",
      "[nltk_data]     /Users/yohanismael/nltk_data...\n",
      "[nltk_data]   Package movie_reviews is already up-to-date!\n",
      "Finished.\n",
      "Requirement already satisfied: nltk in /Users/yohanismael/opt/anaconda3/lib/python3.9/site-packages (3.7)\n",
      "Requirement already satisfied: regex>=2021.8.3 in /Users/yohanismael/opt/anaconda3/lib/python3.9/site-packages (from nltk) (2022.3.15)\n",
      "Requirement already satisfied: tqdm in /Users/yohanismael/opt/anaconda3/lib/python3.9/site-packages (from nltk) (4.64.0)\n",
      "Requirement already satisfied: joblib in /Users/yohanismael/opt/anaconda3/lib/python3.9/site-packages (from nltk) (1.2.0)\n",
      "Requirement already satisfied: click in /Users/yohanismael/opt/anaconda3/lib/python3.9/site-packages (from nltk) (8.1.3)\n",
      "Note: you may need to restart the kernel to use updated packages.\n",
      "Requirement already satisfied: gensim in /Users/yohanismael/opt/anaconda3/lib/python3.9/site-packages (4.3.1)\n",
      "Requirement already satisfied: numpy>=1.18.5 in /Users/yohanismael/opt/anaconda3/lib/python3.9/site-packages (from gensim) (1.23.4)\n",
      "Requirement already satisfied: smart-open>=1.8.1 in /Users/yohanismael/opt/anaconda3/lib/python3.9/site-packages (from gensim) (5.1.0)\n",
      "Requirement already satisfied: scipy>=1.7.0 in /Users/yohanismael/opt/anaconda3/lib/python3.9/site-packages (from gensim) (1.9.3)\n",
      "Note: you may need to restart the kernel to use updated packages.\n"
     ]
    }
   ],
   "source": [
    "%pip install -U textblob\n",
    "!python -m textblob.download_corpora\n",
    "\n",
    "%pip install nltk\n",
    "\n",
    "%pip install --upgrade gensim"
   ]
  },
  {
   "cell_type": "code",
   "execution_count": 2,
   "metadata": {},
   "outputs": [
    {
     "data": {
      "text/markdown": [
       "# Start Coding"
      ],
      "text/plain": [
       "<IPython.core.display.Markdown object>"
      ]
     },
     "metadata": {},
     "output_type": "display_data"
    }
   ],
   "source": [
    "import nltk\n",
    "\n",
    "import pandas as pd\n",
    "import numpy as np\n",
    "import matplotlib.pyplot as plt\n",
    "from textblob import TextBlob\n",
    "from datetime import datetime\n",
    "\n",
    "import gensim\n",
    "from gensim.models import Word2Vec\n",
    "\n",
    "from datetime import datetime\n",
    "\n",
    "from IPython.display import Markdown, display\n",
    "string = '# Start'\n",
    "display(Markdown(string+' Coding'))"
   ]
  },
  {
   "cell_type": "code",
   "execution_count": 3,
   "metadata": {},
   "outputs": [],
   "source": [
    "def str_to_timestamp(s):\n",
    "    out=[]\n",
    "\n",
    "    s2=str.split(s,'+')\n",
    "    s3=str.split(s2[0],' ')\n",
    "\n",
    "    s4=str.split(s3[0],'-')\n",
    "\n",
    "    s5=str.split(s3[1],':')\n",
    "    year=int(s4[0])\n",
    "    month=int(s4[1])\n",
    "    day=int(s4[2])\n",
    "    hour=int(s5[0])\n",
    "    minute=int(s5[1])\n",
    "    second=int(s5[2])\n",
    "\n",
    "    return(datetime(year=year,month=month,day=day,hour=hour,minute=minute,second=second).timestamp())\n",
    "\n",
    "from nltk.tokenize import word_tokenize\n",
    "\n",
    "def NumStr(mot):\n",
    "    res = ''.join(filter(lambda i: i.isdigit(), mot))\n",
    "    if (res==''):\n",
    "        return False\n",
    "    return True\n",
    "\n",
    "\n",
    "def extract_keywords(text):\n",
    "    # Tokenize the text\n",
    "    tokens = word_tokenize(text)\n",
    "\n",
    "    # Apply part-of-speech tagging\n",
    "    tagged_tokens = nltk.pos_tag(tokens)\n",
    "\n",
    "    # Select only nouns and adjectives\n",
    "    keywords = [word for word, pos in tagged_tokens if (pos in ['NN', 'NNS', 'NNP', 'NNPS', 'JJ', 'JJR', 'JJS'] and not NumStr(word))]\n",
    "\n",
    "    return keywords\n",
    "\n",
    "def extract_sentiment_polarity(text):\n",
    "    blob=TextBlob(text)\n",
    "    return(blob.sentiment.polarity)\n",
    "\n",
    "def sliding_window(df,size,sliding):\n",
    "    X_out=[]\n",
    "\n",
    "    for time in range(0,int(df['timestamps'].max()),sliding):\n",
    "        o=df[df.timestamps<time+size]\n",
    "        X_out.append(o[o.timestamps>time])\n",
    "\n",
    "        print(\"%.3f\" % (time/int(df['timestamps'].max())), end=\"\\r\")\n",
    "    print(\"end sliding windows\")\n",
    "    return X_out[:-1]"
   ]
  },
  {
   "cell_type": "code",
   "execution_count": 4,
   "metadata": {},
   "outputs": [
    {
     "name": "stdout",
     "output_type": "stream",
     "text": [
      "start\n",
      "end of keywords\n",
      "end of polarity\n",
      "end of timestamps\n"
     ]
    }
   ],
   "source": [
    "data=pd.read_csv('data/minnesota.csv')\n",
    "df=data\n",
    "print('start')\n",
    "\n",
    "df['keywords'] = df['tweet_text'].apply(extract_keywords)\n",
    "\n",
    "print('end of keywords')\n",
    "\n",
    "df['sentiment_polarity']=df['tweet_text'].apply(extract_sentiment_polarity)\n",
    "\n",
    "print('end of polarity')\n",
    "\n",
    "df['timestamps']=df['tweet_created_dt'].apply(str_to_timestamp)\n",
    "df['timestamps']=df['timestamps']-df['timestamps'].min()\n",
    "\n",
    "print('end of timestamps')\n",
    "\n",
    "clean_data=df"
   ]
  },
  {
   "cell_type": "code",
   "execution_count": 5,
   "metadata": {},
   "outputs": [
    {
     "name": "stdout",
     "output_type": "stream",
     "text": [
      "end sliding windows\n"
     ]
    }
   ],
   "source": [
    "time_day=60*60*24\n",
    "size=time_day*3\n",
    "slide=time_day//2\n",
    "L=sliding_window(clean_data,size,slide)"
   ]
  },
  {
   "cell_type": "code",
   "execution_count": 6,
   "metadata": {},
   "outputs": [],
   "source": [
    "l_sent=[]\n",
    "for i in range(len(L)):\n",
    "    l_sent.append(L[i].sentiment_polarity.mean())\n",
    "\n",
    "n_tweets=[]\n",
    "for i in range(len(L)):\n",
    "    n_tweets.append(L[i].shape[0])\n"
   ]
  },
  {
   "cell_type": "code",
   "execution_count": 7,
   "metadata": {},
   "outputs": [
    {
     "data": {
      "image/png": "[encoded data removed]",
      "text/plain": [
       "<Figure size 432x288 with 2 Axes>"
      ]
     },
     "metadata": {
      "needs_background": "light"
     },
     "output_type": "display_data"
    }
   ],
   "source": [
    "fig, axe1_X = plt.subplots()\n",
    "axe2_X = axe1_X.twinx()\n",
    "color1='red'\n",
    "color2='blue'\n",
    "axe1_X.plot(range(len(L)), n_tweets, color1)\n",
    "axe2_X.plot(range(len(L)), l_sent, color2)\n",
    "axe1_X.set_xlabel('number of 12 hours past')\n",
    "axe1_X.set_ylabel('number of tweets', color=color1)\n",
    "axe2_X.set_ylabel('mean sentiment polarity', color=color2)\n",
    "plt.savefig(\"figures_out/n_tweets_and_sent_pol.png\",transparent=True)"
   ]
  },
  {
   "cell_type": "code",
   "execution_count": 8,
   "metadata": {},
   "outputs": [],
   "source": [
    "def smooth(y, box_pts):\n",
    "    box = np.ones(box_pts)/box_pts\n",
    "    y_smooth = np.convolve(y, box, mode='same')\n",
    "    return y_smooth\n",
    "\n",
    "time_day=60*60*24\n",
    "nb_bins=int(clean_data['timestamps'].max()/time_day)\n",
    "coef_smooth=int(nb_bins/10)\n",
    "\n",
    "hist,e=np.histogram(clean_data['timestamps'],nb_bins)\n",
    "smooth_hist=smooth(hist,coef_smooth)\n",
    "x_hist=range(nb_bins)\n",
    "dhist=np.gradient(smooth_hist,x_hist)\n",
    "#plt.plot(x_hist,dhist)\n",
    "the_time=e[dhist.argmax()]"
   ]
  },
  {
   "cell_type": "code",
   "execution_count": 9,
   "metadata": {},
   "outputs": [],
   "source": [
    "def cut_at_time_t(L,t):\n",
    "    L_out=[]\n",
    "    k=L[0].timestamps.max()\n",
    "    i=0\n",
    "    while k<t: \n",
    "        k=L[i].timestamps.max()\n",
    "        L_out.append(L[i])\n",
    "        i+=1\n",
    "    return(L_out)"
   ]
  },
  {
   "cell_type": "code",
   "execution_count": 10,
   "metadata": {},
   "outputs": [],
   "source": [
    "if False:\n",
    "    L_use=[]\n",
    "    k=L[0].timestamps.max()\n",
    "    i=0\n",
    "    while k<the_time: \n",
    "        k=L[i].timestamps.max()\n",
    "        L_use.append(L[i])\n",
    "        i+=1"
   ]
  },
  {
   "cell_type": "code",
   "execution_count": 11,
   "metadata": {},
   "outputs": [],
   "source": [
    "L_use=cut_at_time_t(L,the_time)"
   ]
  },
  {
   "attachments": {},
   "cell_type": "markdown",
   "metadata": {},
   "source": [
    "We want to identify the weak signal before this time ( which is the time where the number of tweets increase the most) and as soon as possible"
   ]
  },
  {
   "cell_type": "code",
   "execution_count": 12,
   "metadata": {},
   "outputs": [
    {
     "name": "stdout",
     "output_type": "stream",
     "text": [
      "108\n"
     ]
    }
   ],
   "source": [
    "from nltk.cluster.kmeans import KMeansClusterer\n",
    "from nltk.cluster.util import cosine_distance\n",
    "\n",
    "L_cos=L_use\n",
    "first=L_cos[0]\n",
    "print(len(L_cos))"
   ]
  },
  {
   "cell_type": "code",
   "execution_count": 13,
   "metadata": {},
   "outputs": [],
   "source": [
    "def clustering(L,vector_size=100,NUM_CLUSTERS=10,n_top_word=5,keywordColumnName='keywords'):\n",
    "    L_cos=L\n",
    "    first=L_cos[0]\n",
    "    model = Word2Vec(sentences=first[keywordColumnName], vector_size=vector_size, window=0, min_count=0, workers=0)\n",
    "    model.save(\"Word2vec_models/test_word2vec.model\")\n",
    "    word_vectors = model.wv\n",
    "\n",
    "    i=0\n",
    "    for keywords in first[keywordColumnName]:\n",
    "        for keyword in keywords:\n",
    "            i+=1\n",
    "\n",
    "    arr=np.ndarray((i,vector_size))\n",
    "    i=0\n",
    "    for keywords in first[keywordColumnName]:\n",
    "\n",
    "        for keyword in keywords:\n",
    "            \n",
    "            arr[i]=word_vectors[keyword]\n",
    "            i+=1\n",
    "\n",
    "    X=arr\n",
    "\n",
    "    kclusterer = KMeansClusterer(NUM_CLUSTERS, distance=cosine_distance, repeats=25,avoid_empty_clusters=True)\n",
    "    assigned_clusters = kclusterer.cluster(X,assign_clusters=True)\n",
    "\n",
    "    L_centroids=kclusterer.means()\n",
    "\n",
    "    l_image_of_centroids=[]\n",
    "        \n",
    "    n_top_word=5\n",
    "    for i in range(len(L_centroids)):\n",
    "            #print(word_vectors.similar_by_vector(centroids[i],topn=1))\n",
    "        closest_word_of_centroid=word_vectors.similar_by_vector(L_centroids[i],topn=n_top_word)\n",
    "        l_image_of_centroids.append(closest_word_of_centroid)\n",
    "\n",
    "\n",
    "    itt=0\n",
    "    itt_max=len(L_cos)\n",
    "    list_of_centroids_cos=[L_centroids]\n",
    "    list_of_centroids_with_words_cos=[l_image_of_centroids]\n",
    "\n",
    "    for seq in L_cos[1:]:\n",
    "        print(\"%.3f\" % (itt/itt_max), end=\"\\r\")\n",
    "        itt+=1\n",
    "        model.build_vocab(seq[keywordColumnName], update=True)\n",
    "        model.train(seq[keywordColumnName], total_examples=model.corpus_count, epochs=model.epochs)\n",
    "        word_vectors = model.wv\n",
    "        \n",
    "\n",
    "        i=0\n",
    "        for keywords in seq[keywordColumnName]:\n",
    "            for keyword in keywords:\n",
    "                i+=1\n",
    "\n",
    "            arr=np.ndarray((i,vector_size))\n",
    "        i=0\n",
    "        for keywords in seq[keywordColumnName]:\n",
    "            for keyword in keywords:\n",
    "                arr[i]=word_vectors[keyword]\n",
    "                i+=1\n",
    "        X=arr\n",
    "\n",
    "\n",
    "        kclusterer = KMeansClusterer(NUM_CLUSTERS, distance=cosine_distance,avoid_empty_clusters=True,initial_means=L_centroids,repeats=1)\n",
    "        assigned_clusters = kclusterer.cluster(X,assign_clusters=True)\n",
    "        L_centroids=kclusterer.means()\n",
    "        \n",
    "\n",
    "\n",
    "        list_of_centroids_cos.append(L_centroids)\n",
    "        l_image_of_centroids=[]\n",
    "        \n",
    "        \n",
    "\n",
    "        for i in range(len(L_centroids)):\n",
    "            closest_word_of_centroid=word_vectors.similar_by_vector(L_centroids[i],topn=n_top_word)\n",
    "            l_image_of_centroids.append(closest_word_of_centroid)\n",
    "\n",
    "        list_of_centroids_with_words_cos.append(l_image_of_centroids)\n",
    "\n",
    "    print('end clustering')\n",
    "    return(list_of_centroids_cos,list_of_centroids_with_words_cos)"
   ]
  },
  {
   "cell_type": "code",
   "execution_count": 238,
   "metadata": {},
   "outputs": [],
   "source": [
    "NUM_CLUSTERS=15\n",
    "vector_size=10\n",
    "n_top_word=5\n",
    "\n",
    "time_day=60*60*24\n",
    "\n",
    "size=time_day*2\n",
    "slide=time_day//2"
   ]
  },
  {
   "cell_type": "code",
   "execution_count": 239,
   "metadata": {},
   "outputs": [],
   "source": [
    "def from_dataset_to_clusters(dataset,size_window=size,slide_window=slide,vector_size=vector_size,NUM_CLUSTERS=NUM_CLUSTERS,n_top_word=n_top_word,keywordColumnName='keywords'):\n",
    "    L=sliding_window(dataset,size_window,slide_window)\n",
    "    L_use=cut_at_time_t(L,the_time)\n",
    "    l_cent,l_cent_words=clustering(L_use,vector_size=vector_size,NUM_CLUSTERS=NUM_CLUSTERS,n_top_word=n_top_word,keywordColumnName=keywordColumnName)\n",
    "    return(l_cent,l_cent_words)"
   ]
  },
  {
   "cell_type": "code",
   "execution_count": 240,
   "metadata": {},
   "outputs": [
    {
     "name": "stdout",
     "output_type": "stream",
     "text": [
      "end sliding windows\n",
      "end clustering\n"
     ]
    },
    {
     "data": {
      "text/plain": [
       "110"
      ]
     },
     "execution_count": 240,
     "metadata": {},
     "output_type": "execute_result"
    }
   ],
   "source": [
    "list_of_centroids_cos,list_of_centroids_with_words_cos=from_dataset_to_clusters(clean_data,\n",
    "                                                                                size_window=size,\n",
    "                                                                                slide_window=slide,\n",
    "                                                                                vector_size=vector_size,\n",
    "                                                                                NUM_CLUSTERS=NUM_CLUSTERS,\n",
    "                                                                                n_top_word=n_top_word)\n",
    "\n",
    "len(list_of_centroids_cos)"
   ]
  },
  {
   "cell_type": "code",
   "execution_count": 225,
   "metadata": {},
   "outputs": [
    {
     "name": "stdout",
     "output_type": "stream",
     "text": [
      "max distance for cluster 0 = 0.547496\n",
      "max distance for cluster 1 = 0.422014\n",
      "max distance for cluster 2 = 0.628929\n",
      "max distance for cluster 3 = 0.342779\n",
      "max distance for cluster 4 = 0.566294\n",
      "max distance for cluster 5 = 0.810404\n",
      "max distance for cluster 6 = 0.037554\n",
      "max distance for cluster 7 = 0.483807\n",
      "max distance for cluster 8 = 0.696706\n",
      "max distance for cluster 9 = 0.899571\n",
      "max distance for cluster 10 = 0.860710\n",
      "max distance for cluster 11 = 0.057638\n",
      "max distance for cluster 12 = 0.508215\n",
      "max distance for cluster 13 = 0.606118\n",
      "max distance for cluster 14 = 0.328654\n"
     ]
    }
   ],
   "source": [
    "L_dist=[]\n",
    "L_dist_max=[]\n",
    "for j in range(len(list_of_centroids_cos[0])):\n",
    "    L_dist_per_cluster=[0]\n",
    "    for i in range(1,len(list_of_centroids_cos)):\n",
    "        L_dist_per_cluster.append(cosine_distance(list_of_centroids_cos[i][j],list_of_centroids_cos[i-1][j]))\n",
    "    L_dist.append(L_dist_per_cluster)\n",
    "    L_dist_max.append(np.asarray(L_dist_per_cluster).max())\n",
    "    print(\"max distance for cluster \"+str(j)+\" = %f\"%np.asarray(L_dist_per_cluster).max())"
   ]
  },
  {
   "cell_type": "code",
   "execution_count": 226,
   "metadata": {},
   "outputs": [
    {
     "data": {
      "text/plain": [
       "9"
      ]
     },
     "execution_count": 226,
     "metadata": {},
     "output_type": "execute_result"
    }
   ],
   "source": [
    "cluster_max_distance=np.where(L_dist_max == np.max(L_dist_max))[0][0]\n",
    "cluster_max_distance"
   ]
  },
  {
   "cell_type": "code",
   "execution_count": 227,
   "metadata": {},
   "outputs": [
    {
     "name": "stdout",
     "output_type": "stream",
     "text": [
      "indice de déplacement de la moyenne des points du cluster n°0 : 8\n",
      "indice de déplacement de la moyenne des points du cluster n°1 : 108\n",
      "indice de déplacement de la moyenne des points du cluster n°2 : 8\n",
      "indice de déplacement de la moyenne des points du cluster n°3 : 6\n",
      "indice de déplacement de la moyenne des points du cluster n°4 : 108\n",
      "indice de déplacement de la moyenne des points du cluster n°5 : 1\n",
      "indice de déplacement de la moyenne des points du cluster n°6 : 106\n",
      "indice de déplacement de la moyenne des points du cluster n°7 : 104\n",
      "indice de déplacement de la moyenne des points du cluster n°8 : 108\n",
      "indice de déplacement de la moyenne des points du cluster n°9 : 2\n",
      "indice de déplacement de la moyenne des points du cluster n°10 : 3\n",
      "indice de déplacement de la moyenne des points du cluster n°11 : 108\n",
      "indice de déplacement de la moyenne des points du cluster n°12 : 108\n",
      "indice de déplacement de la moyenne des points du cluster n°13 : 2\n",
      "indice de déplacement de la moyenne des points du cluster n°14 : 108\n"
     ]
    },
    {
     "data": {
      "text/plain": [
       "108"
      ]
     },
     "execution_count": 227,
     "metadata": {},
     "output_type": "execute_result"
    }
   ],
   "source": [
    "L_ind=[]\n",
    "for i in range(len(L_dist)):\n",
    "    print('indice de déplacement de la moyenne des points du cluster n°'+str(i)+\" : %d\"%np.where(np.asarray(L_dist[i])==np.asarray(L_dist[i]).max())[0][0])\n",
    "    L_ind.append(np.where(np.asarray(L_dist[i])==np.asarray(L_dist[i]).max())[0][0])\n",
    "    #print(np.where(np.asarray(L_dist[i_max])==np.asarray(L_dist[i_max]).max()))\n",
    "ind_max=int(np.max(L_ind))\n",
    "ind_max"
   ]
  },
  {
   "cell_type": "code",
   "execution_count": 228,
   "metadata": {},
   "outputs": [],
   "source": [
    "arr_dist=np.ndarray(shape=(len(L_dist),len(L_dist[0])))\n",
    "for i in range(arr_dist.shape[0]):\n",
    "    for j in range(arr_dist.shape[1]):\n",
    "        arr_dist[i,j]=L_dist[i][j]"
   ]
  },
  {
   "cell_type": "code",
   "execution_count": 229,
   "metadata": {},
   "outputs": [
    {
     "data": {
      "image/png": "[encoded data removed]",
      "text/plain": [
       "<Figure size 432x288 with 1 Axes>"
      ]
     },
     "metadata": {
      "needs_background": "light"
     },
     "output_type": "display_data"
    }
   ],
   "source": [
    "import numpy as np\n",
    "import matplotlib.pyplot as plt\n",
    "\n",
    "ind_test=ind_max\n",
    "arr_d = arr_dist[:,0:ind_test]\n",
    "\n",
    "# plot the values of the 10 points against the x-axis values\n",
    "x = np.arange(ind_test)\n",
    "for i in range(arr_d.shape[0]):\n",
    "    plt.scatter(x, arr_d[i])\n",
    "    \n",
    "\n",
    "# set the title and labels for the plot\n",
    "plt.title('Distances between past cluster')\n",
    "plt.xlabel('X-axis values')\n",
    "plt.ylabel('Values')\n",
    "\n",
    "# display the plot\n",
    "plt.show()\n"
   ]
  },
  {
   "attachments": {},
   "cell_type": "markdown",
   "metadata": {},
   "source": [
    "### For each iteration we look at the cluster that move the most"
   ]
  },
  {
   "cell_type": "code",
   "execution_count": 230,
   "metadata": {},
   "outputs": [
    {
     "data": {
      "text/plain": [
       "array([ 3., 15., 15.,  9., 15., 16.,  0., 14.,  0.,  8., 10.,  0.,  2.,\n",
       "        0.,  0.])"
      ]
     },
     "execution_count": 230,
     "metadata": {},
     "output_type": "execute_result"
    }
   ],
   "source": [
    "counting=np.zeros(NUM_CLUSTERS)\n",
    "for i in range(arr_d.shape[1]):\n",
    "    counting[np.where(arr_d[:,i]==arr_d[:,i].max())]+=1\n",
    "counting-=counting.min()\n",
    "counting"
   ]
  },
  {
   "cell_type": "code",
   "execution_count": 231,
   "metadata": {},
   "outputs": [
    {
     "data": {
      "text/plain": [
       "[('murder', 0.9124600887298584),\n",
       " ('such', 0.3762444257736206),\n",
       " ('african', 0.3733327388763428),\n",
       " ('gross', 0.3676814138889313),\n",
       " ('testers', 0.3589495122432709)]"
      ]
     },
     "execution_count": 231,
     "metadata": {},
     "output_type": "execute_result"
    }
   ],
   "source": [
    "list_of_centroids_with_words_cos[ind_max][cluster_max_distance]"
   ]
  },
  {
   "cell_type": "code",
   "execution_count": 232,
   "metadata": {},
   "outputs": [
    {
     "data": {
      "image/png": "[encoded data removed]",
      "text/plain": [
       "<Figure size 432x288 with 1 Axes>"
      ]
     },
     "metadata": {
      "needs_background": "light"
     },
     "output_type": "display_data"
    }
   ],
   "source": [
    "plt.bar(range(NUM_CLUSTERS),counting)\n",
    "plt.show()"
   ]
  },
  {
   "cell_type": "code",
   "execution_count": 233,
   "metadata": {},
   "outputs": [],
   "source": [
    "def top_n_ind(arr_in,n):\n",
    "    arr=arr_in.copy()\n",
    "    #out=np.zeros(n,dtype=int)\n",
    "    out=[]\n",
    "    i=0\n",
    "    while (i<n and arr[arr.argmax()]!=-1):\n",
    "        out.append(arr.argmax())\n",
    "        arr[arr.argmax()]=-1\n",
    "        i+=1\n",
    "    return(np.asarray(out))"
   ]
  },
  {
   "cell_type": "code",
   "execution_count": 234,
   "metadata": {},
   "outputs": [],
   "source": [
    "arr_centroids_words=np.ndarray((len(list_of_centroids_cos),NUM_CLUSTERS),dtype=object)\n",
    "for i in range(arr_centroids_words.shape[0]):\n",
    "    for j in range(arr_centroids_words.shape[1]):\n",
    "        arr_centroids_words[i,j]=list_of_centroids_with_words_cos[i][j]"
   ]
  },
  {
   "cell_type": "code",
   "execution_count": 235,
   "metadata": {},
   "outputs": [
    {
     "data": {
      "text/plain": [
       "array([list([('video', 0.8194212317466736), ('tops', 0.3986389935016632), ('justiceforfloyd', 0.3816440999507904), ('reliant', 0.35620367527008057), ('handicap', 0.3408167064189911)]),\n",
       "       list([('officer', 0.6169644594192505), ('other', 0.4587233066558838), ('angry', 0.4162730276584625), ('bad', 0.3860785663127899), ('good', 0.3473432660102844)]),\n",
       "       list([('name', 0.7783148288726807), ('racist', 0.4560759663581848), ('cooper', 0.45542246103286743), ('nvm', 0.4203607738018036), ('fabric', 0.3397110104560852)])],\n",
       "      dtype=object)"
      ]
     },
     "execution_count": 235,
     "metadata": {},
     "output_type": "execute_result"
    }
   ],
   "source": [
    "arr_centroids_words[ind_max,top_n_ind(counting,3)]"
   ]
  },
  {
   "attachments": {},
   "cell_type": "markdown",
   "metadata": {},
   "source": [
    "### Two things :\n",
    "- We can follow the clusters that move the most before the strong signal appear. Those clusters tend to be the heart of the strong signal\n",
    "- However the most signifant cluster will be the one that move the most when important new keywords appear and we can't say that it we'll be part of the most moving clusters\n",
    "\n",
    "## Results :"
   ]
  },
  {
   "attachments": {},
   "cell_type": "markdown",
   "metadata": {},
   "source": [
    "Clusters that moves the most in general :"
   ]
  },
  {
   "cell_type": "code",
   "execution_count": 236,
   "metadata": {},
   "outputs": [
    {
     "data": {
      "text/plain": [
       "array([list([('video', 0.8194212317466736), ('tops', 0.3986389935016632), ('justiceforfloyd', 0.3816440999507904), ('reliant', 0.35620367527008057), ('handicap', 0.3408167064189911)]),\n",
       "       list([('officer', 0.6169644594192505), ('other', 0.4587233066558838), ('angry', 0.4162730276584625), ('bad', 0.3860785663127899), ('good', 0.3473432660102844)]),\n",
       "       list([('name', 0.7783148288726807), ('racist', 0.4560759663581848), ('cooper', 0.45542246103286743), ('nvm', 0.4203607738018036), ('fabric', 0.3397110104560852)])],\n",
       "      dtype=object)"
      ]
     },
     "execution_count": 236,
     "metadata": {},
     "output_type": "execute_result"
    }
   ],
   "source": [
    "arr_centroids_words[ind_max,top_n_ind(counting,3)]"
   ]
  },
  {
   "attachments": {},
   "cell_type": "markdown",
   "metadata": {},
   "source": [
    "Cluster that moves the most in one iteration"
   ]
  },
  {
   "cell_type": "code",
   "execution_count": 237,
   "metadata": {},
   "outputs": [
    {
     "data": {
      "text/plain": [
       "[('murder', 0.9124600887298584),\n",
       " ('such', 0.3762444257736206),\n",
       " ('african', 0.3733327388763428),\n",
       " ('gross', 0.3676814138889313),\n",
       " ('testers', 0.3589495122432709)]"
      ]
     },
     "execution_count": 237,
     "metadata": {},
     "output_type": "execute_result"
    }
   ],
   "source": [
    "arr_centroids_words[ind_max,cluster_max_distance]"
   ]
  },
  {
   "cell_type": "markdown",
   "metadata": {},
   "source": []
  }
 ],
 "metadata": {
  "kernelspec": {
   "display_name": "base",
   "language": "python",
   "name": "python3"
  },
  "language_info": {
   "codemirror_mode": {
    "name": "ipython",
    "version": 3
   },
   "file_extension": ".py",
   "mimetype": "text/x-python",
   "name": "python",
   "nbconvert_exporter": "python",
   "pygments_lexer": "ipython3",
   "version": "3.9.12"
  },
  "orig_nbformat": 4,
  "vscode": {
   "interpreter": {
    "hash": "7339996d7815a0ae30850c182ba9bbc0a1cb89e61563a0ae1819bddf17b67295"
   }
  }
 },
 "nbformat": 4,
 "nbformat_minor": 2
}
