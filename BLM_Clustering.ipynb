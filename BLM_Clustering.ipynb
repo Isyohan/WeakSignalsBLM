{
 "cells": [
  {
   "cell_type": "code",
   "execution_count": 2,
   "metadata": {},
   "outputs": [
    {
     "name": "stdout",
     "output_type": "stream",
     "text": [
      "Requirement already satisfied: textblob in /Users/yohanismael/opt/anaconda3/lib/python3.9/site-packages (0.17.1)\n",
      "Requirement already satisfied: nltk>=3.1 in /Users/yohanismael/opt/anaconda3/lib/python3.9/site-packages (from textblob) (3.7)\n",
      "Requirement already satisfied: joblib in /Users/yohanismael/opt/anaconda3/lib/python3.9/site-packages (from nltk>=3.1->textblob) (1.2.0)\n",
      "Requirement already satisfied: tqdm in /Users/yohanismael/opt/anaconda3/lib/python3.9/site-packages (from nltk>=3.1->textblob) (4.64.0)\n",
      "Requirement already satisfied: regex>=2021.8.3 in /Users/yohanismael/opt/anaconda3/lib/python3.9/site-packages (from nltk>=3.1->textblob) (2022.3.15)\n",
      "Requirement already satisfied: click in /Users/yohanismael/opt/anaconda3/lib/python3.9/site-packages (from nltk>=3.1->textblob) (8.1.3)\n",
      "Note: you may need to restart the kernel to use updated packages.\n",
      "[nltk_data] Downloading package brown to\n",
      "[nltk_data]     /Users/yohanismael/nltk_data...\n",
      "[nltk_data]   Package brown is already up-to-date!\n",
      "[nltk_data] Downloading package punkt to\n",
      "[nltk_data]     /Users/yohanismael/nltk_data...\n",
      "[nltk_data]   Package punkt is already up-to-date!\n",
      "[nltk_data] Downloading package wordnet to\n",
      "[nltk_data]     /Users/yohanismael/nltk_data...\n",
      "[nltk_data]   Package wordnet is already up-to-date!\n",
      "[nltk_data] Downloading package averaged_perceptron_tagger to\n",
      "[nltk_data]     /Users/yohanismael/nltk_data...\n",
      "[nltk_data]   Package averaged_perceptron_tagger is already up-to-\n",
      "[nltk_data]       date!\n",
      "[nltk_data] Downloading package conll2000 to\n",
      "[nltk_data]     /Users/yohanismael/nltk_data...\n",
      "[nltk_data]   Package conll2000 is already up-to-date!\n",
      "[nltk_data] Downloading package movie_reviews to\n",
      "[nltk_data]     /Users/yohanismael/nltk_data...\n",
      "[nltk_data]   Package movie_reviews is already up-to-date!\n",
      "Finished.\n",
      "Requirement already satisfied: nltk in /Users/yohanismael/opt/anaconda3/lib/python3.9/site-packages (3.7)\n",
      "Requirement already satisfied: click in /Users/yohanismael/opt/anaconda3/lib/python3.9/site-packages (from nltk) (8.1.3)\n",
      "Requirement already satisfied: tqdm in /Users/yohanismael/opt/anaconda3/lib/python3.9/site-packages (from nltk) (4.64.0)\n",
      "Requirement already satisfied: regex>=2021.8.3 in /Users/yohanismael/opt/anaconda3/lib/python3.9/site-packages (from nltk) (2022.3.15)\n",
      "Requirement already satisfied: joblib in /Users/yohanismael/opt/anaconda3/lib/python3.9/site-packages (from nltk) (1.2.0)\n",
      "Note: you may need to restart the kernel to use updated packages.\n",
      "Requirement already satisfied: gensim in /Users/yohanismael/opt/anaconda3/lib/python3.9/site-packages (4.3.0)\n",
      "Requirement already satisfied: numpy>=1.18.5 in /Users/yohanismael/opt/anaconda3/lib/python3.9/site-packages (from gensim) (1.23.4)\n",
      "Requirement already satisfied: FuzzyTM>=0.4.0 in /Users/yohanismael/opt/anaconda3/lib/python3.9/site-packages (from gensim) (2.0.5)\n",
      "Requirement already satisfied: smart-open>=1.8.1 in /Users/yohanismael/opt/anaconda3/lib/python3.9/site-packages (from gensim) (5.1.0)\n",
      "Requirement already satisfied: scipy>=1.7.0 in /Users/yohanismael/opt/anaconda3/lib/python3.9/site-packages (from gensim) (1.9.3)\n",
      "Requirement already satisfied: pyfume in /Users/yohanismael/opt/anaconda3/lib/python3.9/site-packages (from FuzzyTM>=0.4.0->gensim) (0.2.25)\n",
      "Requirement already satisfied: pandas in /Users/yohanismael/opt/anaconda3/lib/python3.9/site-packages (from FuzzyTM>=0.4.0->gensim) (1.5.1)\n",
      "Requirement already satisfied: python-dateutil>=2.8.1 in /Users/yohanismael/opt/anaconda3/lib/python3.9/site-packages (from pandas->FuzzyTM>=0.4.0->gensim) (2.8.2)\n",
      "Requirement already satisfied: pytz>=2020.1 in /Users/yohanismael/opt/anaconda3/lib/python3.9/site-packages (from pandas->FuzzyTM>=0.4.0->gensim) (2022.6)\n",
      "Requirement already satisfied: six>=1.5 in /Users/yohanismael/opt/anaconda3/lib/python3.9/site-packages (from python-dateutil>=2.8.1->pandas->FuzzyTM>=0.4.0->gensim) (1.16.0)\n",
      "Requirement already satisfied: simpful in /Users/yohanismael/opt/anaconda3/lib/python3.9/site-packages (from pyfume->FuzzyTM>=0.4.0->gensim) (2.9.0)\n",
      "Requirement already satisfied: fst-pso in /Users/yohanismael/opt/anaconda3/lib/python3.9/site-packages (from pyfume->FuzzyTM>=0.4.0->gensim) (1.8.1)\n",
      "Requirement already satisfied: miniful in /Users/yohanismael/opt/anaconda3/lib/python3.9/site-packages (from fst-pso->pyfume->FuzzyTM>=0.4.0->gensim) (0.0.6)\n",
      "Requirement already satisfied: requests in /Users/yohanismael/opt/anaconda3/lib/python3.9/site-packages (from simpful->pyfume->FuzzyTM>=0.4.0->gensim) (2.27.1)\n",
      "Requirement already satisfied: idna<4,>=2.5 in /Users/yohanismael/opt/anaconda3/lib/python3.9/site-packages (from requests->simpful->pyfume->FuzzyTM>=0.4.0->gensim) (3.3)\n",
      "Requirement already satisfied: urllib3<1.27,>=1.21.1 in /Users/yohanismael/opt/anaconda3/lib/python3.9/site-packages (from requests->simpful->pyfume->FuzzyTM>=0.4.0->gensim) (1.26.12)\n",
      "Requirement already satisfied: certifi>=2017.4.17 in /Users/yohanismael/opt/anaconda3/lib/python3.9/site-packages (from requests->simpful->pyfume->FuzzyTM>=0.4.0->gensim) (2021.10.8)\n",
      "Requirement already satisfied: charset-normalizer~=2.0.0 in /Users/yohanismael/opt/anaconda3/lib/python3.9/site-packages (from requests->simpful->pyfume->FuzzyTM>=0.4.0->gensim) (2.0.4)\n",
      "Note: you may need to restart the kernel to use updated packages.\n"
     ]
    }
   ],
   "source": [
    "%pip install -U textblob\n",
    "!python -m textblob.download_corpora\n",
    "\n",
    "%pip install nltk\n",
    "\n",
    "%pip install --upgrade gensim"
   ]
  },
  {
   "cell_type": "code",
   "execution_count": 3,
   "metadata": {},
   "outputs": [
    {
     "data": {
      "text/markdown": [
       "# Start Coding"
      ],
      "text/plain": [
       "<IPython.core.display.Markdown object>"
      ]
     },
     "metadata": {},
     "output_type": "display_data"
    }
   ],
   "source": [
    "import nltk\n",
    "\n",
    "import pandas as pd\n",
    "import numpy as np\n",
    "import matplotlib.pyplot as plt\n",
    "from textblob import TextBlob\n",
    "from datetime import datetime\n",
    "\n",
    "import gensim\n",
    "from gensim.models import Word2Vec\n",
    "\n",
    "from datetime import datetime\n",
    "\n",
    "from IPython.display import Markdown, display\n",
    "string = '# Start'\n",
    "display(Markdown(string+' Coding'))"
   ]
  },
  {
   "cell_type": "code",
   "execution_count": 4,
   "metadata": {},
   "outputs": [],
   "source": [
    "def str_to_timestamp(s):\n",
    "    out=[]\n",
    "\n",
    "    s2=str.split(s,'+')\n",
    "    s3=str.split(s2[0],' ')\n",
    "\n",
    "    s4=str.split(s3[0],'-')\n",
    "\n",
    "    s5=str.split(s3[1],':')\n",
    "    year=int(s4[0])\n",
    "    month=int(s4[1])\n",
    "    day=int(s4[2])\n",
    "    hour=int(s5[0])\n",
    "    minute=int(s5[1])\n",
    "    second=int(s5[2])\n",
    "\n",
    "    return(datetime(year=year,month=month,day=day,hour=hour,minute=minute,second=second).timestamp())\n",
    "\n",
    "from nltk.tokenize import word_tokenize\n",
    "\n",
    "def NumStr(mot):\n",
    "    res = ''.join(filter(lambda i: i.isdigit(), mot))\n",
    "    if (res==''):\n",
    "        return False\n",
    "    return True\n",
    "\n",
    "\n",
    "def extract_keywords(text):\n",
    "    # Tokenize the text\n",
    "    tokens = word_tokenize(text)\n",
    "\n",
    "    # Apply part-of-speech tagging\n",
    "    tagged_tokens = nltk.pos_tag(tokens)\n",
    "\n",
    "    # Select only nouns and adjectives\n",
    "    keywords = [word for word, pos in tagged_tokens if (pos in ['NN', 'NNS', 'NNP', 'NNPS', 'JJ', 'JJR', 'JJS'] and not NumStr(word))]\n",
    "\n",
    "    return keywords\n",
    "\n",
    "def extract_sentiment_polarity(text):\n",
    "    blob=TextBlob(text)\n",
    "    return(blob.sentiment.polarity)"
   ]
  },
  {
   "cell_type": "code",
   "execution_count": 5,
   "metadata": {},
   "outputs": [
    {
     "name": "stdout",
     "output_type": "stream",
     "text": [
      "start\n",
      "end of keywords\n",
      "end of polarity\n",
      "end of timestamps\n"
     ]
    }
   ],
   "source": [
    "data=pd.read_csv('data/minnesota.csv')\n",
    "df=data\n",
    "print('start')\n",
    "\n",
    "df['keywords'] = df['tweet_text'].apply(extract_keywords)\n",
    "\n",
    "print('end of keywords')\n",
    "\n",
    "df['sentiment_polarity']=df['tweet_text'].apply(extract_sentiment_polarity)\n",
    "\n",
    "print('end of polarity')\n",
    "\n",
    "df['timestamps']=df['tweet_created_dt'].apply(str_to_timestamp)\n",
    "df['timestamps']=df['timestamps']-df['timestamps'].min()\n",
    "\n",
    "print('end of timestamps')\n",
    "\n",
    "clean_data=df"
   ]
  },
  {
   "cell_type": "code",
   "execution_count": 6,
   "metadata": {},
   "outputs": [],
   "source": [
    "def sliding_window(df,size,sliding):\n",
    "    X_out=[]\n",
    "\n",
    "    for time in range(0,int(df['timestamps'].max()),sliding):\n",
    "        o=df[df.timestamps<time+size]\n",
    "        X_out.append(o[o.timestamps>time])\n",
    "\n",
    "        print(\"%.3f\" % (time/int(df['timestamps'].max())), end=\"\\r\")\n",
    "    print(\"finish\")\n",
    "    return X_out\n",
    "\n",
    "def dfToListofVectors(df):\n",
    "    out=[]\n",
    "    for l_vect in df.vectors:\n",
    "        for v in l_vect:\n",
    "            \n",
    "            out.append(v)\n",
    "            \n",
    "    return out"
   ]
  },
  {
   "cell_type": "code",
   "execution_count": 7,
   "metadata": {},
   "outputs": [],
   "source": [
    "def word2vectors(l):\n",
    "    try:\n",
    "        x = word_vectors[l]\n",
    "    except KeyError:\n",
    "        return \n",
    "    return x\n",
    "    \n",
    "\n",
    "def list2vectors(L):\n",
    "    out=[]\n",
    "    for i in L:\n",
    "        out.append(word2vectors(i))\n",
    "    return(np.asarray(out,dtype=object))"
   ]
  },
  {
   "cell_type": "code",
   "execution_count": 8,
   "metadata": {},
   "outputs": [
    {
     "name": "stdout",
     "output_type": "stream",
     "text": [
      "finish\n"
     ]
    }
   ],
   "source": [
    "time_day=60*60*24\n",
    "L=sliding_window(clean_data,time_day*4,time_day)\n",
    "first=L[0]"
   ]
  },
  {
   "cell_type": "code",
   "execution_count": 86,
   "metadata": {},
   "outputs": [],
   "source": [
    "model = Word2Vec(sentences=first['keywords'], vector_size=100, window=0, min_count=0, workers=0)\n",
    "model.save(\"Word2vec_models/test_word2vec.model\")\n",
    "word_vectors = model.wv"
   ]
  },
  {
   "cell_type": "code",
   "execution_count": 87,
   "metadata": {},
   "outputs": [],
   "source": [
    "i=0\n",
    "for keywords in first.keywords:\n",
    "    for keyword in keywords:\n",
    "        i+=1\n",
    "\n",
    "arr=np.ndarray((i,100))\n",
    "i=0\n",
    "for keywords in first.keywords:\n",
    "\n",
    "    for keyword in keywords:\n",
    "        \n",
    "        arr[i]=word_vectors[keyword]\n",
    "        i+=1"
   ]
  },
  {
   "attachments": {},
   "cell_type": "markdown",
   "metadata": {},
   "source": [
    "## sklearn"
   ]
  },
  {
   "cell_type": "code",
   "execution_count": 88,
   "metadata": {},
   "outputs": [
    {
     "data": {
      "text/html": [
       "<style>#sk-container-id-8 {color: black;background-color: white;}#sk-container-id-8 pre{padding: 0;}#sk-container-id-8 div.sk-toggleable {background-color: white;}#sk-container-id-8 label.sk-toggleable__label {cursor: pointer;display: block;width: 100%;margin-bottom: 0;padding: 0.3em;box-sizing: border-box;text-align: center;}#sk-container-id-8 label.sk-toggleable__label-arrow:before {content: \"▸\";float: left;margin-right: 0.25em;color: #696969;}#sk-container-id-8 label.sk-toggleable__label-arrow:hover:before {color: black;}#sk-container-id-8 div.sk-estimator:hover label.sk-toggleable__label-arrow:before {color: black;}#sk-container-id-8 div.sk-toggleable__content {max-height: 0;max-width: 0;overflow: hidden;text-align: left;background-color: #f0f8ff;}#sk-container-id-8 div.sk-toggleable__content pre {margin: 0.2em;color: black;border-radius: 0.25em;background-color: #f0f8ff;}#sk-container-id-8 input.sk-toggleable__control:checked~div.sk-toggleable__content {max-height: 200px;max-width: 100%;overflow: auto;}#sk-container-id-8 input.sk-toggleable__control:checked~label.sk-toggleable__label-arrow:before {content: \"▾\";}#sk-container-id-8 div.sk-estimator input.sk-toggleable__control:checked~label.sk-toggleable__label {background-color: #d4ebff;}#sk-container-id-8 div.sk-label input.sk-toggleable__control:checked~label.sk-toggleable__label {background-color: #d4ebff;}#sk-container-id-8 input.sk-hidden--visually {border: 0;clip: rect(1px 1px 1px 1px);clip: rect(1px, 1px, 1px, 1px);height: 1px;margin: -1px;overflow: hidden;padding: 0;position: absolute;width: 1px;}#sk-container-id-8 div.sk-estimator {font-family: monospace;background-color: #f0f8ff;border: 1px dotted black;border-radius: 0.25em;box-sizing: border-box;margin-bottom: 0.5em;}#sk-container-id-8 div.sk-estimator:hover {background-color: #d4ebff;}#sk-container-id-8 div.sk-parallel-item::after {content: \"\";width: 100%;border-bottom: 1px solid gray;flex-grow: 1;}#sk-container-id-8 div.sk-label:hover label.sk-toggleable__label {background-color: #d4ebff;}#sk-container-id-8 div.sk-serial::before {content: \"\";position: absolute;border-left: 1px solid gray;box-sizing: border-box;top: 0;bottom: 0;left: 50%;z-index: 0;}#sk-container-id-8 div.sk-serial {display: flex;flex-direction: column;align-items: center;background-color: white;padding-right: 0.2em;padding-left: 0.2em;position: relative;}#sk-container-id-8 div.sk-item {position: relative;z-index: 1;}#sk-container-id-8 div.sk-parallel {display: flex;align-items: stretch;justify-content: center;background-color: white;position: relative;}#sk-container-id-8 div.sk-item::before, #sk-container-id-8 div.sk-parallel-item::before {content: \"\";position: absolute;border-left: 1px solid gray;box-sizing: border-box;top: 0;bottom: 0;left: 50%;z-index: -1;}#sk-container-id-8 div.sk-parallel-item {display: flex;flex-direction: column;z-index: 1;position: relative;background-color: white;}#sk-container-id-8 div.sk-parallel-item:first-child::after {align-self: flex-end;width: 50%;}#sk-container-id-8 div.sk-parallel-item:last-child::after {align-self: flex-start;width: 50%;}#sk-container-id-8 div.sk-parallel-item:only-child::after {width: 0;}#sk-container-id-8 div.sk-dashed-wrapped {border: 1px dashed gray;margin: 0 0.4em 0.5em 0.4em;box-sizing: border-box;padding-bottom: 0.4em;background-color: white;}#sk-container-id-8 div.sk-label label {font-family: monospace;font-weight: bold;display: inline-block;line-height: 1.2em;}#sk-container-id-8 div.sk-label-container {text-align: center;}#sk-container-id-8 div.sk-container {/* jupyter's `normalize.less` sets `[hidden] { display: none; }` but bootstrap.min.css set `[hidden] { display: none !important; }` so we also need the `!important` here to be able to override the default hidden behavior on the sphinx rendered scikit-learn.org. See: https://github.com/scikit-learn/scikit-learn/issues/21755 */display: inline-block !important;position: relative;}#sk-container-id-8 div.sk-text-repr-fallback {display: none;}</style><div id=\"sk-container-id-8\" class=\"sk-top-container\"><div class=\"sk-text-repr-fallback\"><pre>KMeans(n_clusters=10, n_init=&#x27;auto&#x27;)</pre><b>In a Jupyter environment, please rerun this cell to show the HTML representation or trust the notebook. <br />On GitHub, the HTML representation is unable to render, please try loading this page with nbviewer.org.</b></div><div class=\"sk-container\" hidden><div class=\"sk-item\"><div class=\"sk-estimator sk-toggleable\"><input class=\"sk-toggleable__control sk-hidden--visually\" id=\"sk-estimator-id-8\" type=\"checkbox\" checked><label for=\"sk-estimator-id-8\" class=\"sk-toggleable__label sk-toggleable__label-arrow\">KMeans</label><div class=\"sk-toggleable__content\"><pre>KMeans(n_clusters=10, n_init=&#x27;auto&#x27;)</pre></div></div></div></div></div>"
      ],
      "text/plain": [
       "KMeans(n_clusters=10, n_init='auto')"
      ]
     },
     "execution_count": 88,
     "metadata": {},
     "output_type": "execute_result"
    }
   ],
   "source": [
    "from sklearn.cluster import k_means\n",
    "from sklearn.cluster import KMeans\n",
    "from sklearn.cluster import kmeans_plusplus\n",
    "n_clusters=10\n",
    "X=arr\n",
    "kmeans=KMeans(n_clusters=n_clusters,n_init='auto')\n",
    "kmeans.fit(X)"
   ]
  },
  {
   "cell_type": "code",
   "execution_count": 89,
   "metadata": {},
   "outputs": [
    {
     "data": {
      "text/plain": [
       "10"
      ]
     },
     "execution_count": 89,
     "metadata": {},
     "output_type": "execute_result"
    }
   ],
   "source": [
    "centroids=kmeans.cluster_centers_\n",
    "centroids.shape[0]"
   ]
  },
  {
   "cell_type": "code",
   "execution_count": 90,
   "metadata": {},
   "outputs": [
    {
     "name": "stdout",
     "output_type": "stream",
     "text": [
      "[('black', 1.0000001192092896)]\n",
      "[('i', 0.9999999403953552)]\n",
      "[('terrible', 0.3380204141139984)]\n",
      "[('movement', 0.60483318567276)]\n",
      "[('matter', 1.0)]\n",
      "[('mother', 0.630748987197876)]\n",
      "[('blacklivesmatter', 1.0)]\n",
      "[('blacktwitter', 0.6360767483711243)]\n",
      "[('lives', 0.955912709236145)]\n",
      "[('burden', 0.5550464987754822)]\n"
     ]
    }
   ],
   "source": [
    "for i in range(centroids.shape[0]):\n",
    "    print(word_vectors.similar_by_vector(centroids[i],topn=1))"
   ]
  },
  {
   "cell_type": "code",
   "execution_count": 91,
   "metadata": {},
   "outputs": [
    {
     "name": "stdout",
     "output_type": "stream",
     "text": [
      "finish\n"
     ]
    }
   ],
   "source": [
    "\n",
    "itt=0\n",
    "itt_max=len(L)\n",
    "list_of_centroids=[]\n",
    "list_of_centroids_with_words=[]\n",
    "list_of_models=[]\n",
    "for seq in L[1:]:\n",
    "    print(\"%.3f\" % (itt/itt_max), end=\"\\r\")\n",
    "    itt+=1\n",
    "    if False:\n",
    "        model = Word2Vec(sentences=seq['keywords'], vector_size=100, window=0, min_count=0, workers=0)\n",
    "        model.save(\"Word2vec_models/test_word2vec.model\")\n",
    "        word_vectors = model.wv\n",
    "        del model\n",
    "    model.build_vocab(seq['keywords'], update=True)\n",
    "    model.train(seq['keywords'], total_examples=model.corpus_count, epochs=model.epochs)\n",
    "    word_vectors = model.wv\n",
    "    list_of_models.append(model)\n",
    "\n",
    "    i=0\n",
    "    for keywords in seq.keywords:\n",
    "        for keyword in keywords:\n",
    "            i+=1\n",
    "\n",
    "    arr=np.ndarray((i,100))\n",
    "    i=0\n",
    "    for keywords in seq.keywords:\n",
    "\n",
    "        for keyword in keywords:\n",
    "            \n",
    "            arr[i]=word_vectors[keyword]\n",
    "            i+=1\n",
    "    X=arr\n",
    "    #kmeans=k_means(X,n_clusters=5,n_init='auto')\n",
    "    #centroids=kmeans[0]\n",
    "    kmeans=KMeans(n_clusters=n_clusters,init=centroids,n_init=1)\n",
    "    kmeans.fit(X)\n",
    "    centroids=kmeans.cluster_centers_\n",
    "    \n",
    "    list_of_centroids.append(centroids)\n",
    "    l_image_of_centroids=[]\n",
    "    \n",
    "    for i in range(centroids.shape[0]):\n",
    "        #print(word_vectors.similar_by_vector(centroids[i],topn=1))\n",
    "        closest_word_of_centroid=word_vectors.similar_by_vector(centroids[i],topn=10)\n",
    "        l_image_of_centroids.append(closest_word_of_centroid)\n",
    "    list_of_centroids_with_words.append(l_image_of_centroids)\n",
    "    #display(Markdown('### New centroids'))\n",
    "    #for i in range(centroids.shape[0]):\n",
    "        #print(word_vectors.similar_by_vector(centroids[i],topn=1))\n",
    "print('finish')"
   ]
  },
  {
   "cell_type": "code",
   "execution_count": 104,
   "metadata": {},
   "outputs": [
    {
     "data": {
      "text/plain": [
       "<matplotlib.collections.PathCollection at 0x7fd721c88ee0>"
      ]
     },
     "execution_count": 104,
     "metadata": {},
     "output_type": "execute_result"
    },
    {
     "data": {
      "image/png": "[encoded data removed]",
      "text/plain": [
       "<Figure size 432x288 with 1 Axes>"
      ]
     },
     "metadata": {
      "needs_background": "light"
     },
     "output_type": "display_data"
    }
   ],
   "source": [
    "from sklearn.decomposition import PCA\n",
    "\n",
    "i=0\n",
    "all_centroids=np.ndarray((len(list_of_centroids*n_clusters),100))\n",
    "for centroids in list_of_centroids:\n",
    "    for cent in centroids:            \n",
    "        all_centroids[i]=cent\n",
    "        i+=1\n",
    "pca=PCA(n_components=2)\n",
    "pca.fit(all_centroids)\n",
    "X=pca.transform(all_centroids)\n",
    "X\n",
    "plt.scatter(X[:,0],X[:,1])"
   ]
  },
  {
   "cell_type": "code",
   "execution_count": 93,
   "metadata": {},
   "outputs": [
    {
     "data": {
      "text/plain": [
       "<matplotlib.collections.PathCollection at 0x7fd7471f7340>"
      ]
     },
     "execution_count": 93,
     "metadata": {},
     "output_type": "execute_result"
    },
    {
     "data": {
      "image/png": "[encoded data removed]",
      "text/plain": [
       "<Figure size 432x288 with 1 Axes>"
      ]
     },
     "metadata": {
      "needs_background": "light"
     },
     "output_type": "display_data"
    }
   ],
   "source": [
    "pca=PCA(n_components=2)\n",
    "pca.fit(list_of_centroids[0])\n",
    "X=pca.transform(list_of_centroids[0])\n",
    "X\n",
    "plt.scatter(X[:,0],X[:,1])"
   ]
  },
  {
   "cell_type": "code",
   "execution_count": 102,
   "metadata": {},
   "outputs": [
    {
     "name": "stdout",
     "output_type": "stream",
     "text": [
      "('black', 1.0000001192092896)\n",
      "('i', 0.9999999403953552)\n",
      "('people', 1.0000001192092896)\n",
      "('georgefloyd', 0.9999999403953552)\n",
      "('matter', 1.0)\n",
      "('other', 1.0000001192092896)\n",
      "('blacklivesmatter', 1.0)\n",
      "('floyd', 0.5540964007377625)\n",
      "('lives', 1.0)\n",
      "('ahmaudarbery', 1.0)\n"
     ]
    }
   ],
   "source": [
    "for i in range(len(list_of_centroids_with_words[0])):\n",
    "    print(list_of_centroids_with_words[67][i][0])"
   ]
  },
  {
   "cell_type": "code",
   "execution_count": 103,
   "metadata": {},
   "outputs": [
    {
     "name": "stdout",
     "output_type": "stream",
     "text": [
      "('young', 0.39052122831344604)\n",
      "('blacklove', 0.3811133801937103)\n",
      "('blackexcellence', 0.4246905744075775)\n",
      "('blackexcellence', 0.47177326679229736)\n",
      "('blacklove', 0.444314569234848)\n",
      "('blacklove', 0.4219507873058319)\n",
      "('blacklove', 0.41886764764785767)\n",
      "('liberation', 0.372887521982193)\n",
      "('liberation', 0.40167126059532166)\n",
      "('liberation', 0.41848161816596985)\n",
      "('liberation', 0.43847766518592834)\n",
      "('liberation', 0.4260183572769165)\n",
      "('protests', 0.37854233384132385)\n",
      "('streets', 0.4036670923233032)\n",
      "('streets', 0.37758690118789673)\n",
      "('er', 0.3465966582298279)\n",
      "('er', 0.3174143433570862)\n",
      "('protests', 0.3277122676372528)\n",
      "('protests', 0.35447701811790466)\n",
      "('swat', 0.34453514218330383)\n",
      "('swat', 0.3348565399646759)\n",
      "('coronoparty', 0.3416445851325989)\n",
      "('coronoparty', 0.37609198689460754)\n",
      "('much', 0.33534252643585205)\n",
      "('country', 0.40637603402137756)\n",
      "('country', 0.39996135234832764)\n",
      "('country', 0.3723365366458893)\n",
      "('country', 0.3410354256629944)\n",
      "('blue', 0.5634295344352722)\n",
      "('blue', 0.8348721265792847)\n",
      "('blue', 0.8202442526817322)\n",
      "('blue', 0.7512446641921997)\n",
      "('ahmaudarbery', 0.7845838069915771)\n",
      "('ahmaudarbery', 0.8598341345787048)\n",
      "('ahmaudarbery', 0.9193006157875061)\n",
      "('ahmaudarbery', 0.8856445550918579)\n",
      "('ahmaudarbery', 1.0)\n",
      "('ahmaudarbery', 1.0)\n",
      "('ahmaudarbery', 1.0)\n",
      "('ahmaudarbery', 1.0)\n",
      "('ahmaudarbery', 1.0)\n",
      "('ahmaudarbery', 1.0)\n",
      "('ahmaudarbery', 1.0)\n",
      "('ahmaudarbery', 1.0)\n",
      "('ahmaudarbery', 1.0)\n",
      "('ahmaudarbery', 1.0)\n",
      "('ahmaudarbery', 1.0)\n",
      "('ahmaudarbery', 1.0)\n",
      "('ahmaudarbery', 1.0)\n",
      "('ahmaudarbery', 1.0)\n",
      "('ahmaudarbery', 1.0)\n",
      "('ahmaudarbery', 1.0)\n",
      "('ahmaudarbery', 1.0)\n",
      "('ahmaudarbery', 1.0)\n",
      "('ahmaudarbery', 1.0)\n",
      "('ahmaudarbery', 1.0)\n",
      "('ahmaudarbery', 1.0)\n",
      "('ahmaudarbery', 1.0)\n",
      "('ahmaudarbery', 1.0)\n",
      "('ahmaudarbery', 1.0)\n",
      "('ahmaudarbery', 1.0)\n",
      "('ahmaudarbery', 1.0)\n",
      "('ahmaudarbery', 1.0)\n",
      "('ahmaudarbery', 1.0)\n",
      "('ahmaudarbery', 1.0)\n",
      "('ahmaudarbery', 1.0)\n",
      "('ahmaudarbery', 1.0)\n",
      "('ahmaudarbery', 1.0)\n",
      "('ahmaudarbery', 1.0)\n",
      "('ahmaudarbery', 1.0)\n",
      "('ahmaudarbery', 1.0)\n",
      "('ahmaudarbery', 1.0)\n",
      "('ahmaudarbery', 1.0)\n",
      "('ahmaudarbery', 1.0)\n",
      "('ahmaudarbery', 1.0)\n",
      "('ahmaudarbery', 1.0)\n",
      "('ahmaudarbery', 1.0)\n",
      "('ahmaudarbery', 1.0)\n",
      "('ahmaudarbery', 1.0)\n",
      "('ahmaudarbery', 1.0)\n",
      "('ahmaudarbery', 1.0)\n",
      "('ahmaudarbery', 1.0)\n",
      "('ahmaudarbery', 1.0)\n",
      "('ahmaudarbery', 1.0)\n",
      "('ahmaudarbery', 1.0)\n",
      "('ahmaudarbery', 1.0)\n",
      "('ahmaudarbery', 1.0)\n",
      "('ahmaudarbery', 1.0)\n",
      "('ahmaudarbery', 1.0)\n",
      "('ahmaudarbery', 1.0)\n",
      "('ahmaudarbery', 1.0)\n",
      "('ahmaudarbery', 1.0)\n",
      "('ahmaudarbery', 1.0)\n",
      "('militias', 1.0)\n",
      "('militias', 1.0)\n",
      "('terroist', 1.0)\n",
      "('terroist', 1.0)\n",
      "('terroist', 1.0)\n",
      "('terroist', 1.0)\n",
      "('alerts', 1.0)\n",
      "('riot', 1.0000001192092896)\n",
      "('riot', 1.0000001192092896)\n",
      "('riot', 1.0000001192092896)\n",
      "('riot', 1.0000001192092896)\n",
      "('riot', 1.0000001192092896)\n",
      "('riot', 1.0000001192092896)\n",
      "('riot', 1.0000001192092896)\n",
      "('riot', 1.0000001192092896)\n",
      "('riot', 1.0000001192092896)\n",
      "('riot', 1.0000001192092896)\n",
      "('riot', 1.0000001192092896)\n",
      "('riot', 1.0000001192092896)\n",
      "('riot', 1.0000001192092896)\n",
      "('riot', 1.0000001192092896)\n",
      "('riot', 1.0000001192092896)\n",
      "('riot', 1.0000001192092896)\n",
      "('riot', 1.0000001192092896)\n",
      "('riot', 1.0000001192092896)\n",
      "('riot', 1.0000001192092896)\n",
      "('riot', 1.0000001192092896)\n",
      "('footage', 0.9999999403953552)\n"
     ]
    }
   ],
   "source": [
    "for i in range(len(list_of_centroids_with_words)):\n",
    "    print(list_of_centroids_with_words[i][9][0])"
   ]
  },
  {
   "cell_type": "code",
   "execution_count": 17,
   "metadata": {},
   "outputs": [
    {
     "data": {
      "text/plain": [
       "array([-1.88504811e-04, -2.81680829e-03,  2.69377222e-03,  3.85460746e-03,\n",
       "        1.43164396e-03, -1.03617972e-03, -8.18750297e-04, -4.46342165e-04,\n",
       "       -4.45273821e-03,  6.68635825e-04, -4.89628669e-03, -6.52037840e-03,\n",
       "       -4.78306646e-03,  6.67402218e-03, -2.55372003e-03,  4.68791719e-03,\n",
       "       -1.01247011e-03,  6.44637225e-03,  2.17013224e-03, -3.69318252e-03,\n",
       "        3.38591868e-04, -1.16026169e-03, -5.62434550e-04, -9.67600942e-03,\n",
       "        8.26934399e-03,  2.04594107e-04, -5.54476189e-03,  2.62865564e-04,\n",
       "       -1.88118097e-03,  3.14044129e-03,  4.64560918e-03, -2.70903576e-04,\n",
       "        3.27045631e-03, -1.80338253e-03, -3.65376472e-05, -3.01602820e-03,\n",
       "       -1.18403696e-03,  6.03851606e-03,  9.47058387e-03, -2.45479867e-04,\n",
       "        2.23414169e-03, -6.07781066e-03, -7.71910488e-03,  1.22425493e-03,\n",
       "       -5.21127216e-03,  2.53202254e-03,  1.53378490e-03,  4.17353527e-04,\n",
       "        2.31960654e-03,  2.08009122e-03,  1.77056715e-03, -4.79312221e-03,\n",
       "        4.68937384e-03,  6.56737038e-03,  2.60461087e-03,  4.25517073e-03,\n",
       "        3.50668374e-03, -1.44773046e-03, -3.14798590e-03,  6.00055023e-03,\n",
       "       -4.40632566e-03, -8.78626015e-04, -6.16815337e-03, -1.97236595e-03,\n",
       "       -3.66901164e-04,  5.59235946e-03,  4.28685249e-03, -6.93327840e-03,\n",
       "        4.89671296e-03,  8.14447575e-03, -4.74453031e-03, -2.40790960e-03,\n",
       "        3.33017000e-03, -1.73538085e-03,  7.34400179e-04, -9.76395793e-04,\n",
       "       -8.78269086e-04, -4.73897508e-03,  5.42606274e-03, -2.88945017e-03,\n",
       "       -2.05719983e-03, -1.14698708e-03,  2.63586175e-04, -4.51745919e-03,\n",
       "        1.34982052e-03,  3.35593242e-04, -4.48426656e-03, -7.54964189e-03,\n",
       "        2.42726202e-03,  2.36010179e-03,  4.25684918e-03, -2.56241590e-04,\n",
       "        1.49581011e-03, -2.65933352e-03, -6.19995221e-03,  1.56085964e-03,\n",
       "       -2.63539609e-04,  2.52803625e-03, -3.50201025e-03,  5.02787111e-03])"
      ]
     },
     "execution_count": 17,
     "metadata": {},
     "output_type": "execute_result"
    }
   ],
   "source": [
    "list_of_centroids[119][0]-list_of_centroids[0][0]"
   ]
  },
  {
   "cell_type": "code",
   "execution_count": 25,
   "metadata": {},
   "outputs": [],
   "source": [
    "l_sent=[]\n",
    "for i in range(len(L)):\n",
    "    l_sent.append(L[i].sentiment_polarity.mean())\n",
    "\n",
    "n_tweets=[]\n",
    "for i in range(len(L)):\n",
    "    n_tweets.append(L[i].shape[0])\n"
   ]
  },
  {
   "cell_type": "code",
   "execution_count": 26,
   "metadata": {},
   "outputs": [
    {
     "data": {
      "image/png": "[encoded data removed]",
      "text/plain": [
       "<Figure size 432x288 with 2 Axes>"
      ]
     },
     "metadata": {
      "needs_background": "light"
     },
     "output_type": "display_data"
    }
   ],
   "source": [
    "fig, axe1_X = plt.subplots()\n",
    "axe2_X = axe1_X.twinx()\n",
    "axe1_X.plot(range(len(L)-1), n_tweets[0:-1], 'b-')\n",
    "axe2_X.plot(range(len(L)-1), l_sent[0:-1], 'r-')\n",
    "axe1_X.set_xlabel('days')\n",
    "axe1_X.set_ylabel('number of tweets', color='b')\n",
    "axe2_X.set_ylabel('mean sentiment polarity', color='r')\n",
    "plt.savefig(\"figures_out/n_tweets_and_sent_pol.png\",transparent=True)"
   ]
  },
  {
   "cell_type": "code",
   "execution_count": 29,
   "metadata": {},
   "outputs": [
    {
     "name": "stdout",
     "output_type": "stream",
     "text": [
      "[('winners', 1.0)]\n",
      "[('toys', 1.0)]\n",
      "[('imdb…', 0.45072779059410095)]\n",
      "[('china', 1.0)]\n",
      "[('needy', 1.0000001192092896)]\n"
     ]
    }
   ],
   "source": [
    "for i in range(len(list_of_centroids[0])):\n",
    "    print(word_vectors.similar_by_vector(list_of_centroids[120][i],topn=1))\n",
    "    "
   ]
  },
  {
   "cell_type": "code",
   "execution_count": 21,
   "metadata": {},
   "outputs": [
    {
     "data": {
      "image/png": "[encoded data removed]",
      "text/plain": [
       "<Figure size 432x288 with 1 Axes>"
      ]
     },
     "metadata": {
      "needs_background": "light"
     },
     "output_type": "display_data"
    }
   ],
   "source": [
    "from sklearn.datasets import make_blobs\n",
    "from sklearn.preprocessing import StandardScaler\n",
    "\n",
    "centers = [[1, 1], [-1, -1], [1, -1],[-1, 1]]\n",
    "\n",
    "X1, labels_true = make_blobs(\n",
    "    n_samples=750, centers=centers, cluster_std=0.1, random_state=0\n",
    ")\n",
    "\n",
    "X = StandardScaler().fit_transform(X1)\n",
    "\n",
    "plt.scatter(X1[:, 0], X1[:, 1])\n",
    "plt.show()"
   ]
  },
  {
   "cell_type": "code",
   "execution_count": 22,
   "metadata": {},
   "outputs": [],
   "source": [
    "centroids=np.array([[1, 1], [-1, -1], [1, -1]])\n",
    "\n",
    "test=KMeans(n_clusters=3,n_init='auto',init=centroids)\n",
    "\n",
    "#test.cluster_centers_"
   ]
  },
  {
   "cell_type": "code",
   "execution_count": 23,
   "metadata": {},
   "outputs": [
    {
     "name": "stderr",
     "output_type": "stream",
     "text": [
      "/Users/yohanismael/opt/anaconda3/lib/python3.9/site-packages/sklearn/cluster/_kmeans.py:878: FutureWarning: elementwise comparison failed; returning scalar instead, but in the future will perform elementwise comparison\n",
      "  if self.init == \"k-means++\":\n",
      "/Users/yohanismael/opt/anaconda3/lib/python3.9/site-packages/sklearn/cluster/_kmeans.py:1362: RuntimeWarning: Explicit initial center position passed: performing only one init in KMeans instead of n_init=10.\n",
      "  super()._check_params_vs_input(X, default_n_init=10)\n"
     ]
    },
    {
     "data": {
      "text/plain": [
       "array([[ 8.76961086e-04,  1.00177180e+00],\n",
       "       [-1.01135835e+00, -1.01396224e+00],\n",
       "       [ 1.00894464e+00, -9.99847499e-01]])"
      ]
     },
     "execution_count": 23,
     "metadata": {},
     "output_type": "execute_result"
    }
   ],
   "source": [
    "test.fit(X1)\n",
    "test.cluster_centers_"
   ]
  },
  {
   "cell_type": "code",
   "execution_count": 24,
   "metadata": {},
   "outputs": [
    {
     "data": {
      "text/plain": [
       "-385.1561426056396"
      ]
     },
     "execution_count": 24,
     "metadata": {},
     "output_type": "execute_result"
    }
   ],
   "source": [
    "test.score(X1)"
   ]
  },
  {
   "cell_type": "code",
   "execution_count": null,
   "metadata": {},
   "outputs": [],
   "source": []
  }
 ],
 "metadata": {
  "kernelspec": {
   "display_name": "base",
   "language": "python",
   "name": "python3"
  },
  "language_info": {
   "codemirror_mode": {
    "name": "ipython",
    "version": 3
   },
   "file_extension": ".py",
   "mimetype": "text/x-python",
   "name": "python",
   "nbconvert_exporter": "python",
   "pygments_lexer": "ipython3",
   "version": "3.9.12"
  },
  "orig_nbformat": 4,
  "vscode": {
   "interpreter": {
    "hash": "7339996d7815a0ae30850c182ba9bbc0a1cb89e61563a0ae1819bddf17b67295"
   }
  }
 },
 "nbformat": 4,
 "nbformat_minor": 2
}
