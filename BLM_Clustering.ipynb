{
 "cells": [
  {
   "cell_type": "code",
   "execution_count": 37,
   "metadata": {},
   "outputs": [
    {
     "name": "stdout",
     "output_type": "stream",
     "text": [
      "Requirement already satisfied: textblob in /Users/yohanismael/opt/anaconda3/lib/python3.9/site-packages (0.17.1)\n",
      "Requirement already satisfied: nltk>=3.1 in /Users/yohanismael/opt/anaconda3/lib/python3.9/site-packages (from textblob) (3.7)\n",
      "Requirement already satisfied: joblib in /Users/yohanismael/opt/anaconda3/lib/python3.9/site-packages (from nltk>=3.1->textblob) (1.2.0)\n",
      "Requirement already satisfied: click in /Users/yohanismael/opt/anaconda3/lib/python3.9/site-packages (from nltk>=3.1->textblob) (8.1.3)\n",
      "Requirement already satisfied: regex>=2021.8.3 in /Users/yohanismael/opt/anaconda3/lib/python3.9/site-packages (from nltk>=3.1->textblob) (2022.3.15)\n",
      "Requirement already satisfied: tqdm in /Users/yohanismael/opt/anaconda3/lib/python3.9/site-packages (from nltk>=3.1->textblob) (4.64.0)\n",
      "Note: you may need to restart the kernel to use updated packages.\n",
      "[nltk_data] Downloading package brown to\n",
      "[nltk_data]     /Users/yohanismael/nltk_data...\n",
      "[nltk_data]   Package brown is already up-to-date!\n",
      "[nltk_data] Downloading package punkt to\n",
      "[nltk_data]     /Users/yohanismael/nltk_data...\n",
      "[nltk_data]   Package punkt is already up-to-date!\n",
      "[nltk_data] Downloading package wordnet to\n",
      "[nltk_data]     /Users/yohanismael/nltk_data...\n",
      "[nltk_data]   Package wordnet is already up-to-date!\n",
      "[nltk_data] Downloading package averaged_perceptron_tagger to\n",
      "[nltk_data]     /Users/yohanismael/nltk_data...\n",
      "[nltk_data]   Package averaged_perceptron_tagger is already up-to-\n",
      "[nltk_data]       date!\n",
      "[nltk_data] Downloading package conll2000 to\n",
      "[nltk_data]     /Users/yohanismael/nltk_data...\n",
      "[nltk_data]   Package conll2000 is already up-to-date!\n",
      "[nltk_data] Downloading package movie_reviews to\n",
      "[nltk_data]     /Users/yohanismael/nltk_data...\n",
      "[nltk_data]   Package movie_reviews is already up-to-date!\n",
      "Finished.\n",
      "Requirement already satisfied: nltk in /Users/yohanismael/opt/anaconda3/lib/python3.9/site-packages (3.7)\n",
      "Requirement already satisfied: tqdm in /Users/yohanismael/opt/anaconda3/lib/python3.9/site-packages (from nltk) (4.64.0)\n",
      "Requirement already satisfied: regex>=2021.8.3 in /Users/yohanismael/opt/anaconda3/lib/python3.9/site-packages (from nltk) (2022.3.15)\n",
      "Requirement already satisfied: joblib in /Users/yohanismael/opt/anaconda3/lib/python3.9/site-packages (from nltk) (1.2.0)\n",
      "Requirement already satisfied: click in /Users/yohanismael/opt/anaconda3/lib/python3.9/site-packages (from nltk) (8.1.3)\n",
      "Note: you may need to restart the kernel to use updated packages.\n",
      "Requirement already satisfied: gensim in /Users/yohanismael/opt/anaconda3/lib/python3.9/site-packages (4.3.0)\n",
      "Requirement already satisfied: numpy>=1.18.5 in /Users/yohanismael/opt/anaconda3/lib/python3.9/site-packages (from gensim) (1.23.4)\n",
      "Requirement already satisfied: FuzzyTM>=0.4.0 in /Users/yohanismael/opt/anaconda3/lib/python3.9/site-packages (from gensim) (2.0.5)\n",
      "Requirement already satisfied: smart-open>=1.8.1 in /Users/yohanismael/opt/anaconda3/lib/python3.9/site-packages (from gensim) (5.1.0)\n",
      "Requirement already satisfied: scipy>=1.7.0 in /Users/yohanismael/opt/anaconda3/lib/python3.9/site-packages (from gensim) (1.9.3)\n",
      "Requirement already satisfied: pandas in /Users/yohanismael/opt/anaconda3/lib/python3.9/site-packages (from FuzzyTM>=0.4.0->gensim) (1.5.1)\n",
      "Requirement already satisfied: pyfume in /Users/yohanismael/opt/anaconda3/lib/python3.9/site-packages (from FuzzyTM>=0.4.0->gensim) (0.2.25)\n",
      "Requirement already satisfied: python-dateutil>=2.8.1 in /Users/yohanismael/opt/anaconda3/lib/python3.9/site-packages (from pandas->FuzzyTM>=0.4.0->gensim) (2.8.2)\n",
      "Requirement already satisfied: pytz>=2020.1 in /Users/yohanismael/opt/anaconda3/lib/python3.9/site-packages (from pandas->FuzzyTM>=0.4.0->gensim) (2022.6)\n",
      "Requirement already satisfied: six>=1.5 in /Users/yohanismael/opt/anaconda3/lib/python3.9/site-packages (from python-dateutil>=2.8.1->pandas->FuzzyTM>=0.4.0->gensim) (1.16.0)\n",
      "Requirement already satisfied: fst-pso in /Users/yohanismael/opt/anaconda3/lib/python3.9/site-packages (from pyfume->FuzzyTM>=0.4.0->gensim) (1.8.1)\n",
      "Requirement already satisfied: simpful in /Users/yohanismael/opt/anaconda3/lib/python3.9/site-packages (from pyfume->FuzzyTM>=0.4.0->gensim) (2.9.0)\n",
      "Requirement already satisfied: miniful in /Users/yohanismael/opt/anaconda3/lib/python3.9/site-packages (from fst-pso->pyfume->FuzzyTM>=0.4.0->gensim) (0.0.6)\n",
      "Requirement already satisfied: requests in /Users/yohanismael/opt/anaconda3/lib/python3.9/site-packages (from simpful->pyfume->FuzzyTM>=0.4.0->gensim) (2.27.1)\n",
      "Requirement already satisfied: certifi>=2017.4.17 in /Users/yohanismael/opt/anaconda3/lib/python3.9/site-packages (from requests->simpful->pyfume->FuzzyTM>=0.4.0->gensim) (2021.10.8)\n",
      "Requirement already satisfied: idna<4,>=2.5 in /Users/yohanismael/opt/anaconda3/lib/python3.9/site-packages (from requests->simpful->pyfume->FuzzyTM>=0.4.0->gensim) (3.3)\n",
      "Requirement already satisfied: urllib3<1.27,>=1.21.1 in /Users/yohanismael/opt/anaconda3/lib/python3.9/site-packages (from requests->simpful->pyfume->FuzzyTM>=0.4.0->gensim) (1.26.12)\n",
      "Requirement already satisfied: charset-normalizer~=2.0.0 in /Users/yohanismael/opt/anaconda3/lib/python3.9/site-packages (from requests->simpful->pyfume->FuzzyTM>=0.4.0->gensim) (2.0.4)\n",
      "Note: you may need to restart the kernel to use updated packages.\n"
     ]
    }
   ],
   "source": [
    "%pip install -U textblob\n",
    "!python -m textblob.download_corpora\n",
    "\n",
    "%pip install nltk\n",
    "\n",
    "%pip install --upgrade gensim"
   ]
  },
  {
   "cell_type": "code",
   "execution_count": 38,
   "metadata": {},
   "outputs": [
    {
     "data": {
      "text/markdown": [
       "# Start Coding"
      ],
      "text/plain": [
       "<IPython.core.display.Markdown object>"
      ]
     },
     "metadata": {},
     "output_type": "display_data"
    }
   ],
   "source": [
    "import nltk\n",
    "\n",
    "import pandas as pd\n",
    "import numpy as np\n",
    "import matplotlib.pyplot as plt\n",
    "from textblob import TextBlob\n",
    "from datetime import datetime\n",
    "\n",
    "import gensim\n",
    "from gensim.models import Word2Vec\n",
    "\n",
    "from datetime import datetime\n",
    "\n",
    "from IPython.display import Markdown, display\n",
    "string = '# Start'\n",
    "display(Markdown(string+' Coding'))"
   ]
  },
  {
   "cell_type": "code",
   "execution_count": 39,
   "metadata": {},
   "outputs": [],
   "source": [
    "def str_to_timestamp(s):\n",
    "    out=[]\n",
    "\n",
    "    s2=str.split(s,'+')\n",
    "    s3=str.split(s2[0],' ')\n",
    "\n",
    "    s4=str.split(s3[0],'-')\n",
    "\n",
    "    s5=str.split(s3[1],':')\n",
    "    year=int(s4[0])\n",
    "    month=int(s4[1])\n",
    "    day=int(s4[2])\n",
    "    hour=int(s5[0])\n",
    "    minute=int(s5[1])\n",
    "    second=int(s5[2])\n",
    "\n",
    "    return(datetime(year=year,month=month,day=day,hour=hour,minute=minute,second=second).timestamp())\n",
    "\n",
    "from nltk.tokenize import word_tokenize\n",
    "\n",
    "def NumStr(mot):\n",
    "    res = ''.join(filter(lambda i: i.isdigit(), mot))\n",
    "    if (res==''):\n",
    "        return False\n",
    "    return True\n",
    "\n",
    "\n",
    "def extract_keywords(text):\n",
    "    # Tokenize the text\n",
    "    tokens = word_tokenize(text)\n",
    "\n",
    "    # Apply part-of-speech tagging\n",
    "    tagged_tokens = nltk.pos_tag(tokens)\n",
    "\n",
    "    # Select only nouns and adjectives\n",
    "    keywords = [word for word, pos in tagged_tokens if (pos in ['NN', 'NNS', 'NNP', 'NNPS', 'JJ', 'JJR', 'JJS'] and not NumStr(word))]\n",
    "\n",
    "    return keywords\n",
    "\n",
    "def extract_sentiment_polarity(text):\n",
    "    blob=TextBlob(text)\n",
    "    return(blob.sentiment.polarity)"
   ]
  },
  {
   "cell_type": "code",
   "execution_count": 40,
   "metadata": {},
   "outputs": [
    {
     "name": "stdout",
     "output_type": "stream",
     "text": [
      "start\n",
      "end of keywords\n",
      "end of polarity\n",
      "end of timestamps\n"
     ]
    }
   ],
   "source": [
    "data=pd.read_csv('data/minnesota.csv')\n",
    "df=data\n",
    "print('start')\n",
    "\n",
    "df['keywords'] = df['tweet_text'].apply(extract_keywords)\n",
    "\n",
    "print('end of keywords')\n",
    "\n",
    "df['sentiment_polarity']=df['tweet_text'].apply(extract_sentiment_polarity)\n",
    "\n",
    "print('end of polarity')\n",
    "\n",
    "df['timestamps']=df['tweet_created_dt'].apply(str_to_timestamp)\n",
    "df['timestamps']=df['timestamps']-df['timestamps'].min()\n",
    "\n",
    "print('end of timestamps')\n",
    "\n",
    "clean_data=df"
   ]
  },
  {
   "cell_type": "code",
   "execution_count": 41,
   "metadata": {},
   "outputs": [],
   "source": [
    "def sliding_window(df,size,sliding):\n",
    "    X_out=[]\n",
    "\n",
    "    for time in range(0,int(df['timestamps'].max()),sliding):\n",
    "        o=df[df.timestamps<time+size]\n",
    "        X_out.append(o[o.timestamps>time])\n",
    "\n",
    "        print(\"%.3f\" % (time/int(df['timestamps'].max())), end=\"\\r\")\n",
    "    print(\"finish\")\n",
    "    return X_out[:-1]\n",
    "\n",
    "def dfToListofVectors(df):\n",
    "    out=[]\n",
    "    for l_vect in df.vectors:\n",
    "        for v in l_vect:\n",
    "            \n",
    "            out.append(v)\n",
    "            \n",
    "    return out"
   ]
  },
  {
   "cell_type": "code",
   "execution_count": 42,
   "metadata": {},
   "outputs": [
    {
     "name": "stdout",
     "output_type": "stream",
     "text": [
      "finish\n"
     ]
    }
   ],
   "source": [
    "time_day=60*60*24\n",
    "L=sliding_window(clean_data,time_day*4,time_day)\n",
    "first=L[0]"
   ]
  },
  {
   "cell_type": "code",
   "execution_count": 43,
   "metadata": {},
   "outputs": [],
   "source": [
    "vector_size=100\n",
    "model = Word2Vec(sentences=first['keywords'], vector_size=vector_size, window=0, min_count=0, workers=0)\n",
    "model.save(\"Word2vec_models/test_word2vec.model\")\n",
    "word_vectors = model.wv"
   ]
  },
  {
   "cell_type": "code",
   "execution_count": 44,
   "metadata": {},
   "outputs": [],
   "source": [
    "i=0\n",
    "for keywords in first.keywords:\n",
    "    for keyword in keywords:\n",
    "        i+=1\n",
    "\n",
    "arr=np.ndarray((i,vector_size))\n",
    "i=0\n",
    "for keywords in first.keywords:\n",
    "\n",
    "    for keyword in keywords:\n",
    "        \n",
    "        arr[i]=word_vectors[keyword]\n",
    "        i+=1"
   ]
  },
  {
   "attachments": {},
   "cell_type": "markdown",
   "metadata": {},
   "source": [
    "## sklearn"
   ]
  },
  {
   "cell_type": "code",
   "execution_count": 45,
   "metadata": {},
   "outputs": [
    {
     "data": {
      "text/html": [
       "<style>#sk-container-id-2 {color: black;background-color: white;}#sk-container-id-2 pre{padding: 0;}#sk-container-id-2 div.sk-toggleable {background-color: white;}#sk-container-id-2 label.sk-toggleable__label {cursor: pointer;display: block;width: 100%;margin-bottom: 0;padding: 0.3em;box-sizing: border-box;text-align: center;}#sk-container-id-2 label.sk-toggleable__label-arrow:before {content: \"▸\";float: left;margin-right: 0.25em;color: #696969;}#sk-container-id-2 label.sk-toggleable__label-arrow:hover:before {color: black;}#sk-container-id-2 div.sk-estimator:hover label.sk-toggleable__label-arrow:before {color: black;}#sk-container-id-2 div.sk-toggleable__content {max-height: 0;max-width: 0;overflow: hidden;text-align: left;background-color: #f0f8ff;}#sk-container-id-2 div.sk-toggleable__content pre {margin: 0.2em;color: black;border-radius: 0.25em;background-color: #f0f8ff;}#sk-container-id-2 input.sk-toggleable__control:checked~div.sk-toggleable__content {max-height: 200px;max-width: 100%;overflow: auto;}#sk-container-id-2 input.sk-toggleable__control:checked~label.sk-toggleable__label-arrow:before {content: \"▾\";}#sk-container-id-2 div.sk-estimator input.sk-toggleable__control:checked~label.sk-toggleable__label {background-color: #d4ebff;}#sk-container-id-2 div.sk-label input.sk-toggleable__control:checked~label.sk-toggleable__label {background-color: #d4ebff;}#sk-container-id-2 input.sk-hidden--visually {border: 0;clip: rect(1px 1px 1px 1px);clip: rect(1px, 1px, 1px, 1px);height: 1px;margin: -1px;overflow: hidden;padding: 0;position: absolute;width: 1px;}#sk-container-id-2 div.sk-estimator {font-family: monospace;background-color: #f0f8ff;border: 1px dotted black;border-radius: 0.25em;box-sizing: border-box;margin-bottom: 0.5em;}#sk-container-id-2 div.sk-estimator:hover {background-color: #d4ebff;}#sk-container-id-2 div.sk-parallel-item::after {content: \"\";width: 100%;border-bottom: 1px solid gray;flex-grow: 1;}#sk-container-id-2 div.sk-label:hover label.sk-toggleable__label {background-color: #d4ebff;}#sk-container-id-2 div.sk-serial::before {content: \"\";position: absolute;border-left: 1px solid gray;box-sizing: border-box;top: 0;bottom: 0;left: 50%;z-index: 0;}#sk-container-id-2 div.sk-serial {display: flex;flex-direction: column;align-items: center;background-color: white;padding-right: 0.2em;padding-left: 0.2em;position: relative;}#sk-container-id-2 div.sk-item {position: relative;z-index: 1;}#sk-container-id-2 div.sk-parallel {display: flex;align-items: stretch;justify-content: center;background-color: white;position: relative;}#sk-container-id-2 div.sk-item::before, #sk-container-id-2 div.sk-parallel-item::before {content: \"\";position: absolute;border-left: 1px solid gray;box-sizing: border-box;top: 0;bottom: 0;left: 50%;z-index: -1;}#sk-container-id-2 div.sk-parallel-item {display: flex;flex-direction: column;z-index: 1;position: relative;background-color: white;}#sk-container-id-2 div.sk-parallel-item:first-child::after {align-self: flex-end;width: 50%;}#sk-container-id-2 div.sk-parallel-item:last-child::after {align-self: flex-start;width: 50%;}#sk-container-id-2 div.sk-parallel-item:only-child::after {width: 0;}#sk-container-id-2 div.sk-dashed-wrapped {border: 1px dashed gray;margin: 0 0.4em 0.5em 0.4em;box-sizing: border-box;padding-bottom: 0.4em;background-color: white;}#sk-container-id-2 div.sk-label label {font-family: monospace;font-weight: bold;display: inline-block;line-height: 1.2em;}#sk-container-id-2 div.sk-label-container {text-align: center;}#sk-container-id-2 div.sk-container {/* jupyter's `normalize.less` sets `[hidden] { display: none; }` but bootstrap.min.css set `[hidden] { display: none !important; }` so we also need the `!important` here to be able to override the default hidden behavior on the sphinx rendered scikit-learn.org. See: https://github.com/scikit-learn/scikit-learn/issues/21755 */display: inline-block !important;position: relative;}#sk-container-id-2 div.sk-text-repr-fallback {display: none;}</style><div id=\"sk-container-id-2\" class=\"sk-top-container\"><div class=\"sk-text-repr-fallback\"><pre>KMeans(n_clusters=10, n_init=&#x27;auto&#x27;)</pre><b>In a Jupyter environment, please rerun this cell to show the HTML representation or trust the notebook. <br />On GitHub, the HTML representation is unable to render, please try loading this page with nbviewer.org.</b></div><div class=\"sk-container\" hidden><div class=\"sk-item\"><div class=\"sk-estimator sk-toggleable\"><input class=\"sk-toggleable__control sk-hidden--visually\" id=\"sk-estimator-id-2\" type=\"checkbox\" checked><label for=\"sk-estimator-id-2\" class=\"sk-toggleable__label sk-toggleable__label-arrow\">KMeans</label><div class=\"sk-toggleable__content\"><pre>KMeans(n_clusters=10, n_init=&#x27;auto&#x27;)</pre></div></div></div></div></div>"
      ],
      "text/plain": [
       "KMeans(n_clusters=10, n_init='auto')"
      ]
     },
     "execution_count": 45,
     "metadata": {},
     "output_type": "execute_result"
    }
   ],
   "source": [
    "from sklearn.cluster import k_means\n",
    "from sklearn.cluster import KMeans\n",
    "from sklearn.cluster import kmeans_plusplus\n",
    "n_clusters=10\n",
    "X=arr\n",
    "kmeans=KMeans(n_clusters=n_clusters,n_init='auto')\n",
    "kmeans.fit(X)"
   ]
  },
  {
   "cell_type": "code",
   "execution_count": 46,
   "metadata": {},
   "outputs": [
    {
     "data": {
      "text/plain": [
       "10"
      ]
     },
     "execution_count": 46,
     "metadata": {},
     "output_type": "execute_result"
    }
   ],
   "source": [
    "centroids=kmeans.cluster_centers_\n",
    "centroids.shape[0]"
   ]
  },
  {
   "cell_type": "code",
   "execution_count": 47,
   "metadata": {},
   "outputs": [
    {
     "name": "stdout",
     "output_type": "stream",
     "text": [
      "[('good', 0.8186683058738708)]\n",
      "[('matter', 1.0)]\n",
      "[('black', 1.0000001192092896)]\n",
      "[('i', 0.9999999403953552)]\n",
      "[('supportingmyown', 0.4701400697231293)]\n",
      "[('lynn', 0.5641313791275024)]\n",
      "[('blacklivesmatter', 1.0)]\n",
      "[('pandemic', 0.3952440023422241)]\n",
      "[('lives', 0.9202662706375122)]\n",
      "[('movement', 0.5205191969871521)]\n"
     ]
    }
   ],
   "source": [
    "for i in range(centroids.shape[0]):\n",
    "    print(word_vectors.similar_by_vector(centroids[i],topn=1))"
   ]
  },
  {
   "cell_type": "code",
   "execution_count": 48,
   "metadata": {},
   "outputs": [
    {
     "name": "stdout",
     "output_type": "stream",
     "text": [
      "finish\n"
     ]
    }
   ],
   "source": [
    "\n",
    "itt=0\n",
    "itt_max=len(L)\n",
    "list_of_centroids=[]\n",
    "list_of_centroids_with_words=[]\n",
    "for seq in L[1:]:\n",
    "    print(\"%.3f\" % (itt/itt_max), end=\"\\r\")\n",
    "    itt+=1\n",
    "    if False:\n",
    "        model = Word2Vec(sentences=seq['keywords'], vector_size=100, window=0, min_count=0, workers=0)\n",
    "        model.save(\"Word2vec_models/test_word2vec.model\")\n",
    "        word_vectors = model.wv\n",
    "        del model\n",
    "    model.build_vocab(seq['keywords'], update=True)\n",
    "    model.train(seq['keywords'], total_examples=model.corpus_count, epochs=model.epochs)\n",
    "    word_vectors = model.wv\n",
    "    \n",
    "\n",
    "    i=0\n",
    "    for keywords in seq.keywords:\n",
    "        for keyword in keywords:\n",
    "            i+=1\n",
    "\n",
    "    arr=np.ndarray((i,100))\n",
    "    i=0\n",
    "    for keywords in seq.keywords:\n",
    "\n",
    "        for keyword in keywords:\n",
    "            \n",
    "            arr[i]=word_vectors[keyword]\n",
    "            i+=1\n",
    "    X=arr\n",
    "    #kmeans=k_means(X,n_clusters=5,n_init='auto')\n",
    "    #centroids=kmeans[0]\n",
    "    kmeans=KMeans(n_clusters=n_clusters,init=centroids,n_init=1)\n",
    "    kmeans.fit(X)\n",
    "    centroids=kmeans.cluster_centers_\n",
    "    \n",
    "    list_of_centroids.append(centroids)\n",
    "    l_image_of_centroids=[]\n",
    "    \n",
    "    n_top_word=5\n",
    "    for i in range(centroids.shape[0]):\n",
    "        #print(word_vectors.similar_by_vector(centroids[i],topn=1))\n",
    "        closest_word_of_centroid=word_vectors.similar_by_vector(centroids[i],topn=n_top_word)\n",
    "        l_image_of_centroids.append(closest_word_of_centroid)\n",
    "    list_of_centroids_with_words.append(l_image_of_centroids)\n",
    "    #display(Markdown('### New centroids'))\n",
    "    #for i in range(centroids.shape[0]):\n",
    "        #print(word_vectors.similar_by_vector(centroids[i],topn=1))\n",
    "print('finish')"
   ]
  },
  {
   "cell_type": "code",
   "execution_count": 49,
   "metadata": {},
   "outputs": [
    {
     "data": {
      "text/plain": [
       "<matplotlib.collections.PathCollection at 0x7f8c92009be0>"
      ]
     },
     "execution_count": 49,
     "metadata": {},
     "output_type": "execute_result"
    },
    {
     "data": {
      "image/png": "[encoded data removed]",
      "text/plain": [
       "<Figure size 432x288 with 1 Axes>"
      ]
     },
     "metadata": {
      "needs_background": "light"
     },
     "output_type": "display_data"
    }
   ],
   "source": [
    "from sklearn.decomposition import PCA\n",
    "\n",
    "i=0\n",
    "all_centroids=np.ndarray((len(list_of_centroids*n_clusters),vector_size))\n",
    "for centroids in list_of_centroids:\n",
    "    for cent in centroids:            \n",
    "        all_centroids[i]=cent\n",
    "        i+=1\n",
    "pca=PCA(n_components=2)\n",
    "pca.fit(all_centroids)\n",
    "X=pca.transform(all_centroids)\n",
    "X\n",
    "plt.scatter(X[:,0],X[:,1])"
   ]
  },
  {
   "cell_type": "code",
   "execution_count": 50,
   "metadata": {},
   "outputs": [
    {
     "data": {
      "text/plain": [
       "<matplotlib.collections.PathCollection at 0x7f8ccba5aeb0>"
      ]
     },
     "execution_count": 50,
     "metadata": {},
     "output_type": "execute_result"
    },
    {
     "data": {
      "image/png": "[encoded data removed]",
      "text/plain": [
       "<Figure size 432x288 with 1 Axes>"
      ]
     },
     "metadata": {
      "needs_background": "light"
     },
     "output_type": "display_data"
    }
   ],
   "source": [
    "pca=PCA(n_components=2)\n",
    "pca.fit(list_of_centroids[0])\n",
    "X=pca.transform(list_of_centroids[0])\n",
    "X\n",
    "plt.scatter(X[:,0],X[:,1])"
   ]
  },
  {
   "cell_type": "code",
   "execution_count": 51,
   "metadata": {},
   "outputs": [
    {
     "name": "stdout",
     "output_type": "stream",
     "text": [
      "('other', 1.0000001192092896)\n",
      "('matter', 1.0)\n",
      "('black', 1.0000001192092896)\n",
      "('i', 0.9999999403953552)\n",
      "('floyd', 0.8033826947212219)\n",
      "('white', 1.0000001192092896)\n",
      "('blacklivesmatter', 1.0)\n",
      "('people', 1.0000001192092896)\n",
      "('lives', 1.0)\n",
      "('george', 0.6692883968353271)\n"
     ]
    }
   ],
   "source": [
    "for i in range(len(list_of_centroids_with_words[0])):\n",
    "    print(list_of_centroids_with_words[67][i][0])"
   ]
  },
  {
   "cell_type": "code",
   "execution_count": 52,
   "metadata": {},
   "outputs": [
    {
     "name": "stdout",
     "output_type": "stream",
     "text": [
      "('lives', 0.9788944125175476)\n",
      "('lives', 1.0)\n",
      "('lives', 1.0)\n",
      "('lives', 1.0)\n",
      "('lives', 1.0)\n",
      "('lives', 1.0)\n",
      "('lives', 1.0)\n",
      "('lives', 1.0)\n",
      "('lives', 1.0)\n",
      "('lives', 1.0)\n",
      "('lives', 1.0)\n",
      "('lives', 1.0)\n",
      "('lives', 1.0)\n",
      "('lives', 1.0)\n",
      "('lives', 1.0)\n",
      "('lives', 1.0)\n",
      "('lives', 1.0)\n",
      "('lives', 1.0)\n",
      "('lives', 1.0)\n",
      "('lives', 1.0)\n",
      "('lives', 1.0)\n",
      "('lives', 1.0)\n",
      "('lives', 1.0)\n",
      "('lives', 1.0)\n",
      "('lives', 1.0)\n",
      "('lives', 1.0)\n",
      "('lives', 1.0)\n",
      "('lives', 1.0)\n",
      "('lives', 1.0)\n",
      "('lives', 1.0)\n",
      "('lives', 1.0)\n",
      "('lives', 1.0)\n",
      "('lives', 1.0)\n",
      "('lives', 1.0)\n",
      "('lives', 1.0)\n",
      "('lives', 1.0)\n",
      "('lives', 1.0)\n",
      "('lives', 1.0)\n",
      "('lives', 1.0)\n",
      "('lives', 1.0)\n",
      "('lives', 1.0)\n",
      "('lives', 1.0)\n",
      "('lives', 1.0)\n",
      "('lives', 1.0)\n",
      "('lives', 1.0)\n",
      "('lives', 1.0)\n",
      "('lives', 1.0)\n",
      "('lives', 1.0)\n",
      "('lives', 1.0)\n",
      "('lives', 1.0)\n",
      "('lives', 1.0)\n",
      "('lives', 1.0)\n",
      "('lives', 1.0)\n",
      "('lives', 1.0)\n",
      "('lives', 1.0)\n",
      "('lives', 1.0)\n",
      "('lives', 1.0)\n",
      "('lives', 1.0)\n",
      "('lives', 1.0)\n",
      "('lives', 1.0)\n",
      "('lives', 1.0)\n",
      "('lives', 1.0)\n",
      "('lives', 1.0)\n",
      "('lives', 1.0)\n",
      "('lives', 1.0)\n",
      "('lives', 1.0)\n",
      "('lives', 1.0)\n",
      "('lives', 1.0)\n",
      "('lives', 1.0)\n",
      "('lives', 1.0)\n",
      "('lives', 1.0)\n",
      "('lives', 1.0)\n",
      "('lives', 1.0)\n",
      "('lives', 1.0)\n",
      "('lives', 1.0)\n",
      "('lives', 1.0)\n",
      "('lives', 1.0)\n",
      "('lives', 1.0)\n",
      "('lives', 1.0)\n",
      "('lives', 1.0)\n",
      "('lives', 1.0)\n",
      "('lives', 1.0)\n",
      "('lives', 1.0)\n",
      "('lives', 1.0)\n",
      "('lives', 1.0)\n",
      "('lives', 1.0)\n",
      "('lives', 1.0)\n",
      "('lives', 1.0)\n",
      "('lives', 1.0)\n",
      "('lives', 1.0)\n",
      "('lives', 1.0)\n",
      "('lives', 1.0)\n",
      "('lives', 1.0)\n",
      "('lives', 1.0)\n",
      "('lives', 1.0)\n",
      "('lives', 1.0)\n",
      "('lives', 1.0)\n",
      "('lives', 1.0)\n",
      "('lives', 1.0)\n",
      "('lives', 1.0)\n",
      "('lives', 1.0)\n",
      "('lives', 1.0)\n",
      "('lives', 1.0)\n",
      "('lives', 1.0)\n",
      "('lives', 1.0)\n",
      "('lives', 1.0)\n",
      "('lives', 1.0)\n",
      "('lives', 1.0)\n",
      "('lives', 1.0)\n",
      "('lives', 1.0)\n",
      "('lives', 1.0)\n",
      "('lives', 1.0)\n",
      "('lives', 1.0)\n",
      "('lives', 1.0)\n",
      "('lives', 1.0)\n",
      "('lives', 1.0)\n",
      "('lives', 1.0)\n",
      "('lives', 1.0)\n",
      "('lives', 1.0)\n",
      "('lives', 1.0)\n"
     ]
    }
   ],
   "source": [
    "for i in range(len(list_of_centroids_with_words)):\n",
    "    print(list_of_centroids_with_words[i][8][0])"
   ]
  },
  {
   "cell_type": "code",
   "execution_count": 53,
   "metadata": {},
   "outputs": [],
   "source": [
    "bigL=np.ndarray((len(list_of_centroids_with_words),len(list_of_centroids_with_words[0])),dtype=object)\n",
    "for i in range(bigL.shape[0]):\n",
    "    for j in range(bigL.shape[1]) :\n",
    "        bigL[i,j]=list_of_centroids_with_words[i][j][0][0]"
   ]
  },
  {
   "cell_type": "code",
   "execution_count": 54,
   "metadata": {},
   "outputs": [
    {
     "data": {
      "text/plain": [
       "array(['good', 'good', 'good', 'peoples', 'peoples', 'peoples', 'peoples',\n",
       "       'mural', 'frank', 'frank', 'frank', 'other', 'other', 'other',\n",
       "       'other', 'other', 'other', 'hotline', 'other', 'other', 'other',\n",
       "       'other', 'other', 'other', 'other', 'other', 'other', 'other',\n",
       "       'other', 'other', 'other', 'other', 'other', 'other', 'other',\n",
       "       'other', 'other', 'other', 'other', 'other', 'other', 'other',\n",
       "       'other', 'other', 'other', 'other', 'riot', 'riot', 'riot',\n",
       "       'other', 'other', 'other', 'other', 'other', 'other', 'other',\n",
       "       'other', 'other', 'other', 'other', 'other', 'other', 'other',\n",
       "       'other', 'other', 'other', 'other', 'other', 'other', 'other',\n",
       "       'other', 'other', 'other', 'other', 'other', 'other', 'other',\n",
       "       'other', 'other', 'other', 'other', 'other', 'other', 'other',\n",
       "       'other', 'other', 'other', 'other', 'other', 'other', 'other',\n",
       "       'other', 'other', 'other', 'other', 'other', 'other', 'other',\n",
       "       'other', 'other', 'other', 'other', 'other', 'other', 'other',\n",
       "       'other', 'other', 'other', 'other', 'other', 'other', 'other',\n",
       "       'other', 'other', 'other', 'other', 'other', 'other', 'other',\n",
       "       'other'], dtype=object)"
      ]
     },
     "execution_count": 54,
     "metadata": {},
     "output_type": "execute_result"
    }
   ],
   "source": [
    "bigL[:,0]"
   ]
  },
  {
   "cell_type": "code",
   "execution_count": 55,
   "metadata": {},
   "outputs": [],
   "source": [
    "verybigL=np.ndarray((len(list_of_centroids_with_words),len(list_of_centroids_with_words[0]),len(list_of_centroids_with_words[0][0])),dtype=object)\n",
    "for i in range(verybigL.shape[0]):\n",
    "    for j in range(verybigL.shape[1]) :\n",
    "        for k in range(verybigL.shape[2]):\n",
    "            verybigL[i,j,k]=list_of_centroids_with_words[i][j][k][0]"
   ]
  },
  {
   "cell_type": "code",
   "execution_count": 56,
   "metadata": {},
   "outputs": [
    {
     "data": {
      "text/plain": [
       "array(['good', 'good', 'good', 'peoples', 'peoples', 'peoples', 'peoples',\n",
       "       'mural', 'frank', 'frank', 'frank', 'other', 'other', 'other',\n",
       "       'other', 'other', 'other', 'hotline', 'other', 'other', 'other',\n",
       "       'other', 'other', 'other', 'other', 'other', 'other', 'other',\n",
       "       'other', 'other', 'other', 'other', 'other', 'other', 'other',\n",
       "       'other', 'other', 'other', 'other', 'other', 'other', 'other',\n",
       "       'other', 'other', 'other', 'other', 'riot', 'riot', 'riot',\n",
       "       'other', 'other', 'other', 'other', 'other', 'other', 'other',\n",
       "       'other', 'other', 'other', 'other', 'other', 'other', 'other',\n",
       "       'other', 'other', 'other', 'other', 'other', 'other', 'other',\n",
       "       'other', 'other', 'other', 'other', 'other', 'other', 'other',\n",
       "       'other', 'other', 'other', 'other', 'other', 'other', 'other',\n",
       "       'other', 'other', 'other', 'other', 'other', 'other', 'other',\n",
       "       'other', 'other', 'other', 'other', 'other', 'other', 'other',\n",
       "       'other', 'other', 'other', 'other', 'other', 'other', 'other',\n",
       "       'other', 'other', 'other', 'other', 'other', 'other', 'other',\n",
       "       'other', 'other', 'other', 'other', 'other', 'other', 'other',\n",
       "       'other'], dtype=object)"
      ]
     },
     "execution_count": 56,
     "metadata": {},
     "output_type": "execute_result"
    }
   ],
   "source": [
    "verybigL[:,0,0]"
   ]
  },
  {
   "cell_type": "code",
   "execution_count": 57,
   "metadata": {},
   "outputs": [],
   "source": [
    "veryverybigL=np.ndarray((len(list_of_centroids_with_words),len(list_of_centroids_with_words[0]),len(list_of_centroids_with_words[0][0]),len(list_of_centroids_with_words[0][0][0])),dtype=object)\n",
    "veryverybigL.shape\n",
    "for i in range(veryverybigL.shape[0]):\n",
    "    for j in range(veryverybigL.shape[1]) :\n",
    "        for k in range(veryverybigL.shape[2]):\n",
    "            for l in range(veryverybigL.shape[3]):\n",
    "                    veryverybigL[i,j,k,l]=list_of_centroids_with_words[i][j][k][l]"
   ]
  },
  {
   "cell_type": "code",
   "execution_count": 58,
   "metadata": {},
   "outputs": [
    {
     "data": {
      "text/plain": [
       "array(['matter', 'matter', 'matter', 'matter', 'matter', 'matter',\n",
       "       'matter', 'matter', 'matter', 'matter', 'matter', 'matter',\n",
       "       'matter', 'matter', 'matter', 'matter', 'matter', 'matter',\n",
       "       'matter', 'matter', 'matter', 'matter', 'matter', 'matter',\n",
       "       'matter', 'matter', 'matter', 'matter', 'matter', 'matter',\n",
       "       'matter', 'matter', 'matter', 'matter', 'matter', 'matter',\n",
       "       'matter', 'matter', 'matter', 'matter', 'matter', 'matter',\n",
       "       'matter', 'matter', 'matter', 'matter', 'matter', 'matter',\n",
       "       'matter', 'matter', 'matter', 'matter', 'matter', 'matter',\n",
       "       'matter', 'matter', 'matter', 'matter', 'matter', 'matter',\n",
       "       'matter', 'matter', 'matter', 'matter', 'matter', 'matter',\n",
       "       'matter', 'matter', 'matter', 'matter', 'matter', 'matter',\n",
       "       'matter', 'matter', 'matter', 'matter', 'matter', 'matter',\n",
       "       'matter', 'matter', 'matter', 'matter', 'matter', 'matter',\n",
       "       'matter', 'matter', 'matter', 'matter', 'matter', 'matter',\n",
       "       'matter', 'matter', 'matter', 'matter', 'matter', 'matter',\n",
       "       'matter', 'matter', 'matter', 'matter', 'matter', 'matter',\n",
       "       'matter', 'matter', 'matter', 'matter', 'matter', 'matter',\n",
       "       'matter', 'matter', 'matter', 'matter', 'matter', 'matter',\n",
       "       'matter', 'matter', 'matter', 'matter', 'matter', 'matter'],\n",
       "      dtype=object)"
      ]
     },
     "execution_count": 58,
     "metadata": {},
     "output_type": "execute_result"
    }
   ],
   "source": [
    "veryverybigL[:,1,0,0]"
   ]
  },
  {
   "cell_type": "code",
   "execution_count": 59,
   "metadata": {},
   "outputs": [],
   "source": [
    "centroids_array=np.ndarray((len(list_of_centroids),list_of_centroids[0].shape[0],list_of_centroids[0].shape[1]),dtype=object)\n",
    "for i in range(centroids_array.shape[0]):\n",
    "    centroids_array[i,:,:]=list_of_centroids[i]"
   ]
  },
  {
   "cell_type": "code",
   "execution_count": 60,
   "metadata": {},
   "outputs": [
    {
     "data": {
      "text/plain": [
       "18"
      ]
     },
     "execution_count": 60,
     "metadata": {},
     "output_type": "execute_result"
    }
   ],
   "source": [
    "(centroids_array[0,:,:]-centroids_array[119,:,:]>0.01).sum()"
   ]
  },
  {
   "cell_type": "code",
   "execution_count": 61,
   "metadata": {},
   "outputs": [
    {
     "data": {
      "text/plain": [
       "[('lives', 0.9788944125175476),\n",
       " ('someone', 0.4452899992465973),\n",
       " ('icount', 0.2621156871318817),\n",
       " ('iraq', 0.23429103195667267),\n",
       " ('more', 0.22790610790252686)]"
      ]
     },
     "execution_count": 61,
     "metadata": {},
     "output_type": "execute_result"
    }
   ],
   "source": [
    "list_of_centroids_with_words[0][8]"
   ]
  },
  {
   "cell_type": "code",
   "execution_count": 62,
   "metadata": {},
   "outputs": [
    {
     "data": {
      "text/plain": [
       "0.056541704"
      ]
     },
     "execution_count": 62,
     "metadata": {},
     "output_type": "execute_result"
    }
   ],
   "source": [
    "from numpy.linalg import norm\n",
    "list_of_centroids[-1][0]\n",
    "norm(word_vectors['black'])"
   ]
  },
  {
   "cell_type": "code",
   "execution_count": 63,
   "metadata": {},
   "outputs": [],
   "source": [
    "l_sent=[]\n",
    "for i in range(len(L)):\n",
    "    l_sent.append(L[i].sentiment_polarity.mean())\n",
    "\n",
    "n_tweets=[]\n",
    "for i in range(len(L)):\n",
    "    n_tweets.append(L[i].shape[0])\n"
   ]
  },
  {
   "cell_type": "code",
   "execution_count": 64,
   "metadata": {},
   "outputs": [
    {
     "data": {
      "image/png": "[encoded data removed]",
      "text/plain": [
       "<Figure size 432x288 with 2 Axes>"
      ]
     },
     "metadata": {
      "needs_background": "light"
     },
     "output_type": "display_data"
    }
   ],
   "source": [
    "fig, axe1_X = plt.subplots()\n",
    "axe2_X = axe1_X.twinx()\n",
    "color1='red'\n",
    "color2='blue'\n",
    "axe1_X.plot(range(len(L)), n_tweets, color1)\n",
    "axe2_X.plot(range(len(L)), l_sent, color2)\n",
    "axe1_X.set_xlabel('days')\n",
    "axe1_X.set_ylabel('number of tweets', color=color1)\n",
    "axe2_X.set_ylabel('mean sentiment polarity', color=color2)\n",
    "plt.savefig(\"figures_out/n_tweets_and_sent_pol.png\",transparent=True)"
   ]
  },
  {
   "cell_type": "code",
   "execution_count": 65,
   "metadata": {},
   "outputs": [
    {
     "name": "stdout",
     "output_type": "stream",
     "text": [
      "centoids 0:\n",
      "[('other', 1.0000001192092896), ('palaces', 0.4275975525379181), ('wolfsburg', 0.42301952838897705), ('freeviet', 0.4156836271286011), ('inquiries', 0.41249164938926697)]\n",
      "centoids 1:\n",
      "[('matter', 1.0), ('maju', 0.4885726869106293), ('waaakeup', 0.42866745591163635), ('secuestrados', 0.42281877994537354), ('cultivates', 0.4094131290912628)]\n",
      "centoids 2:\n",
      "[('black', 1.0000001192092896), ('maybe…', 0.4183979034423828), ('nyferry', 0.39317986369132996), ('extinguishracism', 0.38805198669433594), ('traquer', 0.3873019516468048)]\n",
      "centoids 3:\n",
      "[('i', 0.9999999403953552), ('paygap', 0.4506978690624237), ('arde', 0.40925562381744385), ('socialartist', 0.4004528224468231), ('estreetradio', 0.39781174063682556)]\n",
      "centoids 4:\n",
      "[('floyd', 0.9999998807907104), ('fastfood', 0.4020780920982361), ('soyledigim', 0.39591509103775024), ('jolivet', 0.3943294286727905), ('otherization', 0.39247387647628784)]\n",
      "centoids 5:\n",
      "[('white', 1.0000001192092896), ('blacklivesmatter//everyday', 0.4137064218521118), ('ussssssss', 0.41135266423225403), ('americanpaleale', 0.4033726751804352), ('bozzutoproud…', 0.3854342997074127)]\n",
      "centoids 6:\n",
      "[('blacklivesmatter', 1.0), ('osunvirtualhealingconcert', 0.4110275208950043), ('jaybertete', 0.40582332015037537), ('beri', 0.4016325771808624), ('çekilirken', 0.40162497758865356)]\n",
      "centoids 7:\n",
      "[('people', 1.0000001192092896), ('frontenddeveloper', 0.42644333839416504), ('cougaent', 0.41868990659713745), ('fbirussiainvestigation', 0.4154890477657318), ('vince', 0.40667030215263367)]\n",
      "centoids 8:\n",
      "[('lives', 1.0), ('changethedegree', 0.43532595038414), ('ternura', 0.42363235354423523), ('thibodeau', 0.41131943464279175), ('summerlee', 0.4102906882762909)]\n",
      "centoids 9:\n",
      "[('george', 0.5631082653999329), ('coronation', 0.40393346548080444), ('talented', 0.40154534578323364), ('fiddles', 0.3991882801055908), ('incomplete', 0.3864528238773346)]\n"
     ]
    }
   ],
   "source": [
    "for i in range(len(list_of_centroids[0])):\n",
    "    print('centoids '+str(i)+ ':')\n",
    "    print(word_vectors.similar_by_vector(list_of_centroids[-1][i],topn=5))"
   ]
  },
  {
   "cell_type": "code",
   "execution_count": 67,
   "metadata": {},
   "outputs": [
    {
     "name": "stdout",
     "output_type": "stream",
     "text": [
      "1\n",
      "2\n",
      "centroid 0 :\n",
      "[('lives', 0.7291445732116699), ('movement', 0.4110577702522278), ('eternity', 0.3848576545715332), ('rate', 0.34057506918907166), ('blackwoman', 0.3382153809070587)]\n",
      "centroid 1 :\n",
      "[('black', 0.9325089454650879), ('african', 0.31351590156555176), ('people', 0.31224629282951355), ('years', 0.297455757856369), ('bad', 0.2882227301597595)]\n",
      "centroid 2 :\n",
      "[('matter', 0.8607635498046875), ('sad', 0.40408676862716675), ('bitch', 0.3503803014755249), ('mothers', 0.31834670901298523), ('horror', 0.30992811918258667)]\n",
      "centroid 3 :\n",
      "[('i', 0.8460559844970703), ('time', 0.37904027104377747), ('blacklove', 0.35884836316108704), ('production', 0.3357827663421631), ('americans', 0.3329533636569977)]\n",
      "centroid 4 :\n",
      "[('blacklivesmatter', 0.9081574082374573), ('day', 0.27967700362205505), ('good', 0.2722136080265045), ('homeless', 0.26820752024650574), ('love', 0.2591080069541931)]\n"
     ]
    }
   ],
   "source": [
    "from nltk.cluster.kmeans import KMeansClusterer\n",
    "from nltk.cluster.util import cosine_distance\n",
    "NUM_CLUSTERS = 5\n",
    "data = X\n",
    "\n",
    "kclusterer = KMeansClusterer(NUM_CLUSTERS, distance=cosine_distance, repeats=10,avoid_empty_clusters=True)\n",
    "\n",
    "assigned_clusters = kclusterer.cluster(data,assign_clusters=True)\n",
    "\n",
    "for i in range(NUM_CLUSTERS):\n",
    "    print('centroid '+str(i)+' :')\n",
    "    print(word_vectors.similar_by_vector(kclusterer.means()[i],topn=5))"
   ]
  },
  {
   "cell_type": "code",
   "execution_count": 324,
   "metadata": {},
   "outputs": [],
   "source": [
    "def smooth(y, box_pts):\n",
    "    box = np.ones(box_pts)/box_pts\n",
    "    y_smooth = np.convolve(y, box, mode='same')\n",
    "    return y_smooth\n",
    "\n",
    "time_day=60*60*24\n",
    "nb_bins=int(clean_data['timestamps'].max()/time_day)\n",
    "coef_smooth=int(nb_bins/10)\n",
    "\n",
    "hist,e=np.histogram(clean_data['timestamps'],nb_bins)\n",
    "smooth_hist=smooth(hist,coef_smooth)\n",
    "x_hist=range(nb_bins)\n",
    "dhist=np.gradient(smooth_hist,x_hist)\n",
    "#plt.plot(x_hist,dhist)\n",
    "the_time=e[dhist.argmax()]"
   ]
  },
  {
   "attachments": {},
   "cell_type": "markdown",
   "metadata": {},
   "source": [
    "We want to identify the weak signal before this time ( which is the time where the number of tweets increase the most) and as soon as possible"
   ]
  },
  {
   "cell_type": "code",
   "execution_count": 394,
   "metadata": {},
   "outputs": [
    {
     "name": "stdout",
     "output_type": "stream",
     "text": [
      "finish\n",
      "112\n"
     ]
    },
    {
     "data": {
      "text/html": [
       "<div>\n",
       "<style scoped>\n",
       "    .dataframe tbody tr th:only-of-type {\n",
       "        vertical-align: middle;\n",
       "    }\n",
       "\n",
       "    .dataframe tbody tr th {\n",
       "        vertical-align: top;\n",
       "    }\n",
       "\n",
       "    .dataframe thead th {\n",
       "        text-align: right;\n",
       "    }\n",
       "</style>\n",
       "<table border=\"1\" class=\"dataframe\">\n",
       "  <thead>\n",
       "    <tr style=\"text-align: right;\">\n",
       "      <th></th>\n",
       "      <th>tweet_id</th>\n",
       "      <th>tweet_created_dt</th>\n",
       "      <th>retweets</th>\n",
       "      <th>favorites</th>\n",
       "      <th>tweet_text</th>\n",
       "      <th>keywords</th>\n",
       "      <th>sentiment_polarity</th>\n",
       "      <th>timestamps</th>\n",
       "    </tr>\n",
       "  </thead>\n",
       "  <tbody>\n",
       "    <tr>\n",
       "      <th>1</th>\n",
       "      <td>1245142183063289859</td>\n",
       "      <td>2020-04-01 00:13:24</td>\n",
       "      <td>0</td>\n",
       "      <td>3</td>\n",
       "      <td>i agree #blacklivesmatter</td>\n",
       "      <td>[i, blacklivesmatter]</td>\n",
       "      <td>0.000000</td>\n",
       "      <td>249.0</td>\n",
       "    </tr>\n",
       "    <tr>\n",
       "      <th>2</th>\n",
       "      <td>1245161385392320515</td>\n",
       "      <td>2020-04-01 01:29:42</td>\n",
       "      <td>0</td>\n",
       "      <td>0</td>\n",
       "      <td>i guess racism made them do it. can not we all...</td>\n",
       "      <td>[i, guess, racism, memo, black, matter]</td>\n",
       "      <td>-0.166667</td>\n",
       "      <td>4827.0</td>\n",
       "    </tr>\n",
       "    <tr>\n",
       "      <th>3</th>\n",
       "      <td>1245202864001167360</td>\n",
       "      <td>2020-04-01 04:14:32</td>\n",
       "      <td>0</td>\n",
       "      <td>0</td>\n",
       "      <td>census 2020 complete! #census2020 #blacklivesm...</td>\n",
       "      <td>[census, complete, blacklivesmatter, myvoice, ...</td>\n",
       "      <td>0.125000</td>\n",
       "      <td>14717.0</td>\n",
       "    </tr>\n",
       "    <tr>\n",
       "      <th>4</th>\n",
       "      <td>1245333473709129728</td>\n",
       "      <td>2020-04-01 12:53:31</td>\n",
       "      <td>0</td>\n",
       "      <td>0</td>\n",
       "      <td>there is a video online of a cop. speaking out...</td>\n",
       "      <td>[video, online, cop, black, matter, movements,...</td>\n",
       "      <td>-0.413889</td>\n",
       "      <td>45856.0</td>\n",
       "    </tr>\n",
       "    <tr>\n",
       "      <th>5</th>\n",
       "      <td>1245397493283684353</td>\n",
       "      <td>2020-04-01 17:07:55</td>\n",
       "      <td>0</td>\n",
       "      <td>2</td>\n",
       "      <td>lynn is losing it #blacklightning #blacklivesm...</td>\n",
       "      <td>[lynn, blacklivesmatter, coronalockdown]</td>\n",
       "      <td>0.000000</td>\n",
       "      <td>61120.0</td>\n",
       "    </tr>\n",
       "    <tr>\n",
       "      <th>6</th>\n",
       "      <td>1245405357960310785</td>\n",
       "      <td>2020-04-01 17:39:10</td>\n",
       "      <td>0</td>\n",
       "      <td>1</td>\n",
       "      <td>oh damn lynn #blacklightning #aprilfoolsday #b...</td>\n",
       "      <td>[damn, lynn, aprilfoolsday, blacklivesmatter, ...</td>\n",
       "      <td>0.000000</td>\n",
       "      <td>62995.0</td>\n",
       "    </tr>\n",
       "    <tr>\n",
       "      <th>7</th>\n",
       "      <td>1245422556720619520</td>\n",
       "      <td>2020-04-01 18:47:31</td>\n",
       "      <td>2</td>\n",
       "      <td>3</td>\n",
       "      <td>to all the transpeople who may see this you ar...</td>\n",
       "      <td>[transpeople, day, year, transdayofvisibility,...</td>\n",
       "      <td>0.000000</td>\n",
       "      <td>67096.0</td>\n",
       "    </tr>\n",
       "    <tr>\n",
       "      <th>8</th>\n",
       "      <td>1245443609039646722</td>\n",
       "      <td>2020-04-01 20:11:10</td>\n",
       "      <td>0</td>\n",
       "      <td>0</td>\n",
       "      <td>mother is burden #blacklivesmatter #mothers #m...</td>\n",
       "      <td>[mother, burden, mothers, socialjustice, black...</td>\n",
       "      <td>0.000000</td>\n",
       "      <td>72115.0</td>\n",
       "    </tr>\n",
       "    <tr>\n",
       "      <th>9</th>\n",
       "      <td>1245487111668666368</td>\n",
       "      <td>2020-04-01 23:04:02</td>\n",
       "      <td>0</td>\n",
       "      <td>1</td>\n",
       "      <td>jen dont do it #blacklightning #coronavirus #n...</td>\n",
       "      <td>[jen, dont, coronavirus, blacklivesmatter, que...</td>\n",
       "      <td>0.000000</td>\n",
       "      <td>82487.0</td>\n",
       "    </tr>\n",
       "    <tr>\n",
       "      <th>10</th>\n",
       "      <td>1245516178237374465</td>\n",
       "      <td>2020-04-02 00:59:32</td>\n",
       "      <td>4</td>\n",
       "      <td>2</td>\n",
       "      <td>and i do not believe they deserve the position...</td>\n",
       "      <td>[position, school, difference, university, sou...</td>\n",
       "      <td>-0.333333</td>\n",
       "      <td>89417.0</td>\n",
       "    </tr>\n",
       "    <tr>\n",
       "      <th>11</th>\n",
       "      <td>1245533882683973635</td>\n",
       "      <td>2020-04-02 02:09:53</td>\n",
       "      <td>1</td>\n",
       "      <td>11</td>\n",
       "      <td>over 1400 nypd have the coronavirus?!?! how th...</td>\n",
       "      <td>[nypd, coronavirus, fuck, unions, shit, bail, ...</td>\n",
       "      <td>-0.255556</td>\n",
       "      <td>93638.0</td>\n",
       "    </tr>\n",
       "    <tr>\n",
       "      <th>12</th>\n",
       "      <td>1245773437492215813</td>\n",
       "      <td>2020-04-02 18:01:47</td>\n",
       "      <td>0</td>\n",
       "      <td>0</td>\n",
       "      <td>lmfao fuck that bitch and she said the black l...</td>\n",
       "      <td>[lmfao, fuck, bitch, black, matter, movement, ...</td>\n",
       "      <td>-0.283333</td>\n",
       "      <td>150752.0</td>\n",
       "    </tr>\n",
       "    <tr>\n",
       "      <th>13</th>\n",
       "      <td>1245774502727950336</td>\n",
       "      <td>2020-04-02 18:06:01</td>\n",
       "      <td>0</td>\n",
       "      <td>0</td>\n",
       "      <td>black lives matter where are you when we need ...</td>\n",
       "      <td>[black, matter]</td>\n",
       "      <td>-0.166667</td>\n",
       "      <td>151006.0</td>\n",
       "    </tr>\n",
       "    <tr>\n",
       "      <th>14</th>\n",
       "      <td>1245833612374802432</td>\n",
       "      <td>2020-04-02 22:00:54</td>\n",
       "      <td>0</td>\n",
       "      <td>0</td>\n",
       "      <td>should have been \"black lives matter, #metoo, ...</td>\n",
       "      <td>[black, matter, metoo, wall, street]</td>\n",
       "      <td>-0.166667</td>\n",
       "      <td>165099.0</td>\n",
       "    </tr>\n",
       "    <tr>\n",
       "      <th>15</th>\n",
       "      <td>1245863511114182656</td>\n",
       "      <td>2020-04-02 23:59:42</td>\n",
       "      <td>0</td>\n",
       "      <td>1</td>\n",
       "      <td>we all know why. #blacklivesmatter</td>\n",
       "      <td>[blacklivesmatter]</td>\n",
       "      <td>0.000000</td>\n",
       "      <td>172227.0</td>\n",
       "    </tr>\n",
       "    <tr>\n",
       "      <th>16</th>\n",
       "      <td>1245880129852706816</td>\n",
       "      <td>2020-04-03 01:05:44</td>\n",
       "      <td>0</td>\n",
       "      <td>0</td>\n",
       "      <td>or you can use your political arena as you hav...</td>\n",
       "      <td>[political, arena, past, black, movement, new,...</td>\n",
       "      <td>-0.216061</td>\n",
       "      <td>176189.0</td>\n",
       "    </tr>\n",
       "    <tr>\n",
       "      <th>17</th>\n",
       "      <td>1245916459886235649</td>\n",
       "      <td>2020-04-03 03:30:06</td>\n",
       "      <td>0</td>\n",
       "      <td>0</td>\n",
       "      <td>#happybirthday twenty-fine for eternity #black...</td>\n",
       "      <td>[happybirthday, twenty-fine, eternity, blackli...</td>\n",
       "      <td>0.200000</td>\n",
       "      <td>184851.0</td>\n",
       "    </tr>\n",
       "    <tr>\n",
       "      <th>18</th>\n",
       "      <td>1246003492797513736</td>\n",
       "      <td>2020-04-03 09:15:56</td>\n",
       "      <td>0</td>\n",
       "      <td>0</td>\n",
       "      <td>black lives matter...</td>\n",
       "      <td>[black, matter]</td>\n",
       "      <td>-0.166667</td>\n",
       "      <td>205601.0</td>\n",
       "    </tr>\n",
       "    <tr>\n",
       "      <th>19</th>\n",
       "      <td>1246065743436922881</td>\n",
       "      <td>2020-04-03 13:23:18</td>\n",
       "      <td>0</td>\n",
       "      <td>0</td>\n",
       "      <td>yes, unfortunately the loss of lives will seve...</td>\n",
       "      <td>[loss, lives, horrible, years, structural, rac...</td>\n",
       "      <td>-0.750000</td>\n",
       "      <td>220443.0</td>\n",
       "    </tr>\n",
       "    <tr>\n",
       "      <th>20</th>\n",
       "      <td>1246149337031356416</td>\n",
       "      <td>2020-04-03 18:55:28</td>\n",
       "      <td>0</td>\n",
       "      <td>0</td>\n",
       "      <td>yes! #blacklivesmatter good for them.</td>\n",
       "      <td>[good]</td>\n",
       "      <td>0.700000</td>\n",
       "      <td>240373.0</td>\n",
       "    </tr>\n",
       "    <tr>\n",
       "      <th>21</th>\n",
       "      <td>1246157060657557504</td>\n",
       "      <td>2020-04-03 19:26:10</td>\n",
       "      <td>0</td>\n",
       "      <td>1</td>\n",
       "      <td>becoming homeless changed me forever . i will ...</td>\n",
       "      <td>[homeless, i, someone, i, someone, last, bit, ...</td>\n",
       "      <td>0.183333</td>\n",
       "      <td>242215.0</td>\n",
       "    </tr>\n",
       "    <tr>\n",
       "      <th>22</th>\n",
       "      <td>1246174820259319808</td>\n",
       "      <td>2020-04-03 20:36:44</td>\n",
       "      <td>0</td>\n",
       "      <td>0</td>\n",
       "      <td>we must do better! this unconscionable.</td>\n",
       "      <td>[better, unconscionable]</td>\n",
       "      <td>0.625000</td>\n",
       "      <td>246449.0</td>\n",
       "    </tr>\n",
       "    <tr>\n",
       "      <th>23</th>\n",
       "      <td>1246215168180269056</td>\n",
       "      <td>2020-04-03 23:17:04</td>\n",
       "      <td>0</td>\n",
       "      <td>1</td>\n",
       "      <td>i just realized i lived through y2k, the iraq ...</td>\n",
       "      <td>[i, i, iraq, war, black, matter, movement, glo...</td>\n",
       "      <td>-0.083333</td>\n",
       "      <td>256069.0</td>\n",
       "    </tr>\n",
       "  </tbody>\n",
       "</table>\n",
       "</div>"
      ],
      "text/plain": [
       "               tweet_id     tweet_created_dt  retweets  favorites  \\\n",
       "1   1245142183063289859  2020-04-01 00:13:24         0          3   \n",
       "2   1245161385392320515  2020-04-01 01:29:42         0          0   \n",
       "3   1245202864001167360  2020-04-01 04:14:32         0          0   \n",
       "4   1245333473709129728  2020-04-01 12:53:31         0          0   \n",
       "5   1245397493283684353  2020-04-01 17:07:55         0          2   \n",
       "6   1245405357960310785  2020-04-01 17:39:10         0          1   \n",
       "7   1245422556720619520  2020-04-01 18:47:31         2          3   \n",
       "8   1245443609039646722  2020-04-01 20:11:10         0          0   \n",
       "9   1245487111668666368  2020-04-01 23:04:02         0          1   \n",
       "10  1245516178237374465  2020-04-02 00:59:32         4          2   \n",
       "11  1245533882683973635  2020-04-02 02:09:53         1         11   \n",
       "12  1245773437492215813  2020-04-02 18:01:47         0          0   \n",
       "13  1245774502727950336  2020-04-02 18:06:01         0          0   \n",
       "14  1245833612374802432  2020-04-02 22:00:54         0          0   \n",
       "15  1245863511114182656  2020-04-02 23:59:42         0          1   \n",
       "16  1245880129852706816  2020-04-03 01:05:44         0          0   \n",
       "17  1245916459886235649  2020-04-03 03:30:06         0          0   \n",
       "18  1246003492797513736  2020-04-03 09:15:56         0          0   \n",
       "19  1246065743436922881  2020-04-03 13:23:18         0          0   \n",
       "20  1246149337031356416  2020-04-03 18:55:28         0          0   \n",
       "21  1246157060657557504  2020-04-03 19:26:10         0          1   \n",
       "22  1246174820259319808  2020-04-03 20:36:44         0          0   \n",
       "23  1246215168180269056  2020-04-03 23:17:04         0          1   \n",
       "\n",
       "                                           tweet_text  \\\n",
       "1                           i agree #blacklivesmatter   \n",
       "2   i guess racism made them do it. can not we all...   \n",
       "3   census 2020 complete! #census2020 #blacklivesm...   \n",
       "4   there is a video online of a cop. speaking out...   \n",
       "5   lynn is losing it #blacklightning #blacklivesm...   \n",
       "6   oh damn lynn #blacklightning #aprilfoolsday #b...   \n",
       "7   to all the transpeople who may see this you ar...   \n",
       "8   mother is burden #blacklivesmatter #mothers #m...   \n",
       "9   jen dont do it #blacklightning #coronavirus #n...   \n",
       "10  and i do not believe they deserve the position...   \n",
       "11  over 1400 nypd have the coronavirus?!?! how th...   \n",
       "12  lmfao fuck that bitch and she said the black l...   \n",
       "13  black lives matter where are you when we need ...   \n",
       "14  should have been \"black lives matter, #metoo, ...   \n",
       "15                 we all know why. #blacklivesmatter   \n",
       "16  or you can use your political arena as you hav...   \n",
       "17  #happybirthday twenty-fine for eternity #black...   \n",
       "18                              black lives matter...   \n",
       "19  yes, unfortunately the loss of lives will seve...   \n",
       "20              yes! #blacklivesmatter good for them.   \n",
       "21  becoming homeless changed me forever . i will ...   \n",
       "22            we must do better! this unconscionable.   \n",
       "23  i just realized i lived through y2k, the iraq ...   \n",
       "\n",
       "                                             keywords  sentiment_polarity  \\\n",
       "1                               [i, blacklivesmatter]            0.000000   \n",
       "2             [i, guess, racism, memo, black, matter]           -0.166667   \n",
       "3   [census, complete, blacklivesmatter, myvoice, ...            0.125000   \n",
       "4   [video, online, cop, black, matter, movements,...           -0.413889   \n",
       "5            [lynn, blacklivesmatter, coronalockdown]            0.000000   \n",
       "6   [damn, lynn, aprilfoolsday, blacklivesmatter, ...            0.000000   \n",
       "7   [transpeople, day, year, transdayofvisibility,...            0.000000   \n",
       "8   [mother, burden, mothers, socialjustice, black...            0.000000   \n",
       "9   [jen, dont, coronavirus, blacklivesmatter, que...            0.000000   \n",
       "10  [position, school, difference, university, sou...           -0.333333   \n",
       "11  [nypd, coronavirus, fuck, unions, shit, bail, ...           -0.255556   \n",
       "12  [lmfao, fuck, bitch, black, matter, movement, ...           -0.283333   \n",
       "13                                    [black, matter]           -0.166667   \n",
       "14               [black, matter, metoo, wall, street]           -0.166667   \n",
       "15                                 [blacklivesmatter]            0.000000   \n",
       "16  [political, arena, past, black, movement, new,...           -0.216061   \n",
       "17  [happybirthday, twenty-fine, eternity, blackli...            0.200000   \n",
       "18                                    [black, matter]           -0.166667   \n",
       "19  [loss, lives, horrible, years, structural, rac...           -0.750000   \n",
       "20                                             [good]            0.700000   \n",
       "21  [homeless, i, someone, i, someone, last, bit, ...            0.183333   \n",
       "22                           [better, unconscionable]            0.625000   \n",
       "23  [i, i, iraq, war, black, matter, movement, glo...           -0.083333   \n",
       "\n",
       "    timestamps  \n",
       "1        249.0  \n",
       "2       4827.0  \n",
       "3      14717.0  \n",
       "4      45856.0  \n",
       "5      61120.0  \n",
       "6      62995.0  \n",
       "7      67096.0  \n",
       "8      72115.0  \n",
       "9      82487.0  \n",
       "10     89417.0  \n",
       "11     93638.0  \n",
       "12    150752.0  \n",
       "13    151006.0  \n",
       "14    165099.0  \n",
       "15    172227.0  \n",
       "16    176189.0  \n",
       "17    184851.0  \n",
       "18    205601.0  \n",
       "19    220443.0  \n",
       "20    240373.0  \n",
       "21    242215.0  \n",
       "22    246449.0  \n",
       "23    256069.0  "
      ]
     },
     "execution_count": 394,
     "metadata": {},
     "output_type": "execute_result"
    }
   ],
   "source": [
    "from nltk.cluster.kmeans import KMeansClusterer\n",
    "from nltk.cluster.util import cosine_distance\n",
    "NUM_CLUSTERS = 10\n",
    "\n",
    "time_day=60*60*24\n",
    "\n",
    "\n",
    "clean_data2=clean_data[clean_data['timestamps']<the_time]\n",
    "\n",
    "\n",
    "L_cos=sliding_window(clean_data2,time_day*3,time_day//2)\n",
    "first=L_cos[0]\n",
    "print(len(L_cos))\n",
    "#L_cos=L_cos[0:2*len(L_cos)//6]\n",
    "first"
   ]
  },
  {
   "cell_type": "code",
   "execution_count": 395,
   "metadata": {},
   "outputs": [
    {
     "name": "stdout",
     "output_type": "stream",
     "text": [
      "(163, 100)\n"
     ]
    }
   ],
   "source": [
    "vector_size=100\n",
    "model = Word2Vec(sentences=first['keywords'], vector_size=vector_size, window=0, min_count=0, workers=0)\n",
    "model.save(\"Word2vec_models/test_word2vec.model\")\n",
    "word_vectors = model.wv\n",
    "\n",
    "i=0\n",
    "for keywords in first.keywords:\n",
    "    for keyword in keywords:\n",
    "        i+=1\n",
    "\n",
    "arr=np.ndarray((i,vector_size))\n",
    "i=0\n",
    "for keywords in first.keywords:\n",
    "\n",
    "    for keyword in keywords:\n",
    "        \n",
    "        arr[i]=word_vectors[keyword]\n",
    "        i+=1\n",
    "\n",
    "X=arr\n",
    "print(X.shape)"
   ]
  },
  {
   "cell_type": "code",
   "execution_count": 396,
   "metadata": {},
   "outputs": [],
   "source": [
    "kclusterer = KMeansClusterer(NUM_CLUSTERS, distance=cosine_distance, repeats=10,avoid_empty_clusters=True)\n",
    "assigned_clusters = kclusterer.cluster(X,assign_clusters=True)\n",
    "\n",
    "L_centroids=kclusterer.means()\n",
    "\n",
    "l_image_of_centroids=[]\n",
    "    \n",
    "n_top_word=5\n",
    "for i in range(len(L_centroids)):\n",
    "        #print(word_vectors.similar_by_vector(centroids[i],topn=1))\n",
    "    closest_word_of_centroid=word_vectors.similar_by_vector(L_centroids[i],topn=n_top_word)\n",
    "    l_image_of_centroids.append(closest_word_of_centroid)"
   ]
  },
  {
   "cell_type": "code",
   "execution_count": 397,
   "metadata": {},
   "outputs": [
    {
     "name": "stdout",
     "output_type": "stream",
     "text": [
      "finish\n"
     ]
    }
   ],
   "source": [
    "itt=0\n",
    "itt_max=len(L_cos)\n",
    "list_of_centroids_cos=[L_centroids]\n",
    "list_of_centroids_with_words_cos=[l_image_of_centroids]\n",
    "for seq in L_cos[1:]:\n",
    "    print(\"%.3f\" % (itt/itt_max), end=\"\\r\")\n",
    "    itt+=1\n",
    "    if False:\n",
    "        model = Word2Vec(sentences=seq['keywords'], vector_size=100, window=0, min_count=0, workers=0)\n",
    "        model.save(\"Word2vec_models/test_word2vec.model\")\n",
    "        word_vectors = model.wv\n",
    "        del model\n",
    "    model.build_vocab(seq['keywords'], update=True)\n",
    "    model.train(seq['keywords'], total_examples=model.corpus_count, epochs=model.epochs)\n",
    "    word_vectors = model.wv\n",
    "    \n",
    "\n",
    "    i=0\n",
    "    for keywords in seq.keywords:\n",
    "        for keyword in keywords:\n",
    "            i+=1\n",
    "\n",
    "    arr=np.ndarray((i,100))\n",
    "    i=0\n",
    "    for keywords in seq.keywords:\n",
    "\n",
    "        for keyword in keywords:\n",
    "            \n",
    "            arr[i]=word_vectors[keyword]\n",
    "            i+=1\n",
    "    X=arr\n",
    "    #kmeans=k_means(X,n_clusters=5,n_init='auto')\n",
    "    #centroids=kmeans[0]\n",
    "    if False:\n",
    "        kmeans=KMeans(n_clusters=n_clusters,init=centroids,n_init=1)\n",
    "        kmeans.fit(X)\n",
    "        centroids=kmeans.cluster_centers_\n",
    "    kclusterer = KMeansClusterer(NUM_CLUSTERS, distance=cosine_distance,avoid_empty_clusters=True,initial_means=L_centroids,repeats=1)\n",
    "    assigned_clusters = kclusterer.cluster(X,assign_clusters=True)\n",
    "    L_centroids=kclusterer.means()\n",
    "    \n",
    "\n",
    "\n",
    "    list_of_centroids_cos.append(L_centroids)\n",
    "    l_image_of_centroids=[]\n",
    "    \n",
    "    n_top_word=5\n",
    "    for i in range(len(L_centroids)):\n",
    "        #print(word_vectors.similar_by_vector(centroids[i],topn=1))\n",
    "        closest_word_of_centroid=word_vectors.similar_by_vector(L_centroids[i],topn=n_top_word)\n",
    "        l_image_of_centroids.append(closest_word_of_centroid)\n",
    "    list_of_centroids_with_words_cos.append(l_image_of_centroids)\n",
    "    #display(Markdown('### New centroids'))\n",
    "    #for i in range(centroids.shape[0]):\n",
    "        #print(word_vectors.similar_by_vector(centroids[i],topn=1))\n",
    "print('finish')"
   ]
  },
  {
   "cell_type": "code",
   "execution_count": 398,
   "metadata": {},
   "outputs": [
    {
     "name": "stdout",
     "output_type": "stream",
     "text": [
      "max distance for cluster 0 = 0.412957\n",
      "max distance for cluster 1 = 0.491471\n",
      "max distance for cluster 2 = 0.506948\n",
      "max distance for cluster 3 = 0.652185\n",
      "max distance for cluster 4 = 0.373497\n",
      "max distance for cluster 5 = 0.085356\n",
      "max distance for cluster 6 = 0.171042\n",
      "max distance for cluster 7 = 0.464951\n",
      "max distance for cluster 8 = 0.077221\n",
      "max distance for cluster 9 = 0.150969\n"
     ]
    }
   ],
   "source": [
    "\n",
    "L_dist=[]\n",
    "for j in range(len(list_of_centroids_cos[i])):\n",
    "    L_dist_per_cluster=[0]\n",
    "    for i in range(1,len(list_of_centroids_cos)-2):\n",
    "        L_dist_per_cluster.append(cosine_distance(list_of_centroids_cos[i][j],list_of_centroids_cos[i-1][j]))\n",
    "    L_dist.append(L_dist_per_cluster)\n",
    "    print(\"max distance for cluster \"+str(j)+\" = %f\"%np.asarray(L_dist_per_cluster).max())"
   ]
  },
  {
   "cell_type": "code",
   "execution_count": 399,
   "metadata": {},
   "outputs": [
    {
     "name": "stdout",
     "output_type": "stream",
     "text": [
      "indice de déplacement de la moyenne des points du cluster n°0 : 106\n",
      "indice de déplacement de la moyenne des points du cluster n°1 : 2\n",
      "indice de déplacement de la moyenne des points du cluster n°2 : 106\n",
      "indice de déplacement de la moyenne des points du cluster n°3 : 106\n",
      "indice de déplacement de la moyenne des points du cluster n°4 : 106\n",
      "indice de déplacement de la moyenne des points du cluster n°5 : 2\n",
      "indice de déplacement de la moyenne des points du cluster n°6 : 2\n",
      "indice de déplacement de la moyenne des points du cluster n°7 : 106\n",
      "indice de déplacement de la moyenne des points du cluster n°8 : 106\n",
      "indice de déplacement de la moyenne des points du cluster n°9 : 106\n"
     ]
    }
   ],
   "source": [
    "L_ind=[]\n",
    "for i in range(len(L_dist)):\n",
    "    print('indice de déplacement de la moyenne des points du cluster n°'+str(i)+\" : %d\"%np.where(np.asarray(L_dist[i])==np.asarray(L_dist[i]).max())[0][0])\n",
    "    L_ind.append(np.where(np.asarray(L_dist[i])==np.asarray(L_dist[i]).max())[0][0])\n",
    "    #print(np.where(np.asarray(L_dist[i_max])==np.asarray(L_dist[i_max]).max()))\n"
   ]
  },
  {
   "cell_type": "code",
   "execution_count": 400,
   "metadata": {},
   "outputs": [
    {
     "data": {
      "text/plain": [
       "[[('minneapolis', 0.6786524653434753),\n",
       "  ('justiceforfloyd', 0.4172207713127136),\n",
       "  ('pro-slavery', 0.40469372272491455),\n",
       "  ('shit', 0.3777412474155426),\n",
       "  ('real', 0.3543720245361328)],\n",
       " [('sayhisname', 0.5476949214935303),\n",
       "  ('amycooper', 0.45418068766593933),\n",
       "  ('angry', 0.37085020542144775),\n",
       "  ('important', 0.36577650904655457),\n",
       "  ('thank', 0.3426130712032318)],\n",
       " [('floyd', 0.7906460165977478),\n",
       "  ('police', 0.5066380500793457),\n",
       "  ('people', 0.46485888957977295),\n",
       "  ('workout', 0.3901790678501129),\n",
       "  ('todays', 0.3431520462036133)],\n",
       " [('georgefloyd', 0.9117944240570068),\n",
       "  ('matter', 0.39925849437713623),\n",
       "  ('behind', 0.3857111632823944),\n",
       "  ('first', 0.3645626902580261),\n",
       "  ('evil', 0.3563770353794098)],\n",
       " [('video', 0.7098432183265686),\n",
       "  ('nothing', 0.3721890151500702),\n",
       "  ('someone', 0.36040374636650085),\n",
       "  ('world', 0.34462442994117737),\n",
       "  ('climbs', 0.34185367822647095)],\n",
       " [('blacklivesmatter', 0.9140677452087402),\n",
       "  ('man', 0.5099648833274841),\n",
       "  ('angela', 0.36522868275642395),\n",
       "  ('november', 0.3360489308834076),\n",
       "  ('blacklivesmatters', 0.33017289638519287)],\n",
       " [('lives', 0.7074043154716492),\n",
       "  ('white', 0.45480746030807495),\n",
       "  ('men', 0.39018890261650085),\n",
       "  ('maddow', 0.36796340346336365),\n",
       "  ('neck', 0.36691442131996155)],\n",
       " [('cops', 0.5708318948745728),\n",
       "  ('minneapolispolice', 0.45231878757476807),\n",
       "  ('enough', 0.40215957164764404),\n",
       "  ('helpnotdeath', 0.3918852210044861),\n",
       "  ('rip', 0.36485692858695984)],\n",
       " [('black', 0.9081063866615295),\n",
       "  ('murder', 0.45095396041870117),\n",
       "  ('osunvirtualhealingconcert', 0.39115452766418457),\n",
       "  ('jaybertete', 0.3818826377391815),\n",
       "  ('policeaccountabilitynow', 0.3775669038295746)],\n",
       " [('i', 0.8493423461914062),\n",
       "  ('george', 0.6609430909156799),\n",
       "  ('icantbreathe', 0.312053918838501),\n",
       "  ('godforsaken', 0.30638831853866577),\n",
       "  ('james', 0.30296140909194946)]]"
      ]
     },
     "execution_count": 400,
     "metadata": {},
     "output_type": "execute_result"
    }
   ],
   "source": [
    "list_of_centroids_with_words_cos[106]"
   ]
  },
  {
   "cell_type": "code",
   "execution_count": 393,
   "metadata": {},
   "outputs": [
    {
     "data": {
      "text/html": [
       "<div>\n",
       "<style scoped>\n",
       "    .dataframe tbody tr th:only-of-type {\n",
       "        vertical-align: middle;\n",
       "    }\n",
       "\n",
       "    .dataframe tbody tr th {\n",
       "        vertical-align: top;\n",
       "    }\n",
       "\n",
       "    .dataframe thead th {\n",
       "        text-align: right;\n",
       "    }\n",
       "</style>\n",
       "<table border=\"1\" class=\"dataframe\">\n",
       "  <thead>\n",
       "    <tr style=\"text-align: right;\">\n",
       "      <th></th>\n",
       "      <th>tweet_id</th>\n",
       "      <th>tweet_created_dt</th>\n",
       "      <th>retweets</th>\n",
       "      <th>favorites</th>\n",
       "      <th>tweet_text</th>\n",
       "      <th>keywords</th>\n",
       "      <th>sentiment_polarity</th>\n",
       "      <th>timestamps</th>\n",
       "    </tr>\n",
       "  </thead>\n",
       "  <tbody>\n",
       "    <tr>\n",
       "      <th>2255</th>\n",
       "      <td>1264350575640092673</td>\n",
       "      <td>2020-05-24 00:20:42</td>\n",
       "      <td>0</td>\n",
       "      <td>1</td>\n",
       "      <td>we noticed. long ago, i thought, \"if being a r...</td>\n",
       "      <td>[long, i, racist, racist, ncaa, trump, black, ...</td>\n",
       "      <td>0.022396</td>\n",
       "      <td>4579887.0</td>\n",
       "    </tr>\n",
       "    <tr>\n",
       "      <th>2256</th>\n",
       "      <td>1264359915298205696</td>\n",
       "      <td>2020-05-24 00:57:49</td>\n",
       "      <td>0</td>\n",
       "      <td>0</td>\n",
       "      <td>princess love requests full custody of two kid...</td>\n",
       "      <td>[princess, love, requests, full, custody, kids...</td>\n",
       "      <td>0.425000</td>\n",
       "      <td>4582114.0</td>\n",
       "    </tr>\n",
       "    <tr>\n",
       "      <th>2257</th>\n",
       "      <td>1264360745778778112</td>\n",
       "      <td>2020-05-24 01:01:07</td>\n",
       "      <td>0</td>\n",
       "      <td>1</td>\n",
       "      <td>#harlem #blackhistory #blackhistorymonth #blac...</td>\n",
       "      <td>[harlem, blackhistory, blackhistorymonth, blac...</td>\n",
       "      <td>0.000000</td>\n",
       "      <td>4582312.0</td>\n",
       "    </tr>\n",
       "    <tr>\n",
       "      <th>2258</th>\n",
       "      <td>1264521913294098432</td>\n",
       "      <td>2020-05-24 11:41:32</td>\n",
       "      <td>0</td>\n",
       "      <td>0</td>\n",
       "      <td>if you really want to f#ck up some folks, pain...</td>\n",
       "      <td>[folks, paint, whichever, side, face, opposite...</td>\n",
       "      <td>-0.013426</td>\n",
       "      <td>4620737.0</td>\n",
       "    </tr>\n",
       "    <tr>\n",
       "      <th>2259</th>\n",
       "      <td>1264526041244205056</td>\n",
       "      <td>2020-05-24 11:57:56</td>\n",
       "      <td>0</td>\n",
       "      <td>1</td>\n",
       "      <td>black lives do not matter to the democrat part...</td>\n",
       "      <td>[black, lives, democrat, party, black, votes]</td>\n",
       "      <td>-0.069444</td>\n",
       "      <td>4621721.0</td>\n",
       "    </tr>\n",
       "    <tr>\n",
       "      <th>...</th>\n",
       "      <td>...</td>\n",
       "      <td>...</td>\n",
       "      <td>...</td>\n",
       "      <td>...</td>\n",
       "      <td>...</td>\n",
       "      <td>...</td>\n",
       "      <td>...</td>\n",
       "      <td>...</td>\n",
       "    </tr>\n",
       "    <tr>\n",
       "      <th>3565</th>\n",
       "      <td>1265433705478316034</td>\n",
       "      <td>2020-05-27 00:04:40</td>\n",
       "      <td>0</td>\n",
       "      <td>4</td>\n",
       "      <td>can not believe its 2020 and the descenders of...</td>\n",
       "      <td>[descenders, jim, crow, empowered, real, justi...</td>\n",
       "      <td>-0.044444</td>\n",
       "      <td>4838125.0</td>\n",
       "    </tr>\n",
       "    <tr>\n",
       "      <th>3566</th>\n",
       "      <td>1265433717914378244</td>\n",
       "      <td>2020-05-27 00:04:43</td>\n",
       "      <td>0</td>\n",
       "      <td>1</td>\n",
       "      <td>do you understand now? or are your eyes still ...</td>\n",
       "      <td>[eyes, georgefloyd, north, carolina]</td>\n",
       "      <td>0.000000</td>\n",
       "      <td>4838128.0</td>\n",
       "    </tr>\n",
       "    <tr>\n",
       "      <th>3567</th>\n",
       "      <td>1265433727087362049</td>\n",
       "      <td>2020-05-27 00:04:45</td>\n",
       "      <td>0</td>\n",
       "      <td>0</td>\n",
       "      <td>i am tired #georgefloyd</td>\n",
       "      <td>[i, georgefloyd]</td>\n",
       "      <td>-0.400000</td>\n",
       "      <td>4838130.0</td>\n",
       "    </tr>\n",
       "    <tr>\n",
       "      <th>3568</th>\n",
       "      <td>1265433755596083201</td>\n",
       "      <td>2020-05-27 00:04:52</td>\n",
       "      <td>0</td>\n",
       "      <td>1</td>\n",
       "      <td>#georgefloyd say his name.</td>\n",
       "      <td>[georgefloyd, name]</td>\n",
       "      <td>0.000000</td>\n",
       "      <td>4838137.0</td>\n",
       "    </tr>\n",
       "    <tr>\n",
       "      <th>3569</th>\n",
       "      <td>1265434217019736066</td>\n",
       "      <td>2020-05-27 00:06:42</td>\n",
       "      <td>0</td>\n",
       "      <td>1</td>\n",
       "      <td>frien tongue sticking out cheeky playful or bl...</td>\n",
       "      <td>[frien, tongue, cheeky, playful, raspberry, vi...</td>\n",
       "      <td>-0.250000</td>\n",
       "      <td>4838247.0</td>\n",
       "    </tr>\n",
       "  </tbody>\n",
       "</table>\n",
       "<p>1315 rows × 8 columns</p>\n",
       "</div>"
      ],
      "text/plain": [
       "                 tweet_id     tweet_created_dt  retweets  favorites  \\\n",
       "2255  1264350575640092673  2020-05-24 00:20:42         0          1   \n",
       "2256  1264359915298205696  2020-05-24 00:57:49         0          0   \n",
       "2257  1264360745778778112  2020-05-24 01:01:07         0          1   \n",
       "2258  1264521913294098432  2020-05-24 11:41:32         0          0   \n",
       "2259  1264526041244205056  2020-05-24 11:57:56         0          1   \n",
       "...                   ...                  ...       ...        ...   \n",
       "3565  1265433705478316034  2020-05-27 00:04:40         0          4   \n",
       "3566  1265433717914378244  2020-05-27 00:04:43         0          1   \n",
       "3567  1265433727087362049  2020-05-27 00:04:45         0          0   \n",
       "3568  1265433755596083201  2020-05-27 00:04:52         0          1   \n",
       "3569  1265434217019736066  2020-05-27 00:06:42         0          1   \n",
       "\n",
       "                                             tweet_text  \\\n",
       "2255  we noticed. long ago, i thought, \"if being a r...   \n",
       "2256  princess love requests full custody of two kid...   \n",
       "2257  #harlem #blackhistory #blackhistorymonth #blac...   \n",
       "2258  if you really want to f#ck up some folks, pain...   \n",
       "2259  black lives do not matter to the democrat part...   \n",
       "...                                                 ...   \n",
       "3565  can not believe its 2020 and the descenders of...   \n",
       "3566  do you understand now? or are your eyes still ...   \n",
       "3567                            i am tired #georgefloyd   \n",
       "3568                         #georgefloyd say his name.   \n",
       "3569  frien tongue sticking out cheeky playful or bl...   \n",
       "\n",
       "                                               keywords  sentiment_polarity  \\\n",
       "2255  [long, i, racist, racist, ncaa, trump, black, ...            0.022396   \n",
       "2256  [princess, love, requests, full, custody, kids...            0.425000   \n",
       "2257  [harlem, blackhistory, blackhistorymonth, blac...            0.000000   \n",
       "2258  [folks, paint, whichever, side, face, opposite...           -0.013426   \n",
       "2259      [black, lives, democrat, party, black, votes]           -0.069444   \n",
       "...                                                 ...                 ...   \n",
       "3565  [descenders, jim, crow, empowered, real, justi...           -0.044444   \n",
       "3566               [eyes, georgefloyd, north, carolina]            0.000000   \n",
       "3567                                   [i, georgefloyd]           -0.400000   \n",
       "3568                                [georgefloyd, name]            0.000000   \n",
       "3569  [frien, tongue, cheeky, playful, raspberry, vi...           -0.250000   \n",
       "\n",
       "      timestamps  \n",
       "2255   4579887.0  \n",
       "2256   4582114.0  \n",
       "2257   4582312.0  \n",
       "2258   4620737.0  \n",
       "2259   4621721.0  \n",
       "...          ...  \n",
       "3565   4838125.0  \n",
       "3566   4838128.0  \n",
       "3567   4838130.0  \n",
       "3568   4838137.0  \n",
       "3569   4838247.0  \n",
       "\n",
       "[1315 rows x 8 columns]"
      ]
     },
     "execution_count": 393,
     "metadata": {},
     "output_type": "execute_result"
    }
   ],
   "source": [
    "L_cos[106]"
   ]
  },
  {
   "cell_type": "code",
   "execution_count": 384,
   "metadata": {},
   "outputs": [],
   "source": [
    "l_sent_cos=[]\n",
    "for i in range(len(L_cos)):\n",
    "    l_sent_cos.append(L_cos[i].sentiment_polarity.mean())\n",
    "\n",
    "n_tweets_cos=[]\n",
    "for i in range(len(L_cos)):\n",
    "    n_tweets_cos.append(L_cos[i].shape[0])\n"
   ]
  },
  {
   "cell_type": "code",
   "execution_count": 385,
   "metadata": {},
   "outputs": [
    {
     "data": {
      "text/plain": [
       "Text(0, 0.5, 'mean sentiment polarity')"
      ]
     },
     "execution_count": 385,
     "metadata": {},
     "output_type": "execute_result"
    },
    {
     "data": {
      "image/png": "[encoded data removed]",
      "text/plain": [
       "<Figure size 432x288 with 2 Axes>"
      ]
     },
     "metadata": {
      "needs_background": "light"
     },
     "output_type": "display_data"
    }
   ],
   "source": [
    "\n",
    "fig, axe1_X = plt.subplots()\n",
    "axe2_X = axe1_X.twinx()\n",
    "color1='red'\n",
    "color2='blue'\n",
    "axe1_X.plot(range(len(L_cos)), n_tweets_cos, color1)\n",
    "axe2_X.plot(range(len(L_cos)), l_sent_cos, color2)\n",
    "axe1_X.set_xlabel('days')\n",
    "axe1_X.set_ylabel('number of tweets', color=color1)\n",
    "axe2_X.set_ylabel('mean sentiment polarity', color=color2)"
   ]
  },
  {
   "cell_type": "code",
   "execution_count": null,
   "metadata": {},
   "outputs": [],
   "source": []
  }
 ],
 "metadata": {
  "kernelspec": {
   "display_name": "base",
   "language": "python",
   "name": "python3"
  },
  "language_info": {
   "codemirror_mode": {
    "name": "ipython",
    "version": 3
   },
   "file_extension": ".py",
   "mimetype": "text/x-python",
   "name": "python",
   "nbconvert_exporter": "python",
   "pygments_lexer": "ipython3",
   "version": "3.9.12"
  },
  "orig_nbformat": 4,
  "vscode": {
   "interpreter": {
    "hash": "7339996d7815a0ae30850c182ba9bbc0a1cb89e61563a0ae1819bddf17b67295"
   }
  }
 },
 "nbformat": 4,
 "nbformat_minor": 2
}
