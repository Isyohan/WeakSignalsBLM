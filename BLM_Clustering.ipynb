{
 "cells": [
  {
   "cell_type": "code",
   "execution_count": 196,
   "metadata": {},
   "outputs": [
    {
     "name": "stdout",
     "output_type": "stream",
     "text": [
      "Requirement already satisfied: textblob in /Users/yohanismael/opt/anaconda3/lib/python3.9/site-packages (0.17.1)\n",
      "Requirement already satisfied: nltk>=3.1 in /Users/yohanismael/opt/anaconda3/lib/python3.9/site-packages (from textblob) (3.7)\n",
      "Requirement already satisfied: joblib in /Users/yohanismael/opt/anaconda3/lib/python3.9/site-packages (from nltk>=3.1->textblob) (1.2.0)\n",
      "Requirement already satisfied: click in /Users/yohanismael/opt/anaconda3/lib/python3.9/site-packages (from nltk>=3.1->textblob) (8.1.3)\n",
      "Requirement already satisfied: regex>=2021.8.3 in /Users/yohanismael/opt/anaconda3/lib/python3.9/site-packages (from nltk>=3.1->textblob) (2022.3.15)\n",
      "Requirement already satisfied: tqdm in /Users/yohanismael/opt/anaconda3/lib/python3.9/site-packages (from nltk>=3.1->textblob) (4.64.0)\n",
      "Note: you may need to restart the kernel to use updated packages.\n",
      "[nltk_data] Downloading package brown to\n",
      "[nltk_data]     /Users/yohanismael/nltk_data...\n",
      "[nltk_data]   Package brown is already up-to-date!\n",
      "[nltk_data] Downloading package punkt to\n",
      "[nltk_data]     /Users/yohanismael/nltk_data...\n",
      "[nltk_data]   Package punkt is already up-to-date!\n",
      "[nltk_data] Downloading package wordnet to\n",
      "[nltk_data]     /Users/yohanismael/nltk_data...\n",
      "[nltk_data]   Package wordnet is already up-to-date!\n",
      "[nltk_data] Downloading package averaged_perceptron_tagger to\n",
      "[nltk_data]     /Users/yohanismael/nltk_data...\n",
      "[nltk_data]   Package averaged_perceptron_tagger is already up-to-\n",
      "[nltk_data]       date!\n",
      "[nltk_data] Downloading package conll2000 to\n",
      "[nltk_data]     /Users/yohanismael/nltk_data...\n",
      "[nltk_data]   Package conll2000 is already up-to-date!\n",
      "[nltk_data] Downloading package movie_reviews to\n",
      "[nltk_data]     /Users/yohanismael/nltk_data...\n",
      "[nltk_data]   Package movie_reviews is already up-to-date!\n",
      "Finished.\n",
      "Requirement already satisfied: nltk in /Users/yohanismael/opt/anaconda3/lib/python3.9/site-packages (3.7)\n",
      "Requirement already satisfied: tqdm in /Users/yohanismael/opt/anaconda3/lib/python3.9/site-packages (from nltk) (4.64.0)\n",
      "Requirement already satisfied: regex>=2021.8.3 in /Users/yohanismael/opt/anaconda3/lib/python3.9/site-packages (from nltk) (2022.3.15)\n",
      "Requirement already satisfied: click in /Users/yohanismael/opt/anaconda3/lib/python3.9/site-packages (from nltk) (8.1.3)\n",
      "Requirement already satisfied: joblib in /Users/yohanismael/opt/anaconda3/lib/python3.9/site-packages (from nltk) (1.2.0)\n",
      "Note: you may need to restart the kernel to use updated packages.\n",
      "Requirement already satisfied: gensim in /Users/yohanismael/opt/anaconda3/lib/python3.9/site-packages (4.3.1)\n",
      "Requirement already satisfied: scipy>=1.7.0 in /Users/yohanismael/opt/anaconda3/lib/python3.9/site-packages (from gensim) (1.9.3)\n",
      "Requirement already satisfied: smart-open>=1.8.1 in /Users/yohanismael/opt/anaconda3/lib/python3.9/site-packages (from gensim) (5.1.0)\n",
      "Requirement already satisfied: numpy>=1.18.5 in /Users/yohanismael/opt/anaconda3/lib/python3.9/site-packages (from gensim) (1.23.4)\n",
      "Note: you may need to restart the kernel to use updated packages.\n"
     ]
    }
   ],
   "source": [
    "%pip install -U textblob\n",
    "%pip install wordcloud\n",
    "!python -m textblob.download_corpora\n",
    "\n",
    "%pip install nltk\n",
    "\n",
    "%pip install --upgrade gensim"
   ]
  },
  {
   "cell_type": "code",
   "execution_count": 197,
   "metadata": {},
   "outputs": [
    {
     "data": {
      "text/markdown": [
       "# Start Coding"
      ],
      "text/plain": [
       "<IPython.core.display.Markdown object>"
      ]
     },
     "metadata": {},
     "output_type": "display_data"
    }
   ],
   "source": [
    "import nltk\n",
    "\n",
    "import pandas as pd\n",
    "import numpy as np\n",
    "import matplotlib.pyplot as plt\n",
    "from textblob import TextBlob\n",
    "from datetime import datetime\n",
    "\n",
    "import gensim\n",
    "from gensim.models import Word2Vec\n",
    "\n",
    "from datetime import datetime\n",
    "\n",
    "from IPython.display import Markdown, display\n",
    "string = '# Start'\n",
    "display(Markdown(string+' Coding'))"
   ]
  },
  {
   "cell_type": "code",
   "execution_count": 198,
   "metadata": {},
   "outputs": [],
   "source": [
    "def str_to_timestamp(s):\n",
    "    out=[]\n",
    "\n",
    "    s2=str.split(s,'+')\n",
    "    s3=str.split(s2[0],' ')\n",
    "\n",
    "    s4=str.split(s3[0],'-')\n",
    "\n",
    "    s5=str.split(s3[1],':')\n",
    "    year=int(s4[0])\n",
    "    month=int(s4[1])\n",
    "    day=int(s4[2])\n",
    "    hour=int(s5[0])\n",
    "    minute=int(s5[1])\n",
    "    second=int(s5[2])\n",
    "\n",
    "    return(datetime(year=year,month=month,day=day,hour=hour,minute=minute,second=second).timestamp())\n",
    "\n",
    "from nltk.tokenize import word_tokenize\n",
    "\n",
    "def NumStr(mot):\n",
    "    res = ''.join(filter(lambda i: i.isdigit(), mot))\n",
    "    if (res==''):\n",
    "        return False\n",
    "    return True\n",
    "\n",
    "\n",
    "def extract_keywords(text):\n",
    "    # Tokenize the text\n",
    "    tokens = word_tokenize(text)\n",
    "\n",
    "    # Apply part-of-speech tagging\n",
    "    tagged_tokens = nltk.pos_tag(tokens)\n",
    "\n",
    "    # Select only nouns and adjectives\n",
    "    \n",
    "    keywords = [word for word, pos in tagged_tokens if (pos in ['NN', 'NNS', 'NNP', 'NNPS', 'JJ', 'JJR', 'JJS'] and not NumStr(word))]\n",
    "\n",
    "    return keywords\n",
    "\n",
    "def extract_sentiment_polarity(text):\n",
    "    blob=TextBlob(text)\n",
    "    return(blob.sentiment.polarity)\n",
    "\n",
    "def sliding_window(df,size,sliding):\n",
    "    X_out=[]\n",
    "\n",
    "    for time in range(0,int(df['timestamps'].max()),sliding):\n",
    "        #o=df[df.timestamps<time+size]\n",
    "        #X_out.append(o[o.timestamps>time])\n",
    "\n",
    "        X_out.append(df.loc[(df.timestamps<time+size)&(df.timestamps>time)])\n",
    "\n",
    "        print(\"%.3f\" % (time/int(df['timestamps'].max())), end=\"\\r\")\n",
    "    print(\"end sliding windows\")\n",
    "    return X_out[:-1]"
   ]
  },
  {
   "cell_type": "code",
   "execution_count": 199,
   "metadata": {},
   "outputs": [
    {
     "name": "stdout",
     "output_type": "stream",
     "text": [
      "start\n",
      "end of keywords\n",
      "end of polarity\n",
      "end of timestamps\n"
     ]
    }
   ],
   "source": [
    "data=pd.read_csv('data/minnesota.csv')\n",
    "df=data\n",
    "print('start')\n",
    "\n",
    "df['keywords'] = df['tweet_text'].apply(extract_keywords)\n",
    "\n",
    "print('end of keywords')\n",
    "\n",
    "df['sentiment_polarity']=df['tweet_text'].apply(extract_sentiment_polarity)\n",
    "\n",
    "print('end of polarity')\n",
    "\n",
    "df['timestamps']=df['tweet_created_dt'].apply(str_to_timestamp)\n",
    "df['timestamps']=df['timestamps']-df['timestamps'].min()\n",
    "\n",
    "print('end of timestamps')\n",
    "\n",
    "clean_data=df"
   ]
  },
  {
   "cell_type": "code",
   "execution_count": 200,
   "metadata": {},
   "outputs": [
    {
     "data": {
      "text/html": [
       "<div>\n",
       "<style scoped>\n",
       "    .dataframe tbody tr th:only-of-type {\n",
       "        vertical-align: middle;\n",
       "    }\n",
       "\n",
       "    .dataframe tbody tr th {\n",
       "        vertical-align: top;\n",
       "    }\n",
       "\n",
       "    .dataframe thead th {\n",
       "        text-align: right;\n",
       "    }\n",
       "</style>\n",
       "<table border=\"1\" class=\"dataframe\">\n",
       "  <thead>\n",
       "    <tr style=\"text-align: right;\">\n",
       "      <th></th>\n",
       "      <th>tweet_id</th>\n",
       "      <th>tweet_created_dt</th>\n",
       "      <th>retweets</th>\n",
       "      <th>favorites</th>\n",
       "      <th>tweet_text</th>\n",
       "      <th>keywords</th>\n",
       "      <th>sentiment_polarity</th>\n",
       "      <th>timestamps</th>\n",
       "    </tr>\n",
       "  </thead>\n",
       "  <tbody>\n",
       "    <tr>\n",
       "      <th>0</th>\n",
       "      <td>1245141138492850177</td>\n",
       "      <td>2020-04-01 00:09:15</td>\n",
       "      <td>0</td>\n",
       "      <td>1</td>\n",
       "      <td>watching #blacklightning s3e08 #blacklivesmatt...</td>\n",
       "      <td>[blacklivesmatter, blacktwitter, coronavirus, ...</td>\n",
       "      <td>0.000000</td>\n",
       "      <td>0.0</td>\n",
       "    </tr>\n",
       "    <tr>\n",
       "      <th>1</th>\n",
       "      <td>1245142183063289859</td>\n",
       "      <td>2020-04-01 00:13:24</td>\n",
       "      <td>0</td>\n",
       "      <td>3</td>\n",
       "      <td>i agree #blacklivesmatter</td>\n",
       "      <td>[i, blacklivesmatter]</td>\n",
       "      <td>0.000000</td>\n",
       "      <td>249.0</td>\n",
       "    </tr>\n",
       "    <tr>\n",
       "      <th>2</th>\n",
       "      <td>1245161385392320515</td>\n",
       "      <td>2020-04-01 01:29:42</td>\n",
       "      <td>0</td>\n",
       "      <td>0</td>\n",
       "      <td>i guess racism made them do it. can not we all...</td>\n",
       "      <td>[i, guess, racism, memo, black, matter]</td>\n",
       "      <td>-0.166667</td>\n",
       "      <td>4827.0</td>\n",
       "    </tr>\n",
       "    <tr>\n",
       "      <th>3</th>\n",
       "      <td>1245202864001167360</td>\n",
       "      <td>2020-04-01 04:14:32</td>\n",
       "      <td>0</td>\n",
       "      <td>0</td>\n",
       "      <td>census 2020 complete! #census2020 #blacklivesm...</td>\n",
       "      <td>[census, complete, blacklivesmatter, myvoice, ...</td>\n",
       "      <td>0.125000</td>\n",
       "      <td>14717.0</td>\n",
       "    </tr>\n",
       "    <tr>\n",
       "      <th>4</th>\n",
       "      <td>1245333473709129728</td>\n",
       "      <td>2020-04-01 12:53:31</td>\n",
       "      <td>0</td>\n",
       "      <td>0</td>\n",
       "      <td>there is a video online of a cop. speaking out...</td>\n",
       "      <td>[video, online, cop, black, matter, movements,...</td>\n",
       "      <td>-0.413889</td>\n",
       "      <td>45856.0</td>\n",
       "    </tr>\n",
       "    <tr>\n",
       "      <th>...</th>\n",
       "      <td>...</td>\n",
       "      <td>...</td>\n",
       "      <td>...</td>\n",
       "      <td>...</td>\n",
       "      <td>...</td>\n",
       "      <td>...</td>\n",
       "      <td>...</td>\n",
       "      <td>...</td>\n",
       "    </tr>\n",
       "    <tr>\n",
       "      <th>309065</th>\n",
       "      <td>1288987470478979072</td>\n",
       "      <td>2020-07-30 23:58:55</td>\n",
       "      <td>0</td>\n",
       "      <td>0</td>\n",
       "      <td>nevada sheriff tells library not to call 911 a...</td>\n",
       "      <td>[sheriff, tells, library, support, blacklivesm...</td>\n",
       "      <td>0.000000</td>\n",
       "      <td>10453780.0</td>\n",
       "    </tr>\n",
       "    <tr>\n",
       "      <th>309066</th>\n",
       "      <td>1288987725417181184</td>\n",
       "      <td>2020-07-30 23:59:56</td>\n",
       "      <td>22</td>\n",
       "      <td>26</td>\n",
       "      <td>live from nyc... #blacklivesmatter #nycprotest...</td>\n",
       "      <td>[live, nyc, nycprotests, defundthepolice]</td>\n",
       "      <td>0.136364</td>\n",
       "      <td>10453841.0</td>\n",
       "    </tr>\n",
       "    <tr>\n",
       "      <th>309067</th>\n",
       "      <td>1289036230613663745</td>\n",
       "      <td>2020-07-31 03:12:41</td>\n",
       "      <td>148</td>\n",
       "      <td>2756</td>\n",
       "      <td>amazing drone footage of baidicheng, located a...</td>\n",
       "      <td>[drone, footage, baidicheng, western, end, gor...</td>\n",
       "      <td>0.300000</td>\n",
       "      <td>10465406.0</td>\n",
       "    </tr>\n",
       "    <tr>\n",
       "      <th>309068</th>\n",
       "      <td>1289093438454009856</td>\n",
       "      <td>2020-07-31 07:00:00</td>\n",
       "      <td>1449</td>\n",
       "      <td>22089</td>\n",
       "      <td>we are sending hugs all over the world nan #bi...</td>\n",
       "      <td>[hugs, world, nan, bingdwendwen, shueyrhonrhon...</td>\n",
       "      <td>0.900000</td>\n",
       "      <td>10479045.0</td>\n",
       "    </tr>\n",
       "    <tr>\n",
       "      <th>309069</th>\n",
       "      <td>1289153186352099331</td>\n",
       "      <td>2020-07-31 10:57:25</td>\n",
       "      <td>497</td>\n",
       "      <td>12527</td>\n",
       "      <td>imagine... a foreign agency, with no input fro...</td>\n",
       "      <td>[imagine, foreign, agency, input, family, need...</td>\n",
       "      <td>0.073148</td>\n",
       "      <td>10493290.0</td>\n",
       "    </tr>\n",
       "  </tbody>\n",
       "</table>\n",
       "<p>309070 rows × 8 columns</p>\n",
       "</div>"
      ],
      "text/plain": [
       "                   tweet_id     tweet_created_dt  retweets  favorites  \\\n",
       "0       1245141138492850177  2020-04-01 00:09:15         0          1   \n",
       "1       1245142183063289859  2020-04-01 00:13:24         0          3   \n",
       "2       1245161385392320515  2020-04-01 01:29:42         0          0   \n",
       "3       1245202864001167360  2020-04-01 04:14:32         0          0   \n",
       "4       1245333473709129728  2020-04-01 12:53:31         0          0   \n",
       "...                     ...                  ...       ...        ...   \n",
       "309065  1288987470478979072  2020-07-30 23:58:55         0          0   \n",
       "309066  1288987725417181184  2020-07-30 23:59:56        22         26   \n",
       "309067  1289036230613663745  2020-07-31 03:12:41       148       2756   \n",
       "309068  1289093438454009856  2020-07-31 07:00:00      1449      22089   \n",
       "309069  1289153186352099331  2020-07-31 10:57:25       497      12527   \n",
       "\n",
       "                                               tweet_text  \\\n",
       "0       watching #blacklightning s3e08 #blacklivesmatt...   \n",
       "1                               i agree #blacklivesmatter   \n",
       "2       i guess racism made them do it. can not we all...   \n",
       "3       census 2020 complete! #census2020 #blacklivesm...   \n",
       "4       there is a video online of a cop. speaking out...   \n",
       "...                                                   ...   \n",
       "309065  nevada sheriff tells library not to call 911 a...   \n",
       "309066  live from nyc... #blacklivesmatter #nycprotest...   \n",
       "309067  amazing drone footage of baidicheng, located a...   \n",
       "309068  we are sending hugs all over the world nan #bi...   \n",
       "309069  imagine... a foreign agency, with no input fro...   \n",
       "\n",
       "                                                 keywords  sentiment_polarity  \\\n",
       "0       [blacklivesmatter, blacktwitter, coronavirus, ...            0.000000   \n",
       "1                                   [i, blacklivesmatter]            0.000000   \n",
       "2                 [i, guess, racism, memo, black, matter]           -0.166667   \n",
       "3       [census, complete, blacklivesmatter, myvoice, ...            0.125000   \n",
       "4       [video, online, cop, black, matter, movements,...           -0.413889   \n",
       "...                                                   ...                 ...   \n",
       "309065  [sheriff, tells, library, support, blacklivesm...            0.000000   \n",
       "309066          [live, nyc, nycprotests, defundthepolice]            0.136364   \n",
       "309067  [drone, footage, baidicheng, western, end, gor...            0.300000   \n",
       "309068  [hugs, world, nan, bingdwendwen, shueyrhonrhon...            0.900000   \n",
       "309069  [imagine, foreign, agency, input, family, need...            0.073148   \n",
       "\n",
       "        timestamps  \n",
       "0              0.0  \n",
       "1            249.0  \n",
       "2           4827.0  \n",
       "3          14717.0  \n",
       "4          45856.0  \n",
       "...            ...  \n",
       "309065  10453780.0  \n",
       "309066  10453841.0  \n",
       "309067  10465406.0  \n",
       "309068  10479045.0  \n",
       "309069  10493290.0  \n",
       "\n",
       "[309070 rows x 8 columns]"
      ]
     },
     "execution_count": 200,
     "metadata": {},
     "output_type": "execute_result"
    }
   ],
   "source": [
    "clean_data"
   ]
  },
  {
   "cell_type": "code",
   "execution_count": 201,
   "metadata": {},
   "outputs": [
    {
     "name": "stdout",
     "output_type": "stream",
     "text": [
      "end sliding windows\n"
     ]
    }
   ],
   "source": [
    "time_day=60*60*24\n",
    "size=time_day #*3\n",
    "slide=time_day #//2\n",
    "L=sliding_window(clean_data,size,slide)\n"
   ]
  },
  {
   "cell_type": "code",
   "execution_count": 202,
   "metadata": {},
   "outputs": [],
   "source": [
    "l_sent=[]\n",
    "for i in range(len(L)):\n",
    "    l_sent.append(L[i].sentiment_polarity.mean())\n",
    "\n",
    "n_tweets=[]\n",
    "for i in range(len(L)):\n",
    "    n_tweets.append(L[i].shape[0])\n"
   ]
  },
  {
   "cell_type": "code",
   "execution_count": 203,
   "metadata": {},
   "outputs": [
    {
     "data": {
      "image/png": "[encoded data removed]",
      "text/plain": [
       "<Figure size 432x288 with 2 Axes>"
      ]
     },
     "metadata": {
      "needs_background": "light"
     },
     "output_type": "display_data"
    }
   ],
   "source": [
    "fig, axe1_X = plt.subplots()\n",
    "axe2_X = axe1_X.twinx()\n",
    "color1='red'\n",
    "color2='blue'\n",
    "axe1_X.plot(range(len(L)), n_tweets, color1)\n",
    "axe2_X.plot(range(len(L)), l_sent, color2)\n",
    "axe1_X.set_xlabel('days')\n",
    "axe1_X.set_ylabel('number of tweets', color=color1)\n",
    "axe2_X.set_ylabel('mean sentiment polarity', color=color2)\n",
    "plt.savefig(\"figures_out/n_tweets_and_sent_pol.png\",transparent=True)"
   ]
  },
  {
   "cell_type": "code",
   "execution_count": 204,
   "metadata": {},
   "outputs": [],
   "source": [
    "def smooth(y, box_pts):\n",
    "    box = np.ones(box_pts)/box_pts\n",
    "    y_smooth = np.convolve(y, box, mode='same')\n",
    "    return y_smooth\n",
    "\n",
    "time_day=60*60*24\n",
    "nb_bins=int(clean_data['timestamps'].max()/time_day)\n",
    "coef_smooth=int(nb_bins/10)\n",
    "\n",
    "hist,e=np.histogram(clean_data['timestamps'],nb_bins)\n",
    "smooth_hist=smooth(hist,coef_smooth)\n",
    "x_hist=range(nb_bins)\n",
    "dhist=np.gradient(smooth_hist,x_hist)\n",
    "#plt.plot(x_hist,dhist)\n",
    "the_time=e[dhist.argmax()]"
   ]
  },
  {
   "cell_type": "code",
   "execution_count": 205,
   "metadata": {},
   "outputs": [],
   "source": [
    "def cut_at_time_t(L,t):\n",
    "    L_out=[]\n",
    "    k=L[0].timestamps.max()\n",
    "    i=0\n",
    "    while k<t: \n",
    "        k=L[i].timestamps.max()\n",
    "        L_out.append(L[i])\n",
    "        i+=1\n",
    "    return(L_out)"
   ]
  },
  {
   "cell_type": "code",
   "execution_count": 206,
   "metadata": {},
   "outputs": [
    {
     "data": {
      "text/plain": [
       "121"
      ]
     },
     "execution_count": 206,
     "metadata": {},
     "output_type": "execute_result"
    }
   ],
   "source": [
    "len(L)"
   ]
  },
  {
   "cell_type": "code",
   "execution_count": 207,
   "metadata": {},
   "outputs": [],
   "source": [
    "L_use=cut_at_time_t(L,the_time)"
   ]
  },
  {
   "attachments": {},
   "cell_type": "markdown",
   "metadata": {},
   "source": [
    "We want to identify the weak signal before this time ( which is the time where the number of tweets increase the most) and as soon as possible"
   ]
  },
  {
   "cell_type": "code",
   "execution_count": 208,
   "metadata": {},
   "outputs": [
    {
     "name": "stdout",
     "output_type": "stream",
     "text": [
      "57\n"
     ]
    }
   ],
   "source": [
    "from nltk.cluster.kmeans import KMeansClusterer\n",
    "from nltk.cluster.util import cosine_distance\n",
    "\n",
    "L_cos=L_use\n",
    "first=L_cos[0]\n",
    "print(len(L_cos))"
   ]
  },
  {
   "cell_type": "code",
   "execution_count": 209,
   "metadata": {},
   "outputs": [],
   "source": [
    "\n",
    "\n",
    "def freq_tweets(data):\n",
    "    keyword_list=[]\n",
    "    for keywords in data.keywords:\n",
    "        for keyword in keywords:\n",
    "            keyword_list.append(keyword)\n",
    "    keyword_array=np.array(keyword_list)\n",
    "    keyword_array.shape\n",
    "    A=keyword_array\n",
    "\n",
    "    lenght=len(A)\n",
    "    unique_lenght=len(np.unique(A))\n",
    "    i=0\n",
    "    out=dict()\n",
    "    for obj in np.unique(A): \n",
    "        k=0 \n",
    "        for keywords_tweets in data.keywords:\n",
    "            if (obj in keywords_tweets):\n",
    "                k+=1\n",
    "        out[obj]=k/data.shape[0]\n",
    "        i+=1\n",
    "\n",
    "    \n",
    "    return(out)\n",
    "\n",
    "def clustering(L,vector_size=100,NUM_CLUSTERS=10,n_top_word=5,keywordColumnName='keywords'):\n",
    "    L_cos=L\n",
    "    first=L_cos[0]\n",
    "    model = Word2Vec(sentences=first[keywordColumnName], vector_size=vector_size, window=0, min_count=0, workers=0)\n",
    "    model.save(\"Word2vec_models/test_word2vec.model\")\n",
    "    word_vectors = model.wv\n",
    "\n",
    "    i=0\n",
    "    for keywords in first[keywordColumnName]:\n",
    "        for keyword in keywords:\n",
    "            i+=1\n",
    "\n",
    "    arr=np.ndarray((i,vector_size))\n",
    "    i=0\n",
    "    for keywords in first[keywordColumnName]:\n",
    "\n",
    "        for keyword in keywords:\n",
    "            \n",
    "            arr[i]=word_vectors[keyword]\n",
    "            i+=1\n",
    "\n",
    "    X=arr\n",
    "\n",
    "    \n",
    "\n",
    "    freq_keywords_tweets=freq_tweets(first)\n",
    "\n",
    "    kclusterer = KMeansClusterer(NUM_CLUSTERS, distance=cosine_distance, repeats=100,avoid_empty_clusters=True)\n",
    "    assigned_clusters = kclusterer.cluster(X,assign_clusters=True)\n",
    "\n",
    "    L_centroids=kclusterer.means()\n",
    "\n",
    "    l_image_of_centroids=[]\n",
    "        \n",
    "    n_top_word=5\n",
    "    for i in range(len(L_centroids)):\n",
    "            #print(word_vectors.similar_by_vector(centroids[i],topn=1))\n",
    "        closest_word_of_centroid=word_vectors.similar_by_vector(L_centroids[i],topn=n_top_word)\n",
    "        l_image_of_centroids.append(closest_word_of_centroid)\n",
    "\n",
    "\n",
    "    itt=0\n",
    "    itt_max=len(L_cos)\n",
    "    list_of_centroids_cos=[L_centroids]\n",
    "    list_of_centroids_with_words_cos=[l_image_of_centroids]\n",
    "    #list_freq=[freq_keywords]\n",
    "    list_freq=[freq_keywords_tweets]\n",
    "\n",
    "    for seq in L_cos[1:]:\n",
    "        print(\"%.3f\" % (itt/itt_max), end=\"\\r\")\n",
    "        itt+=1\n",
    "        model.build_vocab(seq[keywordColumnName], update=True)\n",
    "        model.train(seq[keywordColumnName], total_examples=model.corpus_count, epochs=model.epochs)\n",
    "        word_vectors = model.wv\n",
    "        \n",
    "\n",
    "        i=0\n",
    "        for keywords in seq[keywordColumnName]:\n",
    "            for keyword in keywords:\n",
    "                i+=1\n",
    "\n",
    "        arr=np.ndarray((i,vector_size))\n",
    "        i=0\n",
    "        for keywords in seq[keywordColumnName]:\n",
    "            for keyword in keywords:\n",
    "                arr[i]=word_vectors[keyword]\n",
    "                i+=1\n",
    "        X=arr\n",
    "\n",
    "        \n",
    "        freq_keywords_tweets=freq_tweets(seq)\n",
    "        \n",
    "        #list_freq.append(freq_keywords)\n",
    "        list_freq.append(freq_keywords_tweets)\n",
    "\n",
    "        kclusterer = KMeansClusterer(NUM_CLUSTERS, distance=cosine_distance,avoid_empty_clusters=True,initial_means=L_centroids,repeats=1)\n",
    "        assigned_clusters = kclusterer.cluster(X,assign_clusters=True)\n",
    "        L_centroids=kclusterer.means()\n",
    "        \n",
    "\n",
    "\n",
    "        list_of_centroids_cos.append(L_centroids)\n",
    "        l_image_of_centroids=[]\n",
    "        \n",
    "        \n",
    "\n",
    "        for i in range(len(L_centroids)):\n",
    "            closest_word_of_centroid=word_vectors.similar_by_vector(L_centroids[i],topn=n_top_word)\n",
    "            l_image_of_centroids.append(closest_word_of_centroid)\n",
    "\n",
    "        list_of_centroids_with_words_cos.append(l_image_of_centroids)\n",
    "\n",
    "    print('end clustering')\n",
    "    return(list_of_centroids_cos,list_of_centroids_with_words_cos,list_freq)\n",
    "\n",
    "def from_dataset_to_clusters(dataset,size_window=size,slide_window=slide,time=the_time,vector_size=100,NUM_CLUSTERS=10,n_top_word=5,keywordColumnName='keywords'):\n",
    "    L=sliding_window(dataset,size_window,slide_window)\n",
    "    L_use=cut_at_time_t(L,time)\n",
    "    \n",
    "    l_cent,l_cent_words,l_freq=clustering(L_use,vector_size=vector_size,NUM_CLUSTERS=NUM_CLUSTERS,n_top_word=n_top_word,keywordColumnName=keywordColumnName)\n",
    "    return(l_cent,l_cent_words,l_freq)"
   ]
  },
  {
   "cell_type": "code",
   "execution_count": 210,
   "metadata": {},
   "outputs": [],
   "source": [
    "NUM_CLUSTERS=20\n",
    "vector_size=100\n",
    "n_top_word=5\n",
    "\n",
    "time_day=60*60*24\n",
    "\n",
    "size=time_day*3\n",
    "slide=time_day//2"
   ]
  },
  {
   "cell_type": "code",
   "execution_count": 211,
   "metadata": {},
   "outputs": [
    {
     "name": "stdout",
     "output_type": "stream",
     "text": [
      "end sliding windows\n",
      "end clustering\n"
     ]
    },
    {
     "data": {
      "text/plain": [
       "110"
      ]
     },
     "execution_count": 211,
     "metadata": {},
     "output_type": "execute_result"
    }
   ],
   "source": [
    "list_of_centroids_cos,list_of_centroids_with_words_cos,list_freq=from_dataset_to_clusters(clean_data,\n",
    "                                                                                size_window=size,\n",
    "                                                                                slide_window=slide,\n",
    "                                                                                time=the_time+time_day,\n",
    "                                                                                vector_size=vector_size,\n",
    "                                                                                NUM_CLUSTERS=NUM_CLUSTERS,\n",
    "                                                                                n_top_word=n_top_word)\n",
    "\n",
    "len(list_of_centroids_cos)"
   ]
  },
  {
   "cell_type": "code",
   "execution_count": 212,
   "metadata": {},
   "outputs": [
    {
     "name": "stdout",
     "output_type": "stream",
     "text": [
      "max distance for cluster 0 = 0.520327\n",
      "max distance for cluster 1 = 0.648888\n",
      "max distance for cluster 2 = 0.625658\n",
      "max distance for cluster 3 = 0.629432\n",
      "max distance for cluster 4 = 0.381432\n",
      "max distance for cluster 5 = 0.315097\n",
      "max distance for cluster 6 = 0.513113\n",
      "max distance for cluster 7 = 0.086963\n",
      "max distance for cluster 8 = 0.070959\n",
      "max distance for cluster 9 = 0.232418\n",
      "max distance for cluster 10 = 0.398792\n",
      "max distance for cluster 11 = 0.516725\n",
      "max distance for cluster 12 = 0.047621\n",
      "max distance for cluster 13 = 0.438094\n",
      "max distance for cluster 14 = 0.312547\n",
      "max distance for cluster 15 = 0.326293\n",
      "max distance for cluster 16 = 0.125765\n",
      "max distance for cluster 17 = 0.382903\n",
      "max distance for cluster 18 = 0.818430\n",
      "max distance for cluster 19 = 0.026829\n"
     ]
    }
   ],
   "source": [
    "L_dist=[]\n",
    "L_dist_max=[]\n",
    "for j in range(len(list_of_centroids_cos[0])):\n",
    "    L_dist_per_cluster=[0]\n",
    "    for i in range(1,len(list_of_centroids_cos)):\n",
    "        L_dist_per_cluster.append(cosine_distance(list_of_centroids_cos[i][j],list_of_centroids_cos[i-1][j]))\n",
    "    L_dist.append(L_dist_per_cluster)\n",
    "    L_dist_max.append(np.asarray(L_dist_per_cluster).max())\n",
    "    print(\"max distance for cluster \"+str(j)+\" = %f\"%np.asarray(L_dist_per_cluster).max())"
   ]
  },
  {
   "cell_type": "code",
   "execution_count": 213,
   "metadata": {},
   "outputs": [
    {
     "data": {
      "text/plain": [
       "18"
      ]
     },
     "execution_count": 213,
     "metadata": {},
     "output_type": "execute_result"
    }
   ],
   "source": [
    "cluster_max_distance=np.where(L_dist_max == np.max(L_dist_max))[0][0]\n",
    "cluster_max_distance"
   ]
  },
  {
   "cell_type": "code",
   "execution_count": 214,
   "metadata": {},
   "outputs": [
    {
     "name": "stdout",
     "output_type": "stream",
     "text": [
      "indice de déplacement de la moyenne des points du cluster n°0 : 18\n",
      "indice de déplacement de la moyenne des points du cluster n°1 : 106\n",
      "indice de déplacement de la moyenne des points du cluster n°2 : 106\n",
      "indice de déplacement de la moyenne des points du cluster n°3 : 106\n",
      "indice de déplacement de la moyenne des points du cluster n°4 : 106\n",
      "indice de déplacement de la moyenne des points du cluster n°5 : 8\n",
      "indice de déplacement de la moyenne des points du cluster n°6 : 6\n",
      "indice de déplacement de la moyenne des points du cluster n°7 : 106\n",
      "indice de déplacement de la moyenne des points du cluster n°8 : 2\n",
      "indice de déplacement de la moyenne des points du cluster n°9 : 106\n",
      "indice de déplacement de la moyenne des points du cluster n°10 : 106\n",
      "indice de déplacement de la moyenne des points du cluster n°11 : 106\n",
      "indice de déplacement de la moyenne des points du cluster n°12 : 106\n",
      "indice de déplacement de la moyenne des points du cluster n°13 : 106\n",
      "indice de déplacement de la moyenne des points du cluster n°14 : 104\n",
      "indice de déplacement de la moyenne des points du cluster n°15 : 106\n",
      "indice de déplacement de la moyenne des points du cluster n°16 : 18\n",
      "indice de déplacement de la moyenne des points du cluster n°17 : 106\n",
      "indice de déplacement de la moyenne des points du cluster n°18 : 1\n",
      "indice de déplacement de la moyenne des points du cluster n°19 : 106\n"
     ]
    },
    {
     "data": {
      "text/plain": [
       "106"
      ]
     },
     "execution_count": 214,
     "metadata": {},
     "output_type": "execute_result"
    }
   ],
   "source": [
    "L_ind=[]\n",
    "for i in range(len(L_dist)):\n",
    "    print('indice de déplacement de la moyenne des points du cluster n°'+str(i)+\" : %d\"%np.where(np.asarray(L_dist[i])==np.asarray(L_dist[i]).max())[0][0])\n",
    "    L_ind.append(np.where(np.asarray(L_dist[i])==np.asarray(L_dist[i]).max())[0][0])\n",
    "    #print(np.where(np.asarray(L_dist[i_max])==np.asarray(L_dist[i_max]).max()))\n",
    "ind_max=int(np.max(L_ind))\n",
    "ind_max"
   ]
  },
  {
   "cell_type": "code",
   "execution_count": 215,
   "metadata": {},
   "outputs": [],
   "source": [
    "arr_dist=np.ndarray(shape=(len(L_dist),len(L_dist[0])))\n",
    "for i in range(arr_dist.shape[0]):\n",
    "    for j in range(arr_dist.shape[1]):\n",
    "        arr_dist[i,j]=L_dist[i][j]"
   ]
  },
  {
   "cell_type": "code",
   "execution_count": 216,
   "metadata": {},
   "outputs": [
    {
     "data": {
      "image/png": "[encoded data removed]",
      "text/plain": [
       "<Figure size 432x288 with 1 Axes>"
      ]
     },
     "metadata": {
      "needs_background": "light"
     },
     "output_type": "display_data"
    }
   ],
   "source": [
    "import numpy as np\n",
    "import matplotlib.pyplot as plt\n",
    "\n",
    "ind_test=ind_max\n",
    "arr_d = arr_dist[:,0:ind_test]\n",
    "\n",
    "# plot the values of the 10 points against the x-axis values\n",
    "x = np.arange(ind_test)\n",
    "for i in range(arr_d.shape[0]):\n",
    "    plt.scatter(x, arr_d[i])\n",
    "    \n",
    "\n",
    "# set the title and labels for the plot\n",
    "plt.title('Distances between past cluster')\n",
    "plt.xlabel('X-axis values')\n",
    "plt.ylabel('Values')\n",
    "\n",
    "# display the plot\n",
    "plt.show()\n"
   ]
  },
  {
   "attachments": {},
   "cell_type": "markdown",
   "metadata": {},
   "source": [
    "### For each iteration we look at the cluster that move the most"
   ]
  },
  {
   "cell_type": "code",
   "execution_count": 217,
   "metadata": {},
   "outputs": [
    {
     "data": {
      "text/plain": [
       "array([ 4., 12.,  2., 11., 16., 13.,  3.,  0.,  0.,  0., 10.,  5.,  0.,\n",
       "        7.,  4.,  7.,  0.,  4.,  7.,  0.])"
      ]
     },
     "execution_count": 217,
     "metadata": {},
     "output_type": "execute_result"
    }
   ],
   "source": [
    "counting=np.zeros(NUM_CLUSTERS)\n",
    "for i in range(arr_d.shape[1]):\n",
    "    counting[np.where(arr_d[:,i]==arr_d[:,i].max())]+=1\n",
    "counting-=counting.min()\n",
    "counting"
   ]
  },
  {
   "cell_type": "code",
   "execution_count": 218,
   "metadata": {},
   "outputs": [
    {
     "data": {
      "text/plain": [
       "[('floyd', 0.9654058218002319),\n",
       " ('blacklivesmatters', 0.4888887107372284),\n",
       " ('dopest', 0.35083436965942383),\n",
       " ('alternatives', 0.344039648771286),\n",
       " ('breakingnews', 0.34146177768707275)]"
      ]
     },
     "execution_count": 218,
     "metadata": {},
     "output_type": "execute_result"
    }
   ],
   "source": [
    "list_of_centroids_with_words_cos[ind_max][cluster_max_distance]"
   ]
  },
  {
   "cell_type": "code",
   "execution_count": 219,
   "metadata": {},
   "outputs": [
    {
     "data": {
      "image/png": "[encoded data removed]",
      "text/plain": [
       "<Figure size 432x288 with 1 Axes>"
      ]
     },
     "metadata": {
      "needs_background": "light"
     },
     "output_type": "display_data"
    }
   ],
   "source": [
    "plt.bar(range(NUM_CLUSTERS),counting)\n",
    "plt.show()"
   ]
  },
  {
   "cell_type": "code",
   "execution_count": 220,
   "metadata": {},
   "outputs": [],
   "source": [
    "def top_n_ind(arr_in,n):\n",
    "    arr=arr_in.copy()\n",
    "    #out=np.zeros(n,dtype=int)\n",
    "    out=[]\n",
    "    i=0\n",
    "    while (i<n and arr[arr.argmax()]!=-1):\n",
    "        out.append(arr.argmax())\n",
    "        arr[arr.argmax()]=-1\n",
    "        i+=1\n",
    "    return(np.asarray(out))"
   ]
  },
  {
   "cell_type": "code",
   "execution_count": 221,
   "metadata": {},
   "outputs": [],
   "source": [
    "arr_centroids_words=np.ndarray((len(list_of_centroids_cos),NUM_CLUSTERS),dtype=object)\n",
    "for i in range(arr_centroids_words.shape[0]):\n",
    "    for j in range(arr_centroids_words.shape[1]):\n",
    "        arr_centroids_words[i,j]=list_of_centroids_with_words_cos[i][j]"
   ]
  },
  {
   "cell_type": "code",
   "execution_count": 222,
   "metadata": {},
   "outputs": [
    {
     "data": {
      "text/plain": [
       "array([list([('cop', 0.5405671000480652), ('minneapolispolice', 0.5019808411598206), ('rip', 0.47233647108078003), ('rights', 0.4180101454257965), ('reason', 0.36936724185943604)]),\n",
       "       list([('shit', 0.5284465551376343), ('men', 0.4684324860572815), ('other', 0.4472293257713318), ('community', 0.3882770240306854), ('thisisamerica', 0.356973797082901)]),\n",
       "       list([('georgefloyd', 0.9768126010894775), ('blackprofessionals', 0.3308561146259308), ('exposure', 0.33057692646980286), ('evil', 0.32212764024734497), ('repercussion', 0.3218638598918915)])],\n",
       "      dtype=object)"
      ]
     },
     "execution_count": 222,
     "metadata": {},
     "output_type": "execute_result"
    }
   ],
   "source": [
    "arr_centroids_words[ind_max,top_n_ind(counting,3)]"
   ]
  },
  {
   "attachments": {},
   "cell_type": "markdown",
   "metadata": {},
   "source": [
    "### Two things :\n",
    "- We can follow the clusters that move the most before the strong signal appear. Those clusters tend to be the heart of the strong signal\n",
    "- However the most signifant cluster will be the one that move the most when important new keywords appear and we can't say that it we'll be part of the most moving clusters\n",
    "\n",
    "## Results :"
   ]
  },
  {
   "attachments": {},
   "cell_type": "markdown",
   "metadata": {},
   "source": [
    "Clusters that moves the most in general :"
   ]
  },
  {
   "cell_type": "code",
   "execution_count": 223,
   "metadata": {},
   "outputs": [
    {
     "data": {
      "text/plain": [
       "array([list([('cop', 0.5405671000480652), ('minneapolispolice', 0.5019808411598206), ('rip', 0.47233647108078003), ('rights', 0.4180101454257965), ('reason', 0.36936724185943604)]),\n",
       "       list([('shit', 0.5284465551376343), ('men', 0.4684324860572815), ('other', 0.4472293257713318), ('community', 0.3882770240306854), ('thisisamerica', 0.356973797082901)]),\n",
       "       list([('georgefloyd', 0.9768126010894775), ('blackprofessionals', 0.3308561146259308), ('exposure', 0.33057692646980286), ('evil', 0.32212764024734497), ('repercussion', 0.3218638598918915)])],\n",
       "      dtype=object)"
      ]
     },
     "execution_count": 223,
     "metadata": {},
     "output_type": "execute_result"
    }
   ],
   "source": [
    "arr_centroids_words[ind_max,top_n_ind(counting,3)]"
   ]
  },
  {
   "attachments": {},
   "cell_type": "markdown",
   "metadata": {},
   "source": [
    "Cluster that moves the most in one iteration"
   ]
  },
  {
   "cell_type": "code",
   "execution_count": 224,
   "metadata": {},
   "outputs": [
    {
     "data": {
      "text/plain": [
       "[('floyd', 0.9654058218002319),\n",
       " ('blacklivesmatters', 0.4888887107372284),\n",
       " ('dopest', 0.35083436965942383),\n",
       " ('alternatives', 0.344039648771286),\n",
       " ('breakingnews', 0.34146177768707275)]"
      ]
     },
     "execution_count": 224,
     "metadata": {},
     "output_type": "execute_result"
    }
   ],
   "source": [
    "arr_centroids_words[ind_max,cluster_max_distance]"
   ]
  },
  {
   "cell_type": "code",
   "execution_count": 225,
   "metadata": {},
   "outputs": [
    {
     "data": {
      "image/png": "[encoded data removed]",
      "text/plain": [
       "<Figure size 432x288 with 1 Axes>"
      ]
     },
     "metadata": {
      "needs_background": "light"
     },
     "output_type": "display_data"
    }
   ],
   "source": [
    "black=[]\n",
    "word='justice'\n",
    "word_list=[]\n",
    "for i in range(len(list_freq)):\n",
    "    black.append(list_freq[i]['black'])\n",
    "    \n",
    "    try:\n",
    "         word_list.append(list_freq[i][word])\n",
    "    except KeyError:\n",
    "         word_list.append(0)\n",
    "\n",
    "\n",
    "plt.plot(range(len(list_freq)),black,label='black')\n",
    "\n",
    "plt.plot(range(len(list_freq)),word_list,label=word)\n",
    "\n",
    "plt.legend(loc=\"upper right\")\n",
    "plt.show()"
   ]
  },
  {
   "cell_type": "code",
   "execution_count": 226,
   "metadata": {},
   "outputs": [
    {
     "name": "stdout",
     "output_type": "stream",
     "text": [
      "end sliding windows\n"
     ]
    }
   ],
   "source": [
    "L=sliding_window(clean_data,size=size,sliding=slide)\n",
    "l_sent=[]\n",
    "for i in range(len(L)):\n",
    "    l_sent.append(L[i].sentiment_polarity.mean())\n",
    "\n",
    "n_tweets=[]\n",
    "for i in range(len(L)):\n",
    "    n_tweets.append(L[i].shape[0])\n"
   ]
  },
  {
   "cell_type": "code",
   "execution_count": 227,
   "metadata": {},
   "outputs": [
    {
     "name": "stdout",
     "output_type": "stream",
     "text": [
      "110\n"
     ]
    },
    {
     "data": {
      "image/png": "[encoded data removed]",
      "text/plain": [
       "<Figure size 432x288 with 2 Axes>"
      ]
     },
     "metadata": {
      "needs_background": "light"
     },
     "output_type": "display_data"
    }
   ],
   "source": [
    "\n",
    "arr_word=np.asarray(arr_centroids_words[-1,top_n_ind(counting,1)[0]])\n",
    "\n",
    "l_words=[]\n",
    "for list in arr_centroids_words[-1,top_n_ind(counting,3)]:\n",
    "    l_words.append(list[0][0])\n",
    "\n",
    "\n",
    "words_list=[]\n",
    "n_clust=3\n",
    "for j in range(n_clust):\n",
    "    word_list=[]\n",
    "    for i in range(len(arr_centroids_words[:,0])):\n",
    "    \n",
    "        word_list.append(arr_centroids_words[:,top_n_ind(counting,n_clust)][i][j][0][0])\n",
    "    words_list.append(word_list)\n",
    "\n",
    "\n",
    "freq_per_cluster_list=[]\n",
    "for j in range(n_clust):\n",
    "    temp=[]\n",
    "    for i in range(len(list_freq)):\n",
    "        try:\n",
    "            temp.append(list_freq[i][words_list[j][i]])\n",
    "        except KeyError:\n",
    "            temp.append(0)\n",
    "    freq_per_cluster_list.append(temp)\n",
    "\n",
    "print(len(freq_per_cluster_list[0]))\n",
    "\n",
    "\n",
    "\n",
    "fig, axe1_X = plt.subplots()\n",
    "axe2_X = axe1_X.twinx()\n",
    "color1='red'\n",
    "color2='blue'\n",
    "axe1_X.plot(range(len(L)), n_tweets, color1)\n",
    "axe1_X.set_xlabel('time')\n",
    "axe1_X.set_ylabel('number of tweets', color=color1)\n",
    "if False:\n",
    "    for word in l_words :\n",
    "        word_list=[]\n",
    "        for i in range(len(list_freq)):\n",
    "            try:\n",
    "                word_list.append(list_freq[i][word])\n",
    "            except KeyError:\n",
    "                word_list.append(0)\n",
    "        axe2_X.plot(range(len(list_freq)),word_list,label=word)\n",
    "for j in range(n_clust):\n",
    "    axe2_X.plot(range(len(list_freq)),freq_per_cluster_list[j],label=str(j))\n",
    "\n",
    "axe2_X.set_ylabel('frenquencies of words')\n",
    "plt.legend(loc=\"upper right\")\n",
    "plt.show()"
   ]
  },
  {
   "cell_type": "code",
   "execution_count": 228,
   "metadata": {},
   "outputs": [
    {
     "data": {
      "text/plain": [
       "['racism',\n",
       " 'position',\n",
       " 'st',\n",
       " 'tweet',\n",
       " 'tweet',\n",
       " 'tweet',\n",
       " 'tweet',\n",
       " 'healthdisparities',\n",
       " 'icon',\n",
       " 'healthdisparities',\n",
       " 'healthdisparities',\n",
       " 'healthdisparities',\n",
       " 'communities',\n",
       " 'communities',\n",
       " 'communities',\n",
       " 'communities',\n",
       " 'communities',\n",
       " 'communities',\n",
       " 'communities',\n",
       " 'communities',\n",
       " 'communities',\n",
       " 'communities',\n",
       " 'communities',\n",
       " 'communities',\n",
       " 'communities',\n",
       " 'stayhome',\n",
       " 'stayhome',\n",
       " 'high',\n",
       " 'communities',\n",
       " 'communities',\n",
       " 'things',\n",
       " 'things',\n",
       " '•',\n",
       " '•',\n",
       " '•',\n",
       " '•',\n",
       " '•',\n",
       " '•',\n",
       " 'extrajudicial',\n",
       " 'chair',\n",
       " 'chair',\n",
       " 'racist',\n",
       " 'cnn',\n",
       " 'cnn',\n",
       " 'cnn',\n",
       " 'nan',\n",
       " 'nan',\n",
       " 'confusion',\n",
       " 'nan',\n",
       " 'nan',\n",
       " 'violence',\n",
       " 'blackwomen',\n",
       " 'blackwomen',\n",
       " 'blackwomen',\n",
       " 'blackwomen',\n",
       " 'confusion',\n",
       " 'states',\n",
       " 'states',\n",
       " 'tinydesk',\n",
       " 'tinydesk',\n",
       " 'nan',\n",
       " 'nan',\n",
       " 'nan',\n",
       " 'nan',\n",
       " 'nan',\n",
       " 'nan',\n",
       " 'nan',\n",
       " 'confusion',\n",
       " 'confusion',\n",
       " 'confusion',\n",
       " 'confusion',\n",
       " 'confusion',\n",
       " 'confusion',\n",
       " 'confusion',\n",
       " 'irunwithahmaud',\n",
       " 'irunwithahmaud',\n",
       " 'confusion',\n",
       " 'confusion',\n",
       " 'confusion',\n",
       " 'confusion',\n",
       " 'confusion',\n",
       " 'confusion',\n",
       " 'confusion',\n",
       " 'confusion',\n",
       " 'confusion',\n",
       " 'noracistsallowed',\n",
       " 'noracistsallowed',\n",
       " 'noracistsallowed',\n",
       " 'terrible',\n",
       " 'terrible',\n",
       " 'poor',\n",
       " 'nan',\n",
       " 'nan',\n",
       " 'nan',\n",
       " 'nan',\n",
       " 'nan',\n",
       " 'nan',\n",
       " 'nan',\n",
       " 'nan',\n",
       " 'nan',\n",
       " 'nan',\n",
       " 'ig',\n",
       " 'ig',\n",
       " 'ig',\n",
       " 'nan',\n",
       " 'nan',\n",
       " 'georgefloyd',\n",
       " 'georgefloyd',\n",
       " 'georgefloyd',\n",
       " 'georgefloyd']"
      ]
     },
     "execution_count": 228,
     "metadata": {},
     "output_type": "execute_result"
    }
   ],
   "source": [
    "words_list[2]"
   ]
  },
  {
   "cell_type": "code",
   "execution_count": 229,
   "metadata": {},
   "outputs": [
    {
     "data": {
      "text/plain": [
       "{'americanlivesmatter': 0.043478260869565216,\n",
       " 'andry': 0.043478260869565216,\n",
       " 'aprilfoolsday': 0.043478260869565216,\n",
       " 'arena': 0.043478260869565216,\n",
       " 'arent': 0.043478260869565216,\n",
       " 'artistsofinstagram': 0.043478260869565216,\n",
       " 'bad': 0.043478260869565216,\n",
       " 'bail': 0.043478260869565216,\n",
       " 'better': 0.043478260869565216,\n",
       " 'bit': 0.043478260869565216,\n",
       " 'bitch': 0.043478260869565216,\n",
       " 'black': 0.43478260869565216,\n",
       " 'blackisbeautiful': 0.043478260869565216,\n",
       " 'blacklivesmatter': 0.43478260869565216,\n",
       " 'blackmendontcheat': 0.043478260869565216,\n",
       " 'blacktwitter': 0.043478260869565216,\n",
       " 'brutality': 0.043478260869565216,\n",
       " 'bunch': 0.043478260869565216,\n",
       " 'burden': 0.043478260869565216,\n",
       " 'census': 0.043478260869565216,\n",
       " 'community': 0.043478260869565216,\n",
       " 'complete': 0.043478260869565216,\n",
       " 'confusion': 0.043478260869565216,\n",
       " 'cop': 0.043478260869565216,\n",
       " 'coronalockdown': 0.08695652173913043,\n",
       " 'coronavirus': 0.08695652173913043,\n",
       " 'crickets': 0.043478260869565216,\n",
       " 'damn': 0.043478260869565216,\n",
       " 'day': 0.043478260869565216,\n",
       " 'didnt': 0.043478260869565216,\n",
       " 'difference': 0.043478260869565216,\n",
       " 'dont': 0.043478260869565216,\n",
       " 'dumb': 0.043478260869565216,\n",
       " 'eternity': 0.043478260869565216,\n",
       " 'falmouth': 0.043478260869565216,\n",
       " 'florida': 0.043478260869565216,\n",
       " 'fuck': 0.08695652173913043,\n",
       " 'global': 0.043478260869565216,\n",
       " 'good': 0.043478260869565216,\n",
       " 'guess': 0.043478260869565216,\n",
       " 'happybirthday': 0.043478260869565216,\n",
       " 'heads': 0.043478260869565216,\n",
       " 'homeless': 0.043478260869565216,\n",
       " 'horrible': 0.043478260869565216,\n",
       " 'i': 0.17391304347826086,\n",
       " 'icount': 0.043478260869565216,\n",
       " 'idiot': 0.043478260869565216,\n",
       " 'inspiredindividuals': 0.043478260869565216,\n",
       " 'instagood': 0.043478260869565216,\n",
       " 'ion': 0.043478260869565216,\n",
       " 'iraq': 0.043478260869565216,\n",
       " 'jen': 0.043478260869565216,\n",
       " 'killer': 0.043478260869565216,\n",
       " 'last': 0.043478260869565216,\n",
       " 'lives': 0.13043478260869565,\n",
       " 'lmfao': 0.043478260869565216,\n",
       " 'loss': 0.043478260869565216,\n",
       " 'love': 0.043478260869565216,\n",
       " 'lynn': 0.08695652173913043,\n",
       " 'maine': 0.043478260869565216,\n",
       " 'makeadifference': 0.043478260869565216,\n",
       " 'masks': 0.043478260869565216,\n",
       " 'matter': 0.34782608695652173,\n",
       " 'media': 0.043478260869565216,\n",
       " 'memo': 0.043478260869565216,\n",
       " 'mentions': 0.043478260869565216,\n",
       " 'metoo': 0.043478260869565216,\n",
       " 'most': 0.043478260869565216,\n",
       " 'mother': 0.08695652173913043,\n",
       " 'mothers': 0.043478260869565216,\n",
       " 'movement': 0.13043478260869565,\n",
       " 'movements': 0.043478260869565216,\n",
       " 'myvoice': 0.043478260869565216,\n",
       " 'new': 0.043478260869565216,\n",
       " 'number': 0.043478260869565216,\n",
       " 'nypd': 0.043478260869565216,\n",
       " 'office': 0.043478260869565216,\n",
       " 'online': 0.043478260869565216,\n",
       " 'own': 0.043478260869565216,\n",
       " 'pandemic': 0.043478260869565216,\n",
       " 'past': 0.043478260869565216,\n",
       " 'petersburg': 0.043478260869565216,\n",
       " 'police': 0.043478260869565216,\n",
       " 'political': 0.043478260869565216,\n",
       " 'position': 0.043478260869565216,\n",
       " 'ppe': 0.043478260869565216,\n",
       " 'queerantine': 0.043478260869565216,\n",
       " 'racism': 0.13043478260869565,\n",
       " 'reform': 0.043478260869565216,\n",
       " 'sad': 0.043478260869565216,\n",
       " 'school': 0.043478260869565216,\n",
       " 'shit': 0.043478260869565216,\n",
       " 'smh': 0.043478260869565216,\n",
       " 'socialjustice': 0.043478260869565216,\n",
       " 'someone': 0.043478260869565216,\n",
       " 'southern': 0.043478260869565216,\n",
       " 'st': 0.043478260869565216,\n",
       " 'street': 0.043478260869565216,\n",
       " 'structural': 0.043478260869565216,\n",
       " 'supposed': 0.043478260869565216,\n",
       " 'thanks': 0.043478260869565216,\n",
       " 'thispodcastisfor': 0.043478260869565216,\n",
       " 'time': 0.043478260869565216,\n",
       " 'toxic': 0.043478260869565216,\n",
       " 'transdayofvisibility': 0.043478260869565216,\n",
       " 'transpeople': 0.043478260869565216,\n",
       " 'twenty-fine': 0.043478260869565216,\n",
       " 'unconscionable': 0.043478260869565216,\n",
       " 'unions': 0.043478260869565216,\n",
       " 'university': 0.043478260869565216,\n",
       " 'video': 0.043478260869565216,\n",
       " 'virus': 0.043478260869565216,\n",
       " 'wall': 0.043478260869565216,\n",
       " 'war': 0.043478260869565216,\n",
       " 'year': 0.043478260869565216,\n",
       " 'years': 0.043478260869565216,\n",
       " 'young': 0.043478260869565216}"
      ]
     },
     "execution_count": 229,
     "metadata": {},
     "output_type": "execute_result"
    }
   ],
   "source": [
    "list_freq[0]"
   ]
  },
  {
   "cell_type": "code",
   "execution_count": 245,
   "metadata": {},
   "outputs": [],
   "source": [
    "def max_freq_in_time(freq_list,word):\n",
    "    s=0\n",
    "    for i in range(len(freq_list)):\n",
    "        try:\n",
    "            temp=freq_list[i][word]\n",
    "        except KeyError:\n",
    "            temp=0\n",
    "        s=np.max((temp,s))\n",
    "    return(s)\n"
   ]
  },
  {
   "cell_type": "code",
   "execution_count": 253,
   "metadata": {},
   "outputs": [
    {
     "data": {
      "image/png": "[encoded data removed]",
      "text/plain": [
       "<Figure size 432x288 with 1 Axes>"
      ]
     },
     "metadata": {
      "needs_background": "light"
     },
     "output_type": "display_data"
    },
    {
     "data": {
      "text/plain": [
       "[{'1': 1, '2': 1.0}, {'1': 0.5, '2': 2, '3': 3}]"
      ]
     },
     "execution_count": 253,
     "metadata": {},
     "output_type": "execute_result"
    }
   ],
   "source": [
    "import matplotlib.pyplot as plt\n",
    "from wordcloud import WordCloud\n",
    "\n",
    "L=[]\n",
    "d=dict()\n",
    "d['1']=1\n",
    "d['2']=1.0\n",
    "L.append(d.copy())\n",
    "d['2']=2\n",
    "d['1']=0.5\n",
    "d['3']=3\n",
    "L.append(d)\n",
    "wordcloud = WordCloud()\n",
    "wordcloud.generate_from_frequencies(frequencies=d)\n",
    "plt.figure()\n",
    "plt.imshow(wordcloud, interpolation=\"bilinear\")\n",
    "plt.axis(\"off\")\n",
    "plt.show()\n",
    "L"
   ]
  },
  {
   "cell_type": "code",
   "execution_count": 255,
   "metadata": {},
   "outputs": [
    {
     "data": {
      "text/plain": [
       "3"
      ]
     },
     "execution_count": 255,
     "metadata": {},
     "output_type": "execute_result"
    }
   ],
   "source": [
    "max_freq_in_time(L,'3')"
   ]
  },
  {
   "cell_type": "code",
   "execution_count": null,
   "metadata": {},
   "outputs": [],
   "source": []
  }
 ],
 "metadata": {
  "kernelspec": {
   "display_name": "base",
   "language": "python",
   "name": "python3"
  },
  "language_info": {
   "codemirror_mode": {
    "name": "ipython",
    "version": 3
   },
   "file_extension": ".py",
   "mimetype": "text/x-python",
   "name": "python",
   "nbconvert_exporter": "python",
   "pygments_lexer": "ipython3",
   "version": "3.9.12"
  },
  "orig_nbformat": 4,
  "vscode": {
   "interpreter": {
    "hash": "7339996d7815a0ae30850c182ba9bbc0a1cb89e61563a0ae1819bddf17b67295"
   }
  }
 },
 "nbformat": 4,
 "nbformat_minor": 2
}
