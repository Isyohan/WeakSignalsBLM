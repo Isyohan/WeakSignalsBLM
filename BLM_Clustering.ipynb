{
 "cells": [
  {
   "cell_type": "code",
   "execution_count": 1,
   "metadata": {},
   "outputs": [
    {
     "name": "stdout",
     "output_type": "stream",
     "text": [
      "Requirement already satisfied: textblob in /Users/yohanismael/opt/anaconda3/lib/python3.9/site-packages (0.17.1)\n",
      "Requirement already satisfied: nltk>=3.1 in /Users/yohanismael/opt/anaconda3/lib/python3.9/site-packages (from textblob) (3.7)\n",
      "Requirement already satisfied: tqdm in /Users/yohanismael/opt/anaconda3/lib/python3.9/site-packages (from nltk>=3.1->textblob) (4.64.0)\n",
      "Requirement already satisfied: click in /Users/yohanismael/opt/anaconda3/lib/python3.9/site-packages (from nltk>=3.1->textblob) (8.1.3)\n",
      "Requirement already satisfied: regex>=2021.8.3 in /Users/yohanismael/opt/anaconda3/lib/python3.9/site-packages (from nltk>=3.1->textblob) (2022.3.15)\n",
      "Requirement already satisfied: joblib in /Users/yohanismael/opt/anaconda3/lib/python3.9/site-packages (from nltk>=3.1->textblob) (1.2.0)\n",
      "Note: you may need to restart the kernel to use updated packages.\n",
      "[nltk_data] Downloading package brown to\n",
      "[nltk_data]     /Users/yohanismael/nltk_data...\n",
      "[nltk_data]   Package brown is already up-to-date!\n",
      "[nltk_data] Downloading package punkt to\n",
      "[nltk_data]     /Users/yohanismael/nltk_data...\n",
      "[nltk_data]   Package punkt is already up-to-date!\n",
      "[nltk_data] Downloading package wordnet to\n",
      "[nltk_data]     /Users/yohanismael/nltk_data...\n",
      "[nltk_data]   Package wordnet is already up-to-date!\n",
      "[nltk_data] Downloading package averaged_perceptron_tagger to\n",
      "[nltk_data]     /Users/yohanismael/nltk_data...\n",
      "[nltk_data]   Package averaged_perceptron_tagger is already up-to-\n",
      "[nltk_data]       date!\n",
      "[nltk_data] Downloading package conll2000 to\n",
      "[nltk_data]     /Users/yohanismael/nltk_data...\n",
      "[nltk_data]   Package conll2000 is already up-to-date!\n",
      "[nltk_data] Downloading package movie_reviews to\n",
      "[nltk_data]     /Users/yohanismael/nltk_data...\n",
      "[nltk_data]   Package movie_reviews is already up-to-date!\n",
      "Finished.\n",
      "Requirement already satisfied: nltk in /Users/yohanismael/opt/anaconda3/lib/python3.9/site-packages (3.7)\n",
      "Requirement already satisfied: tqdm in /Users/yohanismael/opt/anaconda3/lib/python3.9/site-packages (from nltk) (4.64.0)\n",
      "Requirement already satisfied: joblib in /Users/yohanismael/opt/anaconda3/lib/python3.9/site-packages (from nltk) (1.2.0)\n",
      "Requirement already satisfied: click in /Users/yohanismael/opt/anaconda3/lib/python3.9/site-packages (from nltk) (8.1.3)\n",
      "Requirement already satisfied: regex>=2021.8.3 in /Users/yohanismael/opt/anaconda3/lib/python3.9/site-packages (from nltk) (2022.3.15)\n",
      "Note: you may need to restart the kernel to use updated packages.\n",
      "Requirement already satisfied: gensim in /Users/yohanismael/opt/anaconda3/lib/python3.9/site-packages (4.3.0)\n",
      "Requirement already satisfied: FuzzyTM>=0.4.0 in /Users/yohanismael/opt/anaconda3/lib/python3.9/site-packages (from gensim) (2.0.5)\n",
      "Requirement already satisfied: numpy>=1.18.5 in /Users/yohanismael/opt/anaconda3/lib/python3.9/site-packages (from gensim) (1.23.4)\n",
      "Requirement already satisfied: smart-open>=1.8.1 in /Users/yohanismael/opt/anaconda3/lib/python3.9/site-packages (from gensim) (5.1.0)\n",
      "Requirement already satisfied: scipy>=1.7.0 in /Users/yohanismael/opt/anaconda3/lib/python3.9/site-packages (from gensim) (1.9.3)\n",
      "Requirement already satisfied: pyfume in /Users/yohanismael/opt/anaconda3/lib/python3.9/site-packages (from FuzzyTM>=0.4.0->gensim) (0.2.25)\n",
      "Requirement already satisfied: pandas in /Users/yohanismael/opt/anaconda3/lib/python3.9/site-packages (from FuzzyTM>=0.4.0->gensim) (1.5.1)\n",
      "Requirement already satisfied: python-dateutil>=2.8.1 in /Users/yohanismael/opt/anaconda3/lib/python3.9/site-packages (from pandas->FuzzyTM>=0.4.0->gensim) (2.8.2)\n",
      "Requirement already satisfied: pytz>=2020.1 in /Users/yohanismael/opt/anaconda3/lib/python3.9/site-packages (from pandas->FuzzyTM>=0.4.0->gensim) (2022.6)\n",
      "Requirement already satisfied: six>=1.5 in /Users/yohanismael/opt/anaconda3/lib/python3.9/site-packages (from python-dateutil>=2.8.1->pandas->FuzzyTM>=0.4.0->gensim) (1.16.0)\n",
      "Requirement already satisfied: simpful in /Users/yohanismael/opt/anaconda3/lib/python3.9/site-packages (from pyfume->FuzzyTM>=0.4.0->gensim) (2.9.0)\n",
      "Requirement already satisfied: fst-pso in /Users/yohanismael/opt/anaconda3/lib/python3.9/site-packages (from pyfume->FuzzyTM>=0.4.0->gensim) (1.8.1)\n",
      "Requirement already satisfied: miniful in /Users/yohanismael/opt/anaconda3/lib/python3.9/site-packages (from fst-pso->pyfume->FuzzyTM>=0.4.0->gensim) (0.0.6)\n",
      "Requirement already satisfied: requests in /Users/yohanismael/opt/anaconda3/lib/python3.9/site-packages (from simpful->pyfume->FuzzyTM>=0.4.0->gensim) (2.27.1)\n",
      "Requirement already satisfied: charset-normalizer~=2.0.0 in /Users/yohanismael/opt/anaconda3/lib/python3.9/site-packages (from requests->simpful->pyfume->FuzzyTM>=0.4.0->gensim) (2.0.4)\n",
      "Requirement already satisfied: idna<4,>=2.5 in /Users/yohanismael/opt/anaconda3/lib/python3.9/site-packages (from requests->simpful->pyfume->FuzzyTM>=0.4.0->gensim) (3.3)\n",
      "Requirement already satisfied: certifi>=2017.4.17 in /Users/yohanismael/opt/anaconda3/lib/python3.9/site-packages (from requests->simpful->pyfume->FuzzyTM>=0.4.0->gensim) (2021.10.8)\n",
      "Requirement already satisfied: urllib3<1.27,>=1.21.1 in /Users/yohanismael/opt/anaconda3/lib/python3.9/site-packages (from requests->simpful->pyfume->FuzzyTM>=0.4.0->gensim) (1.26.12)\n",
      "Note: you may need to restart the kernel to use updated packages.\n"
     ]
    }
   ],
   "source": [
    "%pip install -U textblob\n",
    "!python -m textblob.download_corpora\n",
    "\n",
    "%pip install nltk\n",
    "\n",
    "%pip install --upgrade gensim"
   ]
  },
  {
   "cell_type": "code",
   "execution_count": 2,
   "metadata": {},
   "outputs": [
    {
     "data": {
      "text/markdown": [
       "# Start Coding"
      ],
      "text/plain": [
       "<IPython.core.display.Markdown object>"
      ]
     },
     "metadata": {},
     "output_type": "display_data"
    }
   ],
   "source": [
    "import nltk\n",
    "\n",
    "import pandas as pd\n",
    "import numpy as np\n",
    "import matplotlib.pyplot as plt\n",
    "from textblob import TextBlob\n",
    "from datetime import datetime\n",
    "\n",
    "import gensim\n",
    "from gensim.models import Word2Vec\n",
    "\n",
    "from datetime import datetime\n",
    "\n",
    "from IPython.display import Markdown, display\n",
    "string = '# Start'\n",
    "display(Markdown(string+' Coding'))"
   ]
  },
  {
   "cell_type": "code",
   "execution_count": 3,
   "metadata": {},
   "outputs": [],
   "source": [
    "def str_to_timestamp(s):\n",
    "    out=[]\n",
    "\n",
    "    s2=str.split(s,'+')\n",
    "    s3=str.split(s2[0],' ')\n",
    "\n",
    "    s4=str.split(s3[0],'-')\n",
    "\n",
    "    s5=str.split(s3[1],':')\n",
    "    year=int(s4[0])\n",
    "    month=int(s4[1])\n",
    "    day=int(s4[2])\n",
    "    hour=int(s5[0])\n",
    "    minute=int(s5[1])\n",
    "    second=int(s5[2])\n",
    "\n",
    "    return(datetime(year=year,month=month,day=day,hour=hour,minute=minute,second=second).timestamp())\n",
    "\n",
    "from nltk.tokenize import word_tokenize\n",
    "\n",
    "def NumStr(mot):\n",
    "    res = ''.join(filter(lambda i: i.isdigit(), mot))\n",
    "    if (res==''):\n",
    "        return False\n",
    "    return True\n",
    "\n",
    "\n",
    "def extract_keywords(text):\n",
    "    # Tokenize the text\n",
    "    tokens = word_tokenize(text)\n",
    "\n",
    "    # Apply part-of-speech tagging\n",
    "    tagged_tokens = nltk.pos_tag(tokens)\n",
    "\n",
    "    # Select only nouns and adjectives\n",
    "    keywords = [word for word, pos in tagged_tokens if (pos in ['NN', 'NNS', 'NNP', 'NNPS', 'JJ', 'JJR', 'JJS'] and not NumStr(word))]\n",
    "\n",
    "    return keywords\n",
    "\n",
    "def extract_sentiment_polarity(text):\n",
    "    blob=TextBlob(text)\n",
    "    return(blob.sentiment.polarity)"
   ]
  },
  {
   "cell_type": "code",
   "execution_count": 4,
   "metadata": {},
   "outputs": [
    {
     "name": "stdout",
     "output_type": "stream",
     "text": [
      "start\n",
      "end of keywords\n",
      "end of polarity\n",
      "end of timestamps\n"
     ]
    }
   ],
   "source": [
    "data=pd.read_csv('data/minnesota.csv')\n",
    "df=data\n",
    "print('start')\n",
    "\n",
    "df['keywords'] = df['tweet_text'].apply(extract_keywords)\n",
    "\n",
    "print('end of keywords')\n",
    "\n",
    "df['sentiment_polarity']=df['tweet_text'].apply(extract_sentiment_polarity)\n",
    "\n",
    "print('end of polarity')\n",
    "\n",
    "df['timestamps']=df['tweet_created_dt'].apply(str_to_timestamp)\n",
    "df['timestamps']=df['timestamps']-df['timestamps'].min()\n",
    "\n",
    "print('end of timestamps')\n",
    "\n",
    "clean_data=df"
   ]
  },
  {
   "cell_type": "code",
   "execution_count": 5,
   "metadata": {},
   "outputs": [],
   "source": [
    "def sliding_window(df,size,sliding):\n",
    "    X_out=[]\n",
    "\n",
    "    for time in range(0,int(df['timestamps'].max()),sliding):\n",
    "        o=df[df.timestamps<time+size]\n",
    "        X_out.append(o[o.timestamps>time])\n",
    "\n",
    "        print(\"%.3f\" % (time/int(df['timestamps'].max())), end=\"\\r\")\n",
    "    print(\"finish\")\n",
    "    return X_out\n",
    "\n",
    "def dfToListofVectors(df):\n",
    "    out=[]\n",
    "    for l_vect in df.vectors:\n",
    "        for v in l_vect:\n",
    "            \n",
    "            out.append(v)\n",
    "            \n",
    "    return out"
   ]
  },
  {
   "cell_type": "code",
   "execution_count": 6,
   "metadata": {},
   "outputs": [],
   "source": [
    "def word2vectors(l):\n",
    "    try:\n",
    "        x = word_vectors[l]\n",
    "    except KeyError:\n",
    "        return \n",
    "    return x\n",
    "    \n",
    "\n",
    "def list2vectors(L):\n",
    "    out=[]\n",
    "    for i in L:\n",
    "        out.append(word2vectors(i))\n",
    "    return(np.asarray(out,dtype=object))"
   ]
  },
  {
   "cell_type": "code",
   "execution_count": 88,
   "metadata": {},
   "outputs": [
    {
     "name": "stdout",
     "output_type": "stream",
     "text": [
      "finish\n"
     ]
    }
   ],
   "source": [
    "time_day=60*60*24\n",
    "L=sliding_window(clean_data,time_day*4,time_day)\n",
    "first=L[0]"
   ]
  },
  {
   "cell_type": "code",
   "execution_count": 100,
   "metadata": {},
   "outputs": [],
   "source": [
    "model = Word2Vec(sentences=first['keywords'], vector_size=100, window=0, min_count=0, workers=0)\n",
    "model.save(\"Word2vec_models/test_word2vec.model\")\n",
    "word_vectors = model.wv"
   ]
  },
  {
   "cell_type": "code",
   "execution_count": 101,
   "metadata": {},
   "outputs": [],
   "source": [
    "i=0\n",
    "for keywords in first.keywords:\n",
    "    for keyword in keywords:\n",
    "        i+=1\n",
    "\n",
    "arr=np.ndarray((i,100))\n",
    "i=0\n",
    "for keywords in first.keywords:\n",
    "\n",
    "    for keyword in keywords:\n",
    "        \n",
    "        arr[i]=word_vectors[keyword]\n",
    "        i+=1"
   ]
  },
  {
   "attachments": {},
   "cell_type": "markdown",
   "metadata": {},
   "source": [
    "## sklearn"
   ]
  },
  {
   "cell_type": "code",
   "execution_count": 102,
   "metadata": {},
   "outputs": [
    {
     "data": {
      "text/html": [
       "<style>#sk-container-id-12 {color: black;background-color: white;}#sk-container-id-12 pre{padding: 0;}#sk-container-id-12 div.sk-toggleable {background-color: white;}#sk-container-id-12 label.sk-toggleable__label {cursor: pointer;display: block;width: 100%;margin-bottom: 0;padding: 0.3em;box-sizing: border-box;text-align: center;}#sk-container-id-12 label.sk-toggleable__label-arrow:before {content: \"▸\";float: left;margin-right: 0.25em;color: #696969;}#sk-container-id-12 label.sk-toggleable__label-arrow:hover:before {color: black;}#sk-container-id-12 div.sk-estimator:hover label.sk-toggleable__label-arrow:before {color: black;}#sk-container-id-12 div.sk-toggleable__content {max-height: 0;max-width: 0;overflow: hidden;text-align: left;background-color: #f0f8ff;}#sk-container-id-12 div.sk-toggleable__content pre {margin: 0.2em;color: black;border-radius: 0.25em;background-color: #f0f8ff;}#sk-container-id-12 input.sk-toggleable__control:checked~div.sk-toggleable__content {max-height: 200px;max-width: 100%;overflow: auto;}#sk-container-id-12 input.sk-toggleable__control:checked~label.sk-toggleable__label-arrow:before {content: \"▾\";}#sk-container-id-12 div.sk-estimator input.sk-toggleable__control:checked~label.sk-toggleable__label {background-color: #d4ebff;}#sk-container-id-12 div.sk-label input.sk-toggleable__control:checked~label.sk-toggleable__label {background-color: #d4ebff;}#sk-container-id-12 input.sk-hidden--visually {border: 0;clip: rect(1px 1px 1px 1px);clip: rect(1px, 1px, 1px, 1px);height: 1px;margin: -1px;overflow: hidden;padding: 0;position: absolute;width: 1px;}#sk-container-id-12 div.sk-estimator {font-family: monospace;background-color: #f0f8ff;border: 1px dotted black;border-radius: 0.25em;box-sizing: border-box;margin-bottom: 0.5em;}#sk-container-id-12 div.sk-estimator:hover {background-color: #d4ebff;}#sk-container-id-12 div.sk-parallel-item::after {content: \"\";width: 100%;border-bottom: 1px solid gray;flex-grow: 1;}#sk-container-id-12 div.sk-label:hover label.sk-toggleable__label {background-color: #d4ebff;}#sk-container-id-12 div.sk-serial::before {content: \"\";position: absolute;border-left: 1px solid gray;box-sizing: border-box;top: 0;bottom: 0;left: 50%;z-index: 0;}#sk-container-id-12 div.sk-serial {display: flex;flex-direction: column;align-items: center;background-color: white;padding-right: 0.2em;padding-left: 0.2em;position: relative;}#sk-container-id-12 div.sk-item {position: relative;z-index: 1;}#sk-container-id-12 div.sk-parallel {display: flex;align-items: stretch;justify-content: center;background-color: white;position: relative;}#sk-container-id-12 div.sk-item::before, #sk-container-id-12 div.sk-parallel-item::before {content: \"\";position: absolute;border-left: 1px solid gray;box-sizing: border-box;top: 0;bottom: 0;left: 50%;z-index: -1;}#sk-container-id-12 div.sk-parallel-item {display: flex;flex-direction: column;z-index: 1;position: relative;background-color: white;}#sk-container-id-12 div.sk-parallel-item:first-child::after {align-self: flex-end;width: 50%;}#sk-container-id-12 div.sk-parallel-item:last-child::after {align-self: flex-start;width: 50%;}#sk-container-id-12 div.sk-parallel-item:only-child::after {width: 0;}#sk-container-id-12 div.sk-dashed-wrapped {border: 1px dashed gray;margin: 0 0.4em 0.5em 0.4em;box-sizing: border-box;padding-bottom: 0.4em;background-color: white;}#sk-container-id-12 div.sk-label label {font-family: monospace;font-weight: bold;display: inline-block;line-height: 1.2em;}#sk-container-id-12 div.sk-label-container {text-align: center;}#sk-container-id-12 div.sk-container {/* jupyter's `normalize.less` sets `[hidden] { display: none; }` but bootstrap.min.css set `[hidden] { display: none !important; }` so we also need the `!important` here to be able to override the default hidden behavior on the sphinx rendered scikit-learn.org. See: https://github.com/scikit-learn/scikit-learn/issues/21755 */display: inline-block !important;position: relative;}#sk-container-id-12 div.sk-text-repr-fallback {display: none;}</style><div id=\"sk-container-id-12\" class=\"sk-top-container\"><div class=\"sk-text-repr-fallback\"><pre>KMeans(n_clusters=5, n_init=&#x27;auto&#x27;)</pre><b>In a Jupyter environment, please rerun this cell to show the HTML representation or trust the notebook. <br />On GitHub, the HTML representation is unable to render, please try loading this page with nbviewer.org.</b></div><div class=\"sk-container\" hidden><div class=\"sk-item\"><div class=\"sk-estimator sk-toggleable\"><input class=\"sk-toggleable__control sk-hidden--visually\" id=\"sk-estimator-id-12\" type=\"checkbox\" checked><label for=\"sk-estimator-id-12\" class=\"sk-toggleable__label sk-toggleable__label-arrow\">KMeans</label><div class=\"sk-toggleable__content\"><pre>KMeans(n_clusters=5, n_init=&#x27;auto&#x27;)</pre></div></div></div></div></div>"
      ],
      "text/plain": [
       "KMeans(n_clusters=5, n_init='auto')"
      ]
     },
     "execution_count": 102,
     "metadata": {},
     "output_type": "execute_result"
    }
   ],
   "source": [
    "from sklearn.cluster import k_means\n",
    "from sklearn.cluster import KMeans\n",
    "from sklearn.cluster import kmeans_plusplus\n",
    "\n",
    "X=arr\n",
    "kmeans=KMeans(n_clusters=5,n_init='auto')\n",
    "kmeans.fit(X)"
   ]
  },
  {
   "cell_type": "code",
   "execution_count": 103,
   "metadata": {},
   "outputs": [
    {
     "data": {
      "text/plain": [
       "5"
      ]
     },
     "execution_count": 103,
     "metadata": {},
     "output_type": "execute_result"
    }
   ],
   "source": [
    "centroids=kmeans.cluster_centers_\n",
    "centroids.shape[0]"
   ]
  },
  {
   "cell_type": "code",
   "execution_count": 104,
   "metadata": {},
   "outputs": [
    {
     "name": "stdout",
     "output_type": "stream",
     "text": [
      "[('black', 1.0000001192092896)]\n",
      "[('i', 0.8301385045051575)]\n",
      "[('blacklivesmatter', 1.0)]\n",
      "[('matter', 0.9093017578125)]\n",
      "[('political', 0.3833504915237427)]\n"
     ]
    }
   ],
   "source": [
    "for i in range(centroids.shape[0]):\n",
    "    print(word_vectors.similar_by_vector(centroids[i],topn=1))"
   ]
  },
  {
   "cell_type": "code",
   "execution_count": 105,
   "metadata": {},
   "outputs": [
    {
     "name": "stdout",
     "output_type": "stream",
     "text": [
      "finish\n"
     ]
    }
   ],
   "source": [
    "itt=0\n",
    "itt_max=len(L)\n",
    "list_of_centroids=[]\n",
    "list_of_centroids_with_words=[]\n",
    "list_of_models=[]\n",
    "for seq in L[1:]:\n",
    "    print(\"%.3f\" % (itt/itt_max), end=\"\\r\")\n",
    "    itt+=1\n",
    "    if False:\n",
    "        model = Word2Vec(sentences=seq['keywords'], vector_size=100, window=0, min_count=0, workers=0)\n",
    "        model.save(\"Word2vec_models/test_word2vec.model\")\n",
    "        word_vectors = model.wv\n",
    "        del model\n",
    "    model.build_vocab(seq['keywords'], update=True)\n",
    "    model.train(seq['keywords'], total_examples=model.corpus_count, epochs=model.epochs)\n",
    "    word_vectors = model.wv\n",
    "    list_of_models.append(model)\n",
    "\n",
    "    i=0\n",
    "    for keywords in seq.keywords:\n",
    "        for keyword in keywords:\n",
    "            i+=1\n",
    "\n",
    "    arr=np.ndarray((i,100))\n",
    "    i=0\n",
    "    for keywords in seq.keywords:\n",
    "\n",
    "        for keyword in keywords:\n",
    "            \n",
    "            arr[i]=word_vectors[keyword]\n",
    "            i+=1\n",
    "    X=arr\n",
    "    #kmeans=k_means(X,n_clusters=5,n_init='auto')\n",
    "    #centroids=kmeans[0]\n",
    "    kmeans=KMeans(n_clusters=5,init=centroids,n_init=1)\n",
    "    kmeans.fit(X)\n",
    "    centroids=kmeans.cluster_centers_\n",
    "    \n",
    "    list_of_centroids.append(centroids)\n",
    "    l_image_of_centroids=[]\n",
    "    \n",
    "    for i in range(centroids.shape[0]):\n",
    "        #print(word_vectors.similar_by_vector(centroids[i],topn=1))\n",
    "        closest_word_of_centroid=word_vectors.similar_by_vector(centroids[i],topn=10)\n",
    "        l_image_of_centroids.append(closest_word_of_centroid)\n",
    "    list_of_centroids_with_words.append(l_image_of_centroids)\n",
    "    #display(Markdown('### New centroids'))\n",
    "    #for i in range(centroids.shape[0]):\n",
    "        #print(word_vectors.similar_by_vector(centroids[i],topn=1))\n",
    "print('finish')"
   ]
  },
  {
   "cell_type": "code",
   "execution_count": 147,
   "metadata": {},
   "outputs": [
    {
     "name": "stdout",
     "output_type": "stream",
     "text": [
      "('black', 1.0000001192092896)\n",
      "('i', 0.9999999403953552)\n",
      "('blacklivesmatter', 1.0)\n",
      "('matter', 0.8276748061180115)\n",
      "('floyd', 0.4766659140586853)\n"
     ]
    }
   ],
   "source": [
    "for i in range(len(list_of_centroids_with_words[0])):\n",
    "    print(list_of_centroids_with_words[67][i][0])"
   ]
  },
  {
   "cell_type": "code",
   "execution_count": 153,
   "metadata": {},
   "outputs": [
    {
     "name": "stdout",
     "output_type": "stream",
     "text": [
      "('political', 0.3821277618408203)\n",
      "('twenty-fine', 0.3643095791339874)\n",
      "('twenty-fine', 0.3847373425960541)\n",
      "('respect', 0.3578042685985565)\n",
      "('dirty', 0.3612246811389923)\n",
      "('people', 0.5165221095085144)\n",
      "('people', 0.4893554151058197)\n",
      "('people', 0.4176501929759979)\n",
      "('park', 0.35241788625717163)\n",
      "('bad', 0.31527969241142273)\n",
      "('people', 0.31837165355682373)\n",
      "('people', 0.3484674394130707)\n",
      "('people', 0.5324772596359253)\n",
      "('people', 0.5928573608398438)\n",
      "('people', 0.5995786786079407)\n",
      "('people', 0.5835347175598145)\n",
      "('people', 0.5069211721420288)\n",
      "('people', 0.40343642234802246)\n",
      "('people', 0.37188002467155457)\n",
      "('people', 0.3962271511554718)\n",
      "('people', 0.36838895082473755)\n",
      "('test', 0.35290923714637756)\n",
      "('folks', 0.3527408838272095)\n",
      "('folks', 0.3577877879142761)\n",
      "('people', 0.4672110676765442)\n",
      "('people', 0.48341673612594604)\n",
      "('people', 0.5267277359962463)\n",
      "('people', 0.42603448033332825)\n",
      "('blue', 0.49548542499542236)\n",
      "('blue', 0.5789397358894348)\n",
      "('people', 0.5493936538696289)\n",
      "('people', 0.539478063583374)\n",
      "('people', 0.42173659801483154)\n",
      "('life', 0.3785099983215332)\n",
      "('irunwithmaud', 0.42014190554618835)\n",
      "('irunwithmaud', 0.46493101119995117)\n",
      "('irunwithmaud', 0.5428545475006104)\n",
      "('irunwithmaud', 0.4105459451675415)\n",
      "('people', 0.4689062833786011)\n",
      "('people', 0.5019566416740417)\n",
      "('people', 0.5048729181289673)\n",
      "('breonnataylor', 0.405113160610199)\n",
      "('jones', 0.36032989621162415)\n",
      "('nurse', 0.3532636761665344)\n",
      "('anti-racist', 0.3418338894844055)\n",
      "('proceeds', 0.3462880551815033)\n",
      "('•', 0.42283180356025696)\n",
      "('•', 0.4170287847518921)\n",
      "('•', 0.4486938416957855)\n",
      "('•', 0.4115602970123291)\n",
      "('study', 0.3619389832019806)\n",
      "('georgefloyd', 0.5259473919868469)\n",
      "('georgefloyd', 0.6212090253829956)\n",
      "('georgefloyd', 0.5413625240325928)\n",
      "('georgefloyd', 0.49078822135925293)\n",
      "('georgefloyd', 0.4861125648021698)\n",
      "('georgefloyd', 0.4608456492424011)\n",
      "('georgefloyd', 0.47225305438041687)\n",
      "('georgefloyd', 0.4749620258808136)\n",
      "('georgefloyd', 0.4538010060787201)\n",
      "('georgefloyd', 0.4392508864402771)\n",
      "('floyd', 0.43066084384918213)\n",
      "('floyd', 0.4348219037055969)\n",
      "('floyd', 0.4425615668296814)\n",
      "('floyd', 0.438890278339386)\n",
      "('floyd', 0.44877347350120544)\n",
      "('floyd', 0.46922507882118225)\n",
      "('floyd', 0.4766659140586853)\n",
      "('floyd', 0.47230264544487)\n",
      "('pulseremembranceday', 0.49804243445396423)\n",
      "('pulseremembranceday', 0.49879130721092224)\n",
      "('pulseremembranceday', 0.49699318408966064)\n",
      "('pulseremembranceday', 0.49079450964927673)\n",
      "('pulseremembranceday', 0.4759591221809387)\n",
      "('pulseremembranceday', 0.47805169224739075)\n",
      "('humanityhasnocolour', 0.4750424325466156)\n",
      "('juneteenth', 0.5619849562644958)\n",
      "('juneteenth', 0.5674347877502441)\n",
      "('juneteenth', 0.5767243504524231)\n",
      "('humanityhasnocolour', 0.4240461587905884)\n",
      "('rindiéndole', 0.4295671284198761)\n",
      "('pulseremembranceday', 0.46140849590301514)\n",
      "('pulseremembranceday', 0.4746103584766388)\n",
      "('pulseremembranceday', 0.5031992793083191)\n",
      "('pulseremembranceday', 0.5125917196273804)\n",
      "('pulseremembranceday', 0.4878386855125427)\n",
      "('pulseremembranceday', 0.48706138134002686)\n",
      "('pulseremembranceday', 0.46221375465393066)\n",
      "('pulseremembranceday', 0.45798149704933167)\n",
      "('pulseremembranceday', 0.4732460081577301)\n",
      "('pulseremembranceday', 0.44991689920425415)\n",
      "('creeps', 0.4328080713748932)\n",
      "('جانب', 0.4265431761741638)\n",
      "('pulseremembranceday', 0.4318603575229645)\n",
      "('pulseremembranceday', 0.4366818964481354)\n",
      "('pulseremembranceday', 0.4673014283180237)\n",
      "('pulseremembranceday', 0.4769425392150879)\n",
      "('pulseremembranceday', 0.457997590303421)\n",
      "('pulseremembranceday', 0.47110655903816223)\n",
      "('pulseremembranceday', 0.4660736620426178)\n",
      "('pulseremembranceday', 0.4784938097000122)\n",
      "('pulseremembranceday', 0.4716074466705322)\n",
      "('pulseremembranceday', 0.4839247763156891)\n",
      "('pulseremembranceday', 0.4971734881401062)\n",
      "('pulseremembranceday', 0.5021318793296814)\n",
      "('pulseremembranceday', 0.4567384123802185)\n",
      "('pulseremembranceday', 0.46410301327705383)\n",
      "('pulseremembranceday', 0.4640507996082306)\n",
      "('pulseremembranceday', 0.4625694155693054)\n",
      "('pulseremembranceday', 0.4790569245815277)\n",
      "('pulseremembranceday', 0.4780183732509613)\n",
      "('pulseremembranceday', 0.4443129003047943)\n",
      "('pulseremembranceday', 0.4516904652118683)\n",
      "('pulseremembranceday', 0.459189772605896)\n",
      "('pulseremembranceday', 0.482333242893219)\n",
      "('pulseremembranceday', 0.4717988669872284)\n",
      "('pulseremembranceday', 0.4875811040401459)\n",
      "('pulseremembranceday', 0.4861549735069275)\n",
      "('pulseremembranceday', 0.47140878438949585)\n",
      "('pulseremembranceday', 0.479799747467041)\n",
      "('imdb…', 0.45072779059410095)\n"
     ]
    }
   ],
   "source": [
    "for i in range(len(list_of_centroids_with_words)):\n",
    "    print(list_of_centroids_with_words[i][4][0])"
   ]
  },
  {
   "cell_type": "code",
   "execution_count": 118,
   "metadata": {},
   "outputs": [
    {
     "data": {
      "text/plain": [
       "array([-3.25260652e-18,  3.63207728e-18,  5.55111512e-17,  3.81639165e-17,\n",
       "       -3.29597460e-17, -5.55111512e-17, -3.29597460e-17,  3.98986399e-17,\n",
       "        2.08166817e-17,  1.82145965e-17,  3.20923843e-17,  4.11996826e-18,\n",
       "        2.86229374e-17, -4.68375339e-17,  2.77555756e-17,  1.69135539e-17,\n",
       "        1.64798730e-17, -6.93889390e-18,  4.68375339e-17, -3.81639165e-17,\n",
       "       -3.98986399e-17, -4.16333634e-17, -2.25514052e-17, -4.77048956e-18,\n",
       "       -4.51028104e-17,  3.29597460e-17, -4.44522891e-18, -3.90312782e-17,\n",
       "       -3.29597460e-17, -3.12250226e-17,  1.22298005e-16,  2.81892565e-18,\n",
       "       -2.77555756e-17,  7.37257477e-17,  1.08420217e-17,  4.33680869e-18,\n",
       "       -2.94902991e-17, -6.50521303e-17,  1.04354459e-18,  7.80625564e-18,\n",
       "        5.89805982e-17,  4.51028104e-17, -6.59194921e-17, -3.12250226e-17,\n",
       "        1.46367293e-18, -6.07153217e-18, -1.90819582e-17, -4.68375339e-17,\n",
       "        5.98479599e-17,  4.33680869e-17,  1.02348685e-16,  4.51028104e-17,\n",
       "        2.08166817e-17, -6.17995238e-18,  1.38777878e-17, -1.73472348e-17,\n",
       "        2.77555756e-17,  1.12757026e-16,  6.50521303e-18, -4.51028104e-17,\n",
       "       -1.08420217e-17, -3.79470760e-19, -5.03069808e-17, -4.25007252e-17,\n",
       "       -5.63785130e-18,  1.56125113e-17,  1.33356867e-17,  8.67361738e-19,\n",
       "       -1.25767452e-17,  1.47451495e-17,  3.29597460e-17,  6.93889390e-17,\n",
       "       -8.67361738e-19,  6.41847686e-17,  3.81639165e-17, -3.03576608e-18,\n",
       "       -6.85215773e-17,  1.27935856e-17,  3.12250226e-17,  2.42861287e-17,\n",
       "        1.08420217e-18, -1.64798730e-17, -7.37257477e-17,  6.59194921e-17,\n",
       "        4.51028104e-17, -2.16840434e-17, -4.94396191e-17, -2.77555756e-17,\n",
       "       -3.46944695e-17,  3.46944695e-17, -1.14925430e-17,  1.35525272e-18,\n",
       "       -1.34441069e-17, -7.64362532e-18,  4.33680869e-17, -5.98479599e-17,\n",
       "        4.85722573e-17,  3.81639165e-17, -5.63785130e-18,  3.81639165e-17])"
      ]
     },
     "execution_count": 118,
     "metadata": {},
     "output_type": "execute_result"
    }
   ],
   "source": [
    "list_of_centroids[119][0]-list_of_centroids[0][0]"
   ]
  },
  {
   "cell_type": "code",
   "execution_count": 96,
   "metadata": {},
   "outputs": [
    {
     "data": {
      "text/plain": [
       "[<matplotlib.lines.Line2D at 0x7f9cad644a00>]"
      ]
     },
     "execution_count": 96,
     "metadata": {},
     "output_type": "execute_result"
    },
    {
     "data": {
      "image/png": "[encoded data removed]",
      "text/plain": [
       "<Figure size 432x288 with 1 Axes>"
      ]
     },
     "metadata": {
      "needs_background": "light"
     },
     "output_type": "display_data"
    }
   ],
   "source": [
    "l_sent=[]\n",
    "for i in range(len(L)):\n",
    "    l_sent.append(L[i].sentiment_polarity.mean())\n",
    "\n",
    "plt.plot(range(len(L)),l_sent)"
   ]
  },
  {
   "cell_type": "code",
   "execution_count": 97,
   "metadata": {},
   "outputs": [
    {
     "name": "stdout",
     "output_type": "stream",
     "text": [
      "[('toys', 1.0)]\n",
      "[('imdb…', 0.45072779059410095)]\n",
      "[('winners', 1.0)]\n",
      "[('china', 1.0)]\n",
      "[('needy', 1.0000001192092896)]\n"
     ]
    }
   ],
   "source": [
    "for i in range(len(list_of_centroids[0])):\n",
    "    print(word_vectors.similar_by_vector(list_of_centroids[120][i],topn=1))\n",
    "    "
   ]
  },
  {
   "cell_type": "code",
   "execution_count": 68,
   "metadata": {},
   "outputs": [
    {
     "data": {
      "image/png": "[encoded data removed]",
      "text/plain": [
       "<Figure size 432x288 with 1 Axes>"
      ]
     },
     "metadata": {
      "needs_background": "light"
     },
     "output_type": "display_data"
    }
   ],
   "source": [
    "from sklearn.datasets import make_blobs\n",
    "from sklearn.preprocessing import StandardScaler\n",
    "\n",
    "centers = [[1, 1], [-1, -1], [1, -1],[-1, 1]]\n",
    "\n",
    "X1, labels_true = make_blobs(\n",
    "    n_samples=750, centers=centers, cluster_std=0.1, random_state=0\n",
    ")\n",
    "\n",
    "X = StandardScaler().fit_transform(X1)\n",
    "\n",
    "plt.scatter(X1[:, 0], X1[:, 1])\n",
    "plt.show()"
   ]
  },
  {
   "cell_type": "code",
   "execution_count": 73,
   "metadata": {},
   "outputs": [],
   "source": [
    "centroids=np.array([[1, 1], [-1, -1], [1, -1]])\n",
    "\n",
    "test=KMeans(n_clusters=3,n_init='auto',init=centroids)\n",
    "\n",
    "#test.cluster_centers_"
   ]
  },
  {
   "cell_type": "code",
   "execution_count": 74,
   "metadata": {},
   "outputs": [
    {
     "name": "stderr",
     "output_type": "stream",
     "text": [
      "/Users/yohanismael/opt/anaconda3/lib/python3.9/site-packages/sklearn/cluster/_kmeans.py:878: FutureWarning: elementwise comparison failed; returning scalar instead, but in the future will perform elementwise comparison\n",
      "  if self.init == \"k-means++\":\n",
      "/Users/yohanismael/opt/anaconda3/lib/python3.9/site-packages/sklearn/cluster/_kmeans.py:1362: RuntimeWarning: Explicit initial center position passed: performing only one init in KMeans instead of n_init=10.\n",
      "  super()._check_params_vs_input(X, default_n_init=10)\n"
     ]
    },
    {
     "data": {
      "text/plain": [
       "array([[ 8.76961086e-04,  1.00177180e+00],\n",
       "       [-1.01135835e+00, -1.01396224e+00],\n",
       "       [ 1.00894464e+00, -9.99847499e-01]])"
      ]
     },
     "execution_count": 74,
     "metadata": {},
     "output_type": "execute_result"
    }
   ],
   "source": [
    "test.fit(X1)\n",
    "test.cluster_centers_"
   ]
  },
  {
   "cell_type": "code",
   "execution_count": 71,
   "metadata": {},
   "outputs": [
    {
     "data": {
      "text/plain": [
       "-390.87104777511786"
      ]
     },
     "execution_count": 71,
     "metadata": {},
     "output_type": "execute_result"
    }
   ],
   "source": [
    "test.score(X1)"
   ]
  },
  {
   "cell_type": "code",
   "execution_count": null,
   "metadata": {},
   "outputs": [],
   "source": []
  }
 ],
 "metadata": {
  "kernelspec": {
   "display_name": "base",
   "language": "python",
   "name": "python3"
  },
  "language_info": {
   "codemirror_mode": {
    "name": "ipython",
    "version": 3
   },
   "file_extension": ".py",
   "mimetype": "text/x-python",
   "name": "python",
   "nbconvert_exporter": "python",
   "pygments_lexer": "ipython3",
   "version": "3.9.12"
  },
  "orig_nbformat": 4,
  "vscode": {
   "interpreter": {
    "hash": "7339996d7815a0ae30850c182ba9bbc0a1cb89e61563a0ae1819bddf17b67295"
   }
  }
 },
 "nbformat": 4,
 "nbformat_minor": 2
}
